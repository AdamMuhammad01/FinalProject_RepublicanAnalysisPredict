{
 "cells": [
  {
   "cell_type": "code",
   "execution_count": 2,
   "metadata": {},
   "outputs": [],
   "source": [
    "import numpy as np\n",
    "import pandas as pd\n",
    "import matplotlib.pyplot as plt"
   ]
  },
  {
   "cell_type": "code",
   "execution_count": 3,
   "metadata": {},
   "outputs": [],
   "source": [
    "##### tgl 28 jam 12 malam"
   ]
  },
  {
   "cell_type": "code",
   "execution_count": 12,
   "metadata": {},
   "outputs": [],
   "source": [
    "demo = pd.read_csv('county_facts.csv')\n",
    "demoo =  pd.read_csv('county_facts.csv')\n",
    "pri = pd.read_csv('primary_results.csv')"
   ]
  },
  {
   "cell_type": "code",
   "execution_count": 13,
   "metadata": {},
   "outputs": [
    {
     "name": "stdout",
     "output_type": "stream",
     "text": [
      "fips\n",
      "area_name\n",
      "state_abbreviation\n",
      "Population\n",
      "Black\n",
      "Latino\n",
      "AmericanIndian\n",
      "White\n",
      "HighSchool\n",
      "Bachelors\n",
      "MediHouseInc\n",
      "Kurang Mampu\n",
      "Density\n",
      "Veteran\n",
      "Rumah Tangga\n",
      "Pengangguran\n",
      "BlackownFirm\n",
      "AsianowmFirm\n",
      "LatinoownFirm\n",
      "WomenownFirm\n",
      "incomepercapita\n"
     ]
    }
   ],
   "source": [
    "demo = demo[['fips','area_name','state_abbreviation','PST045214','RHI225214',\n",
    "                             'RHI725214','RHI325214','RHI825214','EDU635213','EDU685213','INC110213','PVY020213','POP060210',\n",
    "                             'VET605213','HSD410213','NES010213','SBO315207','SBO215207','SBO415207','SBO015207','INC910213']]\n",
    "demo.rename(columns={'PST045214': 'Population','RHI225214':'Black','RHI725214':'Latino','RHI325214':'AmericanIndian',\n",
    "                            'RHI825214':'White','EDU635213':'HighSchool','EDU685213':'Bachelors',\n",
    "                             'INC110213':'MediHouseInc','PVY020213':'Kurang Mampu','POP060210':'Density','VET605213':'Veteran',\n",
    "                            'HSD410213':'Rumah Tangga','NES010213':'Pengangguran','SBO315207':'BlackownFirm','SBO215207':'AsianowmFirm',\n",
    "                            'SBO415207':'LatinoownFirm','SBO015207':'WomenownFirm','INC910213':'incomepercapita'}, inplace=True)\n",
    "for col in demo.columns: \n",
    "    print(col) "
   ]
  },
  {
   "cell_type": "code",
   "execution_count": 14,
   "metadata": {},
   "outputs": [
    {
     "data": {
      "text/plain": [
       "array(['Ben Carson', 'Donald Trump', 'John Kasich', 'Marco Rubio',\n",
       "       'Ted Cruz', 'Carly Fiorina', 'Chris Christie', 'Jeb Bush',\n",
       "       'Mike Huckabee', 'Rand Paul', 'Rick Santorum'], dtype=object)"
      ]
     },
     "execution_count": 14,
     "metadata": {},
     "output_type": "execute_result"
    }
   ],
   "source": [
    "#Reading Results CSV File\n",
    "results = pd.read_csv('primary_results.csv')\n",
    "results = results[results.party == \"Republican\"]\n",
    "# results = results[(results.state != \"Maine\") & (results.state != \"Massachusetts\") & (results.state != \"Vermont\") & (results.state != \"Illinois\") ]\n",
    "# results = results[(results.candidate != 'No Preference') & (results.candidate != ' Uncommitted')]\n",
    "results = results[(results.candidate == \"Donald Trump\") | (results.candidate != \"Donald Trump\") ]\n",
    "Rep = results\n",
    "Rep.candidate.unique()"
   ]
  },
  {
   "cell_type": "code",
   "execution_count": 15,
   "metadata": {},
   "outputs": [],
   "source": [
    "#Calculating statewise total votes and fraction votes (Republic)\n",
    "votesByState = [[candidate, state, party] for candidate in Rep.candidate.unique() for state in Rep.state.unique() \n",
    "                for party in Rep.party.unique()]\n",
    "for i in votesByState:\n",
    "    i.append(Rep[(Rep.candidate == i[0]) & (Rep.state == i[1])].votes.sum())\n",
    "    i.append(i[3]*1.0/Rep[Rep.state == i[1]].votes.sum())\n",
    "vbs = pd.DataFrame(votesByState, columns = ['candidate', 'state', 'party', 'votes','partyFrac'])\n"
   ]
  },
  {
   "cell_type": "code",
   "execution_count": 16,
   "metadata": {},
   "outputs": [],
   "source": [
    "# allData = pd.merge(vbs, demo, how=\"inner\", left_on = 'state',right_on = 'area_name')\n",
    "# # allData.corr()['partyFrac']\n",
    "# # allData.dropna()\n",
    "# # allData.area_name.unique()\n",
    "# allData"
   ]
  },
  {
   "cell_type": "code",
   "execution_count": 17,
   "metadata": {},
   "outputs": [],
   "source": [
    "# from sklearn import preprocessing\n",
    "# le = preprocessing.LabelEncoder()\n",
    "# allData['state1']= le.fit_transform (allData['state'])\n",
    "# allData.head()"
   ]
  },
  {
   "cell_type": "code",
   "execution_count": 18,
   "metadata": {},
   "outputs": [],
   "source": [
    "# demo['state1']= le.fit_transform (demo['area_name'])\n",
    "# demo.head()"
   ]
  },
  {
   "cell_type": "code",
   "execution_count": 19,
   "metadata": {},
   "outputs": [
    {
     "data": {
      "text/html": [
       "<div>\n",
       "<style scoped>\n",
       "    .dataframe tbody tr th:only-of-type {\n",
       "        vertical-align: middle;\n",
       "    }\n",
       "\n",
       "    .dataframe tbody tr th {\n",
       "        vertical-align: top;\n",
       "    }\n",
       "\n",
       "    .dataframe thead th {\n",
       "        text-align: right;\n",
       "    }\n",
       "</style>\n",
       "<table border=\"1\" class=\"dataframe\">\n",
       "  <thead>\n",
       "    <tr style=\"text-align: right;\">\n",
       "      <th></th>\n",
       "      <th>candidate</th>\n",
       "      <th>state</th>\n",
       "      <th>party</th>\n",
       "      <th>votes</th>\n",
       "      <th>partyFrac</th>\n",
       "      <th>fips</th>\n",
       "      <th>area_name</th>\n",
       "      <th>Population</th>\n",
       "      <th>Black</th>\n",
       "      <th>Latino</th>\n",
       "      <th>...</th>\n",
       "      <th>Kurang Mampu</th>\n",
       "      <th>Density</th>\n",
       "      <th>Veteran</th>\n",
       "      <th>Rumah Tangga</th>\n",
       "      <th>Pengangguran</th>\n",
       "      <th>BlackownFirm</th>\n",
       "      <th>AsianowmFirm</th>\n",
       "      <th>LatinoownFirm</th>\n",
       "      <th>WomenownFirm</th>\n",
       "      <th>incomepercapita</th>\n",
       "    </tr>\n",
       "  </thead>\n",
       "  <tbody>\n",
       "    <tr>\n",
       "      <td>0</td>\n",
       "      <td>Ben Carson</td>\n",
       "      <td>Alabama</td>\n",
       "      <td>Republican</td>\n",
       "      <td>87517</td>\n",
       "      <td>0.104481</td>\n",
       "      <td>1000</td>\n",
       "      <td>Alabama</td>\n",
       "      <td>4849377</td>\n",
       "      <td>26.7</td>\n",
       "      <td>4.1</td>\n",
       "      <td>...</td>\n",
       "      <td>18.6</td>\n",
       "      <td>94.4</td>\n",
       "      <td>388865</td>\n",
       "      <td>1838683</td>\n",
       "      <td>311578</td>\n",
       "      <td>14.8</td>\n",
       "      <td>1.8</td>\n",
       "      <td>1.2</td>\n",
       "      <td>28.1</td>\n",
       "      <td>23680</td>\n",
       "    </tr>\n",
       "    <tr>\n",
       "      <td>1</td>\n",
       "      <td>Donald Trump</td>\n",
       "      <td>Alabama</td>\n",
       "      <td>Republican</td>\n",
       "      <td>371735</td>\n",
       "      <td>0.443793</td>\n",
       "      <td>1000</td>\n",
       "      <td>Alabama</td>\n",
       "      <td>4849377</td>\n",
       "      <td>26.7</td>\n",
       "      <td>4.1</td>\n",
       "      <td>...</td>\n",
       "      <td>18.6</td>\n",
       "      <td>94.4</td>\n",
       "      <td>388865</td>\n",
       "      <td>1838683</td>\n",
       "      <td>311578</td>\n",
       "      <td>14.8</td>\n",
       "      <td>1.8</td>\n",
       "      <td>1.2</td>\n",
       "      <td>28.1</td>\n",
       "      <td>23680</td>\n",
       "    </tr>\n",
       "    <tr>\n",
       "      <td>2</td>\n",
       "      <td>John Kasich</td>\n",
       "      <td>Alabama</td>\n",
       "      <td>Republican</td>\n",
       "      <td>37970</td>\n",
       "      <td>0.045330</td>\n",
       "      <td>1000</td>\n",
       "      <td>Alabama</td>\n",
       "      <td>4849377</td>\n",
       "      <td>26.7</td>\n",
       "      <td>4.1</td>\n",
       "      <td>...</td>\n",
       "      <td>18.6</td>\n",
       "      <td>94.4</td>\n",
       "      <td>388865</td>\n",
       "      <td>1838683</td>\n",
       "      <td>311578</td>\n",
       "      <td>14.8</td>\n",
       "      <td>1.8</td>\n",
       "      <td>1.2</td>\n",
       "      <td>28.1</td>\n",
       "      <td>23680</td>\n",
       "    </tr>\n",
       "    <tr>\n",
       "      <td>3</td>\n",
       "      <td>Marco Rubio</td>\n",
       "      <td>Alabama</td>\n",
       "      <td>Republican</td>\n",
       "      <td>159802</td>\n",
       "      <td>0.190778</td>\n",
       "      <td>1000</td>\n",
       "      <td>Alabama</td>\n",
       "      <td>4849377</td>\n",
       "      <td>26.7</td>\n",
       "      <td>4.1</td>\n",
       "      <td>...</td>\n",
       "      <td>18.6</td>\n",
       "      <td>94.4</td>\n",
       "      <td>388865</td>\n",
       "      <td>1838683</td>\n",
       "      <td>311578</td>\n",
       "      <td>14.8</td>\n",
       "      <td>1.8</td>\n",
       "      <td>1.2</td>\n",
       "      <td>28.1</td>\n",
       "      <td>23680</td>\n",
       "    </tr>\n",
       "    <tr>\n",
       "      <td>4</td>\n",
       "      <td>Ted Cruz</td>\n",
       "      <td>Alabama</td>\n",
       "      <td>Republican</td>\n",
       "      <td>180608</td>\n",
       "      <td>0.215617</td>\n",
       "      <td>1000</td>\n",
       "      <td>Alabama</td>\n",
       "      <td>4849377</td>\n",
       "      <td>26.7</td>\n",
       "      <td>4.1</td>\n",
       "      <td>...</td>\n",
       "      <td>18.6</td>\n",
       "      <td>94.4</td>\n",
       "      <td>388865</td>\n",
       "      <td>1838683</td>\n",
       "      <td>311578</td>\n",
       "      <td>14.8</td>\n",
       "      <td>1.8</td>\n",
       "      <td>1.2</td>\n",
       "      <td>28.1</td>\n",
       "      <td>23680</td>\n",
       "    </tr>\n",
       "    <tr>\n",
       "      <td>...</td>\n",
       "      <td>...</td>\n",
       "      <td>...</td>\n",
       "      <td>...</td>\n",
       "      <td>...</td>\n",
       "      <td>...</td>\n",
       "      <td>...</td>\n",
       "      <td>...</td>\n",
       "      <td>...</td>\n",
       "      <td>...</td>\n",
       "      <td>...</td>\n",
       "      <td>...</td>\n",
       "      <td>...</td>\n",
       "      <td>...</td>\n",
       "      <td>...</td>\n",
       "      <td>...</td>\n",
       "      <td>...</td>\n",
       "      <td>...</td>\n",
       "      <td>...</td>\n",
       "      <td>...</td>\n",
       "      <td>...</td>\n",
       "      <td>...</td>\n",
       "    </tr>\n",
       "    <tr>\n",
       "      <td>501</td>\n",
       "      <td>Chris Christie</td>\n",
       "      <td>Wyoming</td>\n",
       "      <td>Republican</td>\n",
       "      <td>0</td>\n",
       "      <td>0.000000</td>\n",
       "      <td>56000</td>\n",
       "      <td>Wyoming</td>\n",
       "      <td>584153</td>\n",
       "      <td>1.6</td>\n",
       "      <td>9.8</td>\n",
       "      <td>...</td>\n",
       "      <td>11.5</td>\n",
       "      <td>5.8</td>\n",
       "      <td>50852</td>\n",
       "      <td>222846</td>\n",
       "      <td>46297</td>\n",
       "      <td>0.2</td>\n",
       "      <td>0.7</td>\n",
       "      <td>2.8</td>\n",
       "      <td>25.5</td>\n",
       "      <td>28902</td>\n",
       "    </tr>\n",
       "    <tr>\n",
       "      <td>502</td>\n",
       "      <td>Jeb Bush</td>\n",
       "      <td>Wyoming</td>\n",
       "      <td>Republican</td>\n",
       "      <td>0</td>\n",
       "      <td>0.000000</td>\n",
       "      <td>56000</td>\n",
       "      <td>Wyoming</td>\n",
       "      <td>584153</td>\n",
       "      <td>1.6</td>\n",
       "      <td>9.8</td>\n",
       "      <td>...</td>\n",
       "      <td>11.5</td>\n",
       "      <td>5.8</td>\n",
       "      <td>50852</td>\n",
       "      <td>222846</td>\n",
       "      <td>46297</td>\n",
       "      <td>0.2</td>\n",
       "      <td>0.7</td>\n",
       "      <td>2.8</td>\n",
       "      <td>25.5</td>\n",
       "      <td>28902</td>\n",
       "    </tr>\n",
       "    <tr>\n",
       "      <td>503</td>\n",
       "      <td>Mike Huckabee</td>\n",
       "      <td>Wyoming</td>\n",
       "      <td>Republican</td>\n",
       "      <td>0</td>\n",
       "      <td>0.000000</td>\n",
       "      <td>56000</td>\n",
       "      <td>Wyoming</td>\n",
       "      <td>584153</td>\n",
       "      <td>1.6</td>\n",
       "      <td>9.8</td>\n",
       "      <td>...</td>\n",
       "      <td>11.5</td>\n",
       "      <td>5.8</td>\n",
       "      <td>50852</td>\n",
       "      <td>222846</td>\n",
       "      <td>46297</td>\n",
       "      <td>0.2</td>\n",
       "      <td>0.7</td>\n",
       "      <td>2.8</td>\n",
       "      <td>25.5</td>\n",
       "      <td>28902</td>\n",
       "    </tr>\n",
       "    <tr>\n",
       "      <td>504</td>\n",
       "      <td>Rand Paul</td>\n",
       "      <td>Wyoming</td>\n",
       "      <td>Republican</td>\n",
       "      <td>0</td>\n",
       "      <td>0.000000</td>\n",
       "      <td>56000</td>\n",
       "      <td>Wyoming</td>\n",
       "      <td>584153</td>\n",
       "      <td>1.6</td>\n",
       "      <td>9.8</td>\n",
       "      <td>...</td>\n",
       "      <td>11.5</td>\n",
       "      <td>5.8</td>\n",
       "      <td>50852</td>\n",
       "      <td>222846</td>\n",
       "      <td>46297</td>\n",
       "      <td>0.2</td>\n",
       "      <td>0.7</td>\n",
       "      <td>2.8</td>\n",
       "      <td>25.5</td>\n",
       "      <td>28902</td>\n",
       "    </tr>\n",
       "    <tr>\n",
       "      <td>505</td>\n",
       "      <td>Rick Santorum</td>\n",
       "      <td>Wyoming</td>\n",
       "      <td>Republican</td>\n",
       "      <td>0</td>\n",
       "      <td>0.000000</td>\n",
       "      <td>56000</td>\n",
       "      <td>Wyoming</td>\n",
       "      <td>584153</td>\n",
       "      <td>1.6</td>\n",
       "      <td>9.8</td>\n",
       "      <td>...</td>\n",
       "      <td>11.5</td>\n",
       "      <td>5.8</td>\n",
       "      <td>50852</td>\n",
       "      <td>222846</td>\n",
       "      <td>46297</td>\n",
       "      <td>0.2</td>\n",
       "      <td>0.7</td>\n",
       "      <td>2.8</td>\n",
       "      <td>25.5</td>\n",
       "      <td>28902</td>\n",
       "    </tr>\n",
       "  </tbody>\n",
       "</table>\n",
       "<p>506 rows × 25 columns</p>\n",
       "</div>"
      ],
      "text/plain": [
       "          candidate    state       party   votes  partyFrac   fips area_name  \\\n",
       "0        Ben Carson  Alabama  Republican   87517   0.104481   1000   Alabama   \n",
       "1      Donald Trump  Alabama  Republican  371735   0.443793   1000   Alabama   \n",
       "2       John Kasich  Alabama  Republican   37970   0.045330   1000   Alabama   \n",
       "3       Marco Rubio  Alabama  Republican  159802   0.190778   1000   Alabama   \n",
       "4          Ted Cruz  Alabama  Republican  180608   0.215617   1000   Alabama   \n",
       "..              ...      ...         ...     ...        ...    ...       ...   \n",
       "501  Chris Christie  Wyoming  Republican       0   0.000000  56000   Wyoming   \n",
       "502        Jeb Bush  Wyoming  Republican       0   0.000000  56000   Wyoming   \n",
       "503   Mike Huckabee  Wyoming  Republican       0   0.000000  56000   Wyoming   \n",
       "504       Rand Paul  Wyoming  Republican       0   0.000000  56000   Wyoming   \n",
       "505   Rick Santorum  Wyoming  Republican       0   0.000000  56000   Wyoming   \n",
       "\n",
       "     Population  Black  Latino  ...  Kurang Mampu  Density  Veteran  \\\n",
       "0       4849377   26.7     4.1  ...          18.6     94.4   388865   \n",
       "1       4849377   26.7     4.1  ...          18.6     94.4   388865   \n",
       "2       4849377   26.7     4.1  ...          18.6     94.4   388865   \n",
       "3       4849377   26.7     4.1  ...          18.6     94.4   388865   \n",
       "4       4849377   26.7     4.1  ...          18.6     94.4   388865   \n",
       "..          ...    ...     ...  ...           ...      ...      ...   \n",
       "501      584153    1.6     9.8  ...          11.5      5.8    50852   \n",
       "502      584153    1.6     9.8  ...          11.5      5.8    50852   \n",
       "503      584153    1.6     9.8  ...          11.5      5.8    50852   \n",
       "504      584153    1.6     9.8  ...          11.5      5.8    50852   \n",
       "505      584153    1.6     9.8  ...          11.5      5.8    50852   \n",
       "\n",
       "     Rumah Tangga  Pengangguran  BlackownFirm  AsianowmFirm  LatinoownFirm  \\\n",
       "0         1838683        311578          14.8           1.8            1.2   \n",
       "1         1838683        311578          14.8           1.8            1.2   \n",
       "2         1838683        311578          14.8           1.8            1.2   \n",
       "3         1838683        311578          14.8           1.8            1.2   \n",
       "4         1838683        311578          14.8           1.8            1.2   \n",
       "..            ...           ...           ...           ...            ...   \n",
       "501        222846         46297           0.2           0.7            2.8   \n",
       "502        222846         46297           0.2           0.7            2.8   \n",
       "503        222846         46297           0.2           0.7            2.8   \n",
       "504        222846         46297           0.2           0.7            2.8   \n",
       "505        222846         46297           0.2           0.7            2.8   \n",
       "\n",
       "     WomenownFirm  incomepercapita  \n",
       "0            28.1            23680  \n",
       "1            28.1            23680  \n",
       "2            28.1            23680  \n",
       "3            28.1            23680  \n",
       "4            28.1            23680  \n",
       "..            ...              ...  \n",
       "501          25.5            28902  \n",
       "502          25.5            28902  \n",
       "503          25.5            28902  \n",
       "504          25.5            28902  \n",
       "505          25.5            28902  \n",
       "\n",
       "[506 rows x 25 columns]"
      ]
     },
     "execution_count": 19,
     "metadata": {},
     "output_type": "execute_result"
    }
   ],
   "source": [
    "#Merging demographics and results\n",
    "allData = pd.merge(vbs, demo, how=\"inner\", left_on = 'state',right_on = 'area_name')\n",
    "allData.drop('state_abbreviation',axis=1, inplace=True)\n",
    "allData.head()\n",
    "# #Segregate data candidate wise\n",
    "DNT = allData[(allData.candidate == \"Donald Trump\")] #| (allData.candidate != \"Donald Trump\")]\n",
    "DNT = DNT.reset_index();\n",
    "DNT.drop('index',axis=1, inplace=True)\n",
    "allData"
   ]
  },
  {
   "cell_type": "code",
   "execution_count": 21,
   "metadata": {},
   "outputs": [],
   "source": [
    "#Select X for Prediction\n",
    "feature_cols = ['Population','Black','Latino','White','HighSchool','Bachelors','MediHouseInc','Kurang Mampu','Density','Veteran',\n",
    "                'Rumah Tangga','Pengangguran','AsianowmFirm','LatinoownFirm','WomenownFirm','incomepercapita']\n",
    "X = DNT[feature_cols]\n",
    "\n",
    "#Select y for Prediction\n",
    "y = DNT.partyFrac\n",
    "\n",
    "# #Initializing Liner Regression and Random Forest\n",
    "# rf1 = RandomForestRegressor(n_estimators=10000)\n",
    "# #Train Model\n",
    "# rf1.fit(X,y)\n"
   ]
  },
  {
   "cell_type": "code",
   "execution_count": 127,
   "metadata": {},
   "outputs": [],
   "source": [
    "# model.fit(X, y)\n",
    "# print(\"slope m = \", model.coef_)\n",
    "# print(\"intercept c = \", model.intercept_)"
   ]
  },
  {
   "cell_type": "code",
   "execution_count": 22,
   "metadata": {},
   "outputs": [],
   "source": [
    "from sklearn.model_selection import train_test_split"
   ]
  },
  {
   "cell_type": "code",
   "execution_count": 23,
   "metadata": {},
   "outputs": [],
   "source": [
    "x_train, x_test, y_train, y_test = train_test_split(X,y,test_size=0.2)"
   ]
  },
  {
   "cell_type": "code",
   "execution_count": 24,
   "metadata": {},
   "outputs": [],
   "source": [
    "# model.score(x_test, y_test)"
   ]
  },
  {
   "cell_type": "code",
   "execution_count": 25,
   "metadata": {},
   "outputs": [],
   "source": [
    "from sklearn.linear_model import LinearRegression, Ridge, Lasso, ElasticNet"
   ]
  },
  {
   "cell_type": "markdown",
   "metadata": {},
   "source": [
    "## Model"
   ]
  },
  {
   "cell_type": "code",
   "execution_count": 28,
   "metadata": {},
   "outputs": [
    {
     "data": {
      "text/plain": [
       "ElasticNet(alpha=1.0, copy_X=True, fit_intercept=True, l1_ratio=0.5,\n",
       "           max_iter=100000, normalize=False, positive=False, precompute=False,\n",
       "           random_state=None, selection='cyclic', tol=0.0001, warm_start=False)"
      ]
     },
     "execution_count": 28,
     "metadata": {},
     "output_type": "execute_result"
    }
   ],
   "source": [
    "modela = LinearRegression()\n",
    "modelb = Ridge(alpha=2.0, copy_X=True, fit_intercept=True, max_iter=100000,\n",
    "      normalize=False, random_state=None, solver='auto', tol=0.001)\n",
    "modelc = Lasso(max_iter=100000)\n",
    "modeld = ElasticNet(max_iter=100000)\n",
    "\n",
    "modela.fit(x_train,y_train)\n",
    "modelb.fit(x_train,y_train)\n",
    "modelc.fit(x_train,y_train)\n",
    "modeld.fit(x_train,y_train)"
   ]
  },
  {
   "cell_type": "markdown",
   "metadata": {},
   "source": [
    "## Linear Regression"
   ]
  },
  {
   "cell_type": "code",
   "execution_count": 57,
   "metadata": {},
   "outputs": [
    {
     "data": {
      "text/plain": [
       "Text(0, 0.5, 'Predictions')"
      ]
     },
     "execution_count": 57,
     "metadata": {},
     "output_type": "execute_result"
    },
    {
     "data": {
      "image/png": "[encoded data removed]",
      "text/plain": [
       "<Figure size 432x288 with 1 Axes>"
      ]
     },
     "metadata": {},
     "output_type": "display_data"
    }
   ],
   "source": [
    "m = modeld.fit(x_train,y_train)\n",
    "p = modeld.predict(x_test)\n",
    "plt.scatter(y_test, p)\n",
    "plt.xlabel('True Values')\n",
    "plt.ylabel('Predictions')\n"
   ]
  },
  {
   "cell_type": "code",
   "execution_count": 60,
   "metadata": {},
   "outputs": [
    {
     "name": "stdout",
     "output_type": "stream",
     "text": [
      "-1.2476163745120235\n"
     ]
    }
   ],
   "source": [
    "print (modeld.score(x_test, y_test))"
   ]
  },
  {
   "cell_type": "code",
   "execution_count": 52,
   "metadata": {},
   "outputs": [],
   "source": [
    "demo1=demo[(demo.area_name=='Delaware')]\n",
    "demo2=demo[(demo.area_name=='Connecticut')]\n",
    "demo3=demo[(demo.area_name=='Maryland')]\n",
    "demo4=demo[(demo.area_name=='Delaware')]\n",
    "demo5=demo[(demo.area_name=='New York')]"
   ]
  },
  {
   "cell_type": "markdown",
   "metadata": {},
   "source": [
    "## Elastic Net"
   ]
  },
  {
   "cell_type": "code",
   "execution_count": 61,
   "metadata": {},
   "outputs": [
    {
     "ename": "ValueError",
     "evalue": "Expected 2D array, got 1D array instead:\narray=[0.50647341 0.67295304 0.290212   0.67087339 0.81963867 0.27678091\n 0.83048082 0.36548388 0.66614291 0.32503791].\nReshape your data either using array.reshape(-1, 1) if your data has a single feature or array.reshape(1, -1) if it contains a single sample.",
     "output_type": "error",
     "traceback": [
      "\u001b[1;31m---------------------------------------------------------------------------\u001b[0m",
      "\u001b[1;31mValueError\u001b[0m                                Traceback (most recent call last)",
      "\u001b[1;32m<ipython-input-61-eb8dcf8b0dc5>\u001b[0m in \u001b[0;36m<module>\u001b[1;34m\u001b[0m\n\u001b[0;32m     20\u001b[0m \u001b[1;33m\u001b[0m\u001b[0m\n\u001b[0;32m     21\u001b[0m \u001b[0mX_test1\u001b[0m\u001b[1;33m=\u001b[0m\u001b[0mmodeld\u001b[0m\u001b[1;33m.\u001b[0m\u001b[0mpredict\u001b[0m\u001b[1;33m(\u001b[0m\u001b[0mx_test\u001b[0m\u001b[1;33m)\u001b[0m\u001b[1;33m\u001b[0m\u001b[1;33m\u001b[0m\u001b[0m\n\u001b[1;32m---> 22\u001b[1;33m \u001b[0my_pred4\u001b[0m\u001b[1;33m=\u001b[0m\u001b[0mmodeld\u001b[0m\u001b[1;33m.\u001b[0m\u001b[0mpredict\u001b[0m\u001b[1;33m(\u001b[0m\u001b[0my_test\u001b[0m\u001b[1;33m)\u001b[0m\u001b[1;33m\u001b[0m\u001b[1;33m\u001b[0m\u001b[0m\n\u001b[0m\u001b[0;32m     23\u001b[0m \u001b[0mxx\u001b[0m \u001b[1;33m=\u001b[0m \u001b[0mnp\u001b[0m\u001b[1;33m.\u001b[0m\u001b[0marray\u001b[0m\u001b[1;33m(\u001b[0m\u001b[0mxx\u001b[0m\u001b[1;33m,\u001b[0m \u001b[0my_pred4\u001b[0m\u001b[1;33m[\u001b[0m\u001b[1;36m0\u001b[0m\u001b[1;33m]\u001b[0m\u001b[1;33m)\u001b[0m\u001b[1;33m;\u001b[0m\u001b[1;33m\u001b[0m\u001b[1;33m\u001b[0m\u001b[0m\n",
      "\u001b[1;32m~\\Anaconda\\lib\\site-packages\\sklearn\\linear_model\\_base.py\u001b[0m in \u001b[0;36mpredict\u001b[1;34m(self, X)\u001b[0m\n\u001b[0;32m    223\u001b[0m             \u001b[0mReturns\u001b[0m \u001b[0mpredicted\u001b[0m \u001b[0mvalues\u001b[0m\u001b[1;33m.\u001b[0m\u001b[1;33m\u001b[0m\u001b[1;33m\u001b[0m\u001b[0m\n\u001b[0;32m    224\u001b[0m         \"\"\"\n\u001b[1;32m--> 225\u001b[1;33m         \u001b[1;32mreturn\u001b[0m \u001b[0mself\u001b[0m\u001b[1;33m.\u001b[0m\u001b[0m_decision_function\u001b[0m\u001b[1;33m(\u001b[0m\u001b[0mX\u001b[0m\u001b[1;33m)\u001b[0m\u001b[1;33m\u001b[0m\u001b[1;33m\u001b[0m\u001b[0m\n\u001b[0m\u001b[0;32m    226\u001b[0m \u001b[1;33m\u001b[0m\u001b[0m\n\u001b[0;32m    227\u001b[0m     \u001b[0m_preprocess_data\u001b[0m \u001b[1;33m=\u001b[0m \u001b[0mstaticmethod\u001b[0m\u001b[1;33m(\u001b[0m\u001b[0m_preprocess_data\u001b[0m\u001b[1;33m)\u001b[0m\u001b[1;33m\u001b[0m\u001b[1;33m\u001b[0m\u001b[0m\n",
      "\u001b[1;32m~\\Anaconda\\lib\\site-packages\\sklearn\\linear_model\\_coordinate_descent.py\u001b[0m in \u001b[0;36m_decision_function\u001b[1;34m(self, X)\u001b[0m\n\u001b[0;32m    792\u001b[0m                                    dense_output=True) + self.intercept_\n\u001b[0;32m    793\u001b[0m         \u001b[1;32melse\u001b[0m\u001b[1;33m:\u001b[0m\u001b[1;33m\u001b[0m\u001b[1;33m\u001b[0m\u001b[0m\n\u001b[1;32m--> 794\u001b[1;33m             \u001b[1;32mreturn\u001b[0m \u001b[0msuper\u001b[0m\u001b[1;33m(\u001b[0m\u001b[1;33m)\u001b[0m\u001b[1;33m.\u001b[0m\u001b[0m_decision_function\u001b[0m\u001b[1;33m(\u001b[0m\u001b[0mX\u001b[0m\u001b[1;33m)\u001b[0m\u001b[1;33m\u001b[0m\u001b[1;33m\u001b[0m\u001b[0m\n\u001b[0m\u001b[0;32m    795\u001b[0m \u001b[1;33m\u001b[0m\u001b[0m\n\u001b[0;32m    796\u001b[0m \u001b[1;33m\u001b[0m\u001b[0m\n",
      "\u001b[1;32m~\\Anaconda\\lib\\site-packages\\sklearn\\linear_model\\_base.py\u001b[0m in \u001b[0;36m_decision_function\u001b[1;34m(self, X)\u001b[0m\n\u001b[0;32m    205\u001b[0m         \u001b[0mcheck_is_fitted\u001b[0m\u001b[1;33m(\u001b[0m\u001b[0mself\u001b[0m\u001b[1;33m)\u001b[0m\u001b[1;33m\u001b[0m\u001b[1;33m\u001b[0m\u001b[0m\n\u001b[0;32m    206\u001b[0m \u001b[1;33m\u001b[0m\u001b[0m\n\u001b[1;32m--> 207\u001b[1;33m         \u001b[0mX\u001b[0m \u001b[1;33m=\u001b[0m \u001b[0mcheck_array\u001b[0m\u001b[1;33m(\u001b[0m\u001b[0mX\u001b[0m\u001b[1;33m,\u001b[0m \u001b[0maccept_sparse\u001b[0m\u001b[1;33m=\u001b[0m\u001b[1;33m[\u001b[0m\u001b[1;34m'csr'\u001b[0m\u001b[1;33m,\u001b[0m \u001b[1;34m'csc'\u001b[0m\u001b[1;33m,\u001b[0m \u001b[1;34m'coo'\u001b[0m\u001b[1;33m]\u001b[0m\u001b[1;33m)\u001b[0m\u001b[1;33m\u001b[0m\u001b[1;33m\u001b[0m\u001b[0m\n\u001b[0m\u001b[0;32m    208\u001b[0m         return safe_sparse_dot(X, self.coef_.T,\n\u001b[0;32m    209\u001b[0m                                dense_output=True) + self.intercept_\n",
      "\u001b[1;32m~\\Anaconda\\lib\\site-packages\\sklearn\\utils\\validation.py\u001b[0m in \u001b[0;36mcheck_array\u001b[1;34m(array, accept_sparse, accept_large_sparse, dtype, order, copy, force_all_finite, ensure_2d, allow_nd, ensure_min_samples, ensure_min_features, warn_on_dtype, estimator)\u001b[0m\n\u001b[0;32m    554\u001b[0m                     \u001b[1;34m\"Reshape your data either using array.reshape(-1, 1) if \"\u001b[0m\u001b[1;33m\u001b[0m\u001b[1;33m\u001b[0m\u001b[0m\n\u001b[0;32m    555\u001b[0m                     \u001b[1;34m\"your data has a single feature or array.reshape(1, -1) \"\u001b[0m\u001b[1;33m\u001b[0m\u001b[1;33m\u001b[0m\u001b[0m\n\u001b[1;32m--> 556\u001b[1;33m                     \"if it contains a single sample.\".format(array))\n\u001b[0m\u001b[0;32m    557\u001b[0m \u001b[1;33m\u001b[0m\u001b[0m\n\u001b[0;32m    558\u001b[0m         \u001b[1;31m# in the future np.flexible dtypes will be handled like object dtypes\u001b[0m\u001b[1;33m\u001b[0m\u001b[1;33m\u001b[0m\u001b[1;33m\u001b[0m\u001b[0m\n",
      "\u001b[1;31mValueError\u001b[0m: Expected 2D array, got 1D array instead:\narray=[0.50647341 0.67295304 0.290212   0.67087339 0.81963867 0.27678091\n 0.83048082 0.36548388 0.66614291 0.32503791].\nReshape your data either using array.reshape(-1, 1) if your data has a single feature or array.reshape(1, -1) if it contains a single sample."
     ]
    }
   ],
   "source": [
    "# X_test1=demo2[feature_cols]\n",
    "# y_pred4=modeld.predict(X_test1)\n",
    "# xx=np.array(y_pred4);\n",
    "\n",
    "# X_test1=demo3[feature_cols]\n",
    "# y_pred4=modeld.predict(X_test1)\n",
    "# xx = np.append(xx, y_pred4[0]);\n",
    "\n",
    "# X_test1=demo3[feature_cols]\n",
    "# y_pred4=modeld.predict(X_test1)\n",
    "# xx=np.append(xx, y_pred4[0]);\n",
    "\n",
    "# X_test1=demo4[feature_cols]\n",
    "# y_pred4=modeld.predict(X_test1)\n",
    "# xx=np.append(xx, y_pred4[0]);\n",
    "\n",
    "# X_test1=demo5[feature_cols]\n",
    "# y_pred4=modeld.predict(X_test1)\n",
    "# xx=np.append(xx, y_pred4[0]);\n",
    "\n",
    "X_test1=modeld.predict(x_test)\n",
    "y_pred4=modeld.predict(y_test)\n",
    "xx = np.array(xx, y_pred4[0]);\n"
   ]
  },
  {
   "cell_type": "code",
   "execution_count": 49,
   "metadata": {},
   "outputs": [],
   "source": [
    "pred =pd.Series(xx, index=['Connecticut','Maryland']) \n",
    "x1 = np.array([0.590,0.565])\n",
    "real = pd.Series(x1, index=['Connecticut','Maryland'])"
   ]
  },
  {
   "cell_type": "code",
   "execution_count": 35,
   "metadata": {},
   "outputs": [],
   "source": [
    "# pred =pd.Series(xx, index=['Alaska','Connecticut','Maryland','Delaware','New York']) \n",
    "# x1 = np.array([.33,.59,.56,.62,.60])\n",
    "# real = pd.Series(x1, index=['Alaska','Connecticut','Maryland','Delaware','New York'])"
   ]
  },
  {
   "cell_type": "code",
   "execution_count": 50,
   "metadata": {},
   "outputs": [
    {
     "name": "stdout",
     "output_type": "stream",
     "text": [
      "             Predicted   Real\n",
      "Connecticut    0.63687  0.590\n",
      "Maryland       0.55974  0.565\n"
     ]
    },
    {
     "data": {
      "image/png": "[encoded data removed]",
      "text/plain": [
       "<Figure size 1080x576 with 1 Axes>"
      ]
     },
     "metadata": {},
     "output_type": "display_data"
    }
   ],
   "source": [
    "e = {'Predicted' : pred,'Real' : real}\n",
    "final=pd.DataFrame(e)\n",
    "print(final)\n",
    "# print(\"Error=\",end='')\n",
    "# print(error3)\n",
    "# print(\"MaxError=\",end='')\n",
    "# print(error4)\n",
    "plt.style.use('ggplot')\n",
    "plt.figure(figsize=(15,8))\n",
    "plt.plot(pred,'g')  # Pred\n",
    "plt.plot(real,'r') # Real\n",
    "plt.show()"
   ]
  },
  {
   "cell_type": "code",
   "execution_count": 226,
   "metadata": {},
   "outputs": [
    {
     "data": {
      "text/plain": [
       "0.5650698507462687"
      ]
     },
     "execution_count": 226,
     "metadata": {},
     "output_type": "execute_result"
    }
   ],
   "source": [
    "a = DNT[(DNT.state == 'Maryland')]\n",
    "a = a['partyFrac'].mean()\n",
    "a"
   ]
  },
  {
   "cell_type": "code",
   "execution_count": 43,
   "metadata": {},
   "outputs": [
    {
     "name": "stdout",
     "output_type": "stream",
     "text": [
      "MAX ERROR : 4.7\n",
      "MSE : 0.00111 \n",
      "MAE : 2.6 \n",
      "MDAE : 2.6 \n",
      "RMSLE : 2.1 \n",
      "R2 Score : 25.2 \n"
     ]
    }
   ],
   "source": [
    "# print(np.sqrt(mean_squared_error(a,b)))\n",
    "from sklearn.metrics import mean_squared_error as mse\n",
    "from sklearn.metrics import mean_absolute_error as mae\n",
    "from sklearn.metrics import max_error\n",
    "from sklearn.metrics import median_absolute_error as mdae\n",
    "from sklearn.metrics import mean_squared_log_error as msle\n",
    "from sklearn.metrics import r2_score\n",
    "\n",
    "\n",
    "print(f'MAX ERROR : {round(max_error(pred,real),3)*100}')\n",
    "print(f'MSE : {round(mse(pred,real),5)} ')\n",
    "print(f'MAE : {round(mae(pred,real),3)*100} ')\n",
    "print(f'MDAE : {round(mdae(pred,real),3)*100} ')\n",
    "print(f'RMSLE : {round(np.sqrt(msle(pred,real)),3)*100} ')\n",
    "print(f'R2 Score : {round(r2_score(pred,real),3)*100} ')"
   ]
  },
  {
   "cell_type": "markdown",
   "metadata": {},
   "source": [
    "### Lasso"
   ]
  },
  {
   "cell_type": "code",
   "execution_count": 38,
   "metadata": {},
   "outputs": [],
   "source": [
    "X_test2=demo1[feature_cols]\n",
    "y_pred2=modelb.predict(X_test2)\n",
    "xx2=np.array(y_pred2);\n",
    "\n",
    "X_test2=demo2[feature_cols]\n",
    "y_pred2=modelb.predict(X_test2)\n",
    "xx2=np.append(xx2, y_pred2[0]);\n",
    "\n",
    "X_test2=demo3[feature_cols]\n",
    "y_pred2=modelb.predict(X_test2)\n",
    "xx2=np.append(xx2, y_pred2[0]);\n",
    "\n",
    "X_test2=demo4[feature_cols]\n",
    "y_pred2=modelb.predict(X_test2)\n",
    "xx2=np.append(xx2, y_pred2[0]);\n",
    "\n",
    "X_test2=demo5[feature_cols]\n",
    "y_pred2=modelb.predict(X_test2)\n",
    "xx2=np.append(xx2, y_pred2[0]);"
   ]
  },
  {
   "cell_type": "code",
   "execution_count": 39,
   "metadata": {},
   "outputs": [],
   "source": [
    "pred2 =pd.Series(xx2, index=['Alaska','Connecticut','Maryland','Delaware','New York']) \n",
    "x1 = np.array([.33,.59,.56,.62,.60])\n",
    "real2 = pd.Series(x1, index=['Alaska','Connecticut','Maryland','Delaware','New York'])"
   ]
  },
  {
   "cell_type": "code",
   "execution_count": 40,
   "metadata": {},
   "outputs": [
    {
     "name": "stdout",
     "output_type": "stream",
     "text": [
      "             Predicted   Real\n",
      "Connecticut    0.63687  0.590\n",
      "Maryland       0.55974  0.565\n"
     ]
    },
    {
     "data": {
      "image/png": "[encoded data removed]",
      "text/plain": [
       "<Figure size 1080x576 with 1 Axes>"
      ]
     },
     "metadata": {},
     "output_type": "display_data"
    }
   ],
   "source": [
    "f = {'Predicted' : pred2,'Real' : real2}\n",
    "final2=pd.DataFrame(e)\n",
    "print(final2)\n",
    "# print(\"Error=\",end='')\n",
    "# print(error3)\n",
    "# print(\"MaxError=\",end='')\n",
    "# print(error4)\n",
    "plt.style.use('ggplot')\n",
    "plt.figure(figsize=(15,8))\n",
    "plt.plot(pred,'g')  # Pred\n",
    "plt.plot(real,'r') # Real\n",
    "plt.show()\n"
   ]
  },
  {
   "cell_type": "code",
   "execution_count": 42,
   "metadata": {},
   "outputs": [
    {
     "name": "stdout",
     "output_type": "stream",
     "text": [
      "MAX ERROR : 20.0 %\n",
      "MSE : 1.0999999999999999 %\n",
      "RMSE : 1.0488088481701514 %\n",
      "MAE : 7.000000000000001 %\n",
      "MDAE : 5.0 %\n",
      "RMSLE : 6.800000000000001 %\n",
      "R2 Score : -28.000000000000004 %\n"
     ]
    }
   ],
   "source": [
    "from sklearn.metrics import mean_squared_error as mse\n",
    "from sklearn.metrics import mean_absolute_error as mae\n",
    "from sklearn.metrics import max_error\n",
    "from sklearn.metrics import median_absolute_error as mdae\n",
    "from sklearn.metrics import mean_squared_log_error as msle\n",
    "from sklearn.metrics import r2_score\n",
    "\n",
    "print(f'MAX ERROR : {round(max_error(pred2,real2),2)*100} %')\n",
    "print(f'MSE : {(round(mse(pred2,real2),3))*100} %')\n",
    "print(f'RMSE : {np.sqrt(round(mse(pred2,real2),3)*100)} %')\n",
    "print(f'MAE : {round(mae(pred2,real2),2)*100} %')\n",
    "print(f'MDAE : {round(mdae(pred2,real2),2)*100} %')\n",
    "print(f'RMSLE : {round(np.sqrt(msle(pred2,real2)),3)*100} %')\n",
    "print(f'R2 Score : {round(r2_score(pred2,real2),2)*100} %')"
   ]
  },
  {
   "cell_type": "code",
   "execution_count": 44,
   "metadata": {},
   "outputs": [
    {
     "name": "stdout",
     "output_type": "stream",
     "text": [
      "Future Pedictions - Donald Trump\n",
      "Alaska = 28.0 %\n",
      "Washington = 46.0 %\n",
      "Texas = 67.0 %\n",
      "Colorado = 38.0 %\n",
      "Florida = 42.0 %\n",
      "Michigan = 42.0 %\n",
      "Missouri = 40.0 %\n",
      "Oregon = 38.0 %\n"
     ]
    }
   ],
   "source": [
    "print (\"Future Pedictions - Donald Trump\")\n",
    "\n",
    "#Select Future States \n",
    "#Change name of state for other states\n",
    "demo11=demo[(demo.area_name=='Alaska')]\n",
    "demo12=demo[(demo.area_name=='Washington')]\n",
    "demo13=demo[(demo.area_name=='Texas')]\n",
    "demo14=demo[(demo.area_name=='Colorado')]\n",
    "demo15=demo[(demo.area_name=='Florida')]\n",
    "demo16=demo[(demo.area_name=='Michigan')]\n",
    "demo17=demo[(demo.area_name=='Missouri')]\n",
    "demo18=demo[(demo.area_name=='Oregon')]\n",
    "\n",
    "\n",
    "X_test1=demo11[feature_cols]\n",
    "y_pred4=modeld.predict(X_test1)\n",
    "print (f'Alaska = {(round((y_pred4[0])*100))} %')\n",
    "\n",
    "X_test1=demo12[feature_cols]\n",
    "y_pred4=modeld.predict(X_test1)\n",
    "print (f'Washington = {(round((y_pred4[0])*100))} %')\n",
    "\n",
    "X_test1=demo13[feature_cols]\n",
    "y_pred4=modeld.predict(X_test1)\n",
    "print (f'Texas = {(round((y_pred4[0])*100))} %')\n",
    "\n",
    "X_test1=demo14[feature_cols]\n",
    "y_pred4=modeld.predict(X_test1)\n",
    "print (f'Colorado = {(round((y_pred4[0])*100))} %')\n",
    "\n",
    "X_test1=demo15[feature_cols]\n",
    "y_pred4=modeld.predict(X_test1)\n",
    "print (f'Florida = {(round((y_pred4[0])*100))} %')\n",
    "\n",
    "X_test1=demo16[feature_cols]\n",
    "y_pred4=modeld.predict(X_test1)\n",
    "print (f'Michigan = {(round((y_pred4[0])*100))} %')\n",
    "\n",
    "X_test1=demo17[feature_cols]\n",
    "y_pred4=modeld.predict(X_test1)\n",
    "print (f'Missouri = {(round((y_pred4[0])*100))} %')\n",
    "\n",
    "X_test1=demo18[feature_cols]\n",
    "y_pred4=modeld.predict(X_test1)\n",
    "# print(\"Oregon = \",end='')\n",
    "print (f'Oregon = {(round((y_pred4[0])*100))} %')\n"
   ]
  },
  {
   "cell_type": "code",
   "execution_count": 168,
   "metadata": {},
   "outputs": [
    {
     "data": {
      "text/plain": [
       "0.3349749202006384"
      ]
     },
     "execution_count": 168,
     "metadata": {},
     "output_type": "execute_result"
    }
   ],
   "source": [
    "a = DNT[(DNT.state == 'Alaska')]\n",
    "a = a['partyFrac'].mean()\n",
    "a"
   ]
  },
  {
   "cell_type": "code",
   "execution_count": 167,
   "metadata": {},
   "outputs": [
    {
     "data": {
      "text/html": [
       "<div>\n",
       "<style scoped>\n",
       "    .dataframe tbody tr th:only-of-type {\n",
       "        vertical-align: middle;\n",
       "    }\n",
       "\n",
       "    .dataframe tbody tr th {\n",
       "        vertical-align: top;\n",
       "    }\n",
       "\n",
       "    .dataframe thead th {\n",
       "        text-align: right;\n",
       "    }\n",
       "</style>\n",
       "<table border=\"1\" class=\"dataframe\">\n",
       "  <thead>\n",
       "    <tr style=\"text-align: right;\">\n",
       "      <th></th>\n",
       "      <th>fips</th>\n",
       "      <th>area_name</th>\n",
       "      <th>state_abbreviation</th>\n",
       "      <th>Population</th>\n",
       "      <th>Black</th>\n",
       "      <th>Latino</th>\n",
       "      <th>White</th>\n",
       "      <th>HighSchool</th>\n",
       "      <th>Bachelors</th>\n",
       "      <th>Income</th>\n",
       "      <th>Kurang Mampu</th>\n",
       "      <th>Density</th>\n",
       "    </tr>\n",
       "  </thead>\n",
       "  <tbody>\n",
       "    <tr>\n",
       "      <td>69</td>\n",
       "      <td>2000</td>\n",
       "      <td>Alaska</td>\n",
       "      <td>NaN</td>\n",
       "      <td>736732</td>\n",
       "      <td>3.9</td>\n",
       "      <td>6.8</td>\n",
       "      <td>61.9</td>\n",
       "      <td>91.6</td>\n",
       "      <td>27.5</td>\n",
       "      <td>70760</td>\n",
       "      <td>9.9</td>\n",
       "      <td>1.2</td>\n",
       "    </tr>\n",
       "  </tbody>\n",
       "</table>\n",
       "</div>"
      ],
      "text/plain": [
       "    fips area_name state_abbreviation  Population  Black  Latino  White  \\\n",
       "69  2000    Alaska                NaN      736732    3.9     6.8   61.9   \n",
       "\n",
       "    HighSchool  Bachelors  Income  Kurang Mampu  Density  \n",
       "69        91.6       27.5   70760           9.9      1.2  "
      ]
     },
     "execution_count": 167,
     "metadata": {},
     "output_type": "execute_result"
    }
   ],
   "source": [
    "demo11"
   ]
  },
  {
   "cell_type": "code",
   "execution_count": null,
   "metadata": {},
   "outputs": [],
   "source": []
  }
 ],
 "metadata": {
  "kernelspec": {
   "display_name": "Python 3",
   "language": "python",
   "name": "python3"
  },
  "language_info": {
   "codemirror_mode": {
    "name": "ipython",
    "version": 3
   },
   "file_extension": ".py",
   "mimetype": "text/x-python",
   "name": "python",
   "nbconvert_exporter": "python",
   "pygments_lexer": "ipython3",
   "version": "3.7.4"
  }
 },
 "nbformat": 4,
 "nbformat_minor": 4
}

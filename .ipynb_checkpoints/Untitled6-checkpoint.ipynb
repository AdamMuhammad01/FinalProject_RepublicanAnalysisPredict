{
 "cells": [
  {
   "cell_type": "code",
   "execution_count": 1,
   "metadata": {},
   "outputs": [],
   "source": [
    "import numpy as np\n",
    "import pandas as pd\n",
    "import matplotlib as mpl\n",
    "import matplotlib.pyplot as plt\n",
    "from sklearn.linear_model import LogisticRegression\n",
    "from sklearn.linear_model import LinearRegression\n",
    "from sklearn.model_selection import cross_val_score\n",
    "from sklearn.metrics import mean_squared_error\n",
    "from sklearn.model_selection import train_test_split\n",
    "from sklearn.preprocessing import StandardScaler\n",
    "from sklearn.ensemble import RandomForestRegressor\n",
    "import plotly.express as px\n",
    "import warnings\n",
    "import seaborn as sns\n",
    "warnings.filterwarnings(\"ignore\")"
   ]
  },
  {
   "cell_type": "code",
   "execution_count": 174,
   "metadata": {},
   "outputs": [],
   "source": [
    "#Reading Demographics CSV File\n",
    "demographics=pd.read_csv('county_facts.csv')\n",
    "# demographics[:1]\n",
    "primary = pd.read_csv('primary_results.csv')"
   ]
  },
  {
   "cell_type": "code",
   "execution_count": 175,
   "metadata": {},
   "outputs": [],
   "source": [
    "demographics = demographics[['fips','area_name','state_abbreviation','PST045214','RHI225214',\n",
    "                             'RHI725214','RHI825214','EDU635213','EDU685213','INC110213','PVY020213','POP060210']]\n",
    "demographics.rename(columns={'PST045214': 'Population','RHI225214':'Black','RHI725214':'Latino',\n",
    "                            'RHI825214':'White','EDU635213':'HighSchool','EDU685213':'Bachelors',\n",
    "                             'INC110213':'Income','PVY020213':'Kurang Mampu','POP060210':'Density'}, inplace=True)\n",
    "# # len(demographics)\n"
   ]
  },
  {
   "cell_type": "code",
   "execution_count": 176,
   "metadata": {},
   "outputs": [
    {
     "data": {
      "text/html": [
       "<div>\n",
       "<style scoped>\n",
       "    .dataframe tbody tr th:only-of-type {\n",
       "        vertical-align: middle;\n",
       "    }\n",
       "\n",
       "    .dataframe tbody tr th {\n",
       "        vertical-align: top;\n",
       "    }\n",
       "\n",
       "    .dataframe thead th {\n",
       "        text-align: right;\n",
       "    }\n",
       "</style>\n",
       "<table border=\"1\" class=\"dataframe\">\n",
       "  <thead>\n",
       "    <tr style=\"text-align: right;\">\n",
       "      <th></th>\n",
       "      <th>fips</th>\n",
       "      <th>Population</th>\n",
       "      <th>Black</th>\n",
       "      <th>Latino</th>\n",
       "      <th>White</th>\n",
       "      <th>HighSchool</th>\n",
       "      <th>Bachelors</th>\n",
       "      <th>Income</th>\n",
       "      <th>Kurang Mampu</th>\n",
       "      <th>Density</th>\n",
       "    </tr>\n",
       "  </thead>\n",
       "  <tbody>\n",
       "    <tr>\n",
       "      <td>count</td>\n",
       "      <td>3195.000000</td>\n",
       "      <td>3.195000e+03</td>\n",
       "      <td>3195.000000</td>\n",
       "      <td>3195.000000</td>\n",
       "      <td>3195.000000</td>\n",
       "      <td>3195.000000</td>\n",
       "      <td>3195.000000</td>\n",
       "      <td>3195.000000</td>\n",
       "      <td>3195.000000</td>\n",
       "      <td>3195.000000</td>\n",
       "    </tr>\n",
       "    <tr>\n",
       "      <td>mean</td>\n",
       "      <td>30358.079499</td>\n",
       "      <td>2.993963e+05</td>\n",
       "      <td>9.266479</td>\n",
       "      <td>9.044069</td>\n",
       "      <td>76.937308</td>\n",
       "      <td>84.602723</td>\n",
       "      <td>19.906228</td>\n",
       "      <td>46060.551174</td>\n",
       "      <td>16.647731</td>\n",
       "      <td>261.265227</td>\n",
       "    </tr>\n",
       "    <tr>\n",
       "      <td>std</td>\n",
       "      <td>15181.225584</td>\n",
       "      <td>5.768468e+06</td>\n",
       "      <td>14.382794</td>\n",
       "      <td>13.432315</td>\n",
       "      <td>19.906817</td>\n",
       "      <td>6.877541</td>\n",
       "      <td>8.856957</td>\n",
       "      <td>11913.802788</td>\n",
       "      <td>6.461703</td>\n",
       "      <td>1718.802670</td>\n",
       "    </tr>\n",
       "    <tr>\n",
       "      <td>min</td>\n",
       "      <td>0.000000</td>\n",
       "      <td>0.000000e+00</td>\n",
       "      <td>0.000000</td>\n",
       "      <td>0.000000</td>\n",
       "      <td>0.000000</td>\n",
       "      <td>45.000000</td>\n",
       "      <td>3.200000</td>\n",
       "      <td>19986.000000</td>\n",
       "      <td>0.900000</td>\n",
       "      <td>0.000000</td>\n",
       "    </tr>\n",
       "    <tr>\n",
       "      <td>25%</td>\n",
       "      <td>18172.000000</td>\n",
       "      <td>1.113450e+04</td>\n",
       "      <td>0.800000</td>\n",
       "      <td>2.100000</td>\n",
       "      <td>65.200000</td>\n",
       "      <td>80.300000</td>\n",
       "      <td>13.700000</td>\n",
       "      <td>38352.500000</td>\n",
       "      <td>12.100000</td>\n",
       "      <td>17.150000</td>\n",
       "    </tr>\n",
       "    <tr>\n",
       "      <td>50%</td>\n",
       "      <td>29175.000000</td>\n",
       "      <td>2.655300e+04</td>\n",
       "      <td>2.400000</td>\n",
       "      <td>3.900000</td>\n",
       "      <td>84.200000</td>\n",
       "      <td>86.000000</td>\n",
       "      <td>17.700000</td>\n",
       "      <td>44301.000000</td>\n",
       "      <td>15.900000</td>\n",
       "      <td>45.700000</td>\n",
       "    </tr>\n",
       "    <tr>\n",
       "      <td>75%</td>\n",
       "      <td>45076.000000</td>\n",
       "      <td>7.247600e+04</td>\n",
       "      <td>10.950000</td>\n",
       "      <td>9.400000</td>\n",
       "      <td>93.050000</td>\n",
       "      <td>89.800000</td>\n",
       "      <td>23.800000</td>\n",
       "      <td>51388.000000</td>\n",
       "      <td>20.200000</td>\n",
       "      <td>115.800000</td>\n",
       "    </tr>\n",
       "    <tr>\n",
       "      <td>max</td>\n",
       "      <td>56045.000000</td>\n",
       "      <td>3.188571e+08</td>\n",
       "      <td>85.100000</td>\n",
       "      <td>95.800000</td>\n",
       "      <td>98.600000</td>\n",
       "      <td>99.000000</td>\n",
       "      <td>74.400000</td>\n",
       "      <td>122238.000000</td>\n",
       "      <td>53.200000</td>\n",
       "      <td>69467.500000</td>\n",
       "    </tr>\n",
       "  </tbody>\n",
       "</table>\n",
       "</div>"
      ],
      "text/plain": [
       "               fips    Population        Black       Latino        White  \\\n",
       "count   3195.000000  3.195000e+03  3195.000000  3195.000000  3195.000000   \n",
       "mean   30358.079499  2.993963e+05     9.266479     9.044069    76.937308   \n",
       "std    15181.225584  5.768468e+06    14.382794    13.432315    19.906817   \n",
       "min        0.000000  0.000000e+00     0.000000     0.000000     0.000000   \n",
       "25%    18172.000000  1.113450e+04     0.800000     2.100000    65.200000   \n",
       "50%    29175.000000  2.655300e+04     2.400000     3.900000    84.200000   \n",
       "75%    45076.000000  7.247600e+04    10.950000     9.400000    93.050000   \n",
       "max    56045.000000  3.188571e+08    85.100000    95.800000    98.600000   \n",
       "\n",
       "        HighSchool    Bachelors         Income  Kurang Mampu       Density  \n",
       "count  3195.000000  3195.000000    3195.000000   3195.000000   3195.000000  \n",
       "mean     84.602723    19.906228   46060.551174     16.647731    261.265227  \n",
       "std       6.877541     8.856957   11913.802788      6.461703   1718.802670  \n",
       "min      45.000000     3.200000   19986.000000      0.900000      0.000000  \n",
       "25%      80.300000    13.700000   38352.500000     12.100000     17.150000  \n",
       "50%      86.000000    17.700000   44301.000000     15.900000     45.700000  \n",
       "75%      89.800000    23.800000   51388.000000     20.200000    115.800000  \n",
       "max      99.000000    74.400000  122238.000000     53.200000  69467.500000  "
      ]
     },
     "execution_count": 176,
     "metadata": {},
     "output_type": "execute_result"
    }
   ],
   "source": [
    "demographics.describe()"
   ]
  },
  {
   "cell_type": "code",
   "execution_count": 177,
   "metadata": {},
   "outputs": [
    {
     "name": "stdout",
     "output_type": "stream",
     "text": [
      "<class 'pandas.core.frame.DataFrame'>\n",
      "RangeIndex: 3195 entries, 0 to 3194\n",
      "Data columns (total 12 columns):\n",
      "fips                  3195 non-null int64\n",
      "area_name             3195 non-null object\n",
      "state_abbreviation    3143 non-null object\n",
      "Population            3195 non-null int64\n",
      "Black                 3195 non-null float64\n",
      "Latino                3195 non-null float64\n",
      "White                 3195 non-null float64\n",
      "HighSchool            3195 non-null float64\n",
      "Bachelors             3195 non-null float64\n",
      "Income                3195 non-null int64\n",
      "Kurang Mampu          3195 non-null float64\n",
      "Density               3195 non-null float64\n",
      "dtypes: float64(7), int64(3), object(2)\n",
      "memory usage: 299.7+ KB\n"
     ]
    }
   ],
   "source": [
    "demographics.info()"
   ]
  },
  {
   "cell_type": "code",
   "execution_count": 178,
   "metadata": {},
   "outputs": [
    {
     "data": {
      "text/html": [
       "<div>\n",
       "<style scoped>\n",
       "    .dataframe tbody tr th:only-of-type {\n",
       "        vertical-align: middle;\n",
       "    }\n",
       "\n",
       "    .dataframe tbody tr th {\n",
       "        vertical-align: top;\n",
       "    }\n",
       "\n",
       "    .dataframe thead th {\n",
       "        text-align: right;\n",
       "    }\n",
       "</style>\n",
       "<table border=\"1\" class=\"dataframe\">\n",
       "  <thead>\n",
       "    <tr style=\"text-align: right;\">\n",
       "      <th></th>\n",
       "      <th>fips</th>\n",
       "      <th>Population</th>\n",
       "      <th>Black</th>\n",
       "      <th>Latino</th>\n",
       "      <th>White</th>\n",
       "      <th>HighSchool</th>\n",
       "      <th>Bachelors</th>\n",
       "      <th>Income</th>\n",
       "      <th>Kurang Mampu</th>\n",
       "      <th>Density</th>\n",
       "    </tr>\n",
       "  </thead>\n",
       "  <tbody>\n",
       "    <tr>\n",
       "      <td>fips</td>\n",
       "      <td>1.000000</td>\n",
       "      <td>-0.040868</td>\n",
       "      <td>-0.130025</td>\n",
       "      <td>0.090806</td>\n",
       "      <td>0.051142</td>\n",
       "      <td>0.003000</td>\n",
       "      <td>0.030304</td>\n",
       "      <td>0.050837</td>\n",
       "      <td>-0.090031</td>\n",
       "      <td>0.021554</td>\n",
       "    </tr>\n",
       "    <tr>\n",
       "      <td>Population</td>\n",
       "      <td>-0.040868</td>\n",
       "      <td>1.000000</td>\n",
       "      <td>0.014250</td>\n",
       "      <td>0.032220</td>\n",
       "      <td>-0.038777</td>\n",
       "      <td>0.010281</td>\n",
       "      <td>0.052424</td>\n",
       "      <td>0.035191</td>\n",
       "      <td>-0.010213</td>\n",
       "      <td>0.016856</td>\n",
       "    </tr>\n",
       "    <tr>\n",
       "      <td>Black</td>\n",
       "      <td>-0.130025</td>\n",
       "      <td>0.014250</td>\n",
       "      <td>1.000000</td>\n",
       "      <td>-0.092618</td>\n",
       "      <td>-0.609672</td>\n",
       "      <td>-0.355830</td>\n",
       "      <td>-0.080003</td>\n",
       "      <td>-0.235524</td>\n",
       "      <td>0.454189</td>\n",
       "      <td>0.109215</td>\n",
       "    </tr>\n",
       "    <tr>\n",
       "      <td>Latino</td>\n",
       "      <td>0.090806</td>\n",
       "      <td>0.032220</td>\n",
       "      <td>-0.092618</td>\n",
       "      <td>1.000000</td>\n",
       "      <td>-0.598944</td>\n",
       "      <td>-0.381478</td>\n",
       "      <td>0.016404</td>\n",
       "      <td>0.048062</td>\n",
       "      <td>0.105127</td>\n",
       "      <td>0.081583</td>\n",
       "    </tr>\n",
       "    <tr>\n",
       "      <td>White</td>\n",
       "      <td>0.051142</td>\n",
       "      <td>-0.038777</td>\n",
       "      <td>-0.609672</td>\n",
       "      <td>-0.598944</td>\n",
       "      <td>1.000000</td>\n",
       "      <td>0.473949</td>\n",
       "      <td>-0.006880</td>\n",
       "      <td>0.085314</td>\n",
       "      <td>-0.451189</td>\n",
       "      <td>-0.154303</td>\n",
       "    </tr>\n",
       "  </tbody>\n",
       "</table>\n",
       "</div>"
      ],
      "text/plain": [
       "                fips  Population     Black    Latino     White  HighSchool  \\\n",
       "fips        1.000000   -0.040868 -0.130025  0.090806  0.051142    0.003000   \n",
       "Population -0.040868    1.000000  0.014250  0.032220 -0.038777    0.010281   \n",
       "Black      -0.130025    0.014250  1.000000 -0.092618 -0.609672   -0.355830   \n",
       "Latino      0.090806    0.032220 -0.092618  1.000000 -0.598944   -0.381478   \n",
       "White       0.051142   -0.038777 -0.609672 -0.598944  1.000000    0.473949   \n",
       "\n",
       "            Bachelors    Income  Kurang Mampu   Density  \n",
       "fips         0.030304  0.050837     -0.090031  0.021554  \n",
       "Population   0.052424  0.035191     -0.010213  0.016856  \n",
       "Black       -0.080003 -0.235524      0.454189  0.109215  \n",
       "Latino       0.016404  0.048062      0.105127  0.081583  \n",
       "White       -0.006880  0.085314     -0.451189 -0.154303  "
      ]
     },
     "execution_count": 178,
     "metadata": {},
     "output_type": "execute_result"
    }
   ],
   "source": [
    "demographics.corr().head()"
   ]
  },
  {
   "cell_type": "code",
   "execution_count": 179,
   "metadata": {},
   "outputs": [],
   "source": [
    "# Data = pd.merge(Dem, demographics, how=\"inner\", left_on = 'county',right_on = 'area_name')\n",
    "# Data.head()\n",
    "# Data[:2]\n",
    "# for col in Data.columns: \n",
    "#     print(col) "
   ]
  },
  {
   "cell_type": "code",
   "execution_count": 199,
   "metadata": {},
   "outputs": [],
   "source": [
    "df = pd.DataFrame(demographics, columns = ['Black', 'Latino','White', 'HighSchool',\n",
    "                                           'Bachelors','Income','Density'] ) "
   ]
  },
  {
   "cell_type": "code",
   "execution_count": 200,
   "metadata": {},
   "outputs": [
    {
     "name": "stdout",
     "output_type": "stream",
     "text": [
      "Black\n",
      "Latino\n",
      "White\n",
      "HighSchool\n",
      "Bachelors\n",
      "Income\n",
      "Density\n"
     ]
    }
   ],
   "source": [
    "for col in df.columns:\n",
    "    print(col)"
   ]
  },
  {
   "cell_type": "code",
   "execution_count": 201,
   "metadata": {},
   "outputs": [
    {
     "name": "stdout",
     "output_type": "stream",
     "text": [
      "18.3 39.4\n",
      "0      22.6\n",
      "1      22.6\n",
      "2      22.6\n",
      "3      22.6\n",
      "4      22.6\n",
      "       ... \n",
      "501    24.7\n",
      "502    24.7\n",
      "503    24.7\n",
      "504    24.7\n",
      "505    24.7\n",
      "Name: Bachelors, Length: 506, dtype: float64\n"
     ]
    },
    {
     "data": {
      "text/plain": [
       "<matplotlib.axes._subplots.AxesSubplot at 0x189b2647188>"
      ]
     },
     "execution_count": 201,
     "metadata": {},
     "output_type": "execute_result"
    },
    {
     "data": {
      "image/png": "[encoded data removed]",
      "text/plain": [
       "<Figure size 1152x288 with 1 Axes>"
      ]
     },
     "metadata": {},
     "output_type": "display_data"
    }
   ],
   "source": [
    "col = u'Bachelors'\n",
    "print(allData[col].min(), allData[col].max())\n",
    "print (allData[col])\n",
    "df[col].hist(figsize=[16,4])"
   ]
  },
  {
   "cell_type": "code",
   "execution_count": 202,
   "metadata": {},
   "outputs": [
    {
     "data": {
      "image/png": "[encoded data removed]",
      "text/plain": [
       "<Figure size 576x396 with 9 Axes>"
      ]
     },
     "metadata": {},
     "output_type": "display_data"
    },
    {
     "data": {
      "text/plain": [
       "<Figure size 1080x720 with 0 Axes>"
      ]
     },
     "metadata": {},
     "output_type": "display_data"
    }
   ],
   "source": [
    "df.hist() \n",
    "plt.figure(figsize=(15,10)) \n",
    "plt.show()"
   ]
  },
  {
   "cell_type": "code",
   "execution_count": 203,
   "metadata": {},
   "outputs": [
    {
     "data": {
      "text/plain": [
       "3195"
      ]
     },
     "execution_count": 203,
     "metadata": {},
     "output_type": "execute_result"
    }
   ],
   "source": [
    "len(df)"
   ]
  },
  {
   "cell_type": "code",
   "execution_count": 204,
   "metadata": {
    "scrolled": true
   },
   "outputs": [
    {
     "data": {
      "text/plain": [
       "<Figure size 1080x720 with 0 Axes>"
      ]
     },
     "metadata": {},
     "output_type": "display_data"
    },
    {
     "data": {
      "image/png": "[encoded data removed]",
      "text/plain": [
       "<Figure size 576x396 with 1 Axes>"
      ]
     },
     "metadata": {},
     "output_type": "display_data"
    }
   ],
   "source": [
    "plt.figure(figsize=(15,10)) \n",
    "df.plot.box() \n",
    "# plt.subplot(121)\n",
    "# plt.boxplot(df['Population']) \n",
    "# plt.subplot(122)\n",
    "# plt.boxplot(df['Black'])\n",
    "# plt.subplot(221)\n",
    "# plt.boxplot(df['Latino']) \n",
    "# plt.subplot(222)\n",
    "# plt.boxplot(df['Bachelors']) \n",
    "plt.show() "
   ]
  },
  {
   "cell_type": "code",
   "execution_count": 11,
   "metadata": {},
   "outputs": [],
   "source": [
    "# df.plot.bar() \n",
    "# plt.bar(df['White'], df['Black']) \n",
    "# plt.xlabel(\"White\") \n",
    "# plt.ylabel(\"Black\") \n",
    "# plt.show()"
   ]
  },
  {
   "cell_type": "markdown",
   "metadata": {},
   "source": [
    "### Republican"
   ]
  },
  {
   "cell_type": "code",
   "execution_count": 205,
   "metadata": {},
   "outputs": [
    {
     "data": {
      "text/plain": [
       "array(['Ben Carson', 'Donald Trump', 'John Kasich', 'Marco Rubio',\n",
       "       'Ted Cruz', 'Carly Fiorina', 'Chris Christie', 'Jeb Bush',\n",
       "       'Mike Huckabee', 'Rand Paul', 'Rick Santorum'], dtype=object)"
      ]
     },
     "execution_count": 205,
     "metadata": {},
     "output_type": "execute_result"
    }
   ],
   "source": [
    "#Reading Results CSV File\n",
    "results=pd.read_csv('primary_results.csv')\n",
    "results = results[results.party == \"Republican\"]\n",
    "# results = results[(results.state != \"Maine\") & (results.state != \"Massachusetts\") & (results.state != \"Vermont\") & (results.state != \"Illinois\") ]\n",
    "# results = results[(results.candidate != 'No Preference') & (results.candidate != ' Uncommitted')]\n",
    "# results = results[(results.candidate == \"Donald Trump\") |(results.candidate != \"Donald Trump\") ]\n",
    "Rep = results\n",
    "Rep.head()\n",
    "Rep.candidate.unique()\n"
   ]
  },
  {
   "cell_type": "code",
   "execution_count": 314,
   "metadata": {},
   "outputs": [
    {
     "data": {
      "application/vnd.plotly.v1+json": {
       "config": {
        "plotlyServerURL": "https://plot.ly"
       },
       "data": [
        {
         "alignmentgroup": "True",
         "hoverlabel": {
          "namelength": 0
         },
         "hovertemplate": "candidate=Ben Carson<br>party=%{x}<br>votes=%{y}",
         "legendgroup": "candidate=Ben Carson",
         "marker": {
          "color": "#636efa"
         },
         "name": "candidate=Ben Carson",
         "offsetgroup": "candidate=Ben Carson",
         "orientation": "v",
         "showlegend": true,
         "textposition": "auto",
         "type": "bar",
         "x": [
          "Republican",
          "Republican",
          "Republican",
          "Republican",
          "Republican",
          "Republican",
          "Republican",
          "Republican",
          "Republican",
          "Republican",
          "Republican",
          "Republican",
          "Republican",
          "Republican",
          "Republican",
          "Republican",
          "Republican",
          "Republican",
          "Republican",
          "Republican",
          "Republican",
          "Republican",
          "Republican",
          "Republican",
          "Republican",
          "Republican",
          "Republican",
          "Republican",
          "Republican",
          "Republican",
          "Republican",
          "Republican",
          "Republican",
          "Republican",
          "Republican",
          "Republican",
          "Republican",
          "Republican",
          "Republican",
          "Republican",
          "Republican",
          "Republican",
          "Republican",
          "Republican",
          "Republican",
          "Republican"
         ],
         "xaxis": "x",
         "y": [
          87517,
          2401,
          0,
          23173,
          0,
          0,
          0,
          0,
          80503,
          0,
          0,
          0,
          0,
          17393,
          0,
          0,
          0,
          0,
          16277,
          0,
          0,
          0,
          0,
          0,
          3619,
          6509,
          0,
          0,
          0,
          0,
          0,
          28572,
          0,
          0,
          0,
          53326,
          0,
          64846,
          117780,
          0,
          2544,
          60093,
          0,
          0,
          0,
          0
         ],
         "yaxis": "y"
        },
        {
         "alignmentgroup": "True",
         "hoverlabel": {
          "namelength": 0
         },
         "hovertemplate": "candidate=Donald Trump<br>party=%{x}<br>votes=%{y}",
         "legendgroup": "candidate=Donald Trump",
         "marker": {
          "color": "#EF553B"
         },
         "name": "candidate=Donald Trump",
         "offsetgroup": "candidate=Donald Trump",
         "orientation": "v",
         "showlegend": true,
         "textposition": "auto",
         "type": "bar",
         "x": [
          "Republican",
          "Republican",
          "Republican",
          "Republican",
          "Republican",
          "Republican",
          "Republican",
          "Republican",
          "Republican",
          "Republican",
          "Republican",
          "Republican",
          "Republican",
          "Republican",
          "Republican",
          "Republican",
          "Republican",
          "Republican",
          "Republican",
          "Republican",
          "Republican",
          "Republican",
          "Republican",
          "Republican",
          "Republican",
          "Republican",
          "Republican",
          "Republican",
          "Republican",
          "Republican",
          "Republican",
          "Republican",
          "Republican",
          "Republican",
          "Republican",
          "Republican",
          "Republican",
          "Republican",
          "Republican",
          "Republican",
          "Republican",
          "Republican",
          "Republican",
          "Republican",
          "Republican",
          "Republican"
         ],
         "xaxis": "x",
         "y": [
          371735,
          7346,
          249916,
          133144,
          1174829,
          123367,
          42472,
          1077221,
          501707,
          5677,
          62478,
          551464,
          590460,
          45419,
          17062,
          82493,
          124818,
          236623,
          311313,
          483751,
          191755,
          382093,
          114056,
          121287,
          34531,
          100406,
          356697,
          73530,
          524932,
          458151,
          727585,
          130141,
          240804,
          892702,
          39059,
          239851,
          44866,
          332702,
          757618,
          24864,
          19968,
          355960,
          403003,
          156245,
          386370,
          70
         ],
         "yaxis": "y"
        },
        {
         "alignmentgroup": "True",
         "hoverlabel": {
          "namelength": 0
         },
         "hovertemplate": "candidate=John Kasich<br>party=%{x}<br>votes=%{y}",
         "legendgroup": "candidate=John Kasich",
         "marker": {
          "color": "#00cc96"
         },
         "name": "candidate=John Kasich",
         "offsetgroup": "candidate=John Kasich",
         "orientation": "v",
         "showlegend": true,
         "textposition": "auto",
         "type": "bar",
         "x": [
          "Republican",
          "Republican",
          "Republican",
          "Republican",
          "Republican",
          "Republican",
          "Republican",
          "Republican",
          "Republican",
          "Republican",
          "Republican",
          "Republican",
          "Republican",
          "Republican",
          "Republican",
          "Republican",
          "Republican",
          "Republican",
          "Republican",
          "Republican",
          "Republican",
          "Republican",
          "Republican",
          "Republican",
          "Republican",
          "Republican",
          "Republican",
          "Republican",
          "Republican",
          "Republican",
          "Republican",
          "Republican",
          "Republican",
          "Republican",
          "Republican",
          "Republican",
          "Republican",
          "Republican",
          "Republican",
          "Republican",
          "Republican",
          "Republican",
          "Republican",
          "Republican",
          "Republican",
          "Republican"
         ],
         "xaxis": "x",
         "y": [
          37970,
          892,
          53040,
          15098,
          176620,
          60481,
          14225,
          159412,
          72303,
          1413,
          16517,
          279778,
          83913,
          3472,
          7795,
          33134,
          19355,
          100089,
          113783,
          321655,
          35817,
          92533,
          10622,
          22526,
          2709,
          44909,
          59506,
          7870,
          217904,
          144299,
          956762,
          16515,
          59096,
          304793,
          14929,
          56206,
          10659,
          45243,
          120257,
          29773,
          18543,
          96519,
          52129,
          13685,
          155200,
          0
         ],
         "yaxis": "y"
        },
        {
         "alignmentgroup": "True",
         "hoverlabel": {
          "namelength": 0
         },
         "hovertemplate": "candidate=Marco Rubio<br>party=%{x}<br>votes=%{y}",
         "legendgroup": "candidate=Marco Rubio",
         "marker": {
          "color": "#ab63fa"
         },
         "name": "candidate=Marco Rubio",
         "offsetgroup": "candidate=Marco Rubio",
         "orientation": "v",
         "showlegend": true,
         "textposition": "auto",
         "type": "bar",
         "x": [
          "Republican",
          "Republican",
          "Republican",
          "Republican",
          "Republican",
          "Republican",
          "Republican",
          "Republican",
          "Republican",
          "Republican",
          "Republican",
          "Republican",
          "Republican",
          "Republican",
          "Republican",
          "Republican",
          "Republican",
          "Republican",
          "Republican",
          "Republican",
          "Republican",
          "Republican",
          "Republican",
          "Republican",
          "Republican",
          "Republican",
          "Republican",
          "Republican",
          "Republican",
          "Republican",
          "Republican",
          "Republican",
          "Republican",
          "Republican",
          "Republican",
          "Republican",
          "Republican",
          "Republican",
          "Republican",
          "Republican",
          "Republican",
          "Republican",
          "Republican",
          "Republican",
          "Republican",
          "Republican"
         ],
         "xaxis": "x",
         "y": [
          159802,
          3318,
          0,
          101235,
          0,
          0,
          0,
          636653,
          315979,
          1759,
          35347,
          123066,
          0,
          43164,
          12189,
          37579,
          33804,
          0,
          112822,
          123673,
          20768,
          57006,
          0,
          0,
          17940,
          30032,
          0,
          0,
          0,
          87858,
          59418,
          119562,
          0,
          0,
          0,
          165881,
          0,
          180989,
          502223,
          0,
          11778,
          327042,
          0,
          0,
          0,
          189
         ],
         "yaxis": "y"
        },
        {
         "alignmentgroup": "True",
         "hoverlabel": {
          "namelength": 0
         },
         "hovertemplate": "candidate=Ted Cruz<br>party=%{x}<br>votes=%{y}",
         "legendgroup": "candidate=Ted Cruz",
         "marker": {
          "color": "#FFA15A"
         },
         "name": "candidate=Ted Cruz",
         "offsetgroup": "candidate=Ted Cruz",
         "orientation": "v",
         "showlegend": true,
         "textposition": "auto",
         "type": "bar",
         "x": [
          "Republican",
          "Republican",
          "Republican",
          "Republican",
          "Republican",
          "Republican",
          "Republican",
          "Republican",
          "Republican",
          "Republican",
          "Republican",
          "Republican",
          "Republican",
          "Republican",
          "Republican",
          "Republican",
          "Republican",
          "Republican",
          "Republican",
          "Republican",
          "Republican",
          "Republican",
          "Republican",
          "Republican",
          "Republican",
          "Republican",
          "Republican",
          "Republican",
          "Republican",
          "Republican",
          "Republican",
          "Republican",
          "Republican",
          "Republican",
          "Republican",
          "Republican",
          "Republican",
          "Republican",
          "Republican",
          "Republican",
          "Republican",
          "Republican",
          "Republican",
          "Republican",
          "Republican",
          "Republican"
         ],
         "xaxis": "x",
         "y": [
          180608,
          7973,
          132147,
          123873,
          144125,
          24969,
          11110,
          403640,
          305109,
          4379,
          100942,
          430395,
          406280,
          51663,
          35207,
          72503,
          113949,
          82038,
          60473,
          330015,
          147065,
          380367,
          14476,
          36418,
          16079,
          33189,
          27521,
          13825,
          126151,
          418740,
          267592,
          157941,
          61590,
          340201,
          6393,
          164790,
          11352,
          211159,
          1239370,
          122567,
          5929,
          173193,
          55719,
          18208,
          531129,
          644
         ],
         "yaxis": "y"
        },
        {
         "alignmentgroup": "True",
         "hoverlabel": {
          "namelength": 0
         },
         "hovertemplate": "candidate=Carly Fiorina<br>party=%{x}<br>votes=%{y}",
         "legendgroup": "candidate=Carly Fiorina",
         "marker": {
          "color": "#19d3f3"
         },
         "name": "candidate=Carly Fiorina",
         "offsetgroup": "candidate=Carly Fiorina",
         "orientation": "v",
         "showlegend": true,
         "textposition": "auto",
         "type": "bar",
         "x": [
          "Republican",
          "Republican",
          "Republican",
          "Republican",
          "Republican",
          "Republican",
          "Republican",
          "Republican",
          "Republican",
          "Republican",
          "Republican",
          "Republican",
          "Republican",
          "Republican",
          "Republican",
          "Republican",
          "Republican",
          "Republican",
          "Republican",
          "Republican",
          "Republican",
          "Republican",
          "Republican",
          "Republican",
          "Republican",
          "Republican",
          "Republican",
          "Republican",
          "Republican",
          "Republican",
          "Republican",
          "Republican",
          "Republican",
          "Republican",
          "Republican",
          "Republican",
          "Republican",
          "Republican",
          "Republican",
          "Republican",
          "Republican",
          "Republican",
          "Republican",
          "Republican",
          "Republican",
          "Republican"
         ],
         "xaxis": "x",
         "y": [
          0,
          0,
          0,
          0,
          0,
          0,
          0,
          0,
          0,
          0,
          0,
          0,
          0,
          3485,
          0,
          0,
          0,
          0,
          0,
          0,
          0,
          0,
          0,
          0,
          0,
          11706,
          0,
          0,
          0,
          0,
          0,
          0,
          0,
          0,
          0,
          0,
          0,
          0,
          0,
          0,
          0,
          0,
          0,
          0,
          0,
          0
         ],
         "yaxis": "y"
        },
        {
         "alignmentgroup": "True",
         "hoverlabel": {
          "namelength": 0
         },
         "hovertemplate": "candidate=Chris Christie<br>party=%{x}<br>votes=%{y}",
         "legendgroup": "candidate=Chris Christie",
         "marker": {
          "color": "#FF6692"
         },
         "name": "candidate=Chris Christie",
         "offsetgroup": "candidate=Chris Christie",
         "orientation": "v",
         "showlegend": true,
         "textposition": "auto",
         "type": "bar",
         "x": [
          "Republican",
          "Republican",
          "Republican",
          "Republican",
          "Republican",
          "Republican",
          "Republican",
          "Republican",
          "Republican",
          "Republican",
          "Republican",
          "Republican",
          "Republican",
          "Republican",
          "Republican",
          "Republican",
          "Republican",
          "Republican",
          "Republican",
          "Republican",
          "Republican",
          "Republican",
          "Republican",
          "Republican",
          "Republican",
          "Republican",
          "Republican",
          "Republican",
          "Republican",
          "Republican",
          "Republican",
          "Republican",
          "Republican",
          "Republican",
          "Republican",
          "Republican",
          "Republican",
          "Republican",
          "Republican",
          "Republican",
          "Republican",
          "Republican",
          "Republican",
          "Republican",
          "Republican",
          "Republican"
         ],
         "xaxis": "x",
         "y": [
          0,
          0,
          0,
          0,
          0,
          0,
          0,
          0,
          0,
          0,
          0,
          0,
          0,
          3284,
          0,
          0,
          0,
          0,
          0,
          0,
          0,
          0,
          0,
          0,
          0,
          21069,
          0,
          0,
          0,
          0,
          0,
          0,
          0,
          0,
          0,
          0,
          0,
          0,
          0,
          0,
          0,
          0,
          0,
          0,
          0,
          0
         ],
         "yaxis": "y"
        },
        {
         "alignmentgroup": "True",
         "hoverlabel": {
          "namelength": 0
         },
         "hovertemplate": "candidate=Jeb Bush<br>party=%{x}<br>votes=%{y}",
         "legendgroup": "candidate=Jeb Bush",
         "marker": {
          "color": "#B6E880"
         },
         "name": "candidate=Jeb Bush",
         "offsetgroup": "candidate=Jeb Bush",
         "orientation": "v",
         "showlegend": true,
         "textposition": "auto",
         "type": "bar",
         "x": [
          "Republican",
          "Republican",
          "Republican",
          "Republican",
          "Republican",
          "Republican",
          "Republican",
          "Republican",
          "Republican",
          "Republican",
          "Republican",
          "Republican",
          "Republican",
          "Republican",
          "Republican",
          "Republican",
          "Republican",
          "Republican",
          "Republican",
          "Republican",
          "Republican",
          "Republican",
          "Republican",
          "Republican",
          "Republican",
          "Republican",
          "Republican",
          "Republican",
          "Republican",
          "Republican",
          "Republican",
          "Republican",
          "Republican",
          "Republican",
          "Republican",
          "Republican",
          "Republican",
          "Republican",
          "Republican",
          "Republican",
          "Republican",
          "Republican",
          "Republican",
          "Republican",
          "Republican",
          "Republican"
         ],
         "xaxis": "x",
         "y": [
          0,
          0,
          0,
          0,
          0,
          0,
          0,
          0,
          0,
          0,
          0,
          0,
          0,
          5238,
          0,
          0,
          0,
          0,
          0,
          0,
          0,
          0,
          0,
          0,
          0,
          31310,
          0,
          0,
          0,
          0,
          0,
          0,
          0,
          0,
          0,
          57863,
          0,
          0,
          0,
          0,
          0,
          0,
          0,
          0,
          0,
          0
         ],
         "yaxis": "y"
        },
        {
         "alignmentgroup": "True",
         "hoverlabel": {
          "namelength": 0
         },
         "hovertemplate": "candidate=Mike Huckabee<br>party=%{x}<br>votes=%{y}",
         "legendgroup": "candidate=Mike Huckabee",
         "marker": {
          "color": "#FF97FF"
         },
         "name": "candidate=Mike Huckabee",
         "offsetgroup": "candidate=Mike Huckabee",
         "orientation": "v",
         "showlegend": true,
         "textposition": "auto",
         "type": "bar",
         "x": [
          "Republican",
          "Republican",
          "Republican",
          "Republican",
          "Republican",
          "Republican",
          "Republican",
          "Republican",
          "Republican",
          "Republican",
          "Republican",
          "Republican",
          "Republican",
          "Republican",
          "Republican",
          "Republican",
          "Republican",
          "Republican",
          "Republican",
          "Republican",
          "Republican",
          "Republican",
          "Republican",
          "Republican",
          "Republican",
          "Republican",
          "Republican",
          "Republican",
          "Republican",
          "Republican",
          "Republican",
          "Republican",
          "Republican",
          "Republican",
          "Republican",
          "Republican",
          "Republican",
          "Republican",
          "Republican",
          "Republican",
          "Republican",
          "Republican",
          "Republican",
          "Republican",
          "Republican",
          "Republican"
         ],
         "xaxis": "x",
         "y": [
          0,
          0,
          0,
          0,
          0,
          0,
          0,
          0,
          0,
          0,
          0,
          0,
          0,
          3345,
          0,
          0,
          0,
          0,
          0,
          0,
          0,
          0,
          0,
          0,
          0,
          0,
          0,
          0,
          0,
          0,
          0,
          0,
          0,
          0,
          0,
          0,
          0,
          0,
          0,
          0,
          0,
          0,
          0,
          0,
          0,
          0
         ],
         "yaxis": "y"
        },
        {
         "alignmentgroup": "True",
         "hoverlabel": {
          "namelength": 0
         },
         "hovertemplate": "candidate=Rand Paul<br>party=%{x}<br>votes=%{y}",
         "legendgroup": "candidate=Rand Paul",
         "marker": {
          "color": "#FECB52"
         },
         "name": "candidate=Rand Paul",
         "offsetgroup": "candidate=Rand Paul",
         "orientation": "v",
         "showlegend": true,
         "textposition": "auto",
         "type": "bar",
         "x": [
          "Republican",
          "Republican",
          "Republican",
          "Republican",
          "Republican",
          "Republican",
          "Republican",
          "Republican",
          "Republican",
          "Republican",
          "Republican",
          "Republican",
          "Republican",
          "Republican",
          "Republican",
          "Republican",
          "Republican",
          "Republican",
          "Republican",
          "Republican",
          "Republican",
          "Republican",
          "Republican",
          "Republican",
          "Republican",
          "Republican",
          "Republican",
          "Republican",
          "Republican",
          "Republican",
          "Republican",
          "Republican",
          "Republican",
          "Republican",
          "Republican",
          "Republican",
          "Republican",
          "Republican",
          "Republican",
          "Republican",
          "Republican",
          "Republican",
          "Republican",
          "Republican",
          "Republican",
          "Republican"
         ],
         "xaxis": "x",
         "y": [
          0,
          0,
          0,
          0,
          0,
          0,
          0,
          0,
          0,
          0,
          0,
          0,
          0,
          8479,
          0,
          0,
          0,
          0,
          0,
          0,
          0,
          0,
          0,
          0,
          0,
          0,
          0,
          0,
          0,
          0,
          0,
          0,
          0,
          0,
          0,
          0,
          0,
          0,
          0,
          0,
          0,
          0,
          0,
          0,
          0,
          0
         ],
         "yaxis": "y"
        },
        {
         "alignmentgroup": "True",
         "hoverlabel": {
          "namelength": 0
         },
         "hovertemplate": "candidate=Rick Santorum<br>party=%{x}<br>votes=%{y}",
         "legendgroup": "candidate=Rick Santorum",
         "marker": {
          "color": "#636efa"
         },
         "name": "candidate=Rick Santorum",
         "offsetgroup": "candidate=Rick Santorum",
         "orientation": "v",
         "showlegend": true,
         "textposition": "auto",
         "type": "bar",
         "x": [
          "Republican",
          "Republican",
          "Republican",
          "Republican",
          "Republican",
          "Republican",
          "Republican",
          "Republican",
          "Republican",
          "Republican",
          "Republican",
          "Republican",
          "Republican",
          "Republican",
          "Republican",
          "Republican",
          "Republican",
          "Republican",
          "Republican",
          "Republican",
          "Republican",
          "Republican",
          "Republican",
          "Republican",
          "Republican",
          "Republican",
          "Republican",
          "Republican",
          "Republican",
          "Republican",
          "Republican",
          "Republican",
          "Republican",
          "Republican",
          "Republican",
          "Republican",
          "Republican",
          "Republican",
          "Republican",
          "Republican",
          "Republican",
          "Republican",
          "Republican",
          "Republican",
          "Republican",
          "Republican"
         ],
         "xaxis": "x",
         "y": [
          0,
          0,
          0,
          0,
          0,
          0,
          0,
          0,
          0,
          0,
          0,
          0,
          0,
          1782,
          0,
          0,
          0,
          0,
          0,
          0,
          0,
          0,
          0,
          0,
          0,
          0,
          0,
          0,
          0,
          0,
          0,
          0,
          0,
          0,
          0,
          0,
          0,
          0,
          0,
          0,
          0,
          0,
          0,
          0,
          0,
          0
         ],
         "yaxis": "y"
        }
       ],
       "layout": {
        "barmode": "group",
        "legend": {
         "tracegroupgap": 0
        },
        "margin": {
         "t": 60
        },
        "template": {
         "data": {
          "bar": [
           {
            "error_x": {
             "color": "#2a3f5f"
            },
            "error_y": {
             "color": "#2a3f5f"
            },
            "marker": {
             "line": {
              "color": "#E5ECF6",
              "width": 0.5
             }
            },
            "type": "bar"
           }
          ],
          "barpolar": [
           {
            "marker": {
             "line": {
              "color": "#E5ECF6",
              "width": 0.5
             }
            },
            "type": "barpolar"
           }
          ],
          "carpet": [
           {
            "aaxis": {
             "endlinecolor": "#2a3f5f",
             "gridcolor": "white",
             "linecolor": "white",
             "minorgridcolor": "white",
             "startlinecolor": "#2a3f5f"
            },
            "baxis": {
             "endlinecolor": "#2a3f5f",
             "gridcolor": "white",
             "linecolor": "white",
             "minorgridcolor": "white",
             "startlinecolor": "#2a3f5f"
            },
            "type": "carpet"
           }
          ],
          "choropleth": [
           {
            "colorbar": {
             "outlinewidth": 0,
             "ticks": ""
            },
            "type": "choropleth"
           }
          ],
          "contour": [
           {
            "colorbar": {
             "outlinewidth": 0,
             "ticks": ""
            },
            "colorscale": [
             [
              0,
              "#0d0887"
             ],
             [
              0.1111111111111111,
              "#46039f"
             ],
             [
              0.2222222222222222,
              "#7201a8"
             ],
             [
              0.3333333333333333,
              "#9c179e"
             ],
             [
              0.4444444444444444,
              "#bd3786"
             ],
             [
              0.5555555555555556,
              "#d8576b"
             ],
             [
              0.6666666666666666,
              "#ed7953"
             ],
             [
              0.7777777777777778,
              "#fb9f3a"
             ],
             [
              0.8888888888888888,
              "#fdca26"
             ],
             [
              1,
              "#f0f921"
             ]
            ],
            "type": "contour"
           }
          ],
          "contourcarpet": [
           {
            "colorbar": {
             "outlinewidth": 0,
             "ticks": ""
            },
            "type": "contourcarpet"
           }
          ],
          "heatmap": [
           {
            "colorbar": {
             "outlinewidth": 0,
             "ticks": ""
            },
            "colorscale": [
             [
              0,
              "#0d0887"
             ],
             [
              0.1111111111111111,
              "#46039f"
             ],
             [
              0.2222222222222222,
              "#7201a8"
             ],
             [
              0.3333333333333333,
              "#9c179e"
             ],
             [
              0.4444444444444444,
              "#bd3786"
             ],
             [
              0.5555555555555556,
              "#d8576b"
             ],
             [
              0.6666666666666666,
              "#ed7953"
             ],
             [
              0.7777777777777778,
              "#fb9f3a"
             ],
             [
              0.8888888888888888,
              "#fdca26"
             ],
             [
              1,
              "#f0f921"
             ]
            ],
            "type": "heatmap"
           }
          ],
          "heatmapgl": [
           {
            "colorbar": {
             "outlinewidth": 0,
             "ticks": ""
            },
            "colorscale": [
             [
              0,
              "#0d0887"
             ],
             [
              0.1111111111111111,
              "#46039f"
             ],
             [
              0.2222222222222222,
              "#7201a8"
             ],
             [
              0.3333333333333333,
              "#9c179e"
             ],
             [
              0.4444444444444444,
              "#bd3786"
             ],
             [
              0.5555555555555556,
              "#d8576b"
             ],
             [
              0.6666666666666666,
              "#ed7953"
             ],
             [
              0.7777777777777778,
              "#fb9f3a"
             ],
             [
              0.8888888888888888,
              "#fdca26"
             ],
             [
              1,
              "#f0f921"
             ]
            ],
            "type": "heatmapgl"
           }
          ],
          "histogram": [
           {
            "marker": {
             "colorbar": {
              "outlinewidth": 0,
              "ticks": ""
             }
            },
            "type": "histogram"
           }
          ],
          "histogram2d": [
           {
            "colorbar": {
             "outlinewidth": 0,
             "ticks": ""
            },
            "colorscale": [
             [
              0,
              "#0d0887"
             ],
             [
              0.1111111111111111,
              "#46039f"
             ],
             [
              0.2222222222222222,
              "#7201a8"
             ],
             [
              0.3333333333333333,
              "#9c179e"
             ],
             [
              0.4444444444444444,
              "#bd3786"
             ],
             [
              0.5555555555555556,
              "#d8576b"
             ],
             [
              0.6666666666666666,
              "#ed7953"
             ],
             [
              0.7777777777777778,
              "#fb9f3a"
             ],
             [
              0.8888888888888888,
              "#fdca26"
             ],
             [
              1,
              "#f0f921"
             ]
            ],
            "type": "histogram2d"
           }
          ],
          "histogram2dcontour": [
           {
            "colorbar": {
             "outlinewidth": 0,
             "ticks": ""
            },
            "colorscale": [
             [
              0,
              "#0d0887"
             ],
             [
              0.1111111111111111,
              "#46039f"
             ],
             [
              0.2222222222222222,
              "#7201a8"
             ],
             [
              0.3333333333333333,
              "#9c179e"
             ],
             [
              0.4444444444444444,
              "#bd3786"
             ],
             [
              0.5555555555555556,
              "#d8576b"
             ],
             [
              0.6666666666666666,
              "#ed7953"
             ],
             [
              0.7777777777777778,
              "#fb9f3a"
             ],
             [
              0.8888888888888888,
              "#fdca26"
             ],
             [
              1,
              "#f0f921"
             ]
            ],
            "type": "histogram2dcontour"
           }
          ],
          "mesh3d": [
           {
            "colorbar": {
             "outlinewidth": 0,
             "ticks": ""
            },
            "type": "mesh3d"
           }
          ],
          "parcoords": [
           {
            "line": {
             "colorbar": {
              "outlinewidth": 0,
              "ticks": ""
             }
            },
            "type": "parcoords"
           }
          ],
          "pie": [
           {
            "automargin": true,
            "type": "pie"
           }
          ],
          "scatter": [
           {
            "marker": {
             "colorbar": {
              "outlinewidth": 0,
              "ticks": ""
             }
            },
            "type": "scatter"
           }
          ],
          "scatter3d": [
           {
            "line": {
             "colorbar": {
              "outlinewidth": 0,
              "ticks": ""
             }
            },
            "marker": {
             "colorbar": {
              "outlinewidth": 0,
              "ticks": ""
             }
            },
            "type": "scatter3d"
           }
          ],
          "scattercarpet": [
           {
            "marker": {
             "colorbar": {
              "outlinewidth": 0,
              "ticks": ""
             }
            },
            "type": "scattercarpet"
           }
          ],
          "scattergeo": [
           {
            "marker": {
             "colorbar": {
              "outlinewidth": 0,
              "ticks": ""
             }
            },
            "type": "scattergeo"
           }
          ],
          "scattergl": [
           {
            "marker": {
             "colorbar": {
              "outlinewidth": 0,
              "ticks": ""
             }
            },
            "type": "scattergl"
           }
          ],
          "scattermapbox": [
           {
            "marker": {
             "colorbar": {
              "outlinewidth": 0,
              "ticks": ""
             }
            },
            "type": "scattermapbox"
           }
          ],
          "scatterpolar": [
           {
            "marker": {
             "colorbar": {
              "outlinewidth": 0,
              "ticks": ""
             }
            },
            "type": "scatterpolar"
           }
          ],
          "scatterpolargl": [
           {
            "marker": {
             "colorbar": {
              "outlinewidth": 0,
              "ticks": ""
             }
            },
            "type": "scatterpolargl"
           }
          ],
          "scatterternary": [
           {
            "marker": {
             "colorbar": {
              "outlinewidth": 0,
              "ticks": ""
             }
            },
            "type": "scatterternary"
           }
          ],
          "surface": [
           {
            "colorbar": {
             "outlinewidth": 0,
             "ticks": ""
            },
            "colorscale": [
             [
              0,
              "#0d0887"
             ],
             [
              0.1111111111111111,
              "#46039f"
             ],
             [
              0.2222222222222222,
              "#7201a8"
             ],
             [
              0.3333333333333333,
              "#9c179e"
             ],
             [
              0.4444444444444444,
              "#bd3786"
             ],
             [
              0.5555555555555556,
              "#d8576b"
             ],
             [
              0.6666666666666666,
              "#ed7953"
             ],
             [
              0.7777777777777778,
              "#fb9f3a"
             ],
             [
              0.8888888888888888,
              "#fdca26"
             ],
             [
              1,
              "#f0f921"
             ]
            ],
            "type": "surface"
           }
          ],
          "table": [
           {
            "cells": {
             "fill": {
              "color": "#EBF0F8"
             },
             "line": {
              "color": "white"
             }
            },
            "header": {
             "fill": {
              "color": "#C8D4E3"
             },
             "line": {
              "color": "white"
             }
            },
            "type": "table"
           }
          ]
         },
         "layout": {
          "annotationdefaults": {
           "arrowcolor": "#2a3f5f",
           "arrowhead": 0,
           "arrowwidth": 1
          },
          "coloraxis": {
           "colorbar": {
            "outlinewidth": 0,
            "ticks": ""
           }
          },
          "colorscale": {
           "diverging": [
            [
             0,
             "#8e0152"
            ],
            [
             0.1,
             "#c51b7d"
            ],
            [
             0.2,
             "#de77ae"
            ],
            [
             0.3,
             "#f1b6da"
            ],
            [
             0.4,
             "#fde0ef"
            ],
            [
             0.5,
             "#f7f7f7"
            ],
            [
             0.6,
             "#e6f5d0"
            ],
            [
             0.7,
             "#b8e186"
            ],
            [
             0.8,
             "#7fbc41"
            ],
            [
             0.9,
             "#4d9221"
            ],
            [
             1,
             "#276419"
            ]
           ],
           "sequential": [
            [
             0,
             "#0d0887"
            ],
            [
             0.1111111111111111,
             "#46039f"
            ],
            [
             0.2222222222222222,
             "#7201a8"
            ],
            [
             0.3333333333333333,
             "#9c179e"
            ],
            [
             0.4444444444444444,
             "#bd3786"
            ],
            [
             0.5555555555555556,
             "#d8576b"
            ],
            [
             0.6666666666666666,
             "#ed7953"
            ],
            [
             0.7777777777777778,
             "#fb9f3a"
            ],
            [
             0.8888888888888888,
             "#fdca26"
            ],
            [
             1,
             "#f0f921"
            ]
           ],
           "sequentialminus": [
            [
             0,
             "#0d0887"
            ],
            [
             0.1111111111111111,
             "#46039f"
            ],
            [
             0.2222222222222222,
             "#7201a8"
            ],
            [
             0.3333333333333333,
             "#9c179e"
            ],
            [
             0.4444444444444444,
             "#bd3786"
            ],
            [
             0.5555555555555556,
             "#d8576b"
            ],
            [
             0.6666666666666666,
             "#ed7953"
            ],
            [
             0.7777777777777778,
             "#fb9f3a"
            ],
            [
             0.8888888888888888,
             "#fdca26"
            ],
            [
             1,
             "#f0f921"
            ]
           ]
          },
          "colorway": [
           "#636efa",
           "#EF553B",
           "#00cc96",
           "#ab63fa",
           "#FFA15A",
           "#19d3f3",
           "#FF6692",
           "#B6E880",
           "#FF97FF",
           "#FECB52"
          ],
          "font": {
           "color": "#2a3f5f"
          },
          "geo": {
           "bgcolor": "white",
           "lakecolor": "white",
           "landcolor": "#E5ECF6",
           "showlakes": true,
           "showland": true,
           "subunitcolor": "white"
          },
          "hoverlabel": {
           "align": "left"
          },
          "hovermode": "closest",
          "mapbox": {
           "style": "light"
          },
          "paper_bgcolor": "white",
          "plot_bgcolor": "#E5ECF6",
          "polar": {
           "angularaxis": {
            "gridcolor": "white",
            "linecolor": "white",
            "ticks": ""
           },
           "bgcolor": "#E5ECF6",
           "radialaxis": {
            "gridcolor": "white",
            "linecolor": "white",
            "ticks": ""
           }
          },
          "scene": {
           "xaxis": {
            "backgroundcolor": "#E5ECF6",
            "gridcolor": "white",
            "gridwidth": 2,
            "linecolor": "white",
            "showbackground": true,
            "ticks": "",
            "zerolinecolor": "white"
           },
           "yaxis": {
            "backgroundcolor": "#E5ECF6",
            "gridcolor": "white",
            "gridwidth": 2,
            "linecolor": "white",
            "showbackground": true,
            "ticks": "",
            "zerolinecolor": "white"
           },
           "zaxis": {
            "backgroundcolor": "#E5ECF6",
            "gridcolor": "white",
            "gridwidth": 2,
            "linecolor": "white",
            "showbackground": true,
            "ticks": "",
            "zerolinecolor": "white"
           }
          },
          "shapedefaults": {
           "line": {
            "color": "#2a3f5f"
           }
          },
          "ternary": {
           "aaxis": {
            "gridcolor": "white",
            "linecolor": "white",
            "ticks": ""
           },
           "baxis": {
            "gridcolor": "white",
            "linecolor": "white",
            "ticks": ""
           },
           "bgcolor": "#E5ECF6",
           "caxis": {
            "gridcolor": "white",
            "linecolor": "white",
            "ticks": ""
           }
          },
          "title": {
           "x": 0.05
          },
          "xaxis": {
           "automargin": true,
           "gridcolor": "white",
           "linecolor": "white",
           "ticks": "",
           "title": {
            "standoff": 15
           },
           "zerolinecolor": "white",
           "zerolinewidth": 2
          },
          "yaxis": {
           "automargin": true,
           "gridcolor": "white",
           "linecolor": "white",
           "ticks": "",
           "title": {
            "standoff": 15
           },
           "zerolinecolor": "white",
           "zerolinewidth": 2
          }
         }
        },
        "xaxis": {
         "anchor": "y",
         "domain": [
          0,
          1
         ],
         "title": {
          "text": "party"
         }
        },
        "yaxis": {
         "anchor": "x",
         "domain": [
          0,
          1
         ],
         "title": {
          "text": "votes"
         }
        }
       }
      },
      "text/html": [
       "<div>\n",
       "        \n",
       "        \n",
       "            <div id=\"9b719ce0-73b4-4ad3-a5a8-5f8cba2111b4\" class=\"plotly-graph-div\" style=\"height:525px; width:100%;\"></div>\n",
       "            <script type=\"text/javascript\">\n",
       "                require([\"plotly\"], function(Plotly) {\n",
       "                    window.PLOTLYENV=window.PLOTLYENV || {};\n",
       "                    \n",
       "                if (document.getElementById(\"9b719ce0-73b4-4ad3-a5a8-5f8cba2111b4\")) {\n",
       "                    Plotly.newPlot(\n",
       "                        '9b719ce0-73b4-4ad3-a5a8-5f8cba2111b4',\n",
       "                        [{\"alignmentgroup\": \"True\", \"hoverlabel\": {\"namelength\": 0}, \"hovertemplate\": \"candidate=Ben Carson<br>party=%{x}<br>votes=%{y}\", \"legendgroup\": \"candidate=Ben Carson\", \"marker\": {\"color\": \"#636efa\"}, \"name\": \"candidate=Ben Carson\", \"offsetgroup\": \"candidate=Ben Carson\", \"orientation\": \"v\", \"showlegend\": true, \"textposition\": \"auto\", \"type\": \"bar\", \"x\": [\"Republican\", \"Republican\", \"Republican\", \"Republican\", \"Republican\", \"Republican\", \"Republican\", \"Republican\", \"Republican\", \"Republican\", \"Republican\", \"Republican\", \"Republican\", \"Republican\", \"Republican\", \"Republican\", \"Republican\", \"Republican\", \"Republican\", \"Republican\", \"Republican\", \"Republican\", \"Republican\", \"Republican\", \"Republican\", \"Republican\", \"Republican\", \"Republican\", \"Republican\", \"Republican\", \"Republican\", \"Republican\", \"Republican\", \"Republican\", \"Republican\", \"Republican\", \"Republican\", \"Republican\", \"Republican\", \"Republican\", \"Republican\", \"Republican\", \"Republican\", \"Republican\", \"Republican\", \"Republican\"], \"xaxis\": \"x\", \"y\": [87517, 2401, 0, 23173, 0, 0, 0, 0, 80503, 0, 0, 0, 0, 17393, 0, 0, 0, 0, 16277, 0, 0, 0, 0, 0, 3619, 6509, 0, 0, 0, 0, 0, 28572, 0, 0, 0, 53326, 0, 64846, 117780, 0, 2544, 60093, 0, 0, 0, 0], \"yaxis\": \"y\"}, {\"alignmentgroup\": \"True\", \"hoverlabel\": {\"namelength\": 0}, \"hovertemplate\": \"candidate=Donald Trump<br>party=%{x}<br>votes=%{y}\", \"legendgroup\": \"candidate=Donald Trump\", \"marker\": {\"color\": \"#EF553B\"}, \"name\": \"candidate=Donald Trump\", \"offsetgroup\": \"candidate=Donald Trump\", \"orientation\": \"v\", \"showlegend\": true, \"textposition\": \"auto\", \"type\": \"bar\", \"x\": [\"Republican\", \"Republican\", \"Republican\", \"Republican\", \"Republican\", \"Republican\", \"Republican\", \"Republican\", \"Republican\", \"Republican\", \"Republican\", \"Republican\", \"Republican\", \"Republican\", \"Republican\", \"Republican\", \"Republican\", \"Republican\", \"Republican\", \"Republican\", \"Republican\", \"Republican\", \"Republican\", \"Republican\", \"Republican\", \"Republican\", \"Republican\", \"Republican\", \"Republican\", \"Republican\", \"Republican\", \"Republican\", \"Republican\", \"Republican\", \"Republican\", \"Republican\", \"Republican\", \"Republican\", \"Republican\", \"Republican\", \"Republican\", \"Republican\", \"Republican\", \"Republican\", \"Republican\", \"Republican\"], \"xaxis\": \"x\", \"y\": [371735, 7346, 249916, 133144, 1174829, 123367, 42472, 1077221, 501707, 5677, 62478, 551464, 590460, 45419, 17062, 82493, 124818, 236623, 311313, 483751, 191755, 382093, 114056, 121287, 34531, 100406, 356697, 73530, 524932, 458151, 727585, 130141, 240804, 892702, 39059, 239851, 44866, 332702, 757618, 24864, 19968, 355960, 403003, 156245, 386370, 70], \"yaxis\": \"y\"}, {\"alignmentgroup\": \"True\", \"hoverlabel\": {\"namelength\": 0}, \"hovertemplate\": \"candidate=John Kasich<br>party=%{x}<br>votes=%{y}\", \"legendgroup\": \"candidate=John Kasich\", \"marker\": {\"color\": \"#00cc96\"}, \"name\": \"candidate=John Kasich\", \"offsetgroup\": \"candidate=John Kasich\", \"orientation\": \"v\", \"showlegend\": true, \"textposition\": \"auto\", \"type\": \"bar\", \"x\": [\"Republican\", \"Republican\", \"Republican\", \"Republican\", \"Republican\", \"Republican\", \"Republican\", \"Republican\", \"Republican\", \"Republican\", \"Republican\", \"Republican\", \"Republican\", \"Republican\", \"Republican\", \"Republican\", \"Republican\", \"Republican\", \"Republican\", \"Republican\", \"Republican\", \"Republican\", \"Republican\", \"Republican\", \"Republican\", \"Republican\", \"Republican\", \"Republican\", \"Republican\", \"Republican\", \"Republican\", \"Republican\", \"Republican\", \"Republican\", \"Republican\", \"Republican\", \"Republican\", \"Republican\", \"Republican\", \"Republican\", \"Republican\", \"Republican\", \"Republican\", \"Republican\", \"Republican\", \"Republican\"], \"xaxis\": \"x\", \"y\": [37970, 892, 53040, 15098, 176620, 60481, 14225, 159412, 72303, 1413, 16517, 279778, 83913, 3472, 7795, 33134, 19355, 100089, 113783, 321655, 35817, 92533, 10622, 22526, 2709, 44909, 59506, 7870, 217904, 144299, 956762, 16515, 59096, 304793, 14929, 56206, 10659, 45243, 120257, 29773, 18543, 96519, 52129, 13685, 155200, 0], \"yaxis\": \"y\"}, {\"alignmentgroup\": \"True\", \"hoverlabel\": {\"namelength\": 0}, \"hovertemplate\": \"candidate=Marco Rubio<br>party=%{x}<br>votes=%{y}\", \"legendgroup\": \"candidate=Marco Rubio\", \"marker\": {\"color\": \"#ab63fa\"}, \"name\": \"candidate=Marco Rubio\", \"offsetgroup\": \"candidate=Marco Rubio\", \"orientation\": \"v\", \"showlegend\": true, \"textposition\": \"auto\", \"type\": \"bar\", \"x\": [\"Republican\", \"Republican\", \"Republican\", \"Republican\", \"Republican\", \"Republican\", \"Republican\", \"Republican\", \"Republican\", \"Republican\", \"Republican\", \"Republican\", \"Republican\", \"Republican\", \"Republican\", \"Republican\", \"Republican\", \"Republican\", \"Republican\", \"Republican\", \"Republican\", \"Republican\", \"Republican\", \"Republican\", \"Republican\", \"Republican\", \"Republican\", \"Republican\", \"Republican\", \"Republican\", \"Republican\", \"Republican\", \"Republican\", \"Republican\", \"Republican\", \"Republican\", \"Republican\", \"Republican\", \"Republican\", \"Republican\", \"Republican\", \"Republican\", \"Republican\", \"Republican\", \"Republican\", \"Republican\"], \"xaxis\": \"x\", \"y\": [159802, 3318, 0, 101235, 0, 0, 0, 636653, 315979, 1759, 35347, 123066, 0, 43164, 12189, 37579, 33804, 0, 112822, 123673, 20768, 57006, 0, 0, 17940, 30032, 0, 0, 0, 87858, 59418, 119562, 0, 0, 0, 165881, 0, 180989, 502223, 0, 11778, 327042, 0, 0, 0, 189], \"yaxis\": \"y\"}, {\"alignmentgroup\": \"True\", \"hoverlabel\": {\"namelength\": 0}, \"hovertemplate\": \"candidate=Ted Cruz<br>party=%{x}<br>votes=%{y}\", \"legendgroup\": \"candidate=Ted Cruz\", \"marker\": {\"color\": \"#FFA15A\"}, \"name\": \"candidate=Ted Cruz\", \"offsetgroup\": \"candidate=Ted Cruz\", \"orientation\": \"v\", \"showlegend\": true, \"textposition\": \"auto\", \"type\": \"bar\", \"x\": [\"Republican\", \"Republican\", \"Republican\", \"Republican\", \"Republican\", \"Republican\", \"Republican\", \"Republican\", \"Republican\", \"Republican\", \"Republican\", \"Republican\", \"Republican\", \"Republican\", \"Republican\", \"Republican\", \"Republican\", \"Republican\", \"Republican\", \"Republican\", \"Republican\", \"Republican\", \"Republican\", \"Republican\", \"Republican\", \"Republican\", \"Republican\", \"Republican\", \"Republican\", \"Republican\", \"Republican\", \"Republican\", \"Republican\", \"Republican\", \"Republican\", \"Republican\", \"Republican\", \"Republican\", \"Republican\", \"Republican\", \"Republican\", \"Republican\", \"Republican\", \"Republican\", \"Republican\", \"Republican\"], \"xaxis\": \"x\", \"y\": [180608, 7973, 132147, 123873, 144125, 24969, 11110, 403640, 305109, 4379, 100942, 430395, 406280, 51663, 35207, 72503, 113949, 82038, 60473, 330015, 147065, 380367, 14476, 36418, 16079, 33189, 27521, 13825, 126151, 418740, 267592, 157941, 61590, 340201, 6393, 164790, 11352, 211159, 1239370, 122567, 5929, 173193, 55719, 18208, 531129, 644], \"yaxis\": \"y\"}, {\"alignmentgroup\": \"True\", \"hoverlabel\": {\"namelength\": 0}, \"hovertemplate\": \"candidate=Carly Fiorina<br>party=%{x}<br>votes=%{y}\", \"legendgroup\": \"candidate=Carly Fiorina\", \"marker\": {\"color\": \"#19d3f3\"}, \"name\": \"candidate=Carly Fiorina\", \"offsetgroup\": \"candidate=Carly Fiorina\", \"orientation\": \"v\", \"showlegend\": true, \"textposition\": \"auto\", \"type\": \"bar\", \"x\": [\"Republican\", \"Republican\", \"Republican\", \"Republican\", \"Republican\", \"Republican\", \"Republican\", \"Republican\", \"Republican\", \"Republican\", \"Republican\", \"Republican\", \"Republican\", \"Republican\", \"Republican\", \"Republican\", \"Republican\", \"Republican\", \"Republican\", \"Republican\", \"Republican\", \"Republican\", \"Republican\", \"Republican\", \"Republican\", \"Republican\", \"Republican\", \"Republican\", \"Republican\", \"Republican\", \"Republican\", \"Republican\", \"Republican\", \"Republican\", \"Republican\", \"Republican\", \"Republican\", \"Republican\", \"Republican\", \"Republican\", \"Republican\", \"Republican\", \"Republican\", \"Republican\", \"Republican\", \"Republican\"], \"xaxis\": \"x\", \"y\": [0, 0, 0, 0, 0, 0, 0, 0, 0, 0, 0, 0, 0, 3485, 0, 0, 0, 0, 0, 0, 0, 0, 0, 0, 0, 11706, 0, 0, 0, 0, 0, 0, 0, 0, 0, 0, 0, 0, 0, 0, 0, 0, 0, 0, 0, 0], \"yaxis\": \"y\"}, {\"alignmentgroup\": \"True\", \"hoverlabel\": {\"namelength\": 0}, \"hovertemplate\": \"candidate=Chris Christie<br>party=%{x}<br>votes=%{y}\", \"legendgroup\": \"candidate=Chris Christie\", \"marker\": {\"color\": \"#FF6692\"}, \"name\": \"candidate=Chris Christie\", \"offsetgroup\": \"candidate=Chris Christie\", \"orientation\": \"v\", \"showlegend\": true, \"textposition\": \"auto\", \"type\": \"bar\", \"x\": [\"Republican\", \"Republican\", \"Republican\", \"Republican\", \"Republican\", \"Republican\", \"Republican\", \"Republican\", \"Republican\", \"Republican\", \"Republican\", \"Republican\", \"Republican\", \"Republican\", \"Republican\", \"Republican\", \"Republican\", \"Republican\", \"Republican\", \"Republican\", \"Republican\", \"Republican\", \"Republican\", \"Republican\", \"Republican\", \"Republican\", \"Republican\", \"Republican\", \"Republican\", \"Republican\", \"Republican\", \"Republican\", \"Republican\", \"Republican\", \"Republican\", \"Republican\", \"Republican\", \"Republican\", \"Republican\", \"Republican\", \"Republican\", \"Republican\", \"Republican\", \"Republican\", \"Republican\", \"Republican\"], \"xaxis\": \"x\", \"y\": [0, 0, 0, 0, 0, 0, 0, 0, 0, 0, 0, 0, 0, 3284, 0, 0, 0, 0, 0, 0, 0, 0, 0, 0, 0, 21069, 0, 0, 0, 0, 0, 0, 0, 0, 0, 0, 0, 0, 0, 0, 0, 0, 0, 0, 0, 0], \"yaxis\": \"y\"}, {\"alignmentgroup\": \"True\", \"hoverlabel\": {\"namelength\": 0}, \"hovertemplate\": \"candidate=Jeb Bush<br>party=%{x}<br>votes=%{y}\", \"legendgroup\": \"candidate=Jeb Bush\", \"marker\": {\"color\": \"#B6E880\"}, \"name\": \"candidate=Jeb Bush\", \"offsetgroup\": \"candidate=Jeb Bush\", \"orientation\": \"v\", \"showlegend\": true, \"textposition\": \"auto\", \"type\": \"bar\", \"x\": [\"Republican\", \"Republican\", \"Republican\", \"Republican\", \"Republican\", \"Republican\", \"Republican\", \"Republican\", \"Republican\", \"Republican\", \"Republican\", \"Republican\", \"Republican\", \"Republican\", \"Republican\", \"Republican\", \"Republican\", \"Republican\", \"Republican\", \"Republican\", \"Republican\", \"Republican\", \"Republican\", \"Republican\", \"Republican\", \"Republican\", \"Republican\", \"Republican\", \"Republican\", \"Republican\", \"Republican\", \"Republican\", \"Republican\", \"Republican\", \"Republican\", \"Republican\", \"Republican\", \"Republican\", \"Republican\", \"Republican\", \"Republican\", \"Republican\", \"Republican\", \"Republican\", \"Republican\", \"Republican\"], \"xaxis\": \"x\", \"y\": [0, 0, 0, 0, 0, 0, 0, 0, 0, 0, 0, 0, 0, 5238, 0, 0, 0, 0, 0, 0, 0, 0, 0, 0, 0, 31310, 0, 0, 0, 0, 0, 0, 0, 0, 0, 57863, 0, 0, 0, 0, 0, 0, 0, 0, 0, 0], \"yaxis\": \"y\"}, {\"alignmentgroup\": \"True\", \"hoverlabel\": {\"namelength\": 0}, \"hovertemplate\": \"candidate=Mike Huckabee<br>party=%{x}<br>votes=%{y}\", \"legendgroup\": \"candidate=Mike Huckabee\", \"marker\": {\"color\": \"#FF97FF\"}, \"name\": \"candidate=Mike Huckabee\", \"offsetgroup\": \"candidate=Mike Huckabee\", \"orientation\": \"v\", \"showlegend\": true, \"textposition\": \"auto\", \"type\": \"bar\", \"x\": [\"Republican\", \"Republican\", \"Republican\", \"Republican\", \"Republican\", \"Republican\", \"Republican\", \"Republican\", \"Republican\", \"Republican\", \"Republican\", \"Republican\", \"Republican\", \"Republican\", \"Republican\", \"Republican\", \"Republican\", \"Republican\", \"Republican\", \"Republican\", \"Republican\", \"Republican\", \"Republican\", \"Republican\", \"Republican\", \"Republican\", \"Republican\", \"Republican\", \"Republican\", \"Republican\", \"Republican\", \"Republican\", \"Republican\", \"Republican\", \"Republican\", \"Republican\", \"Republican\", \"Republican\", \"Republican\", \"Republican\", \"Republican\", \"Republican\", \"Republican\", \"Republican\", \"Republican\", \"Republican\"], \"xaxis\": \"x\", \"y\": [0, 0, 0, 0, 0, 0, 0, 0, 0, 0, 0, 0, 0, 3345, 0, 0, 0, 0, 0, 0, 0, 0, 0, 0, 0, 0, 0, 0, 0, 0, 0, 0, 0, 0, 0, 0, 0, 0, 0, 0, 0, 0, 0, 0, 0, 0], \"yaxis\": \"y\"}, {\"alignmentgroup\": \"True\", \"hoverlabel\": {\"namelength\": 0}, \"hovertemplate\": \"candidate=Rand Paul<br>party=%{x}<br>votes=%{y}\", \"legendgroup\": \"candidate=Rand Paul\", \"marker\": {\"color\": \"#FECB52\"}, \"name\": \"candidate=Rand Paul\", \"offsetgroup\": \"candidate=Rand Paul\", \"orientation\": \"v\", \"showlegend\": true, \"textposition\": \"auto\", \"type\": \"bar\", \"x\": [\"Republican\", \"Republican\", \"Republican\", \"Republican\", \"Republican\", \"Republican\", \"Republican\", \"Republican\", \"Republican\", \"Republican\", \"Republican\", \"Republican\", \"Republican\", \"Republican\", \"Republican\", \"Republican\", \"Republican\", \"Republican\", \"Republican\", \"Republican\", \"Republican\", \"Republican\", \"Republican\", \"Republican\", \"Republican\", \"Republican\", \"Republican\", \"Republican\", \"Republican\", \"Republican\", \"Republican\", \"Republican\", \"Republican\", \"Republican\", \"Republican\", \"Republican\", \"Republican\", \"Republican\", \"Republican\", \"Republican\", \"Republican\", \"Republican\", \"Republican\", \"Republican\", \"Republican\", \"Republican\"], \"xaxis\": \"x\", \"y\": [0, 0, 0, 0, 0, 0, 0, 0, 0, 0, 0, 0, 0, 8479, 0, 0, 0, 0, 0, 0, 0, 0, 0, 0, 0, 0, 0, 0, 0, 0, 0, 0, 0, 0, 0, 0, 0, 0, 0, 0, 0, 0, 0, 0, 0, 0], \"yaxis\": \"y\"}, {\"alignmentgroup\": \"True\", \"hoverlabel\": {\"namelength\": 0}, \"hovertemplate\": \"candidate=Rick Santorum<br>party=%{x}<br>votes=%{y}\", \"legendgroup\": \"candidate=Rick Santorum\", \"marker\": {\"color\": \"#636efa\"}, \"name\": \"candidate=Rick Santorum\", \"offsetgroup\": \"candidate=Rick Santorum\", \"orientation\": \"v\", \"showlegend\": true, \"textposition\": \"auto\", \"type\": \"bar\", \"x\": [\"Republican\", \"Republican\", \"Republican\", \"Republican\", \"Republican\", \"Republican\", \"Republican\", \"Republican\", \"Republican\", \"Republican\", \"Republican\", \"Republican\", \"Republican\", \"Republican\", \"Republican\", \"Republican\", \"Republican\", \"Republican\", \"Republican\", \"Republican\", \"Republican\", \"Republican\", \"Republican\", \"Republican\", \"Republican\", \"Republican\", \"Republican\", \"Republican\", \"Republican\", \"Republican\", \"Republican\", \"Republican\", \"Republican\", \"Republican\", \"Republican\", \"Republican\", \"Republican\", \"Republican\", \"Republican\", \"Republican\", \"Republican\", \"Republican\", \"Republican\", \"Republican\", \"Republican\", \"Republican\"], \"xaxis\": \"x\", \"y\": [0, 0, 0, 0, 0, 0, 0, 0, 0, 0, 0, 0, 0, 1782, 0, 0, 0, 0, 0, 0, 0, 0, 0, 0, 0, 0, 0, 0, 0, 0, 0, 0, 0, 0, 0, 0, 0, 0, 0, 0, 0, 0, 0, 0, 0, 0], \"yaxis\": \"y\"}],\n",
       "                        {\"barmode\": \"group\", \"legend\": {\"tracegroupgap\": 0}, \"margin\": {\"t\": 60}, \"template\": {\"data\": {\"bar\": [{\"error_x\": {\"color\": \"#2a3f5f\"}, \"error_y\": {\"color\": \"#2a3f5f\"}, \"marker\": {\"line\": {\"color\": \"#E5ECF6\", \"width\": 0.5}}, \"type\": \"bar\"}], \"barpolar\": [{\"marker\": {\"line\": {\"color\": \"#E5ECF6\", \"width\": 0.5}}, \"type\": \"barpolar\"}], \"carpet\": [{\"aaxis\": {\"endlinecolor\": \"#2a3f5f\", \"gridcolor\": \"white\", \"linecolor\": \"white\", \"minorgridcolor\": \"white\", \"startlinecolor\": \"#2a3f5f\"}, \"baxis\": {\"endlinecolor\": \"#2a3f5f\", \"gridcolor\": \"white\", \"linecolor\": \"white\", \"minorgridcolor\": \"white\", \"startlinecolor\": \"#2a3f5f\"}, \"type\": \"carpet\"}], \"choropleth\": [{\"colorbar\": {\"outlinewidth\": 0, \"ticks\": \"\"}, \"type\": \"choropleth\"}], \"contour\": [{\"colorbar\": {\"outlinewidth\": 0, \"ticks\": \"\"}, \"colorscale\": [[0.0, \"#0d0887\"], [0.1111111111111111, \"#46039f\"], [0.2222222222222222, \"#7201a8\"], [0.3333333333333333, \"#9c179e\"], [0.4444444444444444, \"#bd3786\"], [0.5555555555555556, \"#d8576b\"], [0.6666666666666666, \"#ed7953\"], [0.7777777777777778, \"#fb9f3a\"], [0.8888888888888888, \"#fdca26\"], [1.0, \"#f0f921\"]], \"type\": \"contour\"}], \"contourcarpet\": [{\"colorbar\": {\"outlinewidth\": 0, \"ticks\": \"\"}, \"type\": \"contourcarpet\"}], \"heatmap\": [{\"colorbar\": {\"outlinewidth\": 0, \"ticks\": \"\"}, \"colorscale\": [[0.0, \"#0d0887\"], [0.1111111111111111, \"#46039f\"], [0.2222222222222222, \"#7201a8\"], [0.3333333333333333, \"#9c179e\"], [0.4444444444444444, \"#bd3786\"], [0.5555555555555556, \"#d8576b\"], [0.6666666666666666, \"#ed7953\"], [0.7777777777777778, \"#fb9f3a\"], [0.8888888888888888, \"#fdca26\"], [1.0, \"#f0f921\"]], \"type\": \"heatmap\"}], \"heatmapgl\": [{\"colorbar\": {\"outlinewidth\": 0, \"ticks\": \"\"}, \"colorscale\": [[0.0, \"#0d0887\"], [0.1111111111111111, \"#46039f\"], [0.2222222222222222, \"#7201a8\"], [0.3333333333333333, \"#9c179e\"], [0.4444444444444444, \"#bd3786\"], [0.5555555555555556, \"#d8576b\"], [0.6666666666666666, \"#ed7953\"], [0.7777777777777778, \"#fb9f3a\"], [0.8888888888888888, \"#fdca26\"], [1.0, \"#f0f921\"]], \"type\": \"heatmapgl\"}], \"histogram\": [{\"marker\": {\"colorbar\": {\"outlinewidth\": 0, \"ticks\": \"\"}}, \"type\": \"histogram\"}], \"histogram2d\": [{\"colorbar\": {\"outlinewidth\": 0, \"ticks\": \"\"}, \"colorscale\": [[0.0, \"#0d0887\"], [0.1111111111111111, \"#46039f\"], [0.2222222222222222, \"#7201a8\"], [0.3333333333333333, \"#9c179e\"], [0.4444444444444444, \"#bd3786\"], [0.5555555555555556, \"#d8576b\"], [0.6666666666666666, \"#ed7953\"], [0.7777777777777778, \"#fb9f3a\"], [0.8888888888888888, \"#fdca26\"], [1.0, \"#f0f921\"]], \"type\": \"histogram2d\"}], \"histogram2dcontour\": [{\"colorbar\": {\"outlinewidth\": 0, \"ticks\": \"\"}, \"colorscale\": [[0.0, \"#0d0887\"], [0.1111111111111111, \"#46039f\"], [0.2222222222222222, \"#7201a8\"], [0.3333333333333333, \"#9c179e\"], [0.4444444444444444, \"#bd3786\"], [0.5555555555555556, \"#d8576b\"], [0.6666666666666666, \"#ed7953\"], [0.7777777777777778, \"#fb9f3a\"], [0.8888888888888888, \"#fdca26\"], [1.0, \"#f0f921\"]], \"type\": \"histogram2dcontour\"}], \"mesh3d\": [{\"colorbar\": {\"outlinewidth\": 0, \"ticks\": \"\"}, \"type\": \"mesh3d\"}], \"parcoords\": [{\"line\": {\"colorbar\": {\"outlinewidth\": 0, \"ticks\": \"\"}}, \"type\": \"parcoords\"}], \"pie\": [{\"automargin\": true, \"type\": \"pie\"}], \"scatter\": [{\"marker\": {\"colorbar\": {\"outlinewidth\": 0, \"ticks\": \"\"}}, \"type\": \"scatter\"}], \"scatter3d\": [{\"line\": {\"colorbar\": {\"outlinewidth\": 0, \"ticks\": \"\"}}, \"marker\": {\"colorbar\": {\"outlinewidth\": 0, \"ticks\": \"\"}}, \"type\": \"scatter3d\"}], \"scattercarpet\": [{\"marker\": {\"colorbar\": {\"outlinewidth\": 0, \"ticks\": \"\"}}, \"type\": \"scattercarpet\"}], \"scattergeo\": [{\"marker\": {\"colorbar\": {\"outlinewidth\": 0, \"ticks\": \"\"}}, \"type\": \"scattergeo\"}], \"scattergl\": [{\"marker\": {\"colorbar\": {\"outlinewidth\": 0, \"ticks\": \"\"}}, \"type\": \"scattergl\"}], \"scattermapbox\": [{\"marker\": {\"colorbar\": {\"outlinewidth\": 0, \"ticks\": \"\"}}, \"type\": \"scattermapbox\"}], \"scatterpolar\": [{\"marker\": {\"colorbar\": {\"outlinewidth\": 0, \"ticks\": \"\"}}, \"type\": \"scatterpolar\"}], \"scatterpolargl\": [{\"marker\": {\"colorbar\": {\"outlinewidth\": 0, \"ticks\": \"\"}}, \"type\": \"scatterpolargl\"}], \"scatterternary\": [{\"marker\": {\"colorbar\": {\"outlinewidth\": 0, \"ticks\": \"\"}}, \"type\": \"scatterternary\"}], \"surface\": [{\"colorbar\": {\"outlinewidth\": 0, \"ticks\": \"\"}, \"colorscale\": [[0.0, \"#0d0887\"], [0.1111111111111111, \"#46039f\"], [0.2222222222222222, \"#7201a8\"], [0.3333333333333333, \"#9c179e\"], [0.4444444444444444, \"#bd3786\"], [0.5555555555555556, \"#d8576b\"], [0.6666666666666666, \"#ed7953\"], [0.7777777777777778, \"#fb9f3a\"], [0.8888888888888888, \"#fdca26\"], [1.0, \"#f0f921\"]], \"type\": \"surface\"}], \"table\": [{\"cells\": {\"fill\": {\"color\": \"#EBF0F8\"}, \"line\": {\"color\": \"white\"}}, \"header\": {\"fill\": {\"color\": \"#C8D4E3\"}, \"line\": {\"color\": \"white\"}}, \"type\": \"table\"}]}, \"layout\": {\"annotationdefaults\": {\"arrowcolor\": \"#2a3f5f\", \"arrowhead\": 0, \"arrowwidth\": 1}, \"coloraxis\": {\"colorbar\": {\"outlinewidth\": 0, \"ticks\": \"\"}}, \"colorscale\": {\"diverging\": [[0, \"#8e0152\"], [0.1, \"#c51b7d\"], [0.2, \"#de77ae\"], [0.3, \"#f1b6da\"], [0.4, \"#fde0ef\"], [0.5, \"#f7f7f7\"], [0.6, \"#e6f5d0\"], [0.7, \"#b8e186\"], [0.8, \"#7fbc41\"], [0.9, \"#4d9221\"], [1, \"#276419\"]], \"sequential\": [[0.0, \"#0d0887\"], [0.1111111111111111, \"#46039f\"], [0.2222222222222222, \"#7201a8\"], [0.3333333333333333, \"#9c179e\"], [0.4444444444444444, \"#bd3786\"], [0.5555555555555556, \"#d8576b\"], [0.6666666666666666, \"#ed7953\"], [0.7777777777777778, \"#fb9f3a\"], [0.8888888888888888, \"#fdca26\"], [1.0, \"#f0f921\"]], \"sequentialminus\": [[0.0, \"#0d0887\"], [0.1111111111111111, \"#46039f\"], [0.2222222222222222, \"#7201a8\"], [0.3333333333333333, \"#9c179e\"], [0.4444444444444444, \"#bd3786\"], [0.5555555555555556, \"#d8576b\"], [0.6666666666666666, \"#ed7953\"], [0.7777777777777778, \"#fb9f3a\"], [0.8888888888888888, \"#fdca26\"], [1.0, \"#f0f921\"]]}, \"colorway\": [\"#636efa\", \"#EF553B\", \"#00cc96\", \"#ab63fa\", \"#FFA15A\", \"#19d3f3\", \"#FF6692\", \"#B6E880\", \"#FF97FF\", \"#FECB52\"], \"font\": {\"color\": \"#2a3f5f\"}, \"geo\": {\"bgcolor\": \"white\", \"lakecolor\": \"white\", \"landcolor\": \"#E5ECF6\", \"showlakes\": true, \"showland\": true, \"subunitcolor\": \"white\"}, \"hoverlabel\": {\"align\": \"left\"}, \"hovermode\": \"closest\", \"mapbox\": {\"style\": \"light\"}, \"paper_bgcolor\": \"white\", \"plot_bgcolor\": \"#E5ECF6\", \"polar\": {\"angularaxis\": {\"gridcolor\": \"white\", \"linecolor\": \"white\", \"ticks\": \"\"}, \"bgcolor\": \"#E5ECF6\", \"radialaxis\": {\"gridcolor\": \"white\", \"linecolor\": \"white\", \"ticks\": \"\"}}, \"scene\": {\"xaxis\": {\"backgroundcolor\": \"#E5ECF6\", \"gridcolor\": \"white\", \"gridwidth\": 2, \"linecolor\": \"white\", \"showbackground\": true, \"ticks\": \"\", \"zerolinecolor\": \"white\"}, \"yaxis\": {\"backgroundcolor\": \"#E5ECF6\", \"gridcolor\": \"white\", \"gridwidth\": 2, \"linecolor\": \"white\", \"showbackground\": true, \"ticks\": \"\", \"zerolinecolor\": \"white\"}, \"zaxis\": {\"backgroundcolor\": \"#E5ECF6\", \"gridcolor\": \"white\", \"gridwidth\": 2, \"linecolor\": \"white\", \"showbackground\": true, \"ticks\": \"\", \"zerolinecolor\": \"white\"}}, \"shapedefaults\": {\"line\": {\"color\": \"#2a3f5f\"}}, \"ternary\": {\"aaxis\": {\"gridcolor\": \"white\", \"linecolor\": \"white\", \"ticks\": \"\"}, \"baxis\": {\"gridcolor\": \"white\", \"linecolor\": \"white\", \"ticks\": \"\"}, \"bgcolor\": \"#E5ECF6\", \"caxis\": {\"gridcolor\": \"white\", \"linecolor\": \"white\", \"ticks\": \"\"}}, \"title\": {\"x\": 0.05}, \"xaxis\": {\"automargin\": true, \"gridcolor\": \"white\", \"linecolor\": \"white\", \"ticks\": \"\", \"title\": {\"standoff\": 15}, \"zerolinecolor\": \"white\", \"zerolinewidth\": 2}, \"yaxis\": {\"automargin\": true, \"gridcolor\": \"white\", \"linecolor\": \"white\", \"ticks\": \"\", \"title\": {\"standoff\": 15}, \"zerolinecolor\": \"white\", \"zerolinewidth\": 2}}}, \"xaxis\": {\"anchor\": \"y\", \"domain\": [0.0, 1.0], \"title\": {\"text\": \"party\"}}, \"yaxis\": {\"anchor\": \"x\", \"domain\": [0.0, 1.0], \"title\": {\"text\": \"votes\"}}},\n",
       "                        {\"responsive\": true}\n",
       "                    ).then(function(){\n",
       "                            \n",
       "var gd = document.getElementById('9b719ce0-73b4-4ad3-a5a8-5f8cba2111b4');\n",
       "var x = new MutationObserver(function (mutations, observer) {{\n",
       "        var display = window.getComputedStyle(gd).display;\n",
       "        if (!display || display === 'none') {{\n",
       "            console.log([gd, 'removed!']);\n",
       "            Plotly.purge(gd);\n",
       "            observer.disconnect();\n",
       "        }}\n",
       "}});\n",
       "\n",
       "// Listen for the removal of the full notebook cells\n",
       "var notebookContainer = gd.closest('#notebook-container');\n",
       "if (notebookContainer) {{\n",
       "    x.observe(notebookContainer, {childList: true});\n",
       "}}\n",
       "\n",
       "// Listen for the clearing of the current output cell\n",
       "var outputEl = gd.closest('.output');\n",
       "if (outputEl) {{\n",
       "    x.observe(outputEl, {childList: true});\n",
       "}}\n",
       "\n",
       "                        })\n",
       "                };\n",
       "                });\n",
       "            </script>\n",
       "        </div>"
      ]
     },
     "metadata": {},
     "output_type": "display_data"
    }
   ],
   "source": [
    "fig = px.bar(allData, x=\"party\", y=\"votes\", color=\"candidate\", barmode=\"group\")\n",
    "fig.show()"
   ]
  },
  {
   "cell_type": "code",
   "execution_count": 320,
   "metadata": {},
   "outputs": [
    {
     "data": {
      "application/vnd.plotly.v1+json": {
       "config": {
        "plotlyServerURL": "https://plot.ly"
       },
       "data": [
        {
         "alignmentgroup": "True",
         "boxpoints": "all",
         "fillcolor": "rgba(255,255,255,0)",
         "hoverlabel": {
          "namelength": 0
         },
         "hoveron": "points",
         "hovertemplate": "candidate=Ben Carson<br>state=%{x}<br>votes=%{y}",
         "legendgroup": "candidate=Ben Carson",
         "line": {
          "color": "rgba(255,255,255,0)"
         },
         "marker": {
          "color": "#636efa"
         },
         "name": "candidate=Ben Carson",
         "offsetgroup": "candidate=Ben Carson",
         "orientation": "h",
         "pointpos": 0,
         "showlegend": true,
         "type": "box",
         "x": [
          "Alabama",
          "Alaska",
          "Arizona",
          "Arkansas",
          "California",
          "Connecticut",
          "Delaware",
          "Florida",
          "Georgia",
          "Hawaii",
          "Idaho",
          "Illinois",
          "Indiana",
          "Iowa",
          "Kansas",
          "Kentucky",
          "Louisiana",
          "Maryland",
          "Massachusetts",
          "Michigan",
          "Mississippi",
          "Missouri",
          "Montana",
          "Nebraska",
          "Nevada",
          "New Hampshire",
          "New Jersey",
          "New Mexico",
          "New York",
          "North Carolina",
          "Ohio",
          "Oklahoma",
          "Oregon",
          "Pennsylvania",
          "Rhode Island",
          "South Carolina",
          "South Dakota",
          "Tennessee",
          "Texas",
          "Utah",
          "Vermont",
          "Virginia",
          "Washington",
          "West Virginia",
          "Wisconsin",
          "Wyoming"
         ],
         "x0": " ",
         "xaxis": "x",
         "y": [
          87517,
          2401,
          0,
          23173,
          0,
          0,
          0,
          0,
          80503,
          0,
          0,
          0,
          0,
          17393,
          0,
          0,
          0,
          0,
          16277,
          0,
          0,
          0,
          0,
          0,
          3619,
          6509,
          0,
          0,
          0,
          0,
          0,
          28572,
          0,
          0,
          0,
          53326,
          0,
          64846,
          117780,
          0,
          2544,
          60093,
          0,
          0,
          0,
          0
         ],
         "y0": " ",
         "yaxis": "y"
        },
        {
         "alignmentgroup": "True",
         "boxpoints": "all",
         "fillcolor": "rgba(255,255,255,0)",
         "hoverlabel": {
          "namelength": 0
         },
         "hoveron": "points",
         "hovertemplate": "candidate=Donald Trump<br>state=%{x}<br>votes=%{y}",
         "legendgroup": "candidate=Donald Trump",
         "line": {
          "color": "rgba(255,255,255,0)"
         },
         "marker": {
          "color": "#EF553B"
         },
         "name": "candidate=Donald Trump",
         "offsetgroup": "candidate=Donald Trump",
         "orientation": "h",
         "pointpos": 0,
         "showlegend": true,
         "type": "box",
         "x": [
          "Alabama",
          "Alaska",
          "Arizona",
          "Arkansas",
          "California",
          "Connecticut",
          "Delaware",
          "Florida",
          "Georgia",
          "Hawaii",
          "Idaho",
          "Illinois",
          "Indiana",
          "Iowa",
          "Kansas",
          "Kentucky",
          "Louisiana",
          "Maryland",
          "Massachusetts",
          "Michigan",
          "Mississippi",
          "Missouri",
          "Montana",
          "Nebraska",
          "Nevada",
          "New Hampshire",
          "New Jersey",
          "New Mexico",
          "New York",
          "North Carolina",
          "Ohio",
          "Oklahoma",
          "Oregon",
          "Pennsylvania",
          "Rhode Island",
          "South Carolina",
          "South Dakota",
          "Tennessee",
          "Texas",
          "Utah",
          "Vermont",
          "Virginia",
          "Washington",
          "West Virginia",
          "Wisconsin",
          "Wyoming"
         ],
         "x0": " ",
         "xaxis": "x",
         "y": [
          371735,
          7346,
          249916,
          133144,
          1174829,
          123367,
          42472,
          1077221,
          501707,
          5677,
          62478,
          551464,
          590460,
          45419,
          17062,
          82493,
          124818,
          236623,
          311313,
          483751,
          191755,
          382093,
          114056,
          121287,
          34531,
          100406,
          356697,
          73530,
          524932,
          458151,
          727585,
          130141,
          240804,
          892702,
          39059,
          239851,
          44866,
          332702,
          757618,
          24864,
          19968,
          355960,
          403003,
          156245,
          386370,
          70
         ],
         "y0": " ",
         "yaxis": "y"
        },
        {
         "alignmentgroup": "True",
         "boxpoints": "all",
         "fillcolor": "rgba(255,255,255,0)",
         "hoverlabel": {
          "namelength": 0
         },
         "hoveron": "points",
         "hovertemplate": "candidate=John Kasich<br>state=%{x}<br>votes=%{y}",
         "legendgroup": "candidate=John Kasich",
         "line": {
          "color": "rgba(255,255,255,0)"
         },
         "marker": {
          "color": "#00cc96"
         },
         "name": "candidate=John Kasich",
         "offsetgroup": "candidate=John Kasich",
         "orientation": "h",
         "pointpos": 0,
         "showlegend": true,
         "type": "box",
         "x": [
          "Alabama",
          "Alaska",
          "Arizona",
          "Arkansas",
          "California",
          "Connecticut",
          "Delaware",
          "Florida",
          "Georgia",
          "Hawaii",
          "Idaho",
          "Illinois",
          "Indiana",
          "Iowa",
          "Kansas",
          "Kentucky",
          "Louisiana",
          "Maryland",
          "Massachusetts",
          "Michigan",
          "Mississippi",
          "Missouri",
          "Montana",
          "Nebraska",
          "Nevada",
          "New Hampshire",
          "New Jersey",
          "New Mexico",
          "New York",
          "North Carolina",
          "Ohio",
          "Oklahoma",
          "Oregon",
          "Pennsylvania",
          "Rhode Island",
          "South Carolina",
          "South Dakota",
          "Tennessee",
          "Texas",
          "Utah",
          "Vermont",
          "Virginia",
          "Washington",
          "West Virginia",
          "Wisconsin",
          "Wyoming"
         ],
         "x0": " ",
         "xaxis": "x",
         "y": [
          37970,
          892,
          53040,
          15098,
          176620,
          60481,
          14225,
          159412,
          72303,
          1413,
          16517,
          279778,
          83913,
          3472,
          7795,
          33134,
          19355,
          100089,
          113783,
          321655,
          35817,
          92533,
          10622,
          22526,
          2709,
          44909,
          59506,
          7870,
          217904,
          144299,
          956762,
          16515,
          59096,
          304793,
          14929,
          56206,
          10659,
          45243,
          120257,
          29773,
          18543,
          96519,
          52129,
          13685,
          155200,
          0
         ],
         "y0": " ",
         "yaxis": "y"
        },
        {
         "alignmentgroup": "True",
         "boxpoints": "all",
         "fillcolor": "rgba(255,255,255,0)",
         "hoverlabel": {
          "namelength": 0
         },
         "hoveron": "points",
         "hovertemplate": "candidate=Marco Rubio<br>state=%{x}<br>votes=%{y}",
         "legendgroup": "candidate=Marco Rubio",
         "line": {
          "color": "rgba(255,255,255,0)"
         },
         "marker": {
          "color": "#ab63fa"
         },
         "name": "candidate=Marco Rubio",
         "offsetgroup": "candidate=Marco Rubio",
         "orientation": "h",
         "pointpos": 0,
         "showlegend": true,
         "type": "box",
         "x": [
          "Alabama",
          "Alaska",
          "Arizona",
          "Arkansas",
          "California",
          "Connecticut",
          "Delaware",
          "Florida",
          "Georgia",
          "Hawaii",
          "Idaho",
          "Illinois",
          "Indiana",
          "Iowa",
          "Kansas",
          "Kentucky",
          "Louisiana",
          "Maryland",
          "Massachusetts",
          "Michigan",
          "Mississippi",
          "Missouri",
          "Montana",
          "Nebraska",
          "Nevada",
          "New Hampshire",
          "New Jersey",
          "New Mexico",
          "New York",
          "North Carolina",
          "Ohio",
          "Oklahoma",
          "Oregon",
          "Pennsylvania",
          "Rhode Island",
          "South Carolina",
          "South Dakota",
          "Tennessee",
          "Texas",
          "Utah",
          "Vermont",
          "Virginia",
          "Washington",
          "West Virginia",
          "Wisconsin",
          "Wyoming"
         ],
         "x0": " ",
         "xaxis": "x",
         "y": [
          159802,
          3318,
          0,
          101235,
          0,
          0,
          0,
          636653,
          315979,
          1759,
          35347,
          123066,
          0,
          43164,
          12189,
          37579,
          33804,
          0,
          112822,
          123673,
          20768,
          57006,
          0,
          0,
          17940,
          30032,
          0,
          0,
          0,
          87858,
          59418,
          119562,
          0,
          0,
          0,
          165881,
          0,
          180989,
          502223,
          0,
          11778,
          327042,
          0,
          0,
          0,
          189
         ],
         "y0": " ",
         "yaxis": "y"
        },
        {
         "alignmentgroup": "True",
         "boxpoints": "all",
         "fillcolor": "rgba(255,255,255,0)",
         "hoverlabel": {
          "namelength": 0
         },
         "hoveron": "points",
         "hovertemplate": "candidate=Ted Cruz<br>state=%{x}<br>votes=%{y}",
         "legendgroup": "candidate=Ted Cruz",
         "line": {
          "color": "rgba(255,255,255,0)"
         },
         "marker": {
          "color": "#FFA15A"
         },
         "name": "candidate=Ted Cruz",
         "offsetgroup": "candidate=Ted Cruz",
         "orientation": "h",
         "pointpos": 0,
         "showlegend": true,
         "type": "box",
         "x": [
          "Alabama",
          "Alaska",
          "Arizona",
          "Arkansas",
          "California",
          "Connecticut",
          "Delaware",
          "Florida",
          "Georgia",
          "Hawaii",
          "Idaho",
          "Illinois",
          "Indiana",
          "Iowa",
          "Kansas",
          "Kentucky",
          "Louisiana",
          "Maryland",
          "Massachusetts",
          "Michigan",
          "Mississippi",
          "Missouri",
          "Montana",
          "Nebraska",
          "Nevada",
          "New Hampshire",
          "New Jersey",
          "New Mexico",
          "New York",
          "North Carolina",
          "Ohio",
          "Oklahoma",
          "Oregon",
          "Pennsylvania",
          "Rhode Island",
          "South Carolina",
          "South Dakota",
          "Tennessee",
          "Texas",
          "Utah",
          "Vermont",
          "Virginia",
          "Washington",
          "West Virginia",
          "Wisconsin",
          "Wyoming"
         ],
         "x0": " ",
         "xaxis": "x",
         "y": [
          180608,
          7973,
          132147,
          123873,
          144125,
          24969,
          11110,
          403640,
          305109,
          4379,
          100942,
          430395,
          406280,
          51663,
          35207,
          72503,
          113949,
          82038,
          60473,
          330015,
          147065,
          380367,
          14476,
          36418,
          16079,
          33189,
          27521,
          13825,
          126151,
          418740,
          267592,
          157941,
          61590,
          340201,
          6393,
          164790,
          11352,
          211159,
          1239370,
          122567,
          5929,
          173193,
          55719,
          18208,
          531129,
          644
         ],
         "y0": " ",
         "yaxis": "y"
        },
        {
         "alignmentgroup": "True",
         "boxpoints": "all",
         "fillcolor": "rgba(255,255,255,0)",
         "hoverlabel": {
          "namelength": 0
         },
         "hoveron": "points",
         "hovertemplate": "candidate=Carly Fiorina<br>state=%{x}<br>votes=%{y}",
         "legendgroup": "candidate=Carly Fiorina",
         "line": {
          "color": "rgba(255,255,255,0)"
         },
         "marker": {
          "color": "#19d3f3"
         },
         "name": "candidate=Carly Fiorina",
         "offsetgroup": "candidate=Carly Fiorina",
         "orientation": "h",
         "pointpos": 0,
         "showlegend": true,
         "type": "box",
         "x": [
          "Alabama",
          "Alaska",
          "Arizona",
          "Arkansas",
          "California",
          "Connecticut",
          "Delaware",
          "Florida",
          "Georgia",
          "Hawaii",
          "Idaho",
          "Illinois",
          "Indiana",
          "Iowa",
          "Kansas",
          "Kentucky",
          "Louisiana",
          "Maryland",
          "Massachusetts",
          "Michigan",
          "Mississippi",
          "Missouri",
          "Montana",
          "Nebraska",
          "Nevada",
          "New Hampshire",
          "New Jersey",
          "New Mexico",
          "New York",
          "North Carolina",
          "Ohio",
          "Oklahoma",
          "Oregon",
          "Pennsylvania",
          "Rhode Island",
          "South Carolina",
          "South Dakota",
          "Tennessee",
          "Texas",
          "Utah",
          "Vermont",
          "Virginia",
          "Washington",
          "West Virginia",
          "Wisconsin",
          "Wyoming"
         ],
         "x0": " ",
         "xaxis": "x",
         "y": [
          0,
          0,
          0,
          0,
          0,
          0,
          0,
          0,
          0,
          0,
          0,
          0,
          0,
          3485,
          0,
          0,
          0,
          0,
          0,
          0,
          0,
          0,
          0,
          0,
          0,
          11706,
          0,
          0,
          0,
          0,
          0,
          0,
          0,
          0,
          0,
          0,
          0,
          0,
          0,
          0,
          0,
          0,
          0,
          0,
          0,
          0
         ],
         "y0": " ",
         "yaxis": "y"
        },
        {
         "alignmentgroup": "True",
         "boxpoints": "all",
         "fillcolor": "rgba(255,255,255,0)",
         "hoverlabel": {
          "namelength": 0
         },
         "hoveron": "points",
         "hovertemplate": "candidate=Chris Christie<br>state=%{x}<br>votes=%{y}",
         "legendgroup": "candidate=Chris Christie",
         "line": {
          "color": "rgba(255,255,255,0)"
         },
         "marker": {
          "color": "#FF6692"
         },
         "name": "candidate=Chris Christie",
         "offsetgroup": "candidate=Chris Christie",
         "orientation": "h",
         "pointpos": 0,
         "showlegend": true,
         "type": "box",
         "x": [
          "Alabama",
          "Alaska",
          "Arizona",
          "Arkansas",
          "California",
          "Connecticut",
          "Delaware",
          "Florida",
          "Georgia",
          "Hawaii",
          "Idaho",
          "Illinois",
          "Indiana",
          "Iowa",
          "Kansas",
          "Kentucky",
          "Louisiana",
          "Maryland",
          "Massachusetts",
          "Michigan",
          "Mississippi",
          "Missouri",
          "Montana",
          "Nebraska",
          "Nevada",
          "New Hampshire",
          "New Jersey",
          "New Mexico",
          "New York",
          "North Carolina",
          "Ohio",
          "Oklahoma",
          "Oregon",
          "Pennsylvania",
          "Rhode Island",
          "South Carolina",
          "South Dakota",
          "Tennessee",
          "Texas",
          "Utah",
          "Vermont",
          "Virginia",
          "Washington",
          "West Virginia",
          "Wisconsin",
          "Wyoming"
         ],
         "x0": " ",
         "xaxis": "x",
         "y": [
          0,
          0,
          0,
          0,
          0,
          0,
          0,
          0,
          0,
          0,
          0,
          0,
          0,
          3284,
          0,
          0,
          0,
          0,
          0,
          0,
          0,
          0,
          0,
          0,
          0,
          21069,
          0,
          0,
          0,
          0,
          0,
          0,
          0,
          0,
          0,
          0,
          0,
          0,
          0,
          0,
          0,
          0,
          0,
          0,
          0,
          0
         ],
         "y0": " ",
         "yaxis": "y"
        },
        {
         "alignmentgroup": "True",
         "boxpoints": "all",
         "fillcolor": "rgba(255,255,255,0)",
         "hoverlabel": {
          "namelength": 0
         },
         "hoveron": "points",
         "hovertemplate": "candidate=Jeb Bush<br>state=%{x}<br>votes=%{y}",
         "legendgroup": "candidate=Jeb Bush",
         "line": {
          "color": "rgba(255,255,255,0)"
         },
         "marker": {
          "color": "#B6E880"
         },
         "name": "candidate=Jeb Bush",
         "offsetgroup": "candidate=Jeb Bush",
         "orientation": "h",
         "pointpos": 0,
         "showlegend": true,
         "type": "box",
         "x": [
          "Alabama",
          "Alaska",
          "Arizona",
          "Arkansas",
          "California",
          "Connecticut",
          "Delaware",
          "Florida",
          "Georgia",
          "Hawaii",
          "Idaho",
          "Illinois",
          "Indiana",
          "Iowa",
          "Kansas",
          "Kentucky",
          "Louisiana",
          "Maryland",
          "Massachusetts",
          "Michigan",
          "Mississippi",
          "Missouri",
          "Montana",
          "Nebraska",
          "Nevada",
          "New Hampshire",
          "New Jersey",
          "New Mexico",
          "New York",
          "North Carolina",
          "Ohio",
          "Oklahoma",
          "Oregon",
          "Pennsylvania",
          "Rhode Island",
          "South Carolina",
          "South Dakota",
          "Tennessee",
          "Texas",
          "Utah",
          "Vermont",
          "Virginia",
          "Washington",
          "West Virginia",
          "Wisconsin",
          "Wyoming"
         ],
         "x0": " ",
         "xaxis": "x",
         "y": [
          0,
          0,
          0,
          0,
          0,
          0,
          0,
          0,
          0,
          0,
          0,
          0,
          0,
          5238,
          0,
          0,
          0,
          0,
          0,
          0,
          0,
          0,
          0,
          0,
          0,
          31310,
          0,
          0,
          0,
          0,
          0,
          0,
          0,
          0,
          0,
          57863,
          0,
          0,
          0,
          0,
          0,
          0,
          0,
          0,
          0,
          0
         ],
         "y0": " ",
         "yaxis": "y"
        },
        {
         "alignmentgroup": "True",
         "boxpoints": "all",
         "fillcolor": "rgba(255,255,255,0)",
         "hoverlabel": {
          "namelength": 0
         },
         "hoveron": "points",
         "hovertemplate": "candidate=Mike Huckabee<br>state=%{x}<br>votes=%{y}",
         "legendgroup": "candidate=Mike Huckabee",
         "line": {
          "color": "rgba(255,255,255,0)"
         },
         "marker": {
          "color": "#FF97FF"
         },
         "name": "candidate=Mike Huckabee",
         "offsetgroup": "candidate=Mike Huckabee",
         "orientation": "h",
         "pointpos": 0,
         "showlegend": true,
         "type": "box",
         "x": [
          "Alabama",
          "Alaska",
          "Arizona",
          "Arkansas",
          "California",
          "Connecticut",
          "Delaware",
          "Florida",
          "Georgia",
          "Hawaii",
          "Idaho",
          "Illinois",
          "Indiana",
          "Iowa",
          "Kansas",
          "Kentucky",
          "Louisiana",
          "Maryland",
          "Massachusetts",
          "Michigan",
          "Mississippi",
          "Missouri",
          "Montana",
          "Nebraska",
          "Nevada",
          "New Hampshire",
          "New Jersey",
          "New Mexico",
          "New York",
          "North Carolina",
          "Ohio",
          "Oklahoma",
          "Oregon",
          "Pennsylvania",
          "Rhode Island",
          "South Carolina",
          "South Dakota",
          "Tennessee",
          "Texas",
          "Utah",
          "Vermont",
          "Virginia",
          "Washington",
          "West Virginia",
          "Wisconsin",
          "Wyoming"
         ],
         "x0": " ",
         "xaxis": "x",
         "y": [
          0,
          0,
          0,
          0,
          0,
          0,
          0,
          0,
          0,
          0,
          0,
          0,
          0,
          3345,
          0,
          0,
          0,
          0,
          0,
          0,
          0,
          0,
          0,
          0,
          0,
          0,
          0,
          0,
          0,
          0,
          0,
          0,
          0,
          0,
          0,
          0,
          0,
          0,
          0,
          0,
          0,
          0,
          0,
          0,
          0,
          0
         ],
         "y0": " ",
         "yaxis": "y"
        },
        {
         "alignmentgroup": "True",
         "boxpoints": "all",
         "fillcolor": "rgba(255,255,255,0)",
         "hoverlabel": {
          "namelength": 0
         },
         "hoveron": "points",
         "hovertemplate": "candidate=Rand Paul<br>state=%{x}<br>votes=%{y}",
         "legendgroup": "candidate=Rand Paul",
         "line": {
          "color": "rgba(255,255,255,0)"
         },
         "marker": {
          "color": "#FECB52"
         },
         "name": "candidate=Rand Paul",
         "offsetgroup": "candidate=Rand Paul",
         "orientation": "h",
         "pointpos": 0,
         "showlegend": true,
         "type": "box",
         "x": [
          "Alabama",
          "Alaska",
          "Arizona",
          "Arkansas",
          "California",
          "Connecticut",
          "Delaware",
          "Florida",
          "Georgia",
          "Hawaii",
          "Idaho",
          "Illinois",
          "Indiana",
          "Iowa",
          "Kansas",
          "Kentucky",
          "Louisiana",
          "Maryland",
          "Massachusetts",
          "Michigan",
          "Mississippi",
          "Missouri",
          "Montana",
          "Nebraska",
          "Nevada",
          "New Hampshire",
          "New Jersey",
          "New Mexico",
          "New York",
          "North Carolina",
          "Ohio",
          "Oklahoma",
          "Oregon",
          "Pennsylvania",
          "Rhode Island",
          "South Carolina",
          "South Dakota",
          "Tennessee",
          "Texas",
          "Utah",
          "Vermont",
          "Virginia",
          "Washington",
          "West Virginia",
          "Wisconsin",
          "Wyoming"
         ],
         "x0": " ",
         "xaxis": "x",
         "y": [
          0,
          0,
          0,
          0,
          0,
          0,
          0,
          0,
          0,
          0,
          0,
          0,
          0,
          8479,
          0,
          0,
          0,
          0,
          0,
          0,
          0,
          0,
          0,
          0,
          0,
          0,
          0,
          0,
          0,
          0,
          0,
          0,
          0,
          0,
          0,
          0,
          0,
          0,
          0,
          0,
          0,
          0,
          0,
          0,
          0,
          0
         ],
         "y0": " ",
         "yaxis": "y"
        },
        {
         "alignmentgroup": "True",
         "boxpoints": "all",
         "fillcolor": "rgba(255,255,255,0)",
         "hoverlabel": {
          "namelength": 0
         },
         "hoveron": "points",
         "hovertemplate": "candidate=Rick Santorum<br>state=%{x}<br>votes=%{y}",
         "legendgroup": "candidate=Rick Santorum",
         "line": {
          "color": "rgba(255,255,255,0)"
         },
         "marker": {
          "color": "#636efa"
         },
         "name": "candidate=Rick Santorum",
         "offsetgroup": "candidate=Rick Santorum",
         "orientation": "h",
         "pointpos": 0,
         "showlegend": true,
         "type": "box",
         "x": [
          "Alabama",
          "Alaska",
          "Arizona",
          "Arkansas",
          "California",
          "Connecticut",
          "Delaware",
          "Florida",
          "Georgia",
          "Hawaii",
          "Idaho",
          "Illinois",
          "Indiana",
          "Iowa",
          "Kansas",
          "Kentucky",
          "Louisiana",
          "Maryland",
          "Massachusetts",
          "Michigan",
          "Mississippi",
          "Missouri",
          "Montana",
          "Nebraska",
          "Nevada",
          "New Hampshire",
          "New Jersey",
          "New Mexico",
          "New York",
          "North Carolina",
          "Ohio",
          "Oklahoma",
          "Oregon",
          "Pennsylvania",
          "Rhode Island",
          "South Carolina",
          "South Dakota",
          "Tennessee",
          "Texas",
          "Utah",
          "Vermont",
          "Virginia",
          "Washington",
          "West Virginia",
          "Wisconsin",
          "Wyoming"
         ],
         "x0": " ",
         "xaxis": "x",
         "y": [
          0,
          0,
          0,
          0,
          0,
          0,
          0,
          0,
          0,
          0,
          0,
          0,
          0,
          1782,
          0,
          0,
          0,
          0,
          0,
          0,
          0,
          0,
          0,
          0,
          0,
          0,
          0,
          0,
          0,
          0,
          0,
          0,
          0,
          0,
          0,
          0,
          0,
          0,
          0,
          0,
          0,
          0,
          0,
          0,
          0,
          0
         ],
         "y0": " ",
         "yaxis": "y"
        }
       ],
       "layout": {
        "boxmode": "group",
        "legend": {
         "tracegroupgap": 0
        },
        "margin": {
         "t": 60
        },
        "template": {
         "data": {
          "bar": [
           {
            "error_x": {
             "color": "#2a3f5f"
            },
            "error_y": {
             "color": "#2a3f5f"
            },
            "marker": {
             "line": {
              "color": "#E5ECF6",
              "width": 0.5
             }
            },
            "type": "bar"
           }
          ],
          "barpolar": [
           {
            "marker": {
             "line": {
              "color": "#E5ECF6",
              "width": 0.5
             }
            },
            "type": "barpolar"
           }
          ],
          "carpet": [
           {
            "aaxis": {
             "endlinecolor": "#2a3f5f",
             "gridcolor": "white",
             "linecolor": "white",
             "minorgridcolor": "white",
             "startlinecolor": "#2a3f5f"
            },
            "baxis": {
             "endlinecolor": "#2a3f5f",
             "gridcolor": "white",
             "linecolor": "white",
             "minorgridcolor": "white",
             "startlinecolor": "#2a3f5f"
            },
            "type": "carpet"
           }
          ],
          "choropleth": [
           {
            "colorbar": {
             "outlinewidth": 0,
             "ticks": ""
            },
            "type": "choropleth"
           }
          ],
          "contour": [
           {
            "colorbar": {
             "outlinewidth": 0,
             "ticks": ""
            },
            "colorscale": [
             [
              0,
              "#0d0887"
             ],
             [
              0.1111111111111111,
              "#46039f"
             ],
             [
              0.2222222222222222,
              "#7201a8"
             ],
             [
              0.3333333333333333,
              "#9c179e"
             ],
             [
              0.4444444444444444,
              "#bd3786"
             ],
             [
              0.5555555555555556,
              "#d8576b"
             ],
             [
              0.6666666666666666,
              "#ed7953"
             ],
             [
              0.7777777777777778,
              "#fb9f3a"
             ],
             [
              0.8888888888888888,
              "#fdca26"
             ],
             [
              1,
              "#f0f921"
             ]
            ],
            "type": "contour"
           }
          ],
          "contourcarpet": [
           {
            "colorbar": {
             "outlinewidth": 0,
             "ticks": ""
            },
            "type": "contourcarpet"
           }
          ],
          "heatmap": [
           {
            "colorbar": {
             "outlinewidth": 0,
             "ticks": ""
            },
            "colorscale": [
             [
              0,
              "#0d0887"
             ],
             [
              0.1111111111111111,
              "#46039f"
             ],
             [
              0.2222222222222222,
              "#7201a8"
             ],
             [
              0.3333333333333333,
              "#9c179e"
             ],
             [
              0.4444444444444444,
              "#bd3786"
             ],
             [
              0.5555555555555556,
              "#d8576b"
             ],
             [
              0.6666666666666666,
              "#ed7953"
             ],
             [
              0.7777777777777778,
              "#fb9f3a"
             ],
             [
              0.8888888888888888,
              "#fdca26"
             ],
             [
              1,
              "#f0f921"
             ]
            ],
            "type": "heatmap"
           }
          ],
          "heatmapgl": [
           {
            "colorbar": {
             "outlinewidth": 0,
             "ticks": ""
            },
            "colorscale": [
             [
              0,
              "#0d0887"
             ],
             [
              0.1111111111111111,
              "#46039f"
             ],
             [
              0.2222222222222222,
              "#7201a8"
             ],
             [
              0.3333333333333333,
              "#9c179e"
             ],
             [
              0.4444444444444444,
              "#bd3786"
             ],
             [
              0.5555555555555556,
              "#d8576b"
             ],
             [
              0.6666666666666666,
              "#ed7953"
             ],
             [
              0.7777777777777778,
              "#fb9f3a"
             ],
             [
              0.8888888888888888,
              "#fdca26"
             ],
             [
              1,
              "#f0f921"
             ]
            ],
            "type": "heatmapgl"
           }
          ],
          "histogram": [
           {
            "marker": {
             "colorbar": {
              "outlinewidth": 0,
              "ticks": ""
             }
            },
            "type": "histogram"
           }
          ],
          "histogram2d": [
           {
            "colorbar": {
             "outlinewidth": 0,
             "ticks": ""
            },
            "colorscale": [
             [
              0,
              "#0d0887"
             ],
             [
              0.1111111111111111,
              "#46039f"
             ],
             [
              0.2222222222222222,
              "#7201a8"
             ],
             [
              0.3333333333333333,
              "#9c179e"
             ],
             [
              0.4444444444444444,
              "#bd3786"
             ],
             [
              0.5555555555555556,
              "#d8576b"
             ],
             [
              0.6666666666666666,
              "#ed7953"
             ],
             [
              0.7777777777777778,
              "#fb9f3a"
             ],
             [
              0.8888888888888888,
              "#fdca26"
             ],
             [
              1,
              "#f0f921"
             ]
            ],
            "type": "histogram2d"
           }
          ],
          "histogram2dcontour": [
           {
            "colorbar": {
             "outlinewidth": 0,
             "ticks": ""
            },
            "colorscale": [
             [
              0,
              "#0d0887"
             ],
             [
              0.1111111111111111,
              "#46039f"
             ],
             [
              0.2222222222222222,
              "#7201a8"
             ],
             [
              0.3333333333333333,
              "#9c179e"
             ],
             [
              0.4444444444444444,
              "#bd3786"
             ],
             [
              0.5555555555555556,
              "#d8576b"
             ],
             [
              0.6666666666666666,
              "#ed7953"
             ],
             [
              0.7777777777777778,
              "#fb9f3a"
             ],
             [
              0.8888888888888888,
              "#fdca26"
             ],
             [
              1,
              "#f0f921"
             ]
            ],
            "type": "histogram2dcontour"
           }
          ],
          "mesh3d": [
           {
            "colorbar": {
             "outlinewidth": 0,
             "ticks": ""
            },
            "type": "mesh3d"
           }
          ],
          "parcoords": [
           {
            "line": {
             "colorbar": {
              "outlinewidth": 0,
              "ticks": ""
             }
            },
            "type": "parcoords"
           }
          ],
          "pie": [
           {
            "automargin": true,
            "type": "pie"
           }
          ],
          "scatter": [
           {
            "marker": {
             "colorbar": {
              "outlinewidth": 0,
              "ticks": ""
             }
            },
            "type": "scatter"
           }
          ],
          "scatter3d": [
           {
            "line": {
             "colorbar": {
              "outlinewidth": 0,
              "ticks": ""
             }
            },
            "marker": {
             "colorbar": {
              "outlinewidth": 0,
              "ticks": ""
             }
            },
            "type": "scatter3d"
           }
          ],
          "scattercarpet": [
           {
            "marker": {
             "colorbar": {
              "outlinewidth": 0,
              "ticks": ""
             }
            },
            "type": "scattercarpet"
           }
          ],
          "scattergeo": [
           {
            "marker": {
             "colorbar": {
              "outlinewidth": 0,
              "ticks": ""
             }
            },
            "type": "scattergeo"
           }
          ],
          "scattergl": [
           {
            "marker": {
             "colorbar": {
              "outlinewidth": 0,
              "ticks": ""
             }
            },
            "type": "scattergl"
           }
          ],
          "scattermapbox": [
           {
            "marker": {
             "colorbar": {
              "outlinewidth": 0,
              "ticks": ""
             }
            },
            "type": "scattermapbox"
           }
          ],
          "scatterpolar": [
           {
            "marker": {
             "colorbar": {
              "outlinewidth": 0,
              "ticks": ""
             }
            },
            "type": "scatterpolar"
           }
          ],
          "scatterpolargl": [
           {
            "marker": {
             "colorbar": {
              "outlinewidth": 0,
              "ticks": ""
             }
            },
            "type": "scatterpolargl"
           }
          ],
          "scatterternary": [
           {
            "marker": {
             "colorbar": {
              "outlinewidth": 0,
              "ticks": ""
             }
            },
            "type": "scatterternary"
           }
          ],
          "surface": [
           {
            "colorbar": {
             "outlinewidth": 0,
             "ticks": ""
            },
            "colorscale": [
             [
              0,
              "#0d0887"
             ],
             [
              0.1111111111111111,
              "#46039f"
             ],
             [
              0.2222222222222222,
              "#7201a8"
             ],
             [
              0.3333333333333333,
              "#9c179e"
             ],
             [
              0.4444444444444444,
              "#bd3786"
             ],
             [
              0.5555555555555556,
              "#d8576b"
             ],
             [
              0.6666666666666666,
              "#ed7953"
             ],
             [
              0.7777777777777778,
              "#fb9f3a"
             ],
             [
              0.8888888888888888,
              "#fdca26"
             ],
             [
              1,
              "#f0f921"
             ]
            ],
            "type": "surface"
           }
          ],
          "table": [
           {
            "cells": {
             "fill": {
              "color": "#EBF0F8"
             },
             "line": {
              "color": "white"
             }
            },
            "header": {
             "fill": {
              "color": "#C8D4E3"
             },
             "line": {
              "color": "white"
             }
            },
            "type": "table"
           }
          ]
         },
         "layout": {
          "annotationdefaults": {
           "arrowcolor": "#2a3f5f",
           "arrowhead": 0,
           "arrowwidth": 1
          },
          "coloraxis": {
           "colorbar": {
            "outlinewidth": 0,
            "ticks": ""
           }
          },
          "colorscale": {
           "diverging": [
            [
             0,
             "#8e0152"
            ],
            [
             0.1,
             "#c51b7d"
            ],
            [
             0.2,
             "#de77ae"
            ],
            [
             0.3,
             "#f1b6da"
            ],
            [
             0.4,
             "#fde0ef"
            ],
            [
             0.5,
             "#f7f7f7"
            ],
            [
             0.6,
             "#e6f5d0"
            ],
            [
             0.7,
             "#b8e186"
            ],
            [
             0.8,
             "#7fbc41"
            ],
            [
             0.9,
             "#4d9221"
            ],
            [
             1,
             "#276419"
            ]
           ],
           "sequential": [
            [
             0,
             "#0d0887"
            ],
            [
             0.1111111111111111,
             "#46039f"
            ],
            [
             0.2222222222222222,
             "#7201a8"
            ],
            [
             0.3333333333333333,
             "#9c179e"
            ],
            [
             0.4444444444444444,
             "#bd3786"
            ],
            [
             0.5555555555555556,
             "#d8576b"
            ],
            [
             0.6666666666666666,
             "#ed7953"
            ],
            [
             0.7777777777777778,
             "#fb9f3a"
            ],
            [
             0.8888888888888888,
             "#fdca26"
            ],
            [
             1,
             "#f0f921"
            ]
           ],
           "sequentialminus": [
            [
             0,
             "#0d0887"
            ],
            [
             0.1111111111111111,
             "#46039f"
            ],
            [
             0.2222222222222222,
             "#7201a8"
            ],
            [
             0.3333333333333333,
             "#9c179e"
            ],
            [
             0.4444444444444444,
             "#bd3786"
            ],
            [
             0.5555555555555556,
             "#d8576b"
            ],
            [
             0.6666666666666666,
             "#ed7953"
            ],
            [
             0.7777777777777778,
             "#fb9f3a"
            ],
            [
             0.8888888888888888,
             "#fdca26"
            ],
            [
             1,
             "#f0f921"
            ]
           ]
          },
          "colorway": [
           "#636efa",
           "#EF553B",
           "#00cc96",
           "#ab63fa",
           "#FFA15A",
           "#19d3f3",
           "#FF6692",
           "#B6E880",
           "#FF97FF",
           "#FECB52"
          ],
          "font": {
           "color": "#2a3f5f"
          },
          "geo": {
           "bgcolor": "white",
           "lakecolor": "white",
           "landcolor": "#E5ECF6",
           "showlakes": true,
           "showland": true,
           "subunitcolor": "white"
          },
          "hoverlabel": {
           "align": "left"
          },
          "hovermode": "closest",
          "mapbox": {
           "style": "light"
          },
          "paper_bgcolor": "white",
          "plot_bgcolor": "#E5ECF6",
          "polar": {
           "angularaxis": {
            "gridcolor": "white",
            "linecolor": "white",
            "ticks": ""
           },
           "bgcolor": "#E5ECF6",
           "radialaxis": {
            "gridcolor": "white",
            "linecolor": "white",
            "ticks": ""
           }
          },
          "scene": {
           "xaxis": {
            "backgroundcolor": "#E5ECF6",
            "gridcolor": "white",
            "gridwidth": 2,
            "linecolor": "white",
            "showbackground": true,
            "ticks": "",
            "zerolinecolor": "white"
           },
           "yaxis": {
            "backgroundcolor": "#E5ECF6",
            "gridcolor": "white",
            "gridwidth": 2,
            "linecolor": "white",
            "showbackground": true,
            "ticks": "",
            "zerolinecolor": "white"
           },
           "zaxis": {
            "backgroundcolor": "#E5ECF6",
            "gridcolor": "white",
            "gridwidth": 2,
            "linecolor": "white",
            "showbackground": true,
            "ticks": "",
            "zerolinecolor": "white"
           }
          },
          "shapedefaults": {
           "line": {
            "color": "#2a3f5f"
           }
          },
          "ternary": {
           "aaxis": {
            "gridcolor": "white",
            "linecolor": "white",
            "ticks": ""
           },
           "baxis": {
            "gridcolor": "white",
            "linecolor": "white",
            "ticks": ""
           },
           "bgcolor": "#E5ECF6",
           "caxis": {
            "gridcolor": "white",
            "linecolor": "white",
            "ticks": ""
           }
          },
          "title": {
           "x": 0.05
          },
          "xaxis": {
           "automargin": true,
           "gridcolor": "white",
           "linecolor": "white",
           "ticks": "",
           "title": {
            "standoff": 15
           },
           "zerolinecolor": "white",
           "zerolinewidth": 2
          },
          "yaxis": {
           "automargin": true,
           "gridcolor": "white",
           "linecolor": "white",
           "ticks": "",
           "title": {
            "standoff": 15
           },
           "zerolinecolor": "white",
           "zerolinewidth": 2
          }
         }
        },
        "xaxis": {
         "anchor": "y",
         "domain": [
          0,
          1
         ],
         "title": {
          "text": "state"
         }
        },
        "yaxis": {
         "anchor": "x",
         "domain": [
          0,
          1
         ],
         "title": {
          "text": "votes"
         }
        }
       }
      },
      "text/html": [
       "<div>\n",
       "        \n",
       "        \n",
       "            <div id=\"3d7bf3bd-25cc-4bdc-882a-1dc35eb126a9\" class=\"plotly-graph-div\" style=\"height:525px; width:100%;\"></div>\n",
       "            <script type=\"text/javascript\">\n",
       "                require([\"plotly\"], function(Plotly) {\n",
       "                    window.PLOTLYENV=window.PLOTLYENV || {};\n",
       "                    \n",
       "                if (document.getElementById(\"3d7bf3bd-25cc-4bdc-882a-1dc35eb126a9\")) {\n",
       "                    Plotly.newPlot(\n",
       "                        '3d7bf3bd-25cc-4bdc-882a-1dc35eb126a9',\n",
       "                        [{\"alignmentgroup\": \"True\", \"boxpoints\": \"all\", \"fillcolor\": \"rgba(255,255,255,0)\", \"hoverlabel\": {\"namelength\": 0}, \"hoveron\": \"points\", \"hovertemplate\": \"candidate=Ben Carson<br>state=%{x}<br>votes=%{y}\", \"legendgroup\": \"candidate=Ben Carson\", \"line\": {\"color\": \"rgba(255,255,255,0)\"}, \"marker\": {\"color\": \"#636efa\"}, \"name\": \"candidate=Ben Carson\", \"offsetgroup\": \"candidate=Ben Carson\", \"orientation\": \"h\", \"pointpos\": 0, \"showlegend\": true, \"type\": \"box\", \"x\": [\"Alabama\", \"Alaska\", \"Arizona\", \"Arkansas\", \"California\", \"Connecticut\", \"Delaware\", \"Florida\", \"Georgia\", \"Hawaii\", \"Idaho\", \"Illinois\", \"Indiana\", \"Iowa\", \"Kansas\", \"Kentucky\", \"Louisiana\", \"Maryland\", \"Massachusetts\", \"Michigan\", \"Mississippi\", \"Missouri\", \"Montana\", \"Nebraska\", \"Nevada\", \"New Hampshire\", \"New Jersey\", \"New Mexico\", \"New York\", \"North Carolina\", \"Ohio\", \"Oklahoma\", \"Oregon\", \"Pennsylvania\", \"Rhode Island\", \"South Carolina\", \"South Dakota\", \"Tennessee\", \"Texas\", \"Utah\", \"Vermont\", \"Virginia\", \"Washington\", \"West Virginia\", \"Wisconsin\", \"Wyoming\"], \"x0\": \" \", \"xaxis\": \"x\", \"y\": [87517, 2401, 0, 23173, 0, 0, 0, 0, 80503, 0, 0, 0, 0, 17393, 0, 0, 0, 0, 16277, 0, 0, 0, 0, 0, 3619, 6509, 0, 0, 0, 0, 0, 28572, 0, 0, 0, 53326, 0, 64846, 117780, 0, 2544, 60093, 0, 0, 0, 0], \"y0\": \" \", \"yaxis\": \"y\"}, {\"alignmentgroup\": \"True\", \"boxpoints\": \"all\", \"fillcolor\": \"rgba(255,255,255,0)\", \"hoverlabel\": {\"namelength\": 0}, \"hoveron\": \"points\", \"hovertemplate\": \"candidate=Donald Trump<br>state=%{x}<br>votes=%{y}\", \"legendgroup\": \"candidate=Donald Trump\", \"line\": {\"color\": \"rgba(255,255,255,0)\"}, \"marker\": {\"color\": \"#EF553B\"}, \"name\": \"candidate=Donald Trump\", \"offsetgroup\": \"candidate=Donald Trump\", \"orientation\": \"h\", \"pointpos\": 0, \"showlegend\": true, \"type\": \"box\", \"x\": [\"Alabama\", \"Alaska\", \"Arizona\", \"Arkansas\", \"California\", \"Connecticut\", \"Delaware\", \"Florida\", \"Georgia\", \"Hawaii\", \"Idaho\", \"Illinois\", \"Indiana\", \"Iowa\", \"Kansas\", \"Kentucky\", \"Louisiana\", \"Maryland\", \"Massachusetts\", \"Michigan\", \"Mississippi\", \"Missouri\", \"Montana\", \"Nebraska\", \"Nevada\", \"New Hampshire\", \"New Jersey\", \"New Mexico\", \"New York\", \"North Carolina\", \"Ohio\", \"Oklahoma\", \"Oregon\", \"Pennsylvania\", \"Rhode Island\", \"South Carolina\", \"South Dakota\", \"Tennessee\", \"Texas\", \"Utah\", \"Vermont\", \"Virginia\", \"Washington\", \"West Virginia\", \"Wisconsin\", \"Wyoming\"], \"x0\": \" \", \"xaxis\": \"x\", \"y\": [371735, 7346, 249916, 133144, 1174829, 123367, 42472, 1077221, 501707, 5677, 62478, 551464, 590460, 45419, 17062, 82493, 124818, 236623, 311313, 483751, 191755, 382093, 114056, 121287, 34531, 100406, 356697, 73530, 524932, 458151, 727585, 130141, 240804, 892702, 39059, 239851, 44866, 332702, 757618, 24864, 19968, 355960, 403003, 156245, 386370, 70], \"y0\": \" \", \"yaxis\": \"y\"}, {\"alignmentgroup\": \"True\", \"boxpoints\": \"all\", \"fillcolor\": \"rgba(255,255,255,0)\", \"hoverlabel\": {\"namelength\": 0}, \"hoveron\": \"points\", \"hovertemplate\": \"candidate=John Kasich<br>state=%{x}<br>votes=%{y}\", \"legendgroup\": \"candidate=John Kasich\", \"line\": {\"color\": \"rgba(255,255,255,0)\"}, \"marker\": {\"color\": \"#00cc96\"}, \"name\": \"candidate=John Kasich\", \"offsetgroup\": \"candidate=John Kasich\", \"orientation\": \"h\", \"pointpos\": 0, \"showlegend\": true, \"type\": \"box\", \"x\": [\"Alabama\", \"Alaska\", \"Arizona\", \"Arkansas\", \"California\", \"Connecticut\", \"Delaware\", \"Florida\", \"Georgia\", \"Hawaii\", \"Idaho\", \"Illinois\", \"Indiana\", \"Iowa\", \"Kansas\", \"Kentucky\", \"Louisiana\", \"Maryland\", \"Massachusetts\", \"Michigan\", \"Mississippi\", \"Missouri\", \"Montana\", \"Nebraska\", \"Nevada\", \"New Hampshire\", \"New Jersey\", \"New Mexico\", \"New York\", \"North Carolina\", \"Ohio\", \"Oklahoma\", \"Oregon\", \"Pennsylvania\", \"Rhode Island\", \"South Carolina\", \"South Dakota\", \"Tennessee\", \"Texas\", \"Utah\", \"Vermont\", \"Virginia\", \"Washington\", \"West Virginia\", \"Wisconsin\", \"Wyoming\"], \"x0\": \" \", \"xaxis\": \"x\", \"y\": [37970, 892, 53040, 15098, 176620, 60481, 14225, 159412, 72303, 1413, 16517, 279778, 83913, 3472, 7795, 33134, 19355, 100089, 113783, 321655, 35817, 92533, 10622, 22526, 2709, 44909, 59506, 7870, 217904, 144299, 956762, 16515, 59096, 304793, 14929, 56206, 10659, 45243, 120257, 29773, 18543, 96519, 52129, 13685, 155200, 0], \"y0\": \" \", \"yaxis\": \"y\"}, {\"alignmentgroup\": \"True\", \"boxpoints\": \"all\", \"fillcolor\": \"rgba(255,255,255,0)\", \"hoverlabel\": {\"namelength\": 0}, \"hoveron\": \"points\", \"hovertemplate\": \"candidate=Marco Rubio<br>state=%{x}<br>votes=%{y}\", \"legendgroup\": \"candidate=Marco Rubio\", \"line\": {\"color\": \"rgba(255,255,255,0)\"}, \"marker\": {\"color\": \"#ab63fa\"}, \"name\": \"candidate=Marco Rubio\", \"offsetgroup\": \"candidate=Marco Rubio\", \"orientation\": \"h\", \"pointpos\": 0, \"showlegend\": true, \"type\": \"box\", \"x\": [\"Alabama\", \"Alaska\", \"Arizona\", \"Arkansas\", \"California\", \"Connecticut\", \"Delaware\", \"Florida\", \"Georgia\", \"Hawaii\", \"Idaho\", \"Illinois\", \"Indiana\", \"Iowa\", \"Kansas\", \"Kentucky\", \"Louisiana\", \"Maryland\", \"Massachusetts\", \"Michigan\", \"Mississippi\", \"Missouri\", \"Montana\", \"Nebraska\", \"Nevada\", \"New Hampshire\", \"New Jersey\", \"New Mexico\", \"New York\", \"North Carolina\", \"Ohio\", \"Oklahoma\", \"Oregon\", \"Pennsylvania\", \"Rhode Island\", \"South Carolina\", \"South Dakota\", \"Tennessee\", \"Texas\", \"Utah\", \"Vermont\", \"Virginia\", \"Washington\", \"West Virginia\", \"Wisconsin\", \"Wyoming\"], \"x0\": \" \", \"xaxis\": \"x\", \"y\": [159802, 3318, 0, 101235, 0, 0, 0, 636653, 315979, 1759, 35347, 123066, 0, 43164, 12189, 37579, 33804, 0, 112822, 123673, 20768, 57006, 0, 0, 17940, 30032, 0, 0, 0, 87858, 59418, 119562, 0, 0, 0, 165881, 0, 180989, 502223, 0, 11778, 327042, 0, 0, 0, 189], \"y0\": \" \", \"yaxis\": \"y\"}, {\"alignmentgroup\": \"True\", \"boxpoints\": \"all\", \"fillcolor\": \"rgba(255,255,255,0)\", \"hoverlabel\": {\"namelength\": 0}, \"hoveron\": \"points\", \"hovertemplate\": \"candidate=Ted Cruz<br>state=%{x}<br>votes=%{y}\", \"legendgroup\": \"candidate=Ted Cruz\", \"line\": {\"color\": \"rgba(255,255,255,0)\"}, \"marker\": {\"color\": \"#FFA15A\"}, \"name\": \"candidate=Ted Cruz\", \"offsetgroup\": \"candidate=Ted Cruz\", \"orientation\": \"h\", \"pointpos\": 0, \"showlegend\": true, \"type\": \"box\", \"x\": [\"Alabama\", \"Alaska\", \"Arizona\", \"Arkansas\", \"California\", \"Connecticut\", \"Delaware\", \"Florida\", \"Georgia\", \"Hawaii\", \"Idaho\", \"Illinois\", \"Indiana\", \"Iowa\", \"Kansas\", \"Kentucky\", \"Louisiana\", \"Maryland\", \"Massachusetts\", \"Michigan\", \"Mississippi\", \"Missouri\", \"Montana\", \"Nebraska\", \"Nevada\", \"New Hampshire\", \"New Jersey\", \"New Mexico\", \"New York\", \"North Carolina\", \"Ohio\", \"Oklahoma\", \"Oregon\", \"Pennsylvania\", \"Rhode Island\", \"South Carolina\", \"South Dakota\", \"Tennessee\", \"Texas\", \"Utah\", \"Vermont\", \"Virginia\", \"Washington\", \"West Virginia\", \"Wisconsin\", \"Wyoming\"], \"x0\": \" \", \"xaxis\": \"x\", \"y\": [180608, 7973, 132147, 123873, 144125, 24969, 11110, 403640, 305109, 4379, 100942, 430395, 406280, 51663, 35207, 72503, 113949, 82038, 60473, 330015, 147065, 380367, 14476, 36418, 16079, 33189, 27521, 13825, 126151, 418740, 267592, 157941, 61590, 340201, 6393, 164790, 11352, 211159, 1239370, 122567, 5929, 173193, 55719, 18208, 531129, 644], \"y0\": \" \", \"yaxis\": \"y\"}, {\"alignmentgroup\": \"True\", \"boxpoints\": \"all\", \"fillcolor\": \"rgba(255,255,255,0)\", \"hoverlabel\": {\"namelength\": 0}, \"hoveron\": \"points\", \"hovertemplate\": \"candidate=Carly Fiorina<br>state=%{x}<br>votes=%{y}\", \"legendgroup\": \"candidate=Carly Fiorina\", \"line\": {\"color\": \"rgba(255,255,255,0)\"}, \"marker\": {\"color\": \"#19d3f3\"}, \"name\": \"candidate=Carly Fiorina\", \"offsetgroup\": \"candidate=Carly Fiorina\", \"orientation\": \"h\", \"pointpos\": 0, \"showlegend\": true, \"type\": \"box\", \"x\": [\"Alabama\", \"Alaska\", \"Arizona\", \"Arkansas\", \"California\", \"Connecticut\", \"Delaware\", \"Florida\", \"Georgia\", \"Hawaii\", \"Idaho\", \"Illinois\", \"Indiana\", \"Iowa\", \"Kansas\", \"Kentucky\", \"Louisiana\", \"Maryland\", \"Massachusetts\", \"Michigan\", \"Mississippi\", \"Missouri\", \"Montana\", \"Nebraska\", \"Nevada\", \"New Hampshire\", \"New Jersey\", \"New Mexico\", \"New York\", \"North Carolina\", \"Ohio\", \"Oklahoma\", \"Oregon\", \"Pennsylvania\", \"Rhode Island\", \"South Carolina\", \"South Dakota\", \"Tennessee\", \"Texas\", \"Utah\", \"Vermont\", \"Virginia\", \"Washington\", \"West Virginia\", \"Wisconsin\", \"Wyoming\"], \"x0\": \" \", \"xaxis\": \"x\", \"y\": [0, 0, 0, 0, 0, 0, 0, 0, 0, 0, 0, 0, 0, 3485, 0, 0, 0, 0, 0, 0, 0, 0, 0, 0, 0, 11706, 0, 0, 0, 0, 0, 0, 0, 0, 0, 0, 0, 0, 0, 0, 0, 0, 0, 0, 0, 0], \"y0\": \" \", \"yaxis\": \"y\"}, {\"alignmentgroup\": \"True\", \"boxpoints\": \"all\", \"fillcolor\": \"rgba(255,255,255,0)\", \"hoverlabel\": {\"namelength\": 0}, \"hoveron\": \"points\", \"hovertemplate\": \"candidate=Chris Christie<br>state=%{x}<br>votes=%{y}\", \"legendgroup\": \"candidate=Chris Christie\", \"line\": {\"color\": \"rgba(255,255,255,0)\"}, \"marker\": {\"color\": \"#FF6692\"}, \"name\": \"candidate=Chris Christie\", \"offsetgroup\": \"candidate=Chris Christie\", \"orientation\": \"h\", \"pointpos\": 0, \"showlegend\": true, \"type\": \"box\", \"x\": [\"Alabama\", \"Alaska\", \"Arizona\", \"Arkansas\", \"California\", \"Connecticut\", \"Delaware\", \"Florida\", \"Georgia\", \"Hawaii\", \"Idaho\", \"Illinois\", \"Indiana\", \"Iowa\", \"Kansas\", \"Kentucky\", \"Louisiana\", \"Maryland\", \"Massachusetts\", \"Michigan\", \"Mississippi\", \"Missouri\", \"Montana\", \"Nebraska\", \"Nevada\", \"New Hampshire\", \"New Jersey\", \"New Mexico\", \"New York\", \"North Carolina\", \"Ohio\", \"Oklahoma\", \"Oregon\", \"Pennsylvania\", \"Rhode Island\", \"South Carolina\", \"South Dakota\", \"Tennessee\", \"Texas\", \"Utah\", \"Vermont\", \"Virginia\", \"Washington\", \"West Virginia\", \"Wisconsin\", \"Wyoming\"], \"x0\": \" \", \"xaxis\": \"x\", \"y\": [0, 0, 0, 0, 0, 0, 0, 0, 0, 0, 0, 0, 0, 3284, 0, 0, 0, 0, 0, 0, 0, 0, 0, 0, 0, 21069, 0, 0, 0, 0, 0, 0, 0, 0, 0, 0, 0, 0, 0, 0, 0, 0, 0, 0, 0, 0], \"y0\": \" \", \"yaxis\": \"y\"}, {\"alignmentgroup\": \"True\", \"boxpoints\": \"all\", \"fillcolor\": \"rgba(255,255,255,0)\", \"hoverlabel\": {\"namelength\": 0}, \"hoveron\": \"points\", \"hovertemplate\": \"candidate=Jeb Bush<br>state=%{x}<br>votes=%{y}\", \"legendgroup\": \"candidate=Jeb Bush\", \"line\": {\"color\": \"rgba(255,255,255,0)\"}, \"marker\": {\"color\": \"#B6E880\"}, \"name\": \"candidate=Jeb Bush\", \"offsetgroup\": \"candidate=Jeb Bush\", \"orientation\": \"h\", \"pointpos\": 0, \"showlegend\": true, \"type\": \"box\", \"x\": [\"Alabama\", \"Alaska\", \"Arizona\", \"Arkansas\", \"California\", \"Connecticut\", \"Delaware\", \"Florida\", \"Georgia\", \"Hawaii\", \"Idaho\", \"Illinois\", \"Indiana\", \"Iowa\", \"Kansas\", \"Kentucky\", \"Louisiana\", \"Maryland\", \"Massachusetts\", \"Michigan\", \"Mississippi\", \"Missouri\", \"Montana\", \"Nebraska\", \"Nevada\", \"New Hampshire\", \"New Jersey\", \"New Mexico\", \"New York\", \"North Carolina\", \"Ohio\", \"Oklahoma\", \"Oregon\", \"Pennsylvania\", \"Rhode Island\", \"South Carolina\", \"South Dakota\", \"Tennessee\", \"Texas\", \"Utah\", \"Vermont\", \"Virginia\", \"Washington\", \"West Virginia\", \"Wisconsin\", \"Wyoming\"], \"x0\": \" \", \"xaxis\": \"x\", \"y\": [0, 0, 0, 0, 0, 0, 0, 0, 0, 0, 0, 0, 0, 5238, 0, 0, 0, 0, 0, 0, 0, 0, 0, 0, 0, 31310, 0, 0, 0, 0, 0, 0, 0, 0, 0, 57863, 0, 0, 0, 0, 0, 0, 0, 0, 0, 0], \"y0\": \" \", \"yaxis\": \"y\"}, {\"alignmentgroup\": \"True\", \"boxpoints\": \"all\", \"fillcolor\": \"rgba(255,255,255,0)\", \"hoverlabel\": {\"namelength\": 0}, \"hoveron\": \"points\", \"hovertemplate\": \"candidate=Mike Huckabee<br>state=%{x}<br>votes=%{y}\", \"legendgroup\": \"candidate=Mike Huckabee\", \"line\": {\"color\": \"rgba(255,255,255,0)\"}, \"marker\": {\"color\": \"#FF97FF\"}, \"name\": \"candidate=Mike Huckabee\", \"offsetgroup\": \"candidate=Mike Huckabee\", \"orientation\": \"h\", \"pointpos\": 0, \"showlegend\": true, \"type\": \"box\", \"x\": [\"Alabama\", \"Alaska\", \"Arizona\", \"Arkansas\", \"California\", \"Connecticut\", \"Delaware\", \"Florida\", \"Georgia\", \"Hawaii\", \"Idaho\", \"Illinois\", \"Indiana\", \"Iowa\", \"Kansas\", \"Kentucky\", \"Louisiana\", \"Maryland\", \"Massachusetts\", \"Michigan\", \"Mississippi\", \"Missouri\", \"Montana\", \"Nebraska\", \"Nevada\", \"New Hampshire\", \"New Jersey\", \"New Mexico\", \"New York\", \"North Carolina\", \"Ohio\", \"Oklahoma\", \"Oregon\", \"Pennsylvania\", \"Rhode Island\", \"South Carolina\", \"South Dakota\", \"Tennessee\", \"Texas\", \"Utah\", \"Vermont\", \"Virginia\", \"Washington\", \"West Virginia\", \"Wisconsin\", \"Wyoming\"], \"x0\": \" \", \"xaxis\": \"x\", \"y\": [0, 0, 0, 0, 0, 0, 0, 0, 0, 0, 0, 0, 0, 3345, 0, 0, 0, 0, 0, 0, 0, 0, 0, 0, 0, 0, 0, 0, 0, 0, 0, 0, 0, 0, 0, 0, 0, 0, 0, 0, 0, 0, 0, 0, 0, 0], \"y0\": \" \", \"yaxis\": \"y\"}, {\"alignmentgroup\": \"True\", \"boxpoints\": \"all\", \"fillcolor\": \"rgba(255,255,255,0)\", \"hoverlabel\": {\"namelength\": 0}, \"hoveron\": \"points\", \"hovertemplate\": \"candidate=Rand Paul<br>state=%{x}<br>votes=%{y}\", \"legendgroup\": \"candidate=Rand Paul\", \"line\": {\"color\": \"rgba(255,255,255,0)\"}, \"marker\": {\"color\": \"#FECB52\"}, \"name\": \"candidate=Rand Paul\", \"offsetgroup\": \"candidate=Rand Paul\", \"orientation\": \"h\", \"pointpos\": 0, \"showlegend\": true, \"type\": \"box\", \"x\": [\"Alabama\", \"Alaska\", \"Arizona\", \"Arkansas\", \"California\", \"Connecticut\", \"Delaware\", \"Florida\", \"Georgia\", \"Hawaii\", \"Idaho\", \"Illinois\", \"Indiana\", \"Iowa\", \"Kansas\", \"Kentucky\", \"Louisiana\", \"Maryland\", \"Massachusetts\", \"Michigan\", \"Mississippi\", \"Missouri\", \"Montana\", \"Nebraska\", \"Nevada\", \"New Hampshire\", \"New Jersey\", \"New Mexico\", \"New York\", \"North Carolina\", \"Ohio\", \"Oklahoma\", \"Oregon\", \"Pennsylvania\", \"Rhode Island\", \"South Carolina\", \"South Dakota\", \"Tennessee\", \"Texas\", \"Utah\", \"Vermont\", \"Virginia\", \"Washington\", \"West Virginia\", \"Wisconsin\", \"Wyoming\"], \"x0\": \" \", \"xaxis\": \"x\", \"y\": [0, 0, 0, 0, 0, 0, 0, 0, 0, 0, 0, 0, 0, 8479, 0, 0, 0, 0, 0, 0, 0, 0, 0, 0, 0, 0, 0, 0, 0, 0, 0, 0, 0, 0, 0, 0, 0, 0, 0, 0, 0, 0, 0, 0, 0, 0], \"y0\": \" \", \"yaxis\": \"y\"}, {\"alignmentgroup\": \"True\", \"boxpoints\": \"all\", \"fillcolor\": \"rgba(255,255,255,0)\", \"hoverlabel\": {\"namelength\": 0}, \"hoveron\": \"points\", \"hovertemplate\": \"candidate=Rick Santorum<br>state=%{x}<br>votes=%{y}\", \"legendgroup\": \"candidate=Rick Santorum\", \"line\": {\"color\": \"rgba(255,255,255,0)\"}, \"marker\": {\"color\": \"#636efa\"}, \"name\": \"candidate=Rick Santorum\", \"offsetgroup\": \"candidate=Rick Santorum\", \"orientation\": \"h\", \"pointpos\": 0, \"showlegend\": true, \"type\": \"box\", \"x\": [\"Alabama\", \"Alaska\", \"Arizona\", \"Arkansas\", \"California\", \"Connecticut\", \"Delaware\", \"Florida\", \"Georgia\", \"Hawaii\", \"Idaho\", \"Illinois\", \"Indiana\", \"Iowa\", \"Kansas\", \"Kentucky\", \"Louisiana\", \"Maryland\", \"Massachusetts\", \"Michigan\", \"Mississippi\", \"Missouri\", \"Montana\", \"Nebraska\", \"Nevada\", \"New Hampshire\", \"New Jersey\", \"New Mexico\", \"New York\", \"North Carolina\", \"Ohio\", \"Oklahoma\", \"Oregon\", \"Pennsylvania\", \"Rhode Island\", \"South Carolina\", \"South Dakota\", \"Tennessee\", \"Texas\", \"Utah\", \"Vermont\", \"Virginia\", \"Washington\", \"West Virginia\", \"Wisconsin\", \"Wyoming\"], \"x0\": \" \", \"xaxis\": \"x\", \"y\": [0, 0, 0, 0, 0, 0, 0, 0, 0, 0, 0, 0, 0, 1782, 0, 0, 0, 0, 0, 0, 0, 0, 0, 0, 0, 0, 0, 0, 0, 0, 0, 0, 0, 0, 0, 0, 0, 0, 0, 0, 0, 0, 0, 0, 0, 0], \"y0\": \" \", \"yaxis\": \"y\"}],\n",
       "                        {\"boxmode\": \"group\", \"legend\": {\"tracegroupgap\": 0}, \"margin\": {\"t\": 60}, \"template\": {\"data\": {\"bar\": [{\"error_x\": {\"color\": \"#2a3f5f\"}, \"error_y\": {\"color\": \"#2a3f5f\"}, \"marker\": {\"line\": {\"color\": \"#E5ECF6\", \"width\": 0.5}}, \"type\": \"bar\"}], \"barpolar\": [{\"marker\": {\"line\": {\"color\": \"#E5ECF6\", \"width\": 0.5}}, \"type\": \"barpolar\"}], \"carpet\": [{\"aaxis\": {\"endlinecolor\": \"#2a3f5f\", \"gridcolor\": \"white\", \"linecolor\": \"white\", \"minorgridcolor\": \"white\", \"startlinecolor\": \"#2a3f5f\"}, \"baxis\": {\"endlinecolor\": \"#2a3f5f\", \"gridcolor\": \"white\", \"linecolor\": \"white\", \"minorgridcolor\": \"white\", \"startlinecolor\": \"#2a3f5f\"}, \"type\": \"carpet\"}], \"choropleth\": [{\"colorbar\": {\"outlinewidth\": 0, \"ticks\": \"\"}, \"type\": \"choropleth\"}], \"contour\": [{\"colorbar\": {\"outlinewidth\": 0, \"ticks\": \"\"}, \"colorscale\": [[0.0, \"#0d0887\"], [0.1111111111111111, \"#46039f\"], [0.2222222222222222, \"#7201a8\"], [0.3333333333333333, \"#9c179e\"], [0.4444444444444444, \"#bd3786\"], [0.5555555555555556, \"#d8576b\"], [0.6666666666666666, \"#ed7953\"], [0.7777777777777778, \"#fb9f3a\"], [0.8888888888888888, \"#fdca26\"], [1.0, \"#f0f921\"]], \"type\": \"contour\"}], \"contourcarpet\": [{\"colorbar\": {\"outlinewidth\": 0, \"ticks\": \"\"}, \"type\": \"contourcarpet\"}], \"heatmap\": [{\"colorbar\": {\"outlinewidth\": 0, \"ticks\": \"\"}, \"colorscale\": [[0.0, \"#0d0887\"], [0.1111111111111111, \"#46039f\"], [0.2222222222222222, \"#7201a8\"], [0.3333333333333333, \"#9c179e\"], [0.4444444444444444, \"#bd3786\"], [0.5555555555555556, \"#d8576b\"], [0.6666666666666666, \"#ed7953\"], [0.7777777777777778, \"#fb9f3a\"], [0.8888888888888888, \"#fdca26\"], [1.0, \"#f0f921\"]], \"type\": \"heatmap\"}], \"heatmapgl\": [{\"colorbar\": {\"outlinewidth\": 0, \"ticks\": \"\"}, \"colorscale\": [[0.0, \"#0d0887\"], [0.1111111111111111, \"#46039f\"], [0.2222222222222222, \"#7201a8\"], [0.3333333333333333, \"#9c179e\"], [0.4444444444444444, \"#bd3786\"], [0.5555555555555556, \"#d8576b\"], [0.6666666666666666, \"#ed7953\"], [0.7777777777777778, \"#fb9f3a\"], [0.8888888888888888, \"#fdca26\"], [1.0, \"#f0f921\"]], \"type\": \"heatmapgl\"}], \"histogram\": [{\"marker\": {\"colorbar\": {\"outlinewidth\": 0, \"ticks\": \"\"}}, \"type\": \"histogram\"}], \"histogram2d\": [{\"colorbar\": {\"outlinewidth\": 0, \"ticks\": \"\"}, \"colorscale\": [[0.0, \"#0d0887\"], [0.1111111111111111, \"#46039f\"], [0.2222222222222222, \"#7201a8\"], [0.3333333333333333, \"#9c179e\"], [0.4444444444444444, \"#bd3786\"], [0.5555555555555556, \"#d8576b\"], [0.6666666666666666, \"#ed7953\"], [0.7777777777777778, \"#fb9f3a\"], [0.8888888888888888, \"#fdca26\"], [1.0, \"#f0f921\"]], \"type\": \"histogram2d\"}], \"histogram2dcontour\": [{\"colorbar\": {\"outlinewidth\": 0, \"ticks\": \"\"}, \"colorscale\": [[0.0, \"#0d0887\"], [0.1111111111111111, \"#46039f\"], [0.2222222222222222, \"#7201a8\"], [0.3333333333333333, \"#9c179e\"], [0.4444444444444444, \"#bd3786\"], [0.5555555555555556, \"#d8576b\"], [0.6666666666666666, \"#ed7953\"], [0.7777777777777778, \"#fb9f3a\"], [0.8888888888888888, \"#fdca26\"], [1.0, \"#f0f921\"]], \"type\": \"histogram2dcontour\"}], \"mesh3d\": [{\"colorbar\": {\"outlinewidth\": 0, \"ticks\": \"\"}, \"type\": \"mesh3d\"}], \"parcoords\": [{\"line\": {\"colorbar\": {\"outlinewidth\": 0, \"ticks\": \"\"}}, \"type\": \"parcoords\"}], \"pie\": [{\"automargin\": true, \"type\": \"pie\"}], \"scatter\": [{\"marker\": {\"colorbar\": {\"outlinewidth\": 0, \"ticks\": \"\"}}, \"type\": \"scatter\"}], \"scatter3d\": [{\"line\": {\"colorbar\": {\"outlinewidth\": 0, \"ticks\": \"\"}}, \"marker\": {\"colorbar\": {\"outlinewidth\": 0, \"ticks\": \"\"}}, \"type\": \"scatter3d\"}], \"scattercarpet\": [{\"marker\": {\"colorbar\": {\"outlinewidth\": 0, \"ticks\": \"\"}}, \"type\": \"scattercarpet\"}], \"scattergeo\": [{\"marker\": {\"colorbar\": {\"outlinewidth\": 0, \"ticks\": \"\"}}, \"type\": \"scattergeo\"}], \"scattergl\": [{\"marker\": {\"colorbar\": {\"outlinewidth\": 0, \"ticks\": \"\"}}, \"type\": \"scattergl\"}], \"scattermapbox\": [{\"marker\": {\"colorbar\": {\"outlinewidth\": 0, \"ticks\": \"\"}}, \"type\": \"scattermapbox\"}], \"scatterpolar\": [{\"marker\": {\"colorbar\": {\"outlinewidth\": 0, \"ticks\": \"\"}}, \"type\": \"scatterpolar\"}], \"scatterpolargl\": [{\"marker\": {\"colorbar\": {\"outlinewidth\": 0, \"ticks\": \"\"}}, \"type\": \"scatterpolargl\"}], \"scatterternary\": [{\"marker\": {\"colorbar\": {\"outlinewidth\": 0, \"ticks\": \"\"}}, \"type\": \"scatterternary\"}], \"surface\": [{\"colorbar\": {\"outlinewidth\": 0, \"ticks\": \"\"}, \"colorscale\": [[0.0, \"#0d0887\"], [0.1111111111111111, \"#46039f\"], [0.2222222222222222, \"#7201a8\"], [0.3333333333333333, \"#9c179e\"], [0.4444444444444444, \"#bd3786\"], [0.5555555555555556, \"#d8576b\"], [0.6666666666666666, \"#ed7953\"], [0.7777777777777778, \"#fb9f3a\"], [0.8888888888888888, \"#fdca26\"], [1.0, \"#f0f921\"]], \"type\": \"surface\"}], \"table\": [{\"cells\": {\"fill\": {\"color\": \"#EBF0F8\"}, \"line\": {\"color\": \"white\"}}, \"header\": {\"fill\": {\"color\": \"#C8D4E3\"}, \"line\": {\"color\": \"white\"}}, \"type\": \"table\"}]}, \"layout\": {\"annotationdefaults\": {\"arrowcolor\": \"#2a3f5f\", \"arrowhead\": 0, \"arrowwidth\": 1}, \"coloraxis\": {\"colorbar\": {\"outlinewidth\": 0, \"ticks\": \"\"}}, \"colorscale\": {\"diverging\": [[0, \"#8e0152\"], [0.1, \"#c51b7d\"], [0.2, \"#de77ae\"], [0.3, \"#f1b6da\"], [0.4, \"#fde0ef\"], [0.5, \"#f7f7f7\"], [0.6, \"#e6f5d0\"], [0.7, \"#b8e186\"], [0.8, \"#7fbc41\"], [0.9, \"#4d9221\"], [1, \"#276419\"]], \"sequential\": [[0.0, \"#0d0887\"], [0.1111111111111111, \"#46039f\"], [0.2222222222222222, \"#7201a8\"], [0.3333333333333333, \"#9c179e\"], [0.4444444444444444, \"#bd3786\"], [0.5555555555555556, \"#d8576b\"], [0.6666666666666666, \"#ed7953\"], [0.7777777777777778, \"#fb9f3a\"], [0.8888888888888888, \"#fdca26\"], [1.0, \"#f0f921\"]], \"sequentialminus\": [[0.0, \"#0d0887\"], [0.1111111111111111, \"#46039f\"], [0.2222222222222222, \"#7201a8\"], [0.3333333333333333, \"#9c179e\"], [0.4444444444444444, \"#bd3786\"], [0.5555555555555556, \"#d8576b\"], [0.6666666666666666, \"#ed7953\"], [0.7777777777777778, \"#fb9f3a\"], [0.8888888888888888, \"#fdca26\"], [1.0, \"#f0f921\"]]}, \"colorway\": [\"#636efa\", \"#EF553B\", \"#00cc96\", \"#ab63fa\", \"#FFA15A\", \"#19d3f3\", \"#FF6692\", \"#B6E880\", \"#FF97FF\", \"#FECB52\"], \"font\": {\"color\": \"#2a3f5f\"}, \"geo\": {\"bgcolor\": \"white\", \"lakecolor\": \"white\", \"landcolor\": \"#E5ECF6\", \"showlakes\": true, \"showland\": true, \"subunitcolor\": \"white\"}, \"hoverlabel\": {\"align\": \"left\"}, \"hovermode\": \"closest\", \"mapbox\": {\"style\": \"light\"}, \"paper_bgcolor\": \"white\", \"plot_bgcolor\": \"#E5ECF6\", \"polar\": {\"angularaxis\": {\"gridcolor\": \"white\", \"linecolor\": \"white\", \"ticks\": \"\"}, \"bgcolor\": \"#E5ECF6\", \"radialaxis\": {\"gridcolor\": \"white\", \"linecolor\": \"white\", \"ticks\": \"\"}}, \"scene\": {\"xaxis\": {\"backgroundcolor\": \"#E5ECF6\", \"gridcolor\": \"white\", \"gridwidth\": 2, \"linecolor\": \"white\", \"showbackground\": true, \"ticks\": \"\", \"zerolinecolor\": \"white\"}, \"yaxis\": {\"backgroundcolor\": \"#E5ECF6\", \"gridcolor\": \"white\", \"gridwidth\": 2, \"linecolor\": \"white\", \"showbackground\": true, \"ticks\": \"\", \"zerolinecolor\": \"white\"}, \"zaxis\": {\"backgroundcolor\": \"#E5ECF6\", \"gridcolor\": \"white\", \"gridwidth\": 2, \"linecolor\": \"white\", \"showbackground\": true, \"ticks\": \"\", \"zerolinecolor\": \"white\"}}, \"shapedefaults\": {\"line\": {\"color\": \"#2a3f5f\"}}, \"ternary\": {\"aaxis\": {\"gridcolor\": \"white\", \"linecolor\": \"white\", \"ticks\": \"\"}, \"baxis\": {\"gridcolor\": \"white\", \"linecolor\": \"white\", \"ticks\": \"\"}, \"bgcolor\": \"#E5ECF6\", \"caxis\": {\"gridcolor\": \"white\", \"linecolor\": \"white\", \"ticks\": \"\"}}, \"title\": {\"x\": 0.05}, \"xaxis\": {\"automargin\": true, \"gridcolor\": \"white\", \"linecolor\": \"white\", \"ticks\": \"\", \"title\": {\"standoff\": 15}, \"zerolinecolor\": \"white\", \"zerolinewidth\": 2}, \"yaxis\": {\"automargin\": true, \"gridcolor\": \"white\", \"linecolor\": \"white\", \"ticks\": \"\", \"title\": {\"standoff\": 15}, \"zerolinecolor\": \"white\", \"zerolinewidth\": 2}}}, \"xaxis\": {\"anchor\": \"y\", \"domain\": [0.0, 1.0], \"title\": {\"text\": \"state\"}}, \"yaxis\": {\"anchor\": \"x\", \"domain\": [0.0, 1.0], \"title\": {\"text\": \"votes\"}}},\n",
       "                        {\"responsive\": true}\n",
       "                    ).then(function(){\n",
       "                            \n",
       "var gd = document.getElementById('3d7bf3bd-25cc-4bdc-882a-1dc35eb126a9');\n",
       "var x = new MutationObserver(function (mutations, observer) {{\n",
       "        var display = window.getComputedStyle(gd).display;\n",
       "        if (!display || display === 'none') {{\n",
       "            console.log([gd, 'removed!']);\n",
       "            Plotly.purge(gd);\n",
       "            observer.disconnect();\n",
       "        }}\n",
       "}});\n",
       "\n",
       "// Listen for the removal of the full notebook cells\n",
       "var notebookContainer = gd.closest('#notebook-container');\n",
       "if (notebookContainer) {{\n",
       "    x.observe(notebookContainer, {childList: true});\n",
       "}}\n",
       "\n",
       "// Listen for the clearing of the current output cell\n",
       "var outputEl = gd.closest('.output');\n",
       "if (outputEl) {{\n",
       "    x.observe(outputEl, {childList: true});\n",
       "}}\n",
       "\n",
       "                        })\n",
       "                };\n",
       "                });\n",
       "            </script>\n",
       "        </div>"
      ]
     },
     "metadata": {},
     "output_type": "display_data"
    }
   ],
   "source": [
    "fig = px.strip(allData, x=\"state\", y=\"votes\", orientation=\"h\", color=\"candidate\")\n",
    "fig.show()"
   ]
  },
  {
   "cell_type": "markdown",
   "metadata": {},
   "source": [
    "#### Total Pemilih"
   ]
  },
  {
   "cell_type": "code",
   "execution_count": 209,
   "metadata": {},
   "outputs": [
    {
     "name": "stdout",
     "output_type": "stream",
     "text": [
      "Total Pemilih = 56759187\n"
     ]
    }
   ],
   "source": [
    "VotesTotal = primary['votes'].sum()\n",
    "VotesTotal \n",
    "print (f'Total Pemilih = {(VotesTotal )}')"
   ]
  },
  {
   "cell_type": "code",
   "execution_count": 217,
   "metadata": {},
   "outputs": [
    {
     "name": "stdout",
     "output_type": "stream",
     "text": [
      "Total Pemilih Republican = 51.267\n"
     ]
    }
   ],
   "source": [
    "VotesRep = Rep['votes'].sum()\n",
    "VotesRep = round(((VotesRep / VotesTotal)*100),3)\n",
    "print (f'Total Pemilih Republican = {(VotesRep )}')"
   ]
  },
  {
   "cell_type": "code",
   "execution_count": 218,
   "metadata": {},
   "outputs": [],
   "source": [
    "# votes = pd.DataFrame.from_dict(nyt_data.json()['contents']['races'][0]['counties'])\n"
   ]
  },
  {
   "cell_type": "code",
   "execution_count": 219,
   "metadata": {},
   "outputs": [],
   "source": [
    "# votes['Donald Trump'] = votes.results.apply(lambda x: x['jonesd'])\n"
   ]
  },
  {
   "cell_type": "code",
   "execution_count": 220,
   "metadata": {},
   "outputs": [],
   "source": [
    "# Rep.fraction_votes.value_counts().plot(kind='bar', figsize=(15,7))"
   ]
  },
  {
   "cell_type": "code",
   "execution_count": 221,
   "metadata": {},
   "outputs": [],
   "source": [
    "votes = results[results.party == \"Republican\"]\n",
    "votes = results.groupby(['state_abbreviation', 'county']).sum()\n",
    "# votes"
   ]
  },
  {
   "cell_type": "markdown",
   "metadata": {},
   "source": [
    "### Democrat"
   ]
  },
  {
   "cell_type": "code",
   "execution_count": 222,
   "metadata": {},
   "outputs": [
    {
     "data": {
      "text/html": [
       "<div>\n",
       "<style scoped>\n",
       "    .dataframe tbody tr th:only-of-type {\n",
       "        vertical-align: middle;\n",
       "    }\n",
       "\n",
       "    .dataframe tbody tr th {\n",
       "        vertical-align: top;\n",
       "    }\n",
       "\n",
       "    .dataframe thead th {\n",
       "        text-align: right;\n",
       "    }\n",
       "</style>\n",
       "<table border=\"1\" class=\"dataframe\">\n",
       "  <thead>\n",
       "    <tr style=\"text-align: right;\">\n",
       "      <th></th>\n",
       "      <th>state</th>\n",
       "      <th>state_abbreviation</th>\n",
       "      <th>county</th>\n",
       "      <th>fips</th>\n",
       "      <th>party</th>\n",
       "      <th>candidate</th>\n",
       "      <th>votes</th>\n",
       "      <th>fraction_votes</th>\n",
       "    </tr>\n",
       "  </thead>\n",
       "  <tbody>\n",
       "    <tr>\n",
       "      <td>0</td>\n",
       "      <td>Alabama</td>\n",
       "      <td>AL</td>\n",
       "      <td>Autauga</td>\n",
       "      <td>1001.0</td>\n",
       "      <td>Democrat</td>\n",
       "      <td>Bernie Sanders</td>\n",
       "      <td>544</td>\n",
       "      <td>0.182</td>\n",
       "    </tr>\n",
       "    <tr>\n",
       "      <td>1</td>\n",
       "      <td>Alabama</td>\n",
       "      <td>AL</td>\n",
       "      <td>Autauga</td>\n",
       "      <td>1001.0</td>\n",
       "      <td>Democrat</td>\n",
       "      <td>Hillary Clinton</td>\n",
       "      <td>2387</td>\n",
       "      <td>0.800</td>\n",
       "    </tr>\n",
       "    <tr>\n",
       "      <td>2</td>\n",
       "      <td>Alabama</td>\n",
       "      <td>AL</td>\n",
       "      <td>Baldwin</td>\n",
       "      <td>1003.0</td>\n",
       "      <td>Democrat</td>\n",
       "      <td>Bernie Sanders</td>\n",
       "      <td>2694</td>\n",
       "      <td>0.329</td>\n",
       "    </tr>\n",
       "    <tr>\n",
       "      <td>3</td>\n",
       "      <td>Alabama</td>\n",
       "      <td>AL</td>\n",
       "      <td>Baldwin</td>\n",
       "      <td>1003.0</td>\n",
       "      <td>Democrat</td>\n",
       "      <td>Hillary Clinton</td>\n",
       "      <td>5290</td>\n",
       "      <td>0.647</td>\n",
       "    </tr>\n",
       "    <tr>\n",
       "      <td>4</td>\n",
       "      <td>Alabama</td>\n",
       "      <td>AL</td>\n",
       "      <td>Barbour</td>\n",
       "      <td>1005.0</td>\n",
       "      <td>Democrat</td>\n",
       "      <td>Bernie Sanders</td>\n",
       "      <td>222</td>\n",
       "      <td>0.078</td>\n",
       "    </tr>\n",
       "    <tr>\n",
       "      <td>...</td>\n",
       "      <td>...</td>\n",
       "      <td>...</td>\n",
       "      <td>...</td>\n",
       "      <td>...</td>\n",
       "      <td>...</td>\n",
       "      <td>...</td>\n",
       "      <td>...</td>\n",
       "      <td>...</td>\n",
       "    </tr>\n",
       "    <tr>\n",
       "      <td>24558</td>\n",
       "      <td>Wyoming</td>\n",
       "      <td>WY</td>\n",
       "      <td>Uinta</td>\n",
       "      <td>56041.0</td>\n",
       "      <td>Democrat</td>\n",
       "      <td>Hillary Clinton</td>\n",
       "      <td>4</td>\n",
       "      <td>0.444</td>\n",
       "    </tr>\n",
       "    <tr>\n",
       "      <td>24559</td>\n",
       "      <td>Wyoming</td>\n",
       "      <td>WY</td>\n",
       "      <td>Washakie</td>\n",
       "      <td>56043.0</td>\n",
       "      <td>Democrat</td>\n",
       "      <td>Bernie Sanders</td>\n",
       "      <td>1</td>\n",
       "      <td>0.333</td>\n",
       "    </tr>\n",
       "    <tr>\n",
       "      <td>24560</td>\n",
       "      <td>Wyoming</td>\n",
       "      <td>WY</td>\n",
       "      <td>Washakie</td>\n",
       "      <td>56043.0</td>\n",
       "      <td>Democrat</td>\n",
       "      <td>Hillary Clinton</td>\n",
       "      <td>2</td>\n",
       "      <td>0.667</td>\n",
       "    </tr>\n",
       "    <tr>\n",
       "      <td>24561</td>\n",
       "      <td>Wyoming</td>\n",
       "      <td>WY</td>\n",
       "      <td>Weston</td>\n",
       "      <td>56045.0</td>\n",
       "      <td>Democrat</td>\n",
       "      <td>Bernie Sanders</td>\n",
       "      <td>1</td>\n",
       "      <td>0.500</td>\n",
       "    </tr>\n",
       "    <tr>\n",
       "      <td>24562</td>\n",
       "      <td>Wyoming</td>\n",
       "      <td>WY</td>\n",
       "      <td>Weston</td>\n",
       "      <td>56045.0</td>\n",
       "      <td>Democrat</td>\n",
       "      <td>Hillary Clinton</td>\n",
       "      <td>1</td>\n",
       "      <td>0.500</td>\n",
       "    </tr>\n",
       "  </tbody>\n",
       "</table>\n",
       "<p>8860 rows × 8 columns</p>\n",
       "</div>"
      ],
      "text/plain": [
       "         state state_abbreviation    county     fips     party  \\\n",
       "0      Alabama                 AL   Autauga   1001.0  Democrat   \n",
       "1      Alabama                 AL   Autauga   1001.0  Democrat   \n",
       "2      Alabama                 AL   Baldwin   1003.0  Democrat   \n",
       "3      Alabama                 AL   Baldwin   1003.0  Democrat   \n",
       "4      Alabama                 AL   Barbour   1005.0  Democrat   \n",
       "...        ...                ...       ...      ...       ...   \n",
       "24558  Wyoming                 WY     Uinta  56041.0  Democrat   \n",
       "24559  Wyoming                 WY  Washakie  56043.0  Democrat   \n",
       "24560  Wyoming                 WY  Washakie  56043.0  Democrat   \n",
       "24561  Wyoming                 WY    Weston  56045.0  Democrat   \n",
       "24562  Wyoming                 WY    Weston  56045.0  Democrat   \n",
       "\n",
       "             candidate  votes  fraction_votes  \n",
       "0       Bernie Sanders    544           0.182  \n",
       "1      Hillary Clinton   2387           0.800  \n",
       "2       Bernie Sanders   2694           0.329  \n",
       "3      Hillary Clinton   5290           0.647  \n",
       "4       Bernie Sanders    222           0.078  \n",
       "...                ...    ...             ...  \n",
       "24558  Hillary Clinton      4           0.444  \n",
       "24559   Bernie Sanders      1           0.333  \n",
       "24560  Hillary Clinton      2           0.667  \n",
       "24561   Bernie Sanders      1           0.500  \n",
       "24562  Hillary Clinton      1           0.500  \n",
       "\n",
       "[8860 rows x 8 columns]"
      ]
     },
     "execution_count": 222,
     "metadata": {},
     "output_type": "execute_result"
    }
   ],
   "source": [
    "resultss=pd.read_csv('primary_results.csv')\n",
    "resultss = resultss[resultss.party == 'Democrat']\n",
    "# results = results[(resultss.state != \"Maine\") & (resultss.state != \"Massachusetts\") & (resultss.state != \"Vermont\") & (resultss.state != \"Illinois\") ]\n",
    "resultss = resultss[(resultss.candidate != 'No Preference') & (resultss.candidate != ' Uncommitted')]\n",
    "# resultss = resultss[(resultss.candidate == \"Hillary Clinton\") |(resultss.candidate != \"Hillary Clinton\") ]\n",
    "Dem = resultss\n",
    "Dem"
   ]
  },
  {
   "cell_type": "code",
   "execution_count": 223,
   "metadata": {},
   "outputs": [
    {
     "data": {
      "text/plain": [
       "array(['Bernie Sanders', 'Hillary Clinton', \"Martin O'Malley\",\n",
       "       ' No Preference'], dtype=object)"
      ]
     },
     "execution_count": 223,
     "metadata": {},
     "output_type": "execute_result"
    }
   ],
   "source": [
    "Dem.candidate.unique()\n"
   ]
  },
  {
   "cell_type": "code",
   "execution_count": 224,
   "metadata": {},
   "outputs": [
    {
     "name": "stdout",
     "output_type": "stream",
     "text": [
      "Total Pemilih Democrat = 48.733\n"
     ]
    }
   ],
   "source": [
    "VotesDem = Dem['votes'].sum()\n",
    "VotesDem = round(((VotesDem / VotesTotal)*100),3)\n",
    "print (f'Total Pemilih Democrat = {(VotesDem )}')"
   ]
  },
  {
   "cell_type": "code",
   "execution_count": 22,
   "metadata": {},
   "outputs": [],
   "source": [
    "# counts = resultss.groupby(['candidate','votes']).count()\n",
    "# plt.figure(figsize=(14,8))\n",
    "# plt.style.use('ggplot')\n",
    "# plt.bar(counts, color='r')\n",
    "# # plt.bar(Dem.candidate, resultss.votes, color='b')\n",
    "# plt.xticks(rotation=90)\n",
    "# plt.show()"
   ]
  },
  {
   "cell_type": "code",
   "execution_count": 226,
   "metadata": {},
   "outputs": [],
   "source": [
    "a = primary.groupby(\"party\").sum()\n",
    "aaa = primary.groupby(\"candidate\").sum()\n",
    "# aaa = primary[primary.party == 'Democrat']\n",
    "# aaa"
   ]
  },
  {
   "cell_type": "code",
   "execution_count": 24,
   "metadata": {},
   "outputs": [],
   "source": [
    "# aaa = primary.groupby(\"state_abbreviation\").sum()\n",
    "# aaa = primary.groupby('party').sum()\n",
    "# aaa"
   ]
  },
  {
   "cell_type": "code",
   "execution_count": 227,
   "metadata": {},
   "outputs": [
    {
     "data": {
      "text/html": [
       "<div>\n",
       "<style scoped>\n",
       "    .dataframe tbody tr th:only-of-type {\n",
       "        vertical-align: middle;\n",
       "    }\n",
       "\n",
       "    .dataframe tbody tr th {\n",
       "        vertical-align: top;\n",
       "    }\n",
       "\n",
       "    .dataframe thead th {\n",
       "        text-align: right;\n",
       "    }\n",
       "</style>\n",
       "<table border=\"1\" class=\"dataframe\">\n",
       "  <thead>\n",
       "    <tr style=\"text-align: right;\">\n",
       "      <th></th>\n",
       "      <th>fips</th>\n",
       "      <th>votes</th>\n",
       "      <th>fraction_votes</th>\n",
       "    </tr>\n",
       "    <tr>\n",
       "      <th>party</th>\n",
       "      <th></th>\n",
       "      <th></th>\n",
       "      <th></th>\n",
       "    </tr>\n",
       "  </thead>\n",
       "  <tbody>\n",
       "    <tr>\n",
       "      <td>Democrat</td>\n",
       "      <td>1.458339e+11</td>\n",
       "      <td>13830250.5</td>\n",
       "      <td>2008.6565</td>\n",
       "    </tr>\n",
       "    <tr>\n",
       "      <td>Republican</td>\n",
       "      <td>1.810390e+11</td>\n",
       "      <td>14549343.0</td>\n",
       "      <td>1738.6695</td>\n",
       "    </tr>\n",
       "  </tbody>\n",
       "</table>\n",
       "</div>"
      ],
      "text/plain": [
       "                    fips       votes  fraction_votes\n",
       "party                                               \n",
       "Democrat    1.458339e+11  13830250.5       2008.6565\n",
       "Republican  1.810390e+11  14549343.0       1738.6695"
      ]
     },
     "execution_count": 227,
     "metadata": {},
     "output_type": "execute_result"
    }
   ],
   "source": [
    "E = primary.groupby(\"party\").sum()\n",
    "E= E /(len(E))\n",
    "E"
   ]
  },
  {
   "cell_type": "code",
   "execution_count": 228,
   "metadata": {},
   "outputs": [
    {
     "data": {
      "image/png": "[encoded data removed]",
      "text/plain": [
       "<Figure size 800x500 with 1 Axes>"
      ]
     },
     "metadata": {},
     "output_type": "display_data"
    }
   ],
   "source": [
    "b = a.index\n",
    "c = a.votes\n",
    "colors =['blue','red']\n",
    "plt.style.use('seaborn')\n",
    "plt.figure(figsize=(8,5),dpi=100)\n",
    "plt.pie(c, labels=b, colors=colors, autopct='%1.1f%%', shadow=True, startangle=0, explode=(.1,.1))\n",
    "plt.title('Votes Based Party ',\n",
    "         fontdict={'family':'calibri', 'size':15, 'color':'black'})\n",
    "plt.show()"
   ]
  },
  {
   "cell_type": "code",
   "execution_count": 229,
   "metadata": {},
   "outputs": [
    {
     "data": {
      "image/png": "[encoded data removed]",
      "text/plain": [
       "<Figure size 800x500 with 1 Axes>"
      ]
     },
     "metadata": {},
     "output_type": "display_data"
    }
   ],
   "source": [
    "bbb = aaa.index\n",
    "ccc = aaa.votes\n",
    "colors =['red','blue']\n",
    "plt.style.use('seaborn-darkgrid')\n",
    "plt.figure(figsize=(8,5),dpi=100)\n",
    "plt.pie(ccc, labels=bbb, colors=colors, autopct='%1.0f%%', shadow=False, textprops={'fontsize': 8},\n",
    "        startangle=0, explode=(.1,.1,.1,.1,.1,.1,.1,.1,.1,.1,.1,.1,.1,.1,.1,.1))\n",
    "plt.title('Votes Based Candidate',fontdict={'family':'calibri', 'size':15, 'color':'black'})\n",
    "plt.show()"
   ]
  },
  {
   "cell_type": "code",
   "execution_count": 28,
   "metadata": {},
   "outputs": [
    {
     "data": {
      "text/plain": [
       "16"
      ]
     },
     "execution_count": 28,
     "metadata": {},
     "output_type": "execute_result"
    }
   ],
   "source": [
    "len(bbb.unique())"
   ]
  },
  {
   "cell_type": "code",
   "execution_count": 315,
   "metadata": {},
   "outputs": [
    {
     "data": {
      "application/vnd.plotly.v1+json": {
       "config": {
        "plotlyServerURL": "https://plot.ly"
       },
       "data": [
        {
         "alignmentgroup": "True",
         "hoverlabel": {
          "namelength": 0
         },
         "hovertemplate": "candidate=Bernie Sanders<br>party=%{x}<br>votes=%{y}",
         "legendgroup": "candidate=Bernie Sanders",
         "marker": {
          "color": "#636efa"
         },
         "name": "candidate=Bernie Sanders",
         "offsetgroup": "candidate=Bernie Sanders",
         "orientation": "v",
         "showlegend": true,
         "textposition": "auto",
         "type": "bar",
         "x": [
          "Democrat",
          "Democrat",
          "Democrat",
          "Democrat",
          "Democrat",
          "Democrat",
          "Democrat",
          "Democrat",
          "Democrat",
          "Democrat",
          "Democrat",
          "Democrat",
          "Democrat",
          "Democrat",
          "Democrat",
          "Democrat",
          "Democrat",
          "Democrat",
          "Democrat",
          "Democrat",
          "Democrat",
          "Democrat",
          "Democrat",
          "Democrat",
          "Democrat",
          "Democrat",
          "Democrat",
          "Democrat",
          "Democrat",
          "Democrat",
          "Democrat",
          "Democrat",
          "Democrat",
          "Democrat",
          "Democrat",
          "Democrat",
          "Democrat",
          "Democrat",
          "Democrat",
          "Democrat",
          "Democrat",
          "Democrat",
          "Democrat",
          "Democrat",
          "Democrat",
          "Democrat",
          "Democrat",
          "Democrat",
          "Democrat",
          "Democrat",
          "Democrat",
          "Democrat",
          "Democrat",
          "Democrat",
          "Democrat",
          "Democrat",
          "Democrat",
          "Democrat",
          "Democrat",
          "Democrat",
          "Democrat",
          "Democrat",
          "Democrat"
         ],
         "xaxis": "x",
         "y": [
          562,
          8507,
          12,
          236,
          781,
          256,
          71,
          595,
          932,
          415,
          582,
          513,
          2,
          4867,
          79,
          409,
          664,
          140,
          2087,
          597,
          2411,
          2006,
          41841,
          11013,
          2833,
          275,
          1509,
          155,
          984,
          7676,
          132,
          342,
          209,
          306,
          8472,
          5605,
          90,
          7728,
          344,
          1663,
          6891,
          1773,
          29841,
          178,
          943,
          3363,
          343,
          3198,
          92,
          271,
          71134,
          71134,
          666,
          393,
          83,
          909,
          1168,
          1498,
          32368,
          3654,
          150,
          6071,
          734
         ],
         "yaxis": "y"
        },
        {
         "alignmentgroup": "True",
         "hoverlabel": {
          "namelength": 0
         },
         "hovertemplate": "candidate=Hillary Clinton<br>party=%{x}<br>votes=%{y}",
         "legendgroup": "candidate=Hillary Clinton",
         "marker": {
          "color": "#EF553B"
         },
         "name": "candidate=Hillary Clinton",
         "offsetgroup": "candidate=Hillary Clinton",
         "orientation": "v",
         "showlegend": true,
         "textposition": "auto",
         "type": "bar",
         "x": [
          "Democrat",
          "Democrat",
          "Democrat",
          "Democrat",
          "Democrat",
          "Democrat",
          "Democrat",
          "Democrat",
          "Democrat",
          "Democrat",
          "Democrat",
          "Democrat",
          "Democrat",
          "Democrat",
          "Democrat",
          "Democrat",
          "Democrat",
          "Democrat",
          "Democrat",
          "Democrat",
          "Democrat",
          "Democrat",
          "Democrat",
          "Democrat",
          "Democrat",
          "Democrat",
          "Democrat",
          "Democrat",
          "Democrat",
          "Democrat",
          "Democrat",
          "Democrat",
          "Democrat",
          "Democrat",
          "Democrat",
          "Democrat",
          "Democrat",
          "Democrat",
          "Democrat",
          "Democrat",
          "Democrat",
          "Democrat",
          "Democrat",
          "Democrat",
          "Democrat",
          "Democrat",
          "Democrat",
          "Democrat",
          "Democrat",
          "Democrat",
          "Democrat",
          "Democrat",
          "Democrat",
          "Democrat",
          "Democrat",
          "Democrat",
          "Democrat",
          "Democrat",
          "Democrat",
          "Democrat",
          "Democrat",
          "Democrat",
          "Democrat"
         ],
         "xaxis": "x",
         "y": [
          1511,
          9110,
          10,
          252,
          858,
          1741,
          35,
          409,
          999,
          484,
          601,
          1663,
          1,
          5851,
          64,
          2982,
          754,
          136,
          1167,
          1374,
          2557,
          1649,
          36321,
          15390,
          2444,
          781,
          660,
          33,
          1181,
          6381,
          724,
          2017,
          486,
          647,
          5591,
          1639,
          48,
          6137,
          440,
          1067,
          9552,
          1447,
          44775,
          248,
          778,
          2468,
          357,
          2161,
          49,
          319,
          89373,
          89373,
          603,
          267,
          79,
          594,
          1123,
          710,
          34255,
          3915,
          474,
          1011,
          68
         ],
         "yaxis": "y"
        },
        {
         "alignmentgroup": "True",
         "hoverlabel": {
          "namelength": 0
         },
         "hovertemplate": "candidate=Martin O'Malley<br>party=%{x}<br>votes=%{y}",
         "legendgroup": "candidate=Martin O'Malley",
         "marker": {
          "color": "#00cc96"
         },
         "name": "candidate=Martin O'Malley",
         "offsetgroup": "candidate=Martin O'Malley",
         "orientation": "v",
         "showlegend": true,
         "textposition": "auto",
         "type": "bar",
         "x": [
          "Democrat",
          "Democrat",
          "Democrat"
         ],
         "xaxis": "x",
         "y": [
          0,
          16,
          0
         ],
         "yaxis": "y"
        },
        {
         "alignmentgroup": "True",
         "hoverlabel": {
          "namelength": 0
         },
         "hovertemplate": "candidate= No Preference<br>party=%{x}<br>votes=%{y}",
         "legendgroup": "candidate= No Preference",
         "marker": {
          "color": "#ab63fa"
         },
         "name": "candidate= No Preference",
         "offsetgroup": "candidate= No Preference",
         "orientation": "v",
         "showlegend": true,
         "textposition": "auto",
         "type": "bar",
         "x": [
          "Democrat",
          "Democrat"
         ],
         "xaxis": "x",
         "y": [
          1,
          0
         ],
         "yaxis": "y"
        }
       ],
       "layout": {
        "barmode": "group",
        "legend": {
         "tracegroupgap": 0
        },
        "margin": {
         "t": 60
        },
        "template": {
         "data": {
          "bar": [
           {
            "error_x": {
             "color": "#2a3f5f"
            },
            "error_y": {
             "color": "#2a3f5f"
            },
            "marker": {
             "line": {
              "color": "#E5ECF6",
              "width": 0.5
             }
            },
            "type": "bar"
           }
          ],
          "barpolar": [
           {
            "marker": {
             "line": {
              "color": "#E5ECF6",
              "width": 0.5
             }
            },
            "type": "barpolar"
           }
          ],
          "carpet": [
           {
            "aaxis": {
             "endlinecolor": "#2a3f5f",
             "gridcolor": "white",
             "linecolor": "white",
             "minorgridcolor": "white",
             "startlinecolor": "#2a3f5f"
            },
            "baxis": {
             "endlinecolor": "#2a3f5f",
             "gridcolor": "white",
             "linecolor": "white",
             "minorgridcolor": "white",
             "startlinecolor": "#2a3f5f"
            },
            "type": "carpet"
           }
          ],
          "choropleth": [
           {
            "colorbar": {
             "outlinewidth": 0,
             "ticks": ""
            },
            "type": "choropleth"
           }
          ],
          "contour": [
           {
            "colorbar": {
             "outlinewidth": 0,
             "ticks": ""
            },
            "colorscale": [
             [
              0,
              "#0d0887"
             ],
             [
              0.1111111111111111,
              "#46039f"
             ],
             [
              0.2222222222222222,
              "#7201a8"
             ],
             [
              0.3333333333333333,
              "#9c179e"
             ],
             [
              0.4444444444444444,
              "#bd3786"
             ],
             [
              0.5555555555555556,
              "#d8576b"
             ],
             [
              0.6666666666666666,
              "#ed7953"
             ],
             [
              0.7777777777777778,
              "#fb9f3a"
             ],
             [
              0.8888888888888888,
              "#fdca26"
             ],
             [
              1,
              "#f0f921"
             ]
            ],
            "type": "contour"
           }
          ],
          "contourcarpet": [
           {
            "colorbar": {
             "outlinewidth": 0,
             "ticks": ""
            },
            "type": "contourcarpet"
           }
          ],
          "heatmap": [
           {
            "colorbar": {
             "outlinewidth": 0,
             "ticks": ""
            },
            "colorscale": [
             [
              0,
              "#0d0887"
             ],
             [
              0.1111111111111111,
              "#46039f"
             ],
             [
              0.2222222222222222,
              "#7201a8"
             ],
             [
              0.3333333333333333,
              "#9c179e"
             ],
             [
              0.4444444444444444,
              "#bd3786"
             ],
             [
              0.5555555555555556,
              "#d8576b"
             ],
             [
              0.6666666666666666,
              "#ed7953"
             ],
             [
              0.7777777777777778,
              "#fb9f3a"
             ],
             [
              0.8888888888888888,
              "#fdca26"
             ],
             [
              1,
              "#f0f921"
             ]
            ],
            "type": "heatmap"
           }
          ],
          "heatmapgl": [
           {
            "colorbar": {
             "outlinewidth": 0,
             "ticks": ""
            },
            "colorscale": [
             [
              0,
              "#0d0887"
             ],
             [
              0.1111111111111111,
              "#46039f"
             ],
             [
              0.2222222222222222,
              "#7201a8"
             ],
             [
              0.3333333333333333,
              "#9c179e"
             ],
             [
              0.4444444444444444,
              "#bd3786"
             ],
             [
              0.5555555555555556,
              "#d8576b"
             ],
             [
              0.6666666666666666,
              "#ed7953"
             ],
             [
              0.7777777777777778,
              "#fb9f3a"
             ],
             [
              0.8888888888888888,
              "#fdca26"
             ],
             [
              1,
              "#f0f921"
             ]
            ],
            "type": "heatmapgl"
           }
          ],
          "histogram": [
           {
            "marker": {
             "colorbar": {
              "outlinewidth": 0,
              "ticks": ""
             }
            },
            "type": "histogram"
           }
          ],
          "histogram2d": [
           {
            "colorbar": {
             "outlinewidth": 0,
             "ticks": ""
            },
            "colorscale": [
             [
              0,
              "#0d0887"
             ],
             [
              0.1111111111111111,
              "#46039f"
             ],
             [
              0.2222222222222222,
              "#7201a8"
             ],
             [
              0.3333333333333333,
              "#9c179e"
             ],
             [
              0.4444444444444444,
              "#bd3786"
             ],
             [
              0.5555555555555556,
              "#d8576b"
             ],
             [
              0.6666666666666666,
              "#ed7953"
             ],
             [
              0.7777777777777778,
              "#fb9f3a"
             ],
             [
              0.8888888888888888,
              "#fdca26"
             ],
             [
              1,
              "#f0f921"
             ]
            ],
            "type": "histogram2d"
           }
          ],
          "histogram2dcontour": [
           {
            "colorbar": {
             "outlinewidth": 0,
             "ticks": ""
            },
            "colorscale": [
             [
              0,
              "#0d0887"
             ],
             [
              0.1111111111111111,
              "#46039f"
             ],
             [
              0.2222222222222222,
              "#7201a8"
             ],
             [
              0.3333333333333333,
              "#9c179e"
             ],
             [
              0.4444444444444444,
              "#bd3786"
             ],
             [
              0.5555555555555556,
              "#d8576b"
             ],
             [
              0.6666666666666666,
              "#ed7953"
             ],
             [
              0.7777777777777778,
              "#fb9f3a"
             ],
             [
              0.8888888888888888,
              "#fdca26"
             ],
             [
              1,
              "#f0f921"
             ]
            ],
            "type": "histogram2dcontour"
           }
          ],
          "mesh3d": [
           {
            "colorbar": {
             "outlinewidth": 0,
             "ticks": ""
            },
            "type": "mesh3d"
           }
          ],
          "parcoords": [
           {
            "line": {
             "colorbar": {
              "outlinewidth": 0,
              "ticks": ""
             }
            },
            "type": "parcoords"
           }
          ],
          "pie": [
           {
            "automargin": true,
            "type": "pie"
           }
          ],
          "scatter": [
           {
            "marker": {
             "colorbar": {
              "outlinewidth": 0,
              "ticks": ""
             }
            },
            "type": "scatter"
           }
          ],
          "scatter3d": [
           {
            "line": {
             "colorbar": {
              "outlinewidth": 0,
              "ticks": ""
             }
            },
            "marker": {
             "colorbar": {
              "outlinewidth": 0,
              "ticks": ""
             }
            },
            "type": "scatter3d"
           }
          ],
          "scattercarpet": [
           {
            "marker": {
             "colorbar": {
              "outlinewidth": 0,
              "ticks": ""
             }
            },
            "type": "scattercarpet"
           }
          ],
          "scattergeo": [
           {
            "marker": {
             "colorbar": {
              "outlinewidth": 0,
              "ticks": ""
             }
            },
            "type": "scattergeo"
           }
          ],
          "scattergl": [
           {
            "marker": {
             "colorbar": {
              "outlinewidth": 0,
              "ticks": ""
             }
            },
            "type": "scattergl"
           }
          ],
          "scattermapbox": [
           {
            "marker": {
             "colorbar": {
              "outlinewidth": 0,
              "ticks": ""
             }
            },
            "type": "scattermapbox"
           }
          ],
          "scatterpolar": [
           {
            "marker": {
             "colorbar": {
              "outlinewidth": 0,
              "ticks": ""
             }
            },
            "type": "scatterpolar"
           }
          ],
          "scatterpolargl": [
           {
            "marker": {
             "colorbar": {
              "outlinewidth": 0,
              "ticks": ""
             }
            },
            "type": "scatterpolargl"
           }
          ],
          "scatterternary": [
           {
            "marker": {
             "colorbar": {
              "outlinewidth": 0,
              "ticks": ""
             }
            },
            "type": "scatterternary"
           }
          ],
          "surface": [
           {
            "colorbar": {
             "outlinewidth": 0,
             "ticks": ""
            },
            "colorscale": [
             [
              0,
              "#0d0887"
             ],
             [
              0.1111111111111111,
              "#46039f"
             ],
             [
              0.2222222222222222,
              "#7201a8"
             ],
             [
              0.3333333333333333,
              "#9c179e"
             ],
             [
              0.4444444444444444,
              "#bd3786"
             ],
             [
              0.5555555555555556,
              "#d8576b"
             ],
             [
              0.6666666666666666,
              "#ed7953"
             ],
             [
              0.7777777777777778,
              "#fb9f3a"
             ],
             [
              0.8888888888888888,
              "#fdca26"
             ],
             [
              1,
              "#f0f921"
             ]
            ],
            "type": "surface"
           }
          ],
          "table": [
           {
            "cells": {
             "fill": {
              "color": "#EBF0F8"
             },
             "line": {
              "color": "white"
             }
            },
            "header": {
             "fill": {
              "color": "#C8D4E3"
             },
             "line": {
              "color": "white"
             }
            },
            "type": "table"
           }
          ]
         },
         "layout": {
          "annotationdefaults": {
           "arrowcolor": "#2a3f5f",
           "arrowhead": 0,
           "arrowwidth": 1
          },
          "coloraxis": {
           "colorbar": {
            "outlinewidth": 0,
            "ticks": ""
           }
          },
          "colorscale": {
           "diverging": [
            [
             0,
             "#8e0152"
            ],
            [
             0.1,
             "#c51b7d"
            ],
            [
             0.2,
             "#de77ae"
            ],
            [
             0.3,
             "#f1b6da"
            ],
            [
             0.4,
             "#fde0ef"
            ],
            [
             0.5,
             "#f7f7f7"
            ],
            [
             0.6,
             "#e6f5d0"
            ],
            [
             0.7,
             "#b8e186"
            ],
            [
             0.8,
             "#7fbc41"
            ],
            [
             0.9,
             "#4d9221"
            ],
            [
             1,
             "#276419"
            ]
           ],
           "sequential": [
            [
             0,
             "#0d0887"
            ],
            [
             0.1111111111111111,
             "#46039f"
            ],
            [
             0.2222222222222222,
             "#7201a8"
            ],
            [
             0.3333333333333333,
             "#9c179e"
            ],
            [
             0.4444444444444444,
             "#bd3786"
            ],
            [
             0.5555555555555556,
             "#d8576b"
            ],
            [
             0.6666666666666666,
             "#ed7953"
            ],
            [
             0.7777777777777778,
             "#fb9f3a"
            ],
            [
             0.8888888888888888,
             "#fdca26"
            ],
            [
             1,
             "#f0f921"
            ]
           ],
           "sequentialminus": [
            [
             0,
             "#0d0887"
            ],
            [
             0.1111111111111111,
             "#46039f"
            ],
            [
             0.2222222222222222,
             "#7201a8"
            ],
            [
             0.3333333333333333,
             "#9c179e"
            ],
            [
             0.4444444444444444,
             "#bd3786"
            ],
            [
             0.5555555555555556,
             "#d8576b"
            ],
            [
             0.6666666666666666,
             "#ed7953"
            ],
            [
             0.7777777777777778,
             "#fb9f3a"
            ],
            [
             0.8888888888888888,
             "#fdca26"
            ],
            [
             1,
             "#f0f921"
            ]
           ]
          },
          "colorway": [
           "#636efa",
           "#EF553B",
           "#00cc96",
           "#ab63fa",
           "#FFA15A",
           "#19d3f3",
           "#FF6692",
           "#B6E880",
           "#FF97FF",
           "#FECB52"
          ],
          "font": {
           "color": "#2a3f5f"
          },
          "geo": {
           "bgcolor": "white",
           "lakecolor": "white",
           "landcolor": "#E5ECF6",
           "showlakes": true,
           "showland": true,
           "subunitcolor": "white"
          },
          "hoverlabel": {
           "align": "left"
          },
          "hovermode": "closest",
          "mapbox": {
           "style": "light"
          },
          "paper_bgcolor": "white",
          "plot_bgcolor": "#E5ECF6",
          "polar": {
           "angularaxis": {
            "gridcolor": "white",
            "linecolor": "white",
            "ticks": ""
           },
           "bgcolor": "#E5ECF6",
           "radialaxis": {
            "gridcolor": "white",
            "linecolor": "white",
            "ticks": ""
           }
          },
          "scene": {
           "xaxis": {
            "backgroundcolor": "#E5ECF6",
            "gridcolor": "white",
            "gridwidth": 2,
            "linecolor": "white",
            "showbackground": true,
            "ticks": "",
            "zerolinecolor": "white"
           },
           "yaxis": {
            "backgroundcolor": "#E5ECF6",
            "gridcolor": "white",
            "gridwidth": 2,
            "linecolor": "white",
            "showbackground": true,
            "ticks": "",
            "zerolinecolor": "white"
           },
           "zaxis": {
            "backgroundcolor": "#E5ECF6",
            "gridcolor": "white",
            "gridwidth": 2,
            "linecolor": "white",
            "showbackground": true,
            "ticks": "",
            "zerolinecolor": "white"
           }
          },
          "shapedefaults": {
           "line": {
            "color": "#2a3f5f"
           }
          },
          "ternary": {
           "aaxis": {
            "gridcolor": "white",
            "linecolor": "white",
            "ticks": ""
           },
           "baxis": {
            "gridcolor": "white",
            "linecolor": "white",
            "ticks": ""
           },
           "bgcolor": "#E5ECF6",
           "caxis": {
            "gridcolor": "white",
            "linecolor": "white",
            "ticks": ""
           }
          },
          "title": {
           "x": 0.05
          },
          "xaxis": {
           "automargin": true,
           "gridcolor": "white",
           "linecolor": "white",
           "ticks": "",
           "title": {
            "standoff": 15
           },
           "zerolinecolor": "white",
           "zerolinewidth": 2
          },
          "yaxis": {
           "automargin": true,
           "gridcolor": "white",
           "linecolor": "white",
           "ticks": "",
           "title": {
            "standoff": 15
           },
           "zerolinecolor": "white",
           "zerolinewidth": 2
          }
         }
        },
        "xaxis": {
         "anchor": "y",
         "domain": [
          0,
          1
         ],
         "title": {
          "text": "party"
         }
        },
        "yaxis": {
         "anchor": "x",
         "domain": [
          0,
          1
         ],
         "title": {
          "text": "votes"
         }
        }
       }
      },
      "text/html": [
       "<div>\n",
       "        \n",
       "        \n",
       "            <div id=\"0445cec7-828a-41d9-a0ff-dc8a1bf444d8\" class=\"plotly-graph-div\" style=\"height:525px; width:100%;\"></div>\n",
       "            <script type=\"text/javascript\">\n",
       "                require([\"plotly\"], function(Plotly) {\n",
       "                    window.PLOTLYENV=window.PLOTLYENV || {};\n",
       "                    \n",
       "                if (document.getElementById(\"0445cec7-828a-41d9-a0ff-dc8a1bf444d8\")) {\n",
       "                    Plotly.newPlot(\n",
       "                        '0445cec7-828a-41d9-a0ff-dc8a1bf444d8',\n",
       "                        [{\"alignmentgroup\": \"True\", \"hoverlabel\": {\"namelength\": 0}, \"hovertemplate\": \"candidate=Bernie Sanders<br>party=%{x}<br>votes=%{y}\", \"legendgroup\": \"candidate=Bernie Sanders\", \"marker\": {\"color\": \"#636efa\"}, \"name\": \"candidate=Bernie Sanders\", \"offsetgroup\": \"candidate=Bernie Sanders\", \"orientation\": \"v\", \"showlegend\": true, \"textposition\": \"auto\", \"type\": \"bar\", \"x\": [\"Democrat\", \"Democrat\", \"Democrat\", \"Democrat\", \"Democrat\", \"Democrat\", \"Democrat\", \"Democrat\", \"Democrat\", \"Democrat\", \"Democrat\", \"Democrat\", \"Democrat\", \"Democrat\", \"Democrat\", \"Democrat\", \"Democrat\", \"Democrat\", \"Democrat\", \"Democrat\", \"Democrat\", \"Democrat\", \"Democrat\", \"Democrat\", \"Democrat\", \"Democrat\", \"Democrat\", \"Democrat\", \"Democrat\", \"Democrat\", \"Democrat\", \"Democrat\", \"Democrat\", \"Democrat\", \"Democrat\", \"Democrat\", \"Democrat\", \"Democrat\", \"Democrat\", \"Democrat\", \"Democrat\", \"Democrat\", \"Democrat\", \"Democrat\", \"Democrat\", \"Democrat\", \"Democrat\", \"Democrat\", \"Democrat\", \"Democrat\", \"Democrat\", \"Democrat\", \"Democrat\", \"Democrat\", \"Democrat\", \"Democrat\", \"Democrat\", \"Democrat\", \"Democrat\", \"Democrat\", \"Democrat\", \"Democrat\", \"Democrat\"], \"xaxis\": \"x\", \"y\": [562, 8507, 12, 236, 781, 256, 71, 595, 932, 415, 582, 513, 2, 4867, 79, 409, 664, 140, 2087, 597, 2411, 2006, 41841, 11013, 2833, 275, 1509, 155, 984, 7676, 132, 342, 209, 306, 8472, 5605, 90, 7728, 344, 1663, 6891, 1773, 29841, 178, 943, 3363, 343, 3198, 92, 271, 71134, 71134, 666, 393, 83, 909, 1168, 1498, 32368, 3654, 150, 6071, 734], \"yaxis\": \"y\"}, {\"alignmentgroup\": \"True\", \"hoverlabel\": {\"namelength\": 0}, \"hovertemplate\": \"candidate=Hillary Clinton<br>party=%{x}<br>votes=%{y}\", \"legendgroup\": \"candidate=Hillary Clinton\", \"marker\": {\"color\": \"#EF553B\"}, \"name\": \"candidate=Hillary Clinton\", \"offsetgroup\": \"candidate=Hillary Clinton\", \"orientation\": \"v\", \"showlegend\": true, \"textposition\": \"auto\", \"type\": \"bar\", \"x\": [\"Democrat\", \"Democrat\", \"Democrat\", \"Democrat\", \"Democrat\", \"Democrat\", \"Democrat\", \"Democrat\", \"Democrat\", \"Democrat\", \"Democrat\", \"Democrat\", \"Democrat\", \"Democrat\", \"Democrat\", \"Democrat\", \"Democrat\", \"Democrat\", \"Democrat\", \"Democrat\", \"Democrat\", \"Democrat\", \"Democrat\", \"Democrat\", \"Democrat\", \"Democrat\", \"Democrat\", \"Democrat\", \"Democrat\", \"Democrat\", \"Democrat\", \"Democrat\", \"Democrat\", \"Democrat\", \"Democrat\", \"Democrat\", \"Democrat\", \"Democrat\", \"Democrat\", \"Democrat\", \"Democrat\", \"Democrat\", \"Democrat\", \"Democrat\", \"Democrat\", \"Democrat\", \"Democrat\", \"Democrat\", \"Democrat\", \"Democrat\", \"Democrat\", \"Democrat\", \"Democrat\", \"Democrat\", \"Democrat\", \"Democrat\", \"Democrat\", \"Democrat\", \"Democrat\", \"Democrat\", \"Democrat\", \"Democrat\", \"Democrat\"], \"xaxis\": \"x\", \"y\": [1511, 9110, 10, 252, 858, 1741, 35, 409, 999, 484, 601, 1663, 1, 5851, 64, 2982, 754, 136, 1167, 1374, 2557, 1649, 36321, 15390, 2444, 781, 660, 33, 1181, 6381, 724, 2017, 486, 647, 5591, 1639, 48, 6137, 440, 1067, 9552, 1447, 44775, 248, 778, 2468, 357, 2161, 49, 319, 89373, 89373, 603, 267, 79, 594, 1123, 710, 34255, 3915, 474, 1011, 68], \"yaxis\": \"y\"}, {\"alignmentgroup\": \"True\", \"hoverlabel\": {\"namelength\": 0}, \"hovertemplate\": \"candidate=Martin O'Malley<br>party=%{x}<br>votes=%{y}\", \"legendgroup\": \"candidate=Martin O'Malley\", \"marker\": {\"color\": \"#00cc96\"}, \"name\": \"candidate=Martin O'Malley\", \"offsetgroup\": \"candidate=Martin O'Malley\", \"orientation\": \"v\", \"showlegend\": true, \"textposition\": \"auto\", \"type\": \"bar\", \"x\": [\"Democrat\", \"Democrat\", \"Democrat\"], \"xaxis\": \"x\", \"y\": [0, 16, 0], \"yaxis\": \"y\"}, {\"alignmentgroup\": \"True\", \"hoverlabel\": {\"namelength\": 0}, \"hovertemplate\": \"candidate= No Preference<br>party=%{x}<br>votes=%{y}\", \"legendgroup\": \"candidate= No Preference\", \"marker\": {\"color\": \"#ab63fa\"}, \"name\": \"candidate= No Preference\", \"offsetgroup\": \"candidate= No Preference\", \"orientation\": \"v\", \"showlegend\": true, \"textposition\": \"auto\", \"type\": \"bar\", \"x\": [\"Democrat\", \"Democrat\"], \"xaxis\": \"x\", \"y\": [1, 0], \"yaxis\": \"y\"}],\n",
       "                        {\"barmode\": \"group\", \"legend\": {\"tracegroupgap\": 0}, \"margin\": {\"t\": 60}, \"template\": {\"data\": {\"bar\": [{\"error_x\": {\"color\": \"#2a3f5f\"}, \"error_y\": {\"color\": \"#2a3f5f\"}, \"marker\": {\"line\": {\"color\": \"#E5ECF6\", \"width\": 0.5}}, \"type\": \"bar\"}], \"barpolar\": [{\"marker\": {\"line\": {\"color\": \"#E5ECF6\", \"width\": 0.5}}, \"type\": \"barpolar\"}], \"carpet\": [{\"aaxis\": {\"endlinecolor\": \"#2a3f5f\", \"gridcolor\": \"white\", \"linecolor\": \"white\", \"minorgridcolor\": \"white\", \"startlinecolor\": \"#2a3f5f\"}, \"baxis\": {\"endlinecolor\": \"#2a3f5f\", \"gridcolor\": \"white\", \"linecolor\": \"white\", \"minorgridcolor\": \"white\", \"startlinecolor\": \"#2a3f5f\"}, \"type\": \"carpet\"}], \"choropleth\": [{\"colorbar\": {\"outlinewidth\": 0, \"ticks\": \"\"}, \"type\": \"choropleth\"}], \"contour\": [{\"colorbar\": {\"outlinewidth\": 0, \"ticks\": \"\"}, \"colorscale\": [[0.0, \"#0d0887\"], [0.1111111111111111, \"#46039f\"], [0.2222222222222222, \"#7201a8\"], [0.3333333333333333, \"#9c179e\"], [0.4444444444444444, \"#bd3786\"], [0.5555555555555556, \"#d8576b\"], [0.6666666666666666, \"#ed7953\"], [0.7777777777777778, \"#fb9f3a\"], [0.8888888888888888, \"#fdca26\"], [1.0, \"#f0f921\"]], \"type\": \"contour\"}], \"contourcarpet\": [{\"colorbar\": {\"outlinewidth\": 0, \"ticks\": \"\"}, \"type\": \"contourcarpet\"}], \"heatmap\": [{\"colorbar\": {\"outlinewidth\": 0, \"ticks\": \"\"}, \"colorscale\": [[0.0, \"#0d0887\"], [0.1111111111111111, \"#46039f\"], [0.2222222222222222, \"#7201a8\"], [0.3333333333333333, \"#9c179e\"], [0.4444444444444444, \"#bd3786\"], [0.5555555555555556, \"#d8576b\"], [0.6666666666666666, \"#ed7953\"], [0.7777777777777778, \"#fb9f3a\"], [0.8888888888888888, \"#fdca26\"], [1.0, \"#f0f921\"]], \"type\": \"heatmap\"}], \"heatmapgl\": [{\"colorbar\": {\"outlinewidth\": 0, \"ticks\": \"\"}, \"colorscale\": [[0.0, \"#0d0887\"], [0.1111111111111111, \"#46039f\"], [0.2222222222222222, \"#7201a8\"], [0.3333333333333333, \"#9c179e\"], [0.4444444444444444, \"#bd3786\"], [0.5555555555555556, \"#d8576b\"], [0.6666666666666666, \"#ed7953\"], [0.7777777777777778, \"#fb9f3a\"], [0.8888888888888888, \"#fdca26\"], [1.0, \"#f0f921\"]], \"type\": \"heatmapgl\"}], \"histogram\": [{\"marker\": {\"colorbar\": {\"outlinewidth\": 0, \"ticks\": \"\"}}, \"type\": \"histogram\"}], \"histogram2d\": [{\"colorbar\": {\"outlinewidth\": 0, \"ticks\": \"\"}, \"colorscale\": [[0.0, \"#0d0887\"], [0.1111111111111111, \"#46039f\"], [0.2222222222222222, \"#7201a8\"], [0.3333333333333333, \"#9c179e\"], [0.4444444444444444, \"#bd3786\"], [0.5555555555555556, \"#d8576b\"], [0.6666666666666666, \"#ed7953\"], [0.7777777777777778, \"#fb9f3a\"], [0.8888888888888888, \"#fdca26\"], [1.0, \"#f0f921\"]], \"type\": \"histogram2d\"}], \"histogram2dcontour\": [{\"colorbar\": {\"outlinewidth\": 0, \"ticks\": \"\"}, \"colorscale\": [[0.0, \"#0d0887\"], [0.1111111111111111, \"#46039f\"], [0.2222222222222222, \"#7201a8\"], [0.3333333333333333, \"#9c179e\"], [0.4444444444444444, \"#bd3786\"], [0.5555555555555556, \"#d8576b\"], [0.6666666666666666, \"#ed7953\"], [0.7777777777777778, \"#fb9f3a\"], [0.8888888888888888, \"#fdca26\"], [1.0, \"#f0f921\"]], \"type\": \"histogram2dcontour\"}], \"mesh3d\": [{\"colorbar\": {\"outlinewidth\": 0, \"ticks\": \"\"}, \"type\": \"mesh3d\"}], \"parcoords\": [{\"line\": {\"colorbar\": {\"outlinewidth\": 0, \"ticks\": \"\"}}, \"type\": \"parcoords\"}], \"pie\": [{\"automargin\": true, \"type\": \"pie\"}], \"scatter\": [{\"marker\": {\"colorbar\": {\"outlinewidth\": 0, \"ticks\": \"\"}}, \"type\": \"scatter\"}], \"scatter3d\": [{\"line\": {\"colorbar\": {\"outlinewidth\": 0, \"ticks\": \"\"}}, \"marker\": {\"colorbar\": {\"outlinewidth\": 0, \"ticks\": \"\"}}, \"type\": \"scatter3d\"}], \"scattercarpet\": [{\"marker\": {\"colorbar\": {\"outlinewidth\": 0, \"ticks\": \"\"}}, \"type\": \"scattercarpet\"}], \"scattergeo\": [{\"marker\": {\"colorbar\": {\"outlinewidth\": 0, \"ticks\": \"\"}}, \"type\": \"scattergeo\"}], \"scattergl\": [{\"marker\": {\"colorbar\": {\"outlinewidth\": 0, \"ticks\": \"\"}}, \"type\": \"scattergl\"}], \"scattermapbox\": [{\"marker\": {\"colorbar\": {\"outlinewidth\": 0, \"ticks\": \"\"}}, \"type\": \"scattermapbox\"}], \"scatterpolar\": [{\"marker\": {\"colorbar\": {\"outlinewidth\": 0, \"ticks\": \"\"}}, \"type\": \"scatterpolar\"}], \"scatterpolargl\": [{\"marker\": {\"colorbar\": {\"outlinewidth\": 0, \"ticks\": \"\"}}, \"type\": \"scatterpolargl\"}], \"scatterternary\": [{\"marker\": {\"colorbar\": {\"outlinewidth\": 0, \"ticks\": \"\"}}, \"type\": \"scatterternary\"}], \"surface\": [{\"colorbar\": {\"outlinewidth\": 0, \"ticks\": \"\"}, \"colorscale\": [[0.0, \"#0d0887\"], [0.1111111111111111, \"#46039f\"], [0.2222222222222222, \"#7201a8\"], [0.3333333333333333, \"#9c179e\"], [0.4444444444444444, \"#bd3786\"], [0.5555555555555556, \"#d8576b\"], [0.6666666666666666, \"#ed7953\"], [0.7777777777777778, \"#fb9f3a\"], [0.8888888888888888, \"#fdca26\"], [1.0, \"#f0f921\"]], \"type\": \"surface\"}], \"table\": [{\"cells\": {\"fill\": {\"color\": \"#EBF0F8\"}, \"line\": {\"color\": \"white\"}}, \"header\": {\"fill\": {\"color\": \"#C8D4E3\"}, \"line\": {\"color\": \"white\"}}, \"type\": \"table\"}]}, \"layout\": {\"annotationdefaults\": {\"arrowcolor\": \"#2a3f5f\", \"arrowhead\": 0, \"arrowwidth\": 1}, \"coloraxis\": {\"colorbar\": {\"outlinewidth\": 0, \"ticks\": \"\"}}, \"colorscale\": {\"diverging\": [[0, \"#8e0152\"], [0.1, \"#c51b7d\"], [0.2, \"#de77ae\"], [0.3, \"#f1b6da\"], [0.4, \"#fde0ef\"], [0.5, \"#f7f7f7\"], [0.6, \"#e6f5d0\"], [0.7, \"#b8e186\"], [0.8, \"#7fbc41\"], [0.9, \"#4d9221\"], [1, \"#276419\"]], \"sequential\": [[0.0, \"#0d0887\"], [0.1111111111111111, \"#46039f\"], [0.2222222222222222, \"#7201a8\"], [0.3333333333333333, \"#9c179e\"], [0.4444444444444444, \"#bd3786\"], [0.5555555555555556, \"#d8576b\"], [0.6666666666666666, \"#ed7953\"], [0.7777777777777778, \"#fb9f3a\"], [0.8888888888888888, \"#fdca26\"], [1.0, \"#f0f921\"]], \"sequentialminus\": [[0.0, \"#0d0887\"], [0.1111111111111111, \"#46039f\"], [0.2222222222222222, \"#7201a8\"], [0.3333333333333333, \"#9c179e\"], [0.4444444444444444, \"#bd3786\"], [0.5555555555555556, \"#d8576b\"], [0.6666666666666666, \"#ed7953\"], [0.7777777777777778, \"#fb9f3a\"], [0.8888888888888888, \"#fdca26\"], [1.0, \"#f0f921\"]]}, \"colorway\": [\"#636efa\", \"#EF553B\", \"#00cc96\", \"#ab63fa\", \"#FFA15A\", \"#19d3f3\", \"#FF6692\", \"#B6E880\", \"#FF97FF\", \"#FECB52\"], \"font\": {\"color\": \"#2a3f5f\"}, \"geo\": {\"bgcolor\": \"white\", \"lakecolor\": \"white\", \"landcolor\": \"#E5ECF6\", \"showlakes\": true, \"showland\": true, \"subunitcolor\": \"white\"}, \"hoverlabel\": {\"align\": \"left\"}, \"hovermode\": \"closest\", \"mapbox\": {\"style\": \"light\"}, \"paper_bgcolor\": \"white\", \"plot_bgcolor\": \"#E5ECF6\", \"polar\": {\"angularaxis\": {\"gridcolor\": \"white\", \"linecolor\": \"white\", \"ticks\": \"\"}, \"bgcolor\": \"#E5ECF6\", \"radialaxis\": {\"gridcolor\": \"white\", \"linecolor\": \"white\", \"ticks\": \"\"}}, \"scene\": {\"xaxis\": {\"backgroundcolor\": \"#E5ECF6\", \"gridcolor\": \"white\", \"gridwidth\": 2, \"linecolor\": \"white\", \"showbackground\": true, \"ticks\": \"\", \"zerolinecolor\": \"white\"}, \"yaxis\": {\"backgroundcolor\": \"#E5ECF6\", \"gridcolor\": \"white\", \"gridwidth\": 2, \"linecolor\": \"white\", \"showbackground\": true, \"ticks\": \"\", \"zerolinecolor\": \"white\"}, \"zaxis\": {\"backgroundcolor\": \"#E5ECF6\", \"gridcolor\": \"white\", \"gridwidth\": 2, \"linecolor\": \"white\", \"showbackground\": true, \"ticks\": \"\", \"zerolinecolor\": \"white\"}}, \"shapedefaults\": {\"line\": {\"color\": \"#2a3f5f\"}}, \"ternary\": {\"aaxis\": {\"gridcolor\": \"white\", \"linecolor\": \"white\", \"ticks\": \"\"}, \"baxis\": {\"gridcolor\": \"white\", \"linecolor\": \"white\", \"ticks\": \"\"}, \"bgcolor\": \"#E5ECF6\", \"caxis\": {\"gridcolor\": \"white\", \"linecolor\": \"white\", \"ticks\": \"\"}}, \"title\": {\"x\": 0.05}, \"xaxis\": {\"automargin\": true, \"gridcolor\": \"white\", \"linecolor\": \"white\", \"ticks\": \"\", \"title\": {\"standoff\": 15}, \"zerolinecolor\": \"white\", \"zerolinewidth\": 2}, \"yaxis\": {\"automargin\": true, \"gridcolor\": \"white\", \"linecolor\": \"white\", \"ticks\": \"\", \"title\": {\"standoff\": 15}, \"zerolinecolor\": \"white\", \"zerolinewidth\": 2}}}, \"xaxis\": {\"anchor\": \"y\", \"domain\": [0.0, 1.0], \"title\": {\"text\": \"party\"}}, \"yaxis\": {\"anchor\": \"x\", \"domain\": [0.0, 1.0], \"title\": {\"text\": \"votes\"}}},\n",
       "                        {\"responsive\": true}\n",
       "                    ).then(function(){\n",
       "                            \n",
       "var gd = document.getElementById('0445cec7-828a-41d9-a0ff-dc8a1bf444d8');\n",
       "var x = new MutationObserver(function (mutations, observer) {{\n",
       "        var display = window.getComputedStyle(gd).display;\n",
       "        if (!display || display === 'none') {{\n",
       "            console.log([gd, 'removed!']);\n",
       "            Plotly.purge(gd);\n",
       "            observer.disconnect();\n",
       "        }}\n",
       "}});\n",
       "\n",
       "// Listen for the removal of the full notebook cells\n",
       "var notebookContainer = gd.closest('#notebook-container');\n",
       "if (notebookContainer) {{\n",
       "    x.observe(notebookContainer, {childList: true});\n",
       "}}\n",
       "\n",
       "// Listen for the clearing of the current output cell\n",
       "var outputEl = gd.closest('.output');\n",
       "if (outputEl) {{\n",
       "    x.observe(outputEl, {childList: true});\n",
       "}}\n",
       "\n",
       "                        })\n",
       "                };\n",
       "                });\n",
       "            </script>\n",
       "        </div>"
      ]
     },
     "metadata": {},
     "output_type": "display_data"
    }
   ],
   "source": [
    "fig = px.bar(allData1, x=\"party\", y=\"votes\", color=\"candidate\", barmode=\"group\")\n",
    "fig.show()"
   ]
  },
  {
   "cell_type": "code",
   "execution_count": 321,
   "metadata": {},
   "outputs": [
    {
     "data": {
      "application/vnd.plotly.v1+json": {
       "config": {
        "plotlyServerURL": "https://plot.ly"
       },
       "data": [
        {
         "alignmentgroup": "True",
         "boxpoints": "all",
         "fillcolor": "rgba(255,255,255,0)",
         "hoverlabel": {
          "namelength": 0
         },
         "hoveron": "points",
         "hovertemplate": "candidate=Bernie Sanders<br>state=%{x}<br>votes=%{y}",
         "legendgroup": "candidate=Bernie Sanders",
         "line": {
          "color": "rgba(255,255,255,0)"
         },
         "marker": {
          "color": "#636efa"
         },
         "name": "candidate=Bernie Sanders",
         "offsetgroup": "candidate=Bernie Sanders",
         "orientation": "h",
         "pointpos": 0,
         "showlegend": true,
         "type": "box",
         "x": [
          "Alabama",
          "Arkansas",
          "Colorado",
          "Connecticut",
          "Florida",
          "Georgia",
          "Idaho",
          "Illinois",
          "Indiana",
          "Iowa",
          "Kentucky",
          "Louisiana",
          "Maine",
          "Maryland",
          "Massachusetts",
          "Mississippi",
          "Missouri",
          "Nebraska",
          "New York",
          "North Carolina",
          "Ohio",
          "Oklahoma",
          "Oregon",
          "Pennsylvania",
          "Tennessee",
          "Texas",
          "Utah",
          "Vermont",
          "Virginia",
          "Wisconsin",
          "Arkansas",
          "Arkansas",
          "Missouri",
          "Arkansas",
          "California",
          "Hawaii",
          "Idaho",
          "Indiana",
          "Iowa",
          "New York",
          "Ohio",
          "Oklahoma",
          "Pennsylvania",
          "Indiana",
          "Kentucky",
          "West Virginia",
          "Iowa",
          "Wisconsin",
          "Massachusetts",
          "Missouri",
          "Missouri",
          "Missouri",
          "Missouri",
          "Oklahoma",
          "Nevada",
          "New York",
          "Pennsylvania",
          "West Virginia",
          "Oklahoma",
          "Pennsylvania",
          "Texas",
          "Utah",
          "Vermont"
         ],
         "x0": " ",
         "xaxis": "x",
         "y": [
          562,
          8507,
          12,
          236,
          781,
          256,
          71,
          595,
          932,
          415,
          582,
          513,
          2,
          4867,
          79,
          409,
          664,
          140,
          2087,
          597,
          2411,
          2006,
          41841,
          11013,
          2833,
          275,
          1509,
          155,
          984,
          7676,
          132,
          342,
          209,
          306,
          8472,
          5605,
          90,
          7728,
          344,
          1663,
          6891,
          1773,
          29841,
          178,
          943,
          3363,
          343,
          3198,
          92,
          271,
          71134,
          71134,
          666,
          393,
          83,
          909,
          1168,
          1498,
          32368,
          3654,
          150,
          6071,
          734
         ],
         "y0": " ",
         "yaxis": "y"
        },
        {
         "alignmentgroup": "True",
         "boxpoints": "all",
         "fillcolor": "rgba(255,255,255,0)",
         "hoverlabel": {
          "namelength": 0
         },
         "hoveron": "points",
         "hovertemplate": "candidate=Hillary Clinton<br>state=%{x}<br>votes=%{y}",
         "legendgroup": "candidate=Hillary Clinton",
         "line": {
          "color": "rgba(255,255,255,0)"
         },
         "marker": {
          "color": "#EF553B"
         },
         "name": "candidate=Hillary Clinton",
         "offsetgroup": "candidate=Hillary Clinton",
         "orientation": "h",
         "pointpos": 0,
         "showlegend": true,
         "type": "box",
         "x": [
          "Alabama",
          "Arkansas",
          "Colorado",
          "Connecticut",
          "Florida",
          "Georgia",
          "Idaho",
          "Illinois",
          "Indiana",
          "Iowa",
          "Kentucky",
          "Louisiana",
          "Maine",
          "Maryland",
          "Massachusetts",
          "Mississippi",
          "Missouri",
          "Nebraska",
          "New York",
          "North Carolina",
          "Ohio",
          "Oklahoma",
          "Oregon",
          "Pennsylvania",
          "Tennessee",
          "Texas",
          "Utah",
          "Vermont",
          "Virginia",
          "Wisconsin",
          "Arkansas",
          "Arkansas",
          "Missouri",
          "Arkansas",
          "California",
          "Hawaii",
          "Idaho",
          "Indiana",
          "Iowa",
          "New York",
          "Ohio",
          "Oklahoma",
          "Pennsylvania",
          "Indiana",
          "Kentucky",
          "West Virginia",
          "Iowa",
          "Wisconsin",
          "Massachusetts",
          "Missouri",
          "Missouri",
          "Missouri",
          "Missouri",
          "Oklahoma",
          "Nevada",
          "New York",
          "Pennsylvania",
          "West Virginia",
          "Oklahoma",
          "Pennsylvania",
          "Texas",
          "Utah",
          "Vermont"
         ],
         "x0": " ",
         "xaxis": "x",
         "y": [
          1511,
          9110,
          10,
          252,
          858,
          1741,
          35,
          409,
          999,
          484,
          601,
          1663,
          1,
          5851,
          64,
          2982,
          754,
          136,
          1167,
          1374,
          2557,
          1649,
          36321,
          15390,
          2444,
          781,
          660,
          33,
          1181,
          6381,
          724,
          2017,
          486,
          647,
          5591,
          1639,
          48,
          6137,
          440,
          1067,
          9552,
          1447,
          44775,
          248,
          778,
          2468,
          357,
          2161,
          49,
          319,
          89373,
          89373,
          603,
          267,
          79,
          594,
          1123,
          710,
          34255,
          3915,
          474,
          1011,
          68
         ],
         "y0": " ",
         "yaxis": "y"
        },
        {
         "alignmentgroup": "True",
         "boxpoints": "all",
         "fillcolor": "rgba(255,255,255,0)",
         "hoverlabel": {
          "namelength": 0
         },
         "hoveron": "points",
         "hovertemplate": "candidate=Martin O'Malley<br>state=%{x}<br>votes=%{y}",
         "legendgroup": "candidate=Martin O'Malley",
         "line": {
          "color": "rgba(255,255,255,0)"
         },
         "marker": {
          "color": "#00cc96"
         },
         "name": "candidate=Martin O'Malley",
         "offsetgroup": "candidate=Martin O'Malley",
         "orientation": "h",
         "pointpos": 0,
         "showlegend": true,
         "type": "box",
         "x": [
          "Iowa",
          "Iowa",
          "Iowa"
         ],
         "x0": " ",
         "xaxis": "x",
         "y": [
          0,
          16,
          0
         ],
         "y0": " ",
         "yaxis": "y"
        },
        {
         "alignmentgroup": "True",
         "boxpoints": "all",
         "fillcolor": "rgba(255,255,255,0)",
         "hoverlabel": {
          "namelength": 0
         },
         "hoveron": "points",
         "hovertemplate": "candidate= No Preference<br>state=%{x}<br>votes=%{y}",
         "legendgroup": "candidate= No Preference",
         "line": {
          "color": "rgba(255,255,255,0)"
         },
         "marker": {
          "color": "#ab63fa"
         },
         "name": "candidate= No Preference",
         "offsetgroup": "candidate= No Preference",
         "orientation": "h",
         "pointpos": 0,
         "showlegend": true,
         "type": "box",
         "x": [
          "Massachusetts",
          "Massachusetts"
         ],
         "x0": " ",
         "xaxis": "x",
         "y": [
          1,
          0
         ],
         "y0": " ",
         "yaxis": "y"
        }
       ],
       "layout": {
        "boxmode": "group",
        "legend": {
         "tracegroupgap": 0
        },
        "margin": {
         "t": 60
        },
        "template": {
         "data": {
          "bar": [
           {
            "error_x": {
             "color": "#2a3f5f"
            },
            "error_y": {
             "color": "#2a3f5f"
            },
            "marker": {
             "line": {
              "color": "#E5ECF6",
              "width": 0.5
             }
            },
            "type": "bar"
           }
          ],
          "barpolar": [
           {
            "marker": {
             "line": {
              "color": "#E5ECF6",
              "width": 0.5
             }
            },
            "type": "barpolar"
           }
          ],
          "carpet": [
           {
            "aaxis": {
             "endlinecolor": "#2a3f5f",
             "gridcolor": "white",
             "linecolor": "white",
             "minorgridcolor": "white",
             "startlinecolor": "#2a3f5f"
            },
            "baxis": {
             "endlinecolor": "#2a3f5f",
             "gridcolor": "white",
             "linecolor": "white",
             "minorgridcolor": "white",
             "startlinecolor": "#2a3f5f"
            },
            "type": "carpet"
           }
          ],
          "choropleth": [
           {
            "colorbar": {
             "outlinewidth": 0,
             "ticks": ""
            },
            "type": "choropleth"
           }
          ],
          "contour": [
           {
            "colorbar": {
             "outlinewidth": 0,
             "ticks": ""
            },
            "colorscale": [
             [
              0,
              "#0d0887"
             ],
             [
              0.1111111111111111,
              "#46039f"
             ],
             [
              0.2222222222222222,
              "#7201a8"
             ],
             [
              0.3333333333333333,
              "#9c179e"
             ],
             [
              0.4444444444444444,
              "#bd3786"
             ],
             [
              0.5555555555555556,
              "#d8576b"
             ],
             [
              0.6666666666666666,
              "#ed7953"
             ],
             [
              0.7777777777777778,
              "#fb9f3a"
             ],
             [
              0.8888888888888888,
              "#fdca26"
             ],
             [
              1,
              "#f0f921"
             ]
            ],
            "type": "contour"
           }
          ],
          "contourcarpet": [
           {
            "colorbar": {
             "outlinewidth": 0,
             "ticks": ""
            },
            "type": "contourcarpet"
           }
          ],
          "heatmap": [
           {
            "colorbar": {
             "outlinewidth": 0,
             "ticks": ""
            },
            "colorscale": [
             [
              0,
              "#0d0887"
             ],
             [
              0.1111111111111111,
              "#46039f"
             ],
             [
              0.2222222222222222,
              "#7201a8"
             ],
             [
              0.3333333333333333,
              "#9c179e"
             ],
             [
              0.4444444444444444,
              "#bd3786"
             ],
             [
              0.5555555555555556,
              "#d8576b"
             ],
             [
              0.6666666666666666,
              "#ed7953"
             ],
             [
              0.7777777777777778,
              "#fb9f3a"
             ],
             [
              0.8888888888888888,
              "#fdca26"
             ],
             [
              1,
              "#f0f921"
             ]
            ],
            "type": "heatmap"
           }
          ],
          "heatmapgl": [
           {
            "colorbar": {
             "outlinewidth": 0,
             "ticks": ""
            },
            "colorscale": [
             [
              0,
              "#0d0887"
             ],
             [
              0.1111111111111111,
              "#46039f"
             ],
             [
              0.2222222222222222,
              "#7201a8"
             ],
             [
              0.3333333333333333,
              "#9c179e"
             ],
             [
              0.4444444444444444,
              "#bd3786"
             ],
             [
              0.5555555555555556,
              "#d8576b"
             ],
             [
              0.6666666666666666,
              "#ed7953"
             ],
             [
              0.7777777777777778,
              "#fb9f3a"
             ],
             [
              0.8888888888888888,
              "#fdca26"
             ],
             [
              1,
              "#f0f921"
             ]
            ],
            "type": "heatmapgl"
           }
          ],
          "histogram": [
           {
            "marker": {
             "colorbar": {
              "outlinewidth": 0,
              "ticks": ""
             }
            },
            "type": "histogram"
           }
          ],
          "histogram2d": [
           {
            "colorbar": {
             "outlinewidth": 0,
             "ticks": ""
            },
            "colorscale": [
             [
              0,
              "#0d0887"
             ],
             [
              0.1111111111111111,
              "#46039f"
             ],
             [
              0.2222222222222222,
              "#7201a8"
             ],
             [
              0.3333333333333333,
              "#9c179e"
             ],
             [
              0.4444444444444444,
              "#bd3786"
             ],
             [
              0.5555555555555556,
              "#d8576b"
             ],
             [
              0.6666666666666666,
              "#ed7953"
             ],
             [
              0.7777777777777778,
              "#fb9f3a"
             ],
             [
              0.8888888888888888,
              "#fdca26"
             ],
             [
              1,
              "#f0f921"
             ]
            ],
            "type": "histogram2d"
           }
          ],
          "histogram2dcontour": [
           {
            "colorbar": {
             "outlinewidth": 0,
             "ticks": ""
            },
            "colorscale": [
             [
              0,
              "#0d0887"
             ],
             [
              0.1111111111111111,
              "#46039f"
             ],
             [
              0.2222222222222222,
              "#7201a8"
             ],
             [
              0.3333333333333333,
              "#9c179e"
             ],
             [
              0.4444444444444444,
              "#bd3786"
             ],
             [
              0.5555555555555556,
              "#d8576b"
             ],
             [
              0.6666666666666666,
              "#ed7953"
             ],
             [
              0.7777777777777778,
              "#fb9f3a"
             ],
             [
              0.8888888888888888,
              "#fdca26"
             ],
             [
              1,
              "#f0f921"
             ]
            ],
            "type": "histogram2dcontour"
           }
          ],
          "mesh3d": [
           {
            "colorbar": {
             "outlinewidth": 0,
             "ticks": ""
            },
            "type": "mesh3d"
           }
          ],
          "parcoords": [
           {
            "line": {
             "colorbar": {
              "outlinewidth": 0,
              "ticks": ""
             }
            },
            "type": "parcoords"
           }
          ],
          "pie": [
           {
            "automargin": true,
            "type": "pie"
           }
          ],
          "scatter": [
           {
            "marker": {
             "colorbar": {
              "outlinewidth": 0,
              "ticks": ""
             }
            },
            "type": "scatter"
           }
          ],
          "scatter3d": [
           {
            "line": {
             "colorbar": {
              "outlinewidth": 0,
              "ticks": ""
             }
            },
            "marker": {
             "colorbar": {
              "outlinewidth": 0,
              "ticks": ""
             }
            },
            "type": "scatter3d"
           }
          ],
          "scattercarpet": [
           {
            "marker": {
             "colorbar": {
              "outlinewidth": 0,
              "ticks": ""
             }
            },
            "type": "scattercarpet"
           }
          ],
          "scattergeo": [
           {
            "marker": {
             "colorbar": {
              "outlinewidth": 0,
              "ticks": ""
             }
            },
            "type": "scattergeo"
           }
          ],
          "scattergl": [
           {
            "marker": {
             "colorbar": {
              "outlinewidth": 0,
              "ticks": ""
             }
            },
            "type": "scattergl"
           }
          ],
          "scattermapbox": [
           {
            "marker": {
             "colorbar": {
              "outlinewidth": 0,
              "ticks": ""
             }
            },
            "type": "scattermapbox"
           }
          ],
          "scatterpolar": [
           {
            "marker": {
             "colorbar": {
              "outlinewidth": 0,
              "ticks": ""
             }
            },
            "type": "scatterpolar"
           }
          ],
          "scatterpolargl": [
           {
            "marker": {
             "colorbar": {
              "outlinewidth": 0,
              "ticks": ""
             }
            },
            "type": "scatterpolargl"
           }
          ],
          "scatterternary": [
           {
            "marker": {
             "colorbar": {
              "outlinewidth": 0,
              "ticks": ""
             }
            },
            "type": "scatterternary"
           }
          ],
          "surface": [
           {
            "colorbar": {
             "outlinewidth": 0,
             "ticks": ""
            },
            "colorscale": [
             [
              0,
              "#0d0887"
             ],
             [
              0.1111111111111111,
              "#46039f"
             ],
             [
              0.2222222222222222,
              "#7201a8"
             ],
             [
              0.3333333333333333,
              "#9c179e"
             ],
             [
              0.4444444444444444,
              "#bd3786"
             ],
             [
              0.5555555555555556,
              "#d8576b"
             ],
             [
              0.6666666666666666,
              "#ed7953"
             ],
             [
              0.7777777777777778,
              "#fb9f3a"
             ],
             [
              0.8888888888888888,
              "#fdca26"
             ],
             [
              1,
              "#f0f921"
             ]
            ],
            "type": "surface"
           }
          ],
          "table": [
           {
            "cells": {
             "fill": {
              "color": "#EBF0F8"
             },
             "line": {
              "color": "white"
             }
            },
            "header": {
             "fill": {
              "color": "#C8D4E3"
             },
             "line": {
              "color": "white"
             }
            },
            "type": "table"
           }
          ]
         },
         "layout": {
          "annotationdefaults": {
           "arrowcolor": "#2a3f5f",
           "arrowhead": 0,
           "arrowwidth": 1
          },
          "coloraxis": {
           "colorbar": {
            "outlinewidth": 0,
            "ticks": ""
           }
          },
          "colorscale": {
           "diverging": [
            [
             0,
             "#8e0152"
            ],
            [
             0.1,
             "#c51b7d"
            ],
            [
             0.2,
             "#de77ae"
            ],
            [
             0.3,
             "#f1b6da"
            ],
            [
             0.4,
             "#fde0ef"
            ],
            [
             0.5,
             "#f7f7f7"
            ],
            [
             0.6,
             "#e6f5d0"
            ],
            [
             0.7,
             "#b8e186"
            ],
            [
             0.8,
             "#7fbc41"
            ],
            [
             0.9,
             "#4d9221"
            ],
            [
             1,
             "#276419"
            ]
           ],
           "sequential": [
            [
             0,
             "#0d0887"
            ],
            [
             0.1111111111111111,
             "#46039f"
            ],
            [
             0.2222222222222222,
             "#7201a8"
            ],
            [
             0.3333333333333333,
             "#9c179e"
            ],
            [
             0.4444444444444444,
             "#bd3786"
            ],
            [
             0.5555555555555556,
             "#d8576b"
            ],
            [
             0.6666666666666666,
             "#ed7953"
            ],
            [
             0.7777777777777778,
             "#fb9f3a"
            ],
            [
             0.8888888888888888,
             "#fdca26"
            ],
            [
             1,
             "#f0f921"
            ]
           ],
           "sequentialminus": [
            [
             0,
             "#0d0887"
            ],
            [
             0.1111111111111111,
             "#46039f"
            ],
            [
             0.2222222222222222,
             "#7201a8"
            ],
            [
             0.3333333333333333,
             "#9c179e"
            ],
            [
             0.4444444444444444,
             "#bd3786"
            ],
            [
             0.5555555555555556,
             "#d8576b"
            ],
            [
             0.6666666666666666,
             "#ed7953"
            ],
            [
             0.7777777777777778,
             "#fb9f3a"
            ],
            [
             0.8888888888888888,
             "#fdca26"
            ],
            [
             1,
             "#f0f921"
            ]
           ]
          },
          "colorway": [
           "#636efa",
           "#EF553B",
           "#00cc96",
           "#ab63fa",
           "#FFA15A",
           "#19d3f3",
           "#FF6692",
           "#B6E880",
           "#FF97FF",
           "#FECB52"
          ],
          "font": {
           "color": "#2a3f5f"
          },
          "geo": {
           "bgcolor": "white",
           "lakecolor": "white",
           "landcolor": "#E5ECF6",
           "showlakes": true,
           "showland": true,
           "subunitcolor": "white"
          },
          "hoverlabel": {
           "align": "left"
          },
          "hovermode": "closest",
          "mapbox": {
           "style": "light"
          },
          "paper_bgcolor": "white",
          "plot_bgcolor": "#E5ECF6",
          "polar": {
           "angularaxis": {
            "gridcolor": "white",
            "linecolor": "white",
            "ticks": ""
           },
           "bgcolor": "#E5ECF6",
           "radialaxis": {
            "gridcolor": "white",
            "linecolor": "white",
            "ticks": ""
           }
          },
          "scene": {
           "xaxis": {
            "backgroundcolor": "#E5ECF6",
            "gridcolor": "white",
            "gridwidth": 2,
            "linecolor": "white",
            "showbackground": true,
            "ticks": "",
            "zerolinecolor": "white"
           },
           "yaxis": {
            "backgroundcolor": "#E5ECF6",
            "gridcolor": "white",
            "gridwidth": 2,
            "linecolor": "white",
            "showbackground": true,
            "ticks": "",
            "zerolinecolor": "white"
           },
           "zaxis": {
            "backgroundcolor": "#E5ECF6",
            "gridcolor": "white",
            "gridwidth": 2,
            "linecolor": "white",
            "showbackground": true,
            "ticks": "",
            "zerolinecolor": "white"
           }
          },
          "shapedefaults": {
           "line": {
            "color": "#2a3f5f"
           }
          },
          "ternary": {
           "aaxis": {
            "gridcolor": "white",
            "linecolor": "white",
            "ticks": ""
           },
           "baxis": {
            "gridcolor": "white",
            "linecolor": "white",
            "ticks": ""
           },
           "bgcolor": "#E5ECF6",
           "caxis": {
            "gridcolor": "white",
            "linecolor": "white",
            "ticks": ""
           }
          },
          "title": {
           "x": 0.05
          },
          "xaxis": {
           "automargin": true,
           "gridcolor": "white",
           "linecolor": "white",
           "ticks": "",
           "title": {
            "standoff": 15
           },
           "zerolinecolor": "white",
           "zerolinewidth": 2
          },
          "yaxis": {
           "automargin": true,
           "gridcolor": "white",
           "linecolor": "white",
           "ticks": "",
           "title": {
            "standoff": 15
           },
           "zerolinecolor": "white",
           "zerolinewidth": 2
          }
         }
        },
        "xaxis": {
         "anchor": "y",
         "domain": [
          0,
          1
         ],
         "title": {
          "text": "state"
         }
        },
        "yaxis": {
         "anchor": "x",
         "domain": [
          0,
          1
         ],
         "title": {
          "text": "votes"
         }
        }
       }
      },
      "text/html": [
       "<div>\n",
       "        \n",
       "        \n",
       "            <div id=\"e88922e8-75c4-4065-ad9f-c62f8fa40136\" class=\"plotly-graph-div\" style=\"height:525px; width:100%;\"></div>\n",
       "            <script type=\"text/javascript\">\n",
       "                require([\"plotly\"], function(Plotly) {\n",
       "                    window.PLOTLYENV=window.PLOTLYENV || {};\n",
       "                    \n",
       "                if (document.getElementById(\"e88922e8-75c4-4065-ad9f-c62f8fa40136\")) {\n",
       "                    Plotly.newPlot(\n",
       "                        'e88922e8-75c4-4065-ad9f-c62f8fa40136',\n",
       "                        [{\"alignmentgroup\": \"True\", \"boxpoints\": \"all\", \"fillcolor\": \"rgba(255,255,255,0)\", \"hoverlabel\": {\"namelength\": 0}, \"hoveron\": \"points\", \"hovertemplate\": \"candidate=Bernie Sanders<br>state=%{x}<br>votes=%{y}\", \"legendgroup\": \"candidate=Bernie Sanders\", \"line\": {\"color\": \"rgba(255,255,255,0)\"}, \"marker\": {\"color\": \"#636efa\"}, \"name\": \"candidate=Bernie Sanders\", \"offsetgroup\": \"candidate=Bernie Sanders\", \"orientation\": \"h\", \"pointpos\": 0, \"showlegend\": true, \"type\": \"box\", \"x\": [\"Alabama\", \"Arkansas\", \"Colorado\", \"Connecticut\", \"Florida\", \"Georgia\", \"Idaho\", \"Illinois\", \"Indiana\", \"Iowa\", \"Kentucky\", \"Louisiana\", \"Maine\", \"Maryland\", \"Massachusetts\", \"Mississippi\", \"Missouri\", \"Nebraska\", \"New York\", \"North Carolina\", \"Ohio\", \"Oklahoma\", \"Oregon\", \"Pennsylvania\", \"Tennessee\", \"Texas\", \"Utah\", \"Vermont\", \"Virginia\", \"Wisconsin\", \"Arkansas\", \"Arkansas\", \"Missouri\", \"Arkansas\", \"California\", \"Hawaii\", \"Idaho\", \"Indiana\", \"Iowa\", \"New York\", \"Ohio\", \"Oklahoma\", \"Pennsylvania\", \"Indiana\", \"Kentucky\", \"West Virginia\", \"Iowa\", \"Wisconsin\", \"Massachusetts\", \"Missouri\", \"Missouri\", \"Missouri\", \"Missouri\", \"Oklahoma\", \"Nevada\", \"New York\", \"Pennsylvania\", \"West Virginia\", \"Oklahoma\", \"Pennsylvania\", \"Texas\", \"Utah\", \"Vermont\"], \"x0\": \" \", \"xaxis\": \"x\", \"y\": [562, 8507, 12, 236, 781, 256, 71, 595, 932, 415, 582, 513, 2, 4867, 79, 409, 664, 140, 2087, 597, 2411, 2006, 41841, 11013, 2833, 275, 1509, 155, 984, 7676, 132, 342, 209, 306, 8472, 5605, 90, 7728, 344, 1663, 6891, 1773, 29841, 178, 943, 3363, 343, 3198, 92, 271, 71134, 71134, 666, 393, 83, 909, 1168, 1498, 32368, 3654, 150, 6071, 734], \"y0\": \" \", \"yaxis\": \"y\"}, {\"alignmentgroup\": \"True\", \"boxpoints\": \"all\", \"fillcolor\": \"rgba(255,255,255,0)\", \"hoverlabel\": {\"namelength\": 0}, \"hoveron\": \"points\", \"hovertemplate\": \"candidate=Hillary Clinton<br>state=%{x}<br>votes=%{y}\", \"legendgroup\": \"candidate=Hillary Clinton\", \"line\": {\"color\": \"rgba(255,255,255,0)\"}, \"marker\": {\"color\": \"#EF553B\"}, \"name\": \"candidate=Hillary Clinton\", \"offsetgroup\": \"candidate=Hillary Clinton\", \"orientation\": \"h\", \"pointpos\": 0, \"showlegend\": true, \"type\": \"box\", \"x\": [\"Alabama\", \"Arkansas\", \"Colorado\", \"Connecticut\", \"Florida\", \"Georgia\", \"Idaho\", \"Illinois\", \"Indiana\", \"Iowa\", \"Kentucky\", \"Louisiana\", \"Maine\", \"Maryland\", \"Massachusetts\", \"Mississippi\", \"Missouri\", \"Nebraska\", \"New York\", \"North Carolina\", \"Ohio\", \"Oklahoma\", \"Oregon\", \"Pennsylvania\", \"Tennessee\", \"Texas\", \"Utah\", \"Vermont\", \"Virginia\", \"Wisconsin\", \"Arkansas\", \"Arkansas\", \"Missouri\", \"Arkansas\", \"California\", \"Hawaii\", \"Idaho\", \"Indiana\", \"Iowa\", \"New York\", \"Ohio\", \"Oklahoma\", \"Pennsylvania\", \"Indiana\", \"Kentucky\", \"West Virginia\", \"Iowa\", \"Wisconsin\", \"Massachusetts\", \"Missouri\", \"Missouri\", \"Missouri\", \"Missouri\", \"Oklahoma\", \"Nevada\", \"New York\", \"Pennsylvania\", \"West Virginia\", \"Oklahoma\", \"Pennsylvania\", \"Texas\", \"Utah\", \"Vermont\"], \"x0\": \" \", \"xaxis\": \"x\", \"y\": [1511, 9110, 10, 252, 858, 1741, 35, 409, 999, 484, 601, 1663, 1, 5851, 64, 2982, 754, 136, 1167, 1374, 2557, 1649, 36321, 15390, 2444, 781, 660, 33, 1181, 6381, 724, 2017, 486, 647, 5591, 1639, 48, 6137, 440, 1067, 9552, 1447, 44775, 248, 778, 2468, 357, 2161, 49, 319, 89373, 89373, 603, 267, 79, 594, 1123, 710, 34255, 3915, 474, 1011, 68], \"y0\": \" \", \"yaxis\": \"y\"}, {\"alignmentgroup\": \"True\", \"boxpoints\": \"all\", \"fillcolor\": \"rgba(255,255,255,0)\", \"hoverlabel\": {\"namelength\": 0}, \"hoveron\": \"points\", \"hovertemplate\": \"candidate=Martin O'Malley<br>state=%{x}<br>votes=%{y}\", \"legendgroup\": \"candidate=Martin O'Malley\", \"line\": {\"color\": \"rgba(255,255,255,0)\"}, \"marker\": {\"color\": \"#00cc96\"}, \"name\": \"candidate=Martin O'Malley\", \"offsetgroup\": \"candidate=Martin O'Malley\", \"orientation\": \"h\", \"pointpos\": 0, \"showlegend\": true, \"type\": \"box\", \"x\": [\"Iowa\", \"Iowa\", \"Iowa\"], \"x0\": \" \", \"xaxis\": \"x\", \"y\": [0, 16, 0], \"y0\": \" \", \"yaxis\": \"y\"}, {\"alignmentgroup\": \"True\", \"boxpoints\": \"all\", \"fillcolor\": \"rgba(255,255,255,0)\", \"hoverlabel\": {\"namelength\": 0}, \"hoveron\": \"points\", \"hovertemplate\": \"candidate= No Preference<br>state=%{x}<br>votes=%{y}\", \"legendgroup\": \"candidate= No Preference\", \"line\": {\"color\": \"rgba(255,255,255,0)\"}, \"marker\": {\"color\": \"#ab63fa\"}, \"name\": \"candidate= No Preference\", \"offsetgroup\": \"candidate= No Preference\", \"orientation\": \"h\", \"pointpos\": 0, \"showlegend\": true, \"type\": \"box\", \"x\": [\"Massachusetts\", \"Massachusetts\"], \"x0\": \" \", \"xaxis\": \"x\", \"y\": [1, 0], \"y0\": \" \", \"yaxis\": \"y\"}],\n",
       "                        {\"boxmode\": \"group\", \"legend\": {\"tracegroupgap\": 0}, \"margin\": {\"t\": 60}, \"template\": {\"data\": {\"bar\": [{\"error_x\": {\"color\": \"#2a3f5f\"}, \"error_y\": {\"color\": \"#2a3f5f\"}, \"marker\": {\"line\": {\"color\": \"#E5ECF6\", \"width\": 0.5}}, \"type\": \"bar\"}], \"barpolar\": [{\"marker\": {\"line\": {\"color\": \"#E5ECF6\", \"width\": 0.5}}, \"type\": \"barpolar\"}], \"carpet\": [{\"aaxis\": {\"endlinecolor\": \"#2a3f5f\", \"gridcolor\": \"white\", \"linecolor\": \"white\", \"minorgridcolor\": \"white\", \"startlinecolor\": \"#2a3f5f\"}, \"baxis\": {\"endlinecolor\": \"#2a3f5f\", \"gridcolor\": \"white\", \"linecolor\": \"white\", \"minorgridcolor\": \"white\", \"startlinecolor\": \"#2a3f5f\"}, \"type\": \"carpet\"}], \"choropleth\": [{\"colorbar\": {\"outlinewidth\": 0, \"ticks\": \"\"}, \"type\": \"choropleth\"}], \"contour\": [{\"colorbar\": {\"outlinewidth\": 0, \"ticks\": \"\"}, \"colorscale\": [[0.0, \"#0d0887\"], [0.1111111111111111, \"#46039f\"], [0.2222222222222222, \"#7201a8\"], [0.3333333333333333, \"#9c179e\"], [0.4444444444444444, \"#bd3786\"], [0.5555555555555556, \"#d8576b\"], [0.6666666666666666, \"#ed7953\"], [0.7777777777777778, \"#fb9f3a\"], [0.8888888888888888, \"#fdca26\"], [1.0, \"#f0f921\"]], \"type\": \"contour\"}], \"contourcarpet\": [{\"colorbar\": {\"outlinewidth\": 0, \"ticks\": \"\"}, \"type\": \"contourcarpet\"}], \"heatmap\": [{\"colorbar\": {\"outlinewidth\": 0, \"ticks\": \"\"}, \"colorscale\": [[0.0, \"#0d0887\"], [0.1111111111111111, \"#46039f\"], [0.2222222222222222, \"#7201a8\"], [0.3333333333333333, \"#9c179e\"], [0.4444444444444444, \"#bd3786\"], [0.5555555555555556, \"#d8576b\"], [0.6666666666666666, \"#ed7953\"], [0.7777777777777778, \"#fb9f3a\"], [0.8888888888888888, \"#fdca26\"], [1.0, \"#f0f921\"]], \"type\": \"heatmap\"}], \"heatmapgl\": [{\"colorbar\": {\"outlinewidth\": 0, \"ticks\": \"\"}, \"colorscale\": [[0.0, \"#0d0887\"], [0.1111111111111111, \"#46039f\"], [0.2222222222222222, \"#7201a8\"], [0.3333333333333333, \"#9c179e\"], [0.4444444444444444, \"#bd3786\"], [0.5555555555555556, \"#d8576b\"], [0.6666666666666666, \"#ed7953\"], [0.7777777777777778, \"#fb9f3a\"], [0.8888888888888888, \"#fdca26\"], [1.0, \"#f0f921\"]], \"type\": \"heatmapgl\"}], \"histogram\": [{\"marker\": {\"colorbar\": {\"outlinewidth\": 0, \"ticks\": \"\"}}, \"type\": \"histogram\"}], \"histogram2d\": [{\"colorbar\": {\"outlinewidth\": 0, \"ticks\": \"\"}, \"colorscale\": [[0.0, \"#0d0887\"], [0.1111111111111111, \"#46039f\"], [0.2222222222222222, \"#7201a8\"], [0.3333333333333333, \"#9c179e\"], [0.4444444444444444, \"#bd3786\"], [0.5555555555555556, \"#d8576b\"], [0.6666666666666666, \"#ed7953\"], [0.7777777777777778, \"#fb9f3a\"], [0.8888888888888888, \"#fdca26\"], [1.0, \"#f0f921\"]], \"type\": \"histogram2d\"}], \"histogram2dcontour\": [{\"colorbar\": {\"outlinewidth\": 0, \"ticks\": \"\"}, \"colorscale\": [[0.0, \"#0d0887\"], [0.1111111111111111, \"#46039f\"], [0.2222222222222222, \"#7201a8\"], [0.3333333333333333, \"#9c179e\"], [0.4444444444444444, \"#bd3786\"], [0.5555555555555556, \"#d8576b\"], [0.6666666666666666, \"#ed7953\"], [0.7777777777777778, \"#fb9f3a\"], [0.8888888888888888, \"#fdca26\"], [1.0, \"#f0f921\"]], \"type\": \"histogram2dcontour\"}], \"mesh3d\": [{\"colorbar\": {\"outlinewidth\": 0, \"ticks\": \"\"}, \"type\": \"mesh3d\"}], \"parcoords\": [{\"line\": {\"colorbar\": {\"outlinewidth\": 0, \"ticks\": \"\"}}, \"type\": \"parcoords\"}], \"pie\": [{\"automargin\": true, \"type\": \"pie\"}], \"scatter\": [{\"marker\": {\"colorbar\": {\"outlinewidth\": 0, \"ticks\": \"\"}}, \"type\": \"scatter\"}], \"scatter3d\": [{\"line\": {\"colorbar\": {\"outlinewidth\": 0, \"ticks\": \"\"}}, \"marker\": {\"colorbar\": {\"outlinewidth\": 0, \"ticks\": \"\"}}, \"type\": \"scatter3d\"}], \"scattercarpet\": [{\"marker\": {\"colorbar\": {\"outlinewidth\": 0, \"ticks\": \"\"}}, \"type\": \"scattercarpet\"}], \"scattergeo\": [{\"marker\": {\"colorbar\": {\"outlinewidth\": 0, \"ticks\": \"\"}}, \"type\": \"scattergeo\"}], \"scattergl\": [{\"marker\": {\"colorbar\": {\"outlinewidth\": 0, \"ticks\": \"\"}}, \"type\": \"scattergl\"}], \"scattermapbox\": [{\"marker\": {\"colorbar\": {\"outlinewidth\": 0, \"ticks\": \"\"}}, \"type\": \"scattermapbox\"}], \"scatterpolar\": [{\"marker\": {\"colorbar\": {\"outlinewidth\": 0, \"ticks\": \"\"}}, \"type\": \"scatterpolar\"}], \"scatterpolargl\": [{\"marker\": {\"colorbar\": {\"outlinewidth\": 0, \"ticks\": \"\"}}, \"type\": \"scatterpolargl\"}], \"scatterternary\": [{\"marker\": {\"colorbar\": {\"outlinewidth\": 0, \"ticks\": \"\"}}, \"type\": \"scatterternary\"}], \"surface\": [{\"colorbar\": {\"outlinewidth\": 0, \"ticks\": \"\"}, \"colorscale\": [[0.0, \"#0d0887\"], [0.1111111111111111, \"#46039f\"], [0.2222222222222222, \"#7201a8\"], [0.3333333333333333, \"#9c179e\"], [0.4444444444444444, \"#bd3786\"], [0.5555555555555556, \"#d8576b\"], [0.6666666666666666, \"#ed7953\"], [0.7777777777777778, \"#fb9f3a\"], [0.8888888888888888, \"#fdca26\"], [1.0, \"#f0f921\"]], \"type\": \"surface\"}], \"table\": [{\"cells\": {\"fill\": {\"color\": \"#EBF0F8\"}, \"line\": {\"color\": \"white\"}}, \"header\": {\"fill\": {\"color\": \"#C8D4E3\"}, \"line\": {\"color\": \"white\"}}, \"type\": \"table\"}]}, \"layout\": {\"annotationdefaults\": {\"arrowcolor\": \"#2a3f5f\", \"arrowhead\": 0, \"arrowwidth\": 1}, \"coloraxis\": {\"colorbar\": {\"outlinewidth\": 0, \"ticks\": \"\"}}, \"colorscale\": {\"diverging\": [[0, \"#8e0152\"], [0.1, \"#c51b7d\"], [0.2, \"#de77ae\"], [0.3, \"#f1b6da\"], [0.4, \"#fde0ef\"], [0.5, \"#f7f7f7\"], [0.6, \"#e6f5d0\"], [0.7, \"#b8e186\"], [0.8, \"#7fbc41\"], [0.9, \"#4d9221\"], [1, \"#276419\"]], \"sequential\": [[0.0, \"#0d0887\"], [0.1111111111111111, \"#46039f\"], [0.2222222222222222, \"#7201a8\"], [0.3333333333333333, \"#9c179e\"], [0.4444444444444444, \"#bd3786\"], [0.5555555555555556, \"#d8576b\"], [0.6666666666666666, \"#ed7953\"], [0.7777777777777778, \"#fb9f3a\"], [0.8888888888888888, \"#fdca26\"], [1.0, \"#f0f921\"]], \"sequentialminus\": [[0.0, \"#0d0887\"], [0.1111111111111111, \"#46039f\"], [0.2222222222222222, \"#7201a8\"], [0.3333333333333333, \"#9c179e\"], [0.4444444444444444, \"#bd3786\"], [0.5555555555555556, \"#d8576b\"], [0.6666666666666666, \"#ed7953\"], [0.7777777777777778, \"#fb9f3a\"], [0.8888888888888888, \"#fdca26\"], [1.0, \"#f0f921\"]]}, \"colorway\": [\"#636efa\", \"#EF553B\", \"#00cc96\", \"#ab63fa\", \"#FFA15A\", \"#19d3f3\", \"#FF6692\", \"#B6E880\", \"#FF97FF\", \"#FECB52\"], \"font\": {\"color\": \"#2a3f5f\"}, \"geo\": {\"bgcolor\": \"white\", \"lakecolor\": \"white\", \"landcolor\": \"#E5ECF6\", \"showlakes\": true, \"showland\": true, \"subunitcolor\": \"white\"}, \"hoverlabel\": {\"align\": \"left\"}, \"hovermode\": \"closest\", \"mapbox\": {\"style\": \"light\"}, \"paper_bgcolor\": \"white\", \"plot_bgcolor\": \"#E5ECF6\", \"polar\": {\"angularaxis\": {\"gridcolor\": \"white\", \"linecolor\": \"white\", \"ticks\": \"\"}, \"bgcolor\": \"#E5ECF6\", \"radialaxis\": {\"gridcolor\": \"white\", \"linecolor\": \"white\", \"ticks\": \"\"}}, \"scene\": {\"xaxis\": {\"backgroundcolor\": \"#E5ECF6\", \"gridcolor\": \"white\", \"gridwidth\": 2, \"linecolor\": \"white\", \"showbackground\": true, \"ticks\": \"\", \"zerolinecolor\": \"white\"}, \"yaxis\": {\"backgroundcolor\": \"#E5ECF6\", \"gridcolor\": \"white\", \"gridwidth\": 2, \"linecolor\": \"white\", \"showbackground\": true, \"ticks\": \"\", \"zerolinecolor\": \"white\"}, \"zaxis\": {\"backgroundcolor\": \"#E5ECF6\", \"gridcolor\": \"white\", \"gridwidth\": 2, \"linecolor\": \"white\", \"showbackground\": true, \"ticks\": \"\", \"zerolinecolor\": \"white\"}}, \"shapedefaults\": {\"line\": {\"color\": \"#2a3f5f\"}}, \"ternary\": {\"aaxis\": {\"gridcolor\": \"white\", \"linecolor\": \"white\", \"ticks\": \"\"}, \"baxis\": {\"gridcolor\": \"white\", \"linecolor\": \"white\", \"ticks\": \"\"}, \"bgcolor\": \"#E5ECF6\", \"caxis\": {\"gridcolor\": \"white\", \"linecolor\": \"white\", \"ticks\": \"\"}}, \"title\": {\"x\": 0.05}, \"xaxis\": {\"automargin\": true, \"gridcolor\": \"white\", \"linecolor\": \"white\", \"ticks\": \"\", \"title\": {\"standoff\": 15}, \"zerolinecolor\": \"white\", \"zerolinewidth\": 2}, \"yaxis\": {\"automargin\": true, \"gridcolor\": \"white\", \"linecolor\": \"white\", \"ticks\": \"\", \"title\": {\"standoff\": 15}, \"zerolinecolor\": \"white\", \"zerolinewidth\": 2}}}, \"xaxis\": {\"anchor\": \"y\", \"domain\": [0.0, 1.0], \"title\": {\"text\": \"state\"}}, \"yaxis\": {\"anchor\": \"x\", \"domain\": [0.0, 1.0], \"title\": {\"text\": \"votes\"}}},\n",
       "                        {\"responsive\": true}\n",
       "                    ).then(function(){\n",
       "                            \n",
       "var gd = document.getElementById('e88922e8-75c4-4065-ad9f-c62f8fa40136');\n",
       "var x = new MutationObserver(function (mutations, observer) {{\n",
       "        var display = window.getComputedStyle(gd).display;\n",
       "        if (!display || display === 'none') {{\n",
       "            console.log([gd, 'removed!']);\n",
       "            Plotly.purge(gd);\n",
       "            observer.disconnect();\n",
       "        }}\n",
       "}});\n",
       "\n",
       "// Listen for the removal of the full notebook cells\n",
       "var notebookContainer = gd.closest('#notebook-container');\n",
       "if (notebookContainer) {{\n",
       "    x.observe(notebookContainer, {childList: true});\n",
       "}}\n",
       "\n",
       "// Listen for the clearing of the current output cell\n",
       "var outputEl = gd.closest('.output');\n",
       "if (outputEl) {{\n",
       "    x.observe(outputEl, {childList: true});\n",
       "}}\n",
       "\n",
       "                        })\n",
       "                };\n",
       "                });\n",
       "            </script>\n",
       "        </div>"
      ]
     },
     "metadata": {},
     "output_type": "display_data"
    }
   ],
   "source": [
    "fig = px.strip(allData1, x=\"state\", y=\"votes\", orientation=\"h\", color=\"candidate\")\n",
    "fig.show()"
   ]
  },
  {
   "cell_type": "code",
   "execution_count": 324,
   "metadata": {},
   "outputs": [
    {
     "data": {
      "application/vnd.plotly.v1+json": {
       "config": {
        "plotlyServerURL": "https://plot.ly"
       },
       "data": [
        {
         "hoverlabel": {
          "namelength": 0
         },
         "hovertemplate": "candidate=Bernie Sanders<br>White=%{x}<br>votes=%{y}",
         "legendgroup": "candidate=Bernie Sanders",
         "marker": {
          "color": "#636efa",
          "symbol": "circle"
         },
         "mode": "markers",
         "name": "candidate=Bernie Sanders",
         "showlegend": true,
         "type": "scatter",
         "x": [
          70.4,
          70.4,
          70.4,
          70.4,
          70.4,
          70.4,
          70.4,
          70.4,
          70.4,
          70.4,
          70.4,
          70.4,
          70.4,
          70.4,
          70.4,
          70.4,
          70.4,
          70.4,
          70.4,
          70.4,
          70.4,
          70.4,
          70.4,
          70.4,
          70.4,
          70.4,
          70.4,
          70.4,
          70.4,
          70.4,
          73.4,
          57.3,
          57.3,
          51.5,
          51.5,
          23,
          91.5,
          63.7,
          63.7,
          63.7,
          63.7,
          63.7,
          63.7,
          80.1,
          80.1,
          80.1,
          87.1,
          87.1,
          55.8,
          77,
          91.5,
          67.6,
          43.5,
          43.5,
          68.8,
          84.1,
          84.1,
          84.1,
          67,
          80.3,
          69,
          79.3,
          54.3
         ],
         "xaxis": "x",
         "y": [
          562,
          8507,
          12,
          236,
          781,
          256,
          71,
          595,
          932,
          415,
          582,
          513,
          2,
          4867,
          79,
          409,
          664,
          140,
          2087,
          597,
          2411,
          2006,
          41841,
          11013,
          2833,
          275,
          1509,
          155,
          984,
          7676,
          132,
          342,
          209,
          306,
          8472,
          5605,
          90,
          7728,
          344,
          1663,
          6891,
          1773,
          29841,
          178,
          943,
          3363,
          343,
          3198,
          92,
          271,
          71134,
          71134,
          666,
          393,
          83,
          909,
          1168,
          1498,
          32368,
          3654,
          150,
          6071,
          734
         ],
         "yaxis": "y"
        },
        {
         "hoverlabel": {
          "namelength": 0
         },
         "hovertemplate": "candidate=Hillary Clinton<br>White=%{x}<br>votes=%{y}",
         "legendgroup": "candidate=Hillary Clinton",
         "marker": {
          "color": "#EF553B",
          "symbol": "circle"
         },
         "mode": "markers",
         "name": "candidate=Hillary Clinton",
         "showlegend": true,
         "type": "scatter",
         "x": [
          70.4,
          70.4,
          70.4,
          70.4,
          70.4,
          70.4,
          70.4,
          70.4,
          70.4,
          70.4,
          70.4,
          70.4,
          70.4,
          70.4,
          70.4,
          70.4,
          70.4,
          70.4,
          70.4,
          70.4,
          70.4,
          70.4,
          70.4,
          70.4,
          70.4,
          70.4,
          70.4,
          70.4,
          70.4,
          70.4,
          73.4,
          57.3,
          57.3,
          51.5,
          51.5,
          23,
          91.5,
          63.7,
          63.7,
          63.7,
          63.7,
          63.7,
          63.7,
          80.1,
          80.1,
          80.1,
          87.1,
          87.1,
          55.8,
          77,
          91.5,
          67.6,
          43.5,
          43.5,
          68.8,
          84.1,
          84.1,
          84.1,
          67,
          80.3,
          69,
          79.3,
          54.3
         ],
         "xaxis": "x",
         "y": [
          1511,
          9110,
          10,
          252,
          858,
          1741,
          35,
          409,
          999,
          484,
          601,
          1663,
          1,
          5851,
          64,
          2982,
          754,
          136,
          1167,
          1374,
          2557,
          1649,
          36321,
          15390,
          2444,
          781,
          660,
          33,
          1181,
          6381,
          724,
          2017,
          486,
          647,
          5591,
          1639,
          48,
          6137,
          440,
          1067,
          9552,
          1447,
          44775,
          248,
          778,
          2468,
          357,
          2161,
          49,
          319,
          89373,
          89373,
          603,
          267,
          79,
          594,
          1123,
          710,
          34255,
          3915,
          474,
          1011,
          68
         ],
         "yaxis": "y"
        },
        {
         "hoverlabel": {
          "namelength": 0
         },
         "hovertemplate": "candidate=Martin O'Malley<br>White=%{x}<br>votes=%{y}",
         "legendgroup": "candidate=Martin O'Malley",
         "marker": {
          "color": "#00cc96",
          "symbol": "circle"
         },
         "mode": "markers",
         "name": "candidate=Martin O'Malley",
         "showlegend": true,
         "type": "scatter",
         "x": [
          70.4,
          63.7,
          87.1
         ],
         "xaxis": "x",
         "y": [
          0,
          16,
          0
         ],
         "yaxis": "y"
        },
        {
         "hoverlabel": {
          "namelength": 0
         },
         "hovertemplate": "candidate= No Preference<br>White=%{x}<br>votes=%{y}",
         "legendgroup": "candidate= No Preference",
         "marker": {
          "color": "#ab63fa",
          "symbol": "circle"
         },
         "mode": "markers",
         "name": "candidate= No Preference",
         "showlegend": true,
         "type": "scatter",
         "x": [
          70.4,
          55.8
         ],
         "xaxis": "x",
         "y": [
          1,
          0
         ],
         "yaxis": "y"
        }
       ],
       "layout": {
        "legend": {
         "tracegroupgap": 0
        },
        "margin": {
         "t": 60
        },
        "template": {
         "data": {
          "bar": [
           {
            "error_x": {
             "color": "#2a3f5f"
            },
            "error_y": {
             "color": "#2a3f5f"
            },
            "marker": {
             "line": {
              "color": "#E5ECF6",
              "width": 0.5
             }
            },
            "type": "bar"
           }
          ],
          "barpolar": [
           {
            "marker": {
             "line": {
              "color": "#E5ECF6",
              "width": 0.5
             }
            },
            "type": "barpolar"
           }
          ],
          "carpet": [
           {
            "aaxis": {
             "endlinecolor": "#2a3f5f",
             "gridcolor": "white",
             "linecolor": "white",
             "minorgridcolor": "white",
             "startlinecolor": "#2a3f5f"
            },
            "baxis": {
             "endlinecolor": "#2a3f5f",
             "gridcolor": "white",
             "linecolor": "white",
             "minorgridcolor": "white",
             "startlinecolor": "#2a3f5f"
            },
            "type": "carpet"
           }
          ],
          "choropleth": [
           {
            "colorbar": {
             "outlinewidth": 0,
             "ticks": ""
            },
            "type": "choropleth"
           }
          ],
          "contour": [
           {
            "colorbar": {
             "outlinewidth": 0,
             "ticks": ""
            },
            "colorscale": [
             [
              0,
              "#0d0887"
             ],
             [
              0.1111111111111111,
              "#46039f"
             ],
             [
              0.2222222222222222,
              "#7201a8"
             ],
             [
              0.3333333333333333,
              "#9c179e"
             ],
             [
              0.4444444444444444,
              "#bd3786"
             ],
             [
              0.5555555555555556,
              "#d8576b"
             ],
             [
              0.6666666666666666,
              "#ed7953"
             ],
             [
              0.7777777777777778,
              "#fb9f3a"
             ],
             [
              0.8888888888888888,
              "#fdca26"
             ],
             [
              1,
              "#f0f921"
             ]
            ],
            "type": "contour"
           }
          ],
          "contourcarpet": [
           {
            "colorbar": {
             "outlinewidth": 0,
             "ticks": ""
            },
            "type": "contourcarpet"
           }
          ],
          "heatmap": [
           {
            "colorbar": {
             "outlinewidth": 0,
             "ticks": ""
            },
            "colorscale": [
             [
              0,
              "#0d0887"
             ],
             [
              0.1111111111111111,
              "#46039f"
             ],
             [
              0.2222222222222222,
              "#7201a8"
             ],
             [
              0.3333333333333333,
              "#9c179e"
             ],
             [
              0.4444444444444444,
              "#bd3786"
             ],
             [
              0.5555555555555556,
              "#d8576b"
             ],
             [
              0.6666666666666666,
              "#ed7953"
             ],
             [
              0.7777777777777778,
              "#fb9f3a"
             ],
             [
              0.8888888888888888,
              "#fdca26"
             ],
             [
              1,
              "#f0f921"
             ]
            ],
            "type": "heatmap"
           }
          ],
          "heatmapgl": [
           {
            "colorbar": {
             "outlinewidth": 0,
             "ticks": ""
            },
            "colorscale": [
             [
              0,
              "#0d0887"
             ],
             [
              0.1111111111111111,
              "#46039f"
             ],
             [
              0.2222222222222222,
              "#7201a8"
             ],
             [
              0.3333333333333333,
              "#9c179e"
             ],
             [
              0.4444444444444444,
              "#bd3786"
             ],
             [
              0.5555555555555556,
              "#d8576b"
             ],
             [
              0.6666666666666666,
              "#ed7953"
             ],
             [
              0.7777777777777778,
              "#fb9f3a"
             ],
             [
              0.8888888888888888,
              "#fdca26"
             ],
             [
              1,
              "#f0f921"
             ]
            ],
            "type": "heatmapgl"
           }
          ],
          "histogram": [
           {
            "marker": {
             "colorbar": {
              "outlinewidth": 0,
              "ticks": ""
             }
            },
            "type": "histogram"
           }
          ],
          "histogram2d": [
           {
            "colorbar": {
             "outlinewidth": 0,
             "ticks": ""
            },
            "colorscale": [
             [
              0,
              "#0d0887"
             ],
             [
              0.1111111111111111,
              "#46039f"
             ],
             [
              0.2222222222222222,
              "#7201a8"
             ],
             [
              0.3333333333333333,
              "#9c179e"
             ],
             [
              0.4444444444444444,
              "#bd3786"
             ],
             [
              0.5555555555555556,
              "#d8576b"
             ],
             [
              0.6666666666666666,
              "#ed7953"
             ],
             [
              0.7777777777777778,
              "#fb9f3a"
             ],
             [
              0.8888888888888888,
              "#fdca26"
             ],
             [
              1,
              "#f0f921"
             ]
            ],
            "type": "histogram2d"
           }
          ],
          "histogram2dcontour": [
           {
            "colorbar": {
             "outlinewidth": 0,
             "ticks": ""
            },
            "colorscale": [
             [
              0,
              "#0d0887"
             ],
             [
              0.1111111111111111,
              "#46039f"
             ],
             [
              0.2222222222222222,
              "#7201a8"
             ],
             [
              0.3333333333333333,
              "#9c179e"
             ],
             [
              0.4444444444444444,
              "#bd3786"
             ],
             [
              0.5555555555555556,
              "#d8576b"
             ],
             [
              0.6666666666666666,
              "#ed7953"
             ],
             [
              0.7777777777777778,
              "#fb9f3a"
             ],
             [
              0.8888888888888888,
              "#fdca26"
             ],
             [
              1,
              "#f0f921"
             ]
            ],
            "type": "histogram2dcontour"
           }
          ],
          "mesh3d": [
           {
            "colorbar": {
             "outlinewidth": 0,
             "ticks": ""
            },
            "type": "mesh3d"
           }
          ],
          "parcoords": [
           {
            "line": {
             "colorbar": {
              "outlinewidth": 0,
              "ticks": ""
             }
            },
            "type": "parcoords"
           }
          ],
          "pie": [
           {
            "automargin": true,
            "type": "pie"
           }
          ],
          "scatter": [
           {
            "marker": {
             "colorbar": {
              "outlinewidth": 0,
              "ticks": ""
             }
            },
            "type": "scatter"
           }
          ],
          "scatter3d": [
           {
            "line": {
             "colorbar": {
              "outlinewidth": 0,
              "ticks": ""
             }
            },
            "marker": {
             "colorbar": {
              "outlinewidth": 0,
              "ticks": ""
             }
            },
            "type": "scatter3d"
           }
          ],
          "scattercarpet": [
           {
            "marker": {
             "colorbar": {
              "outlinewidth": 0,
              "ticks": ""
             }
            },
            "type": "scattercarpet"
           }
          ],
          "scattergeo": [
           {
            "marker": {
             "colorbar": {
              "outlinewidth": 0,
              "ticks": ""
             }
            },
            "type": "scattergeo"
           }
          ],
          "scattergl": [
           {
            "marker": {
             "colorbar": {
              "outlinewidth": 0,
              "ticks": ""
             }
            },
            "type": "scattergl"
           }
          ],
          "scattermapbox": [
           {
            "marker": {
             "colorbar": {
              "outlinewidth": 0,
              "ticks": ""
             }
            },
            "type": "scattermapbox"
           }
          ],
          "scatterpolar": [
           {
            "marker": {
             "colorbar": {
              "outlinewidth": 0,
              "ticks": ""
             }
            },
            "type": "scatterpolar"
           }
          ],
          "scatterpolargl": [
           {
            "marker": {
             "colorbar": {
              "outlinewidth": 0,
              "ticks": ""
             }
            },
            "type": "scatterpolargl"
           }
          ],
          "scatterternary": [
           {
            "marker": {
             "colorbar": {
              "outlinewidth": 0,
              "ticks": ""
             }
            },
            "type": "scatterternary"
           }
          ],
          "surface": [
           {
            "colorbar": {
             "outlinewidth": 0,
             "ticks": ""
            },
            "colorscale": [
             [
              0,
              "#0d0887"
             ],
             [
              0.1111111111111111,
              "#46039f"
             ],
             [
              0.2222222222222222,
              "#7201a8"
             ],
             [
              0.3333333333333333,
              "#9c179e"
             ],
             [
              0.4444444444444444,
              "#bd3786"
             ],
             [
              0.5555555555555556,
              "#d8576b"
             ],
             [
              0.6666666666666666,
              "#ed7953"
             ],
             [
              0.7777777777777778,
              "#fb9f3a"
             ],
             [
              0.8888888888888888,
              "#fdca26"
             ],
             [
              1,
              "#f0f921"
             ]
            ],
            "type": "surface"
           }
          ],
          "table": [
           {
            "cells": {
             "fill": {
              "color": "#EBF0F8"
             },
             "line": {
              "color": "white"
             }
            },
            "header": {
             "fill": {
              "color": "#C8D4E3"
             },
             "line": {
              "color": "white"
             }
            },
            "type": "table"
           }
          ]
         },
         "layout": {
          "annotationdefaults": {
           "arrowcolor": "#2a3f5f",
           "arrowhead": 0,
           "arrowwidth": 1
          },
          "coloraxis": {
           "colorbar": {
            "outlinewidth": 0,
            "ticks": ""
           }
          },
          "colorscale": {
           "diverging": [
            [
             0,
             "#8e0152"
            ],
            [
             0.1,
             "#c51b7d"
            ],
            [
             0.2,
             "#de77ae"
            ],
            [
             0.3,
             "#f1b6da"
            ],
            [
             0.4,
             "#fde0ef"
            ],
            [
             0.5,
             "#f7f7f7"
            ],
            [
             0.6,
             "#e6f5d0"
            ],
            [
             0.7,
             "#b8e186"
            ],
            [
             0.8,
             "#7fbc41"
            ],
            [
             0.9,
             "#4d9221"
            ],
            [
             1,
             "#276419"
            ]
           ],
           "sequential": [
            [
             0,
             "#0d0887"
            ],
            [
             0.1111111111111111,
             "#46039f"
            ],
            [
             0.2222222222222222,
             "#7201a8"
            ],
            [
             0.3333333333333333,
             "#9c179e"
            ],
            [
             0.4444444444444444,
             "#bd3786"
            ],
            [
             0.5555555555555556,
             "#d8576b"
            ],
            [
             0.6666666666666666,
             "#ed7953"
            ],
            [
             0.7777777777777778,
             "#fb9f3a"
            ],
            [
             0.8888888888888888,
             "#fdca26"
            ],
            [
             1,
             "#f0f921"
            ]
           ],
           "sequentialminus": [
            [
             0,
             "#0d0887"
            ],
            [
             0.1111111111111111,
             "#46039f"
            ],
            [
             0.2222222222222222,
             "#7201a8"
            ],
            [
             0.3333333333333333,
             "#9c179e"
            ],
            [
             0.4444444444444444,
             "#bd3786"
            ],
            [
             0.5555555555555556,
             "#d8576b"
            ],
            [
             0.6666666666666666,
             "#ed7953"
            ],
            [
             0.7777777777777778,
             "#fb9f3a"
            ],
            [
             0.8888888888888888,
             "#fdca26"
            ],
            [
             1,
             "#f0f921"
            ]
           ]
          },
          "colorway": [
           "#636efa",
           "#EF553B",
           "#00cc96",
           "#ab63fa",
           "#FFA15A",
           "#19d3f3",
           "#FF6692",
           "#B6E880",
           "#FF97FF",
           "#FECB52"
          ],
          "font": {
           "color": "#2a3f5f"
          },
          "geo": {
           "bgcolor": "white",
           "lakecolor": "white",
           "landcolor": "#E5ECF6",
           "showlakes": true,
           "showland": true,
           "subunitcolor": "white"
          },
          "hoverlabel": {
           "align": "left"
          },
          "hovermode": "closest",
          "mapbox": {
           "style": "light"
          },
          "paper_bgcolor": "white",
          "plot_bgcolor": "#E5ECF6",
          "polar": {
           "angularaxis": {
            "gridcolor": "white",
            "linecolor": "white",
            "ticks": ""
           },
           "bgcolor": "#E5ECF6",
           "radialaxis": {
            "gridcolor": "white",
            "linecolor": "white",
            "ticks": ""
           }
          },
          "scene": {
           "xaxis": {
            "backgroundcolor": "#E5ECF6",
            "gridcolor": "white",
            "gridwidth": 2,
            "linecolor": "white",
            "showbackground": true,
            "ticks": "",
            "zerolinecolor": "white"
           },
           "yaxis": {
            "backgroundcolor": "#E5ECF6",
            "gridcolor": "white",
            "gridwidth": 2,
            "linecolor": "white",
            "showbackground": true,
            "ticks": "",
            "zerolinecolor": "white"
           },
           "zaxis": {
            "backgroundcolor": "#E5ECF6",
            "gridcolor": "white",
            "gridwidth": 2,
            "linecolor": "white",
            "showbackground": true,
            "ticks": "",
            "zerolinecolor": "white"
           }
          },
          "shapedefaults": {
           "line": {
            "color": "#2a3f5f"
           }
          },
          "ternary": {
           "aaxis": {
            "gridcolor": "white",
            "linecolor": "white",
            "ticks": ""
           },
           "baxis": {
            "gridcolor": "white",
            "linecolor": "white",
            "ticks": ""
           },
           "bgcolor": "#E5ECF6",
           "caxis": {
            "gridcolor": "white",
            "linecolor": "white",
            "ticks": ""
           }
          },
          "title": {
           "x": 0.05
          },
          "xaxis": {
           "automargin": true,
           "gridcolor": "white",
           "linecolor": "white",
           "ticks": "",
           "title": {
            "standoff": 15
           },
           "zerolinecolor": "white",
           "zerolinewidth": 2
          },
          "yaxis": {
           "automargin": true,
           "gridcolor": "white",
           "linecolor": "white",
           "ticks": "",
           "title": {
            "standoff": 15
           },
           "zerolinecolor": "white",
           "zerolinewidth": 2
          }
         }
        },
        "xaxis": {
         "anchor": "y",
         "domain": [
          0,
          1
         ],
         "title": {
          "text": "White"
         }
        },
        "yaxis": {
         "anchor": "x",
         "domain": [
          0,
          1
         ],
         "title": {
          "text": "votes"
         }
        }
       }
      },
      "text/html": [
       "<div>\n",
       "        \n",
       "        \n",
       "            <div id=\"2307223b-e908-46f0-87b8-191eac4ba7ad\" class=\"plotly-graph-div\" style=\"height:525px; width:100%;\"></div>\n",
       "            <script type=\"text/javascript\">\n",
       "                require([\"plotly\"], function(Plotly) {\n",
       "                    window.PLOTLYENV=window.PLOTLYENV || {};\n",
       "                    \n",
       "                if (document.getElementById(\"2307223b-e908-46f0-87b8-191eac4ba7ad\")) {\n",
       "                    Plotly.newPlot(\n",
       "                        '2307223b-e908-46f0-87b8-191eac4ba7ad',\n",
       "                        [{\"hoverlabel\": {\"namelength\": 0}, \"hovertemplate\": \"candidate=Bernie Sanders<br>White=%{x}<br>votes=%{y}\", \"legendgroup\": \"candidate=Bernie Sanders\", \"marker\": {\"color\": \"#636efa\", \"symbol\": \"circle\"}, \"mode\": \"markers\", \"name\": \"candidate=Bernie Sanders\", \"showlegend\": true, \"type\": \"scatter\", \"x\": [70.4, 70.4, 70.4, 70.4, 70.4, 70.4, 70.4, 70.4, 70.4, 70.4, 70.4, 70.4, 70.4, 70.4, 70.4, 70.4, 70.4, 70.4, 70.4, 70.4, 70.4, 70.4, 70.4, 70.4, 70.4, 70.4, 70.4, 70.4, 70.4, 70.4, 73.4, 57.3, 57.3, 51.5, 51.5, 23.0, 91.5, 63.7, 63.7, 63.7, 63.7, 63.7, 63.7, 80.1, 80.1, 80.1, 87.1, 87.1, 55.8, 77.0, 91.5, 67.6, 43.5, 43.5, 68.8, 84.1, 84.1, 84.1, 67.0, 80.3, 69.0, 79.3, 54.3], \"xaxis\": \"x\", \"y\": [562, 8507, 12, 236, 781, 256, 71, 595, 932, 415, 582, 513, 2, 4867, 79, 409, 664, 140, 2087, 597, 2411, 2006, 41841, 11013, 2833, 275, 1509, 155, 984, 7676, 132, 342, 209, 306, 8472, 5605, 90, 7728, 344, 1663, 6891, 1773, 29841, 178, 943, 3363, 343, 3198, 92, 271, 71134, 71134, 666, 393, 83, 909, 1168, 1498, 32368, 3654, 150, 6071, 734], \"yaxis\": \"y\"}, {\"hoverlabel\": {\"namelength\": 0}, \"hovertemplate\": \"candidate=Hillary Clinton<br>White=%{x}<br>votes=%{y}\", \"legendgroup\": \"candidate=Hillary Clinton\", \"marker\": {\"color\": \"#EF553B\", \"symbol\": \"circle\"}, \"mode\": \"markers\", \"name\": \"candidate=Hillary Clinton\", \"showlegend\": true, \"type\": \"scatter\", \"x\": [70.4, 70.4, 70.4, 70.4, 70.4, 70.4, 70.4, 70.4, 70.4, 70.4, 70.4, 70.4, 70.4, 70.4, 70.4, 70.4, 70.4, 70.4, 70.4, 70.4, 70.4, 70.4, 70.4, 70.4, 70.4, 70.4, 70.4, 70.4, 70.4, 70.4, 73.4, 57.3, 57.3, 51.5, 51.5, 23.0, 91.5, 63.7, 63.7, 63.7, 63.7, 63.7, 63.7, 80.1, 80.1, 80.1, 87.1, 87.1, 55.8, 77.0, 91.5, 67.6, 43.5, 43.5, 68.8, 84.1, 84.1, 84.1, 67.0, 80.3, 69.0, 79.3, 54.3], \"xaxis\": \"x\", \"y\": [1511, 9110, 10, 252, 858, 1741, 35, 409, 999, 484, 601, 1663, 1, 5851, 64, 2982, 754, 136, 1167, 1374, 2557, 1649, 36321, 15390, 2444, 781, 660, 33, 1181, 6381, 724, 2017, 486, 647, 5591, 1639, 48, 6137, 440, 1067, 9552, 1447, 44775, 248, 778, 2468, 357, 2161, 49, 319, 89373, 89373, 603, 267, 79, 594, 1123, 710, 34255, 3915, 474, 1011, 68], \"yaxis\": \"y\"}, {\"hoverlabel\": {\"namelength\": 0}, \"hovertemplate\": \"candidate=Martin O'Malley<br>White=%{x}<br>votes=%{y}\", \"legendgroup\": \"candidate=Martin O'Malley\", \"marker\": {\"color\": \"#00cc96\", \"symbol\": \"circle\"}, \"mode\": \"markers\", \"name\": \"candidate=Martin O'Malley\", \"showlegend\": true, \"type\": \"scatter\", \"x\": [70.4, 63.7, 87.1], \"xaxis\": \"x\", \"y\": [0, 16, 0], \"yaxis\": \"y\"}, {\"hoverlabel\": {\"namelength\": 0}, \"hovertemplate\": \"candidate= No Preference<br>White=%{x}<br>votes=%{y}\", \"legendgroup\": \"candidate= No Preference\", \"marker\": {\"color\": \"#ab63fa\", \"symbol\": \"circle\"}, \"mode\": \"markers\", \"name\": \"candidate= No Preference\", \"showlegend\": true, \"type\": \"scatter\", \"x\": [70.4, 55.8], \"xaxis\": \"x\", \"y\": [1, 0], \"yaxis\": \"y\"}],\n",
       "                        {\"legend\": {\"tracegroupgap\": 0}, \"margin\": {\"t\": 60}, \"template\": {\"data\": {\"bar\": [{\"error_x\": {\"color\": \"#2a3f5f\"}, \"error_y\": {\"color\": \"#2a3f5f\"}, \"marker\": {\"line\": {\"color\": \"#E5ECF6\", \"width\": 0.5}}, \"type\": \"bar\"}], \"barpolar\": [{\"marker\": {\"line\": {\"color\": \"#E5ECF6\", \"width\": 0.5}}, \"type\": \"barpolar\"}], \"carpet\": [{\"aaxis\": {\"endlinecolor\": \"#2a3f5f\", \"gridcolor\": \"white\", \"linecolor\": \"white\", \"minorgridcolor\": \"white\", \"startlinecolor\": \"#2a3f5f\"}, \"baxis\": {\"endlinecolor\": \"#2a3f5f\", \"gridcolor\": \"white\", \"linecolor\": \"white\", \"minorgridcolor\": \"white\", \"startlinecolor\": \"#2a3f5f\"}, \"type\": \"carpet\"}], \"choropleth\": [{\"colorbar\": {\"outlinewidth\": 0, \"ticks\": \"\"}, \"type\": \"choropleth\"}], \"contour\": [{\"colorbar\": {\"outlinewidth\": 0, \"ticks\": \"\"}, \"colorscale\": [[0.0, \"#0d0887\"], [0.1111111111111111, \"#46039f\"], [0.2222222222222222, \"#7201a8\"], [0.3333333333333333, \"#9c179e\"], [0.4444444444444444, \"#bd3786\"], [0.5555555555555556, \"#d8576b\"], [0.6666666666666666, \"#ed7953\"], [0.7777777777777778, \"#fb9f3a\"], [0.8888888888888888, \"#fdca26\"], [1.0, \"#f0f921\"]], \"type\": \"contour\"}], \"contourcarpet\": [{\"colorbar\": {\"outlinewidth\": 0, \"ticks\": \"\"}, \"type\": \"contourcarpet\"}], \"heatmap\": [{\"colorbar\": {\"outlinewidth\": 0, \"ticks\": \"\"}, \"colorscale\": [[0.0, \"#0d0887\"], [0.1111111111111111, \"#46039f\"], [0.2222222222222222, \"#7201a8\"], [0.3333333333333333, \"#9c179e\"], [0.4444444444444444, \"#bd3786\"], [0.5555555555555556, \"#d8576b\"], [0.6666666666666666, \"#ed7953\"], [0.7777777777777778, \"#fb9f3a\"], [0.8888888888888888, \"#fdca26\"], [1.0, \"#f0f921\"]], \"type\": \"heatmap\"}], \"heatmapgl\": [{\"colorbar\": {\"outlinewidth\": 0, \"ticks\": \"\"}, \"colorscale\": [[0.0, \"#0d0887\"], [0.1111111111111111, \"#46039f\"], [0.2222222222222222, \"#7201a8\"], [0.3333333333333333, \"#9c179e\"], [0.4444444444444444, \"#bd3786\"], [0.5555555555555556, \"#d8576b\"], [0.6666666666666666, \"#ed7953\"], [0.7777777777777778, \"#fb9f3a\"], [0.8888888888888888, \"#fdca26\"], [1.0, \"#f0f921\"]], \"type\": \"heatmapgl\"}], \"histogram\": [{\"marker\": {\"colorbar\": {\"outlinewidth\": 0, \"ticks\": \"\"}}, \"type\": \"histogram\"}], \"histogram2d\": [{\"colorbar\": {\"outlinewidth\": 0, \"ticks\": \"\"}, \"colorscale\": [[0.0, \"#0d0887\"], [0.1111111111111111, \"#46039f\"], [0.2222222222222222, \"#7201a8\"], [0.3333333333333333, \"#9c179e\"], [0.4444444444444444, \"#bd3786\"], [0.5555555555555556, \"#d8576b\"], [0.6666666666666666, \"#ed7953\"], [0.7777777777777778, \"#fb9f3a\"], [0.8888888888888888, \"#fdca26\"], [1.0, \"#f0f921\"]], \"type\": \"histogram2d\"}], \"histogram2dcontour\": [{\"colorbar\": {\"outlinewidth\": 0, \"ticks\": \"\"}, \"colorscale\": [[0.0, \"#0d0887\"], [0.1111111111111111, \"#46039f\"], [0.2222222222222222, \"#7201a8\"], [0.3333333333333333, \"#9c179e\"], [0.4444444444444444, \"#bd3786\"], [0.5555555555555556, \"#d8576b\"], [0.6666666666666666, \"#ed7953\"], [0.7777777777777778, \"#fb9f3a\"], [0.8888888888888888, \"#fdca26\"], [1.0, \"#f0f921\"]], \"type\": \"histogram2dcontour\"}], \"mesh3d\": [{\"colorbar\": {\"outlinewidth\": 0, \"ticks\": \"\"}, \"type\": \"mesh3d\"}], \"parcoords\": [{\"line\": {\"colorbar\": {\"outlinewidth\": 0, \"ticks\": \"\"}}, \"type\": \"parcoords\"}], \"pie\": [{\"automargin\": true, \"type\": \"pie\"}], \"scatter\": [{\"marker\": {\"colorbar\": {\"outlinewidth\": 0, \"ticks\": \"\"}}, \"type\": \"scatter\"}], \"scatter3d\": [{\"line\": {\"colorbar\": {\"outlinewidth\": 0, \"ticks\": \"\"}}, \"marker\": {\"colorbar\": {\"outlinewidth\": 0, \"ticks\": \"\"}}, \"type\": \"scatter3d\"}], \"scattercarpet\": [{\"marker\": {\"colorbar\": {\"outlinewidth\": 0, \"ticks\": \"\"}}, \"type\": \"scattercarpet\"}], \"scattergeo\": [{\"marker\": {\"colorbar\": {\"outlinewidth\": 0, \"ticks\": \"\"}}, \"type\": \"scattergeo\"}], \"scattergl\": [{\"marker\": {\"colorbar\": {\"outlinewidth\": 0, \"ticks\": \"\"}}, \"type\": \"scattergl\"}], \"scattermapbox\": [{\"marker\": {\"colorbar\": {\"outlinewidth\": 0, \"ticks\": \"\"}}, \"type\": \"scattermapbox\"}], \"scatterpolar\": [{\"marker\": {\"colorbar\": {\"outlinewidth\": 0, \"ticks\": \"\"}}, \"type\": \"scatterpolar\"}], \"scatterpolargl\": [{\"marker\": {\"colorbar\": {\"outlinewidth\": 0, \"ticks\": \"\"}}, \"type\": \"scatterpolargl\"}], \"scatterternary\": [{\"marker\": {\"colorbar\": {\"outlinewidth\": 0, \"ticks\": \"\"}}, \"type\": \"scatterternary\"}], \"surface\": [{\"colorbar\": {\"outlinewidth\": 0, \"ticks\": \"\"}, \"colorscale\": [[0.0, \"#0d0887\"], [0.1111111111111111, \"#46039f\"], [0.2222222222222222, \"#7201a8\"], [0.3333333333333333, \"#9c179e\"], [0.4444444444444444, \"#bd3786\"], [0.5555555555555556, \"#d8576b\"], [0.6666666666666666, \"#ed7953\"], [0.7777777777777778, \"#fb9f3a\"], [0.8888888888888888, \"#fdca26\"], [1.0, \"#f0f921\"]], \"type\": \"surface\"}], \"table\": [{\"cells\": {\"fill\": {\"color\": \"#EBF0F8\"}, \"line\": {\"color\": \"white\"}}, \"header\": {\"fill\": {\"color\": \"#C8D4E3\"}, \"line\": {\"color\": \"white\"}}, \"type\": \"table\"}]}, \"layout\": {\"annotationdefaults\": {\"arrowcolor\": \"#2a3f5f\", \"arrowhead\": 0, \"arrowwidth\": 1}, \"coloraxis\": {\"colorbar\": {\"outlinewidth\": 0, \"ticks\": \"\"}}, \"colorscale\": {\"diverging\": [[0, \"#8e0152\"], [0.1, \"#c51b7d\"], [0.2, \"#de77ae\"], [0.3, \"#f1b6da\"], [0.4, \"#fde0ef\"], [0.5, \"#f7f7f7\"], [0.6, \"#e6f5d0\"], [0.7, \"#b8e186\"], [0.8, \"#7fbc41\"], [0.9, \"#4d9221\"], [1, \"#276419\"]], \"sequential\": [[0.0, \"#0d0887\"], [0.1111111111111111, \"#46039f\"], [0.2222222222222222, \"#7201a8\"], [0.3333333333333333, \"#9c179e\"], [0.4444444444444444, \"#bd3786\"], [0.5555555555555556, \"#d8576b\"], [0.6666666666666666, \"#ed7953\"], [0.7777777777777778, \"#fb9f3a\"], [0.8888888888888888, \"#fdca26\"], [1.0, \"#f0f921\"]], \"sequentialminus\": [[0.0, \"#0d0887\"], [0.1111111111111111, \"#46039f\"], [0.2222222222222222, \"#7201a8\"], [0.3333333333333333, \"#9c179e\"], [0.4444444444444444, \"#bd3786\"], [0.5555555555555556, \"#d8576b\"], [0.6666666666666666, \"#ed7953\"], [0.7777777777777778, \"#fb9f3a\"], [0.8888888888888888, \"#fdca26\"], [1.0, \"#f0f921\"]]}, \"colorway\": [\"#636efa\", \"#EF553B\", \"#00cc96\", \"#ab63fa\", \"#FFA15A\", \"#19d3f3\", \"#FF6692\", \"#B6E880\", \"#FF97FF\", \"#FECB52\"], \"font\": {\"color\": \"#2a3f5f\"}, \"geo\": {\"bgcolor\": \"white\", \"lakecolor\": \"white\", \"landcolor\": \"#E5ECF6\", \"showlakes\": true, \"showland\": true, \"subunitcolor\": \"white\"}, \"hoverlabel\": {\"align\": \"left\"}, \"hovermode\": \"closest\", \"mapbox\": {\"style\": \"light\"}, \"paper_bgcolor\": \"white\", \"plot_bgcolor\": \"#E5ECF6\", \"polar\": {\"angularaxis\": {\"gridcolor\": \"white\", \"linecolor\": \"white\", \"ticks\": \"\"}, \"bgcolor\": \"#E5ECF6\", \"radialaxis\": {\"gridcolor\": \"white\", \"linecolor\": \"white\", \"ticks\": \"\"}}, \"scene\": {\"xaxis\": {\"backgroundcolor\": \"#E5ECF6\", \"gridcolor\": \"white\", \"gridwidth\": 2, \"linecolor\": \"white\", \"showbackground\": true, \"ticks\": \"\", \"zerolinecolor\": \"white\"}, \"yaxis\": {\"backgroundcolor\": \"#E5ECF6\", \"gridcolor\": \"white\", \"gridwidth\": 2, \"linecolor\": \"white\", \"showbackground\": true, \"ticks\": \"\", \"zerolinecolor\": \"white\"}, \"zaxis\": {\"backgroundcolor\": \"#E5ECF6\", \"gridcolor\": \"white\", \"gridwidth\": 2, \"linecolor\": \"white\", \"showbackground\": true, \"ticks\": \"\", \"zerolinecolor\": \"white\"}}, \"shapedefaults\": {\"line\": {\"color\": \"#2a3f5f\"}}, \"ternary\": {\"aaxis\": {\"gridcolor\": \"white\", \"linecolor\": \"white\", \"ticks\": \"\"}, \"baxis\": {\"gridcolor\": \"white\", \"linecolor\": \"white\", \"ticks\": \"\"}, \"bgcolor\": \"#E5ECF6\", \"caxis\": {\"gridcolor\": \"white\", \"linecolor\": \"white\", \"ticks\": \"\"}}, \"title\": {\"x\": 0.05}, \"xaxis\": {\"automargin\": true, \"gridcolor\": \"white\", \"linecolor\": \"white\", \"ticks\": \"\", \"title\": {\"standoff\": 15}, \"zerolinecolor\": \"white\", \"zerolinewidth\": 2}, \"yaxis\": {\"automargin\": true, \"gridcolor\": \"white\", \"linecolor\": \"white\", \"ticks\": \"\", \"title\": {\"standoff\": 15}, \"zerolinecolor\": \"white\", \"zerolinewidth\": 2}}}, \"xaxis\": {\"anchor\": \"y\", \"domain\": [0.0, 1.0], \"title\": {\"text\": \"White\"}}, \"yaxis\": {\"anchor\": \"x\", \"domain\": [0.0, 1.0], \"title\": {\"text\": \"votes\"}}},\n",
       "                        {\"responsive\": true}\n",
       "                    ).then(function(){\n",
       "                            \n",
       "var gd = document.getElementById('2307223b-e908-46f0-87b8-191eac4ba7ad');\n",
       "var x = new MutationObserver(function (mutations, observer) {{\n",
       "        var display = window.getComputedStyle(gd).display;\n",
       "        if (!display || display === 'none') {{\n",
       "            console.log([gd, 'removed!']);\n",
       "            Plotly.purge(gd);\n",
       "            observer.disconnect();\n",
       "        }}\n",
       "}});\n",
       "\n",
       "// Listen for the removal of the full notebook cells\n",
       "var notebookContainer = gd.closest('#notebook-container');\n",
       "if (notebookContainer) {{\n",
       "    x.observe(notebookContainer, {childList: true});\n",
       "}}\n",
       "\n",
       "// Listen for the clearing of the current output cell\n",
       "var outputEl = gd.closest('.output');\n",
       "if (outputEl) {{\n",
       "    x.observe(outputEl, {childList: true});\n",
       "}}\n",
       "\n",
       "                        })\n",
       "                };\n",
       "                });\n",
       "            </script>\n",
       "        </div>"
      ]
     },
     "metadata": {},
     "output_type": "display_data"
    }
   ],
   "source": [
    "fig = px.scatter(allData1, x=\"White\", y=\"votes\", color=\"candidate\")\n",
    "fig.show()"
   ]
  },
  {
   "cell_type": "code",
   "execution_count": 232,
   "metadata": {},
   "outputs": [],
   "source": [
    "allData1 = pd.merge(Dem, demographics, how=\"inner\", left_on = 'county',right_on = 'area_name')\n",
    "allData2 = pd.merge(Rep, demographics, how=\"inner\", left_on = 'county',right_on = 'area_name') \n",
    "# allData1.drop('state_abbreviation',axis=1, inplace=True)\n",
    "# allData1.dropna().sum()\n",
    "# allData1"
   ]
  },
  {
   "cell_type": "code",
   "execution_count": 234,
   "metadata": {},
   "outputs": [],
   "source": [
    "g= allData1.groupby('candidate')\n",
    "h= allData2.groupby('candidate')"
   ]
  },
  {
   "cell_type": "code",
   "execution_count": 236,
   "metadata": {},
   "outputs": [
    {
     "data": {
      "text/html": [
       "<div>\n",
       "<style scoped>\n",
       "    .dataframe tbody tr th:only-of-type {\n",
       "        vertical-align: middle;\n",
       "    }\n",
       "\n",
       "    .dataframe tbody tr th {\n",
       "        vertical-align: top;\n",
       "    }\n",
       "\n",
       "    .dataframe thead th {\n",
       "        text-align: right;\n",
       "    }\n",
       "</style>\n",
       "<table border=\"1\" class=\"dataframe\">\n",
       "  <thead>\n",
       "    <tr style=\"text-align: right;\">\n",
       "      <th></th>\n",
       "      <th>candidate</th>\n",
       "      <th>state</th>\n",
       "      <th>party</th>\n",
       "      <th>votes</th>\n",
       "      <th>partyFrac</th>\n",
       "    </tr>\n",
       "  </thead>\n",
       "  <tbody>\n",
       "    <tr>\n",
       "      <td>0</td>\n",
       "      <td>Ben Carson</td>\n",
       "      <td>Alabama</td>\n",
       "      <td>Republican</td>\n",
       "      <td>87517</td>\n",
       "      <td>0.104481</td>\n",
       "    </tr>\n",
       "    <tr>\n",
       "      <td>1</td>\n",
       "      <td>Ben Carson</td>\n",
       "      <td>Alaska</td>\n",
       "      <td>Republican</td>\n",
       "      <td>2401</td>\n",
       "      <td>0.109485</td>\n",
       "    </tr>\n",
       "    <tr>\n",
       "      <td>2</td>\n",
       "      <td>Ben Carson</td>\n",
       "      <td>Arizona</td>\n",
       "      <td>Republican</td>\n",
       "      <td>0</td>\n",
       "      <td>0.000000</td>\n",
       "    </tr>\n",
       "    <tr>\n",
       "      <td>3</td>\n",
       "      <td>Ben Carson</td>\n",
       "      <td>Arkansas</td>\n",
       "      <td>Republican</td>\n",
       "      <td>23173</td>\n",
       "      <td>0.058440</td>\n",
       "    </tr>\n",
       "    <tr>\n",
       "      <td>4</td>\n",
       "      <td>Ben Carson</td>\n",
       "      <td>California</td>\n",
       "      <td>Republican</td>\n",
       "      <td>0</td>\n",
       "      <td>0.000000</td>\n",
       "    </tr>\n",
       "  </tbody>\n",
       "</table>\n",
       "</div>"
      ],
      "text/plain": [
       "    candidate       state       party  votes  partyFrac\n",
       "0  Ben Carson     Alabama  Republican  87517   0.104481\n",
       "1  Ben Carson      Alaska  Republican   2401   0.109485\n",
       "2  Ben Carson     Arizona  Republican      0   0.000000\n",
       "3  Ben Carson    Arkansas  Republican  23173   0.058440\n",
       "4  Ben Carson  California  Republican      0   0.000000"
      ]
     },
     "execution_count": 236,
     "metadata": {},
     "output_type": "execute_result"
    }
   ],
   "source": [
    "#Calculating statewise total votes and fraction votes (Republic)\n",
    "votesByState = [[candidate, state, party] for candidate in Rep.candidate.unique() for state in Rep.state.unique() \n",
    "                for party in Rep.party.unique()]\n",
    "for i in votesByState:\n",
    "    i.append(Rep[(Rep.candidate == i[0]) & (Rep.state == i[1])].votes.sum())\n",
    "    i.append(i[3]*1.0/Rep[Rep.state == i[1]].votes.sum())\n",
    "vbs = pd.DataFrame(votesByState, columns = ['candidate', 'state', 'party', 'votes','partyFrac'])\n",
    "vbs.head()"
   ]
  },
  {
   "cell_type": "code",
   "execution_count": 237,
   "metadata": {},
   "outputs": [
    {
     "data": {
      "text/html": [
       "<div>\n",
       "<style scoped>\n",
       "    .dataframe tbody tr th:only-of-type {\n",
       "        vertical-align: middle;\n",
       "    }\n",
       "\n",
       "    .dataframe tbody tr th {\n",
       "        vertical-align: top;\n",
       "    }\n",
       "\n",
       "    .dataframe thead th {\n",
       "        text-align: right;\n",
       "    }\n",
       "</style>\n",
       "<table border=\"1\" class=\"dataframe\">\n",
       "  <thead>\n",
       "    <tr style=\"text-align: right;\">\n",
       "      <th></th>\n",
       "      <th>candidate</th>\n",
       "      <th>state</th>\n",
       "      <th>party</th>\n",
       "      <th>votes</th>\n",
       "      <th>partyFrac</th>\n",
       "    </tr>\n",
       "  </thead>\n",
       "  <tbody>\n",
       "    <tr>\n",
       "      <td>0</td>\n",
       "      <td>Bernie Sanders</td>\n",
       "      <td>Alabama</td>\n",
       "      <td>Democrat</td>\n",
       "      <td>76399</td>\n",
       "      <td>0.197757</td>\n",
       "    </tr>\n",
       "    <tr>\n",
       "      <td>1</td>\n",
       "      <td>Bernie Sanders</td>\n",
       "      <td>Alaska</td>\n",
       "      <td>Democrat</td>\n",
       "      <td>440</td>\n",
       "      <td>0.816327</td>\n",
       "    </tr>\n",
       "    <tr>\n",
       "      <td>2</td>\n",
       "      <td>Bernie Sanders</td>\n",
       "      <td>Arizona</td>\n",
       "      <td>Democrat</td>\n",
       "      <td>163400</td>\n",
       "      <td>0.409424</td>\n",
       "    </tr>\n",
       "    <tr>\n",
       "      <td>3</td>\n",
       "      <td>Bernie Sanders</td>\n",
       "      <td>Arkansas</td>\n",
       "      <td>Democrat</td>\n",
       "      <td>64868</td>\n",
       "      <td>0.309709</td>\n",
       "    </tr>\n",
       "    <tr>\n",
       "      <td>4</td>\n",
       "      <td>Bernie Sanders</td>\n",
       "      <td>California</td>\n",
       "      <td>Democrat</td>\n",
       "      <td>1502043</td>\n",
       "      <td>0.436308</td>\n",
       "    </tr>\n",
       "  </tbody>\n",
       "</table>\n",
       "</div>"
      ],
      "text/plain": [
       "        candidate       state     party    votes  partyFrac\n",
       "0  Bernie Sanders     Alabama  Democrat    76399   0.197757\n",
       "1  Bernie Sanders      Alaska  Democrat      440   0.816327\n",
       "2  Bernie Sanders     Arizona  Democrat   163400   0.409424\n",
       "3  Bernie Sanders    Arkansas  Democrat    64868   0.309709\n",
       "4  Bernie Sanders  California  Democrat  1502043   0.436308"
      ]
     },
     "execution_count": 237,
     "metadata": {},
     "output_type": "execute_result"
    }
   ],
   "source": [
    "#Calculating statewise total votes and fraction votes Democrat\n",
    "votesByState = [[candidate, state, party] for candidate in Dem.candidate.unique() for state in Dem.state.unique() \n",
    "                for party in Dem.party.unique()]\n",
    "for i in votesByState:\n",
    "    i.append(Dem[(Dem.candidate == i[0]) & (Dem.state == i[1])].votes.sum())\n",
    "    i.append(i[3]*1.0/Dem[Dem.state == i[1]].votes.sum())\n",
    "vbs1 = pd.DataFrame(votesByState, columns = ['candidate', 'state', 'party', 'votes','partyFrac'])\n",
    "vbs1.head()"
   ]
  },
  {
   "cell_type": "code",
   "execution_count": 238,
   "metadata": {},
   "outputs": [
    {
     "data": {
      "text/html": [
       "<div>\n",
       "<style scoped>\n",
       "    .dataframe tbody tr th:only-of-type {\n",
       "        vertical-align: middle;\n",
       "    }\n",
       "\n",
       "    .dataframe tbody tr th {\n",
       "        vertical-align: top;\n",
       "    }\n",
       "\n",
       "    .dataframe thead th {\n",
       "        text-align: right;\n",
       "    }\n",
       "</style>\n",
       "<table border=\"1\" class=\"dataframe\">\n",
       "  <thead>\n",
       "    <tr style=\"text-align: right;\">\n",
       "      <th></th>\n",
       "      <th>candidate</th>\n",
       "      <th>state</th>\n",
       "      <th>party</th>\n",
       "      <th>votes</th>\n",
       "      <th>partyFrac</th>\n",
       "      <th>fips</th>\n",
       "      <th>area_name</th>\n",
       "      <th>Population</th>\n",
       "      <th>Black</th>\n",
       "      <th>Latino</th>\n",
       "      <th>White</th>\n",
       "      <th>HighSchool</th>\n",
       "      <th>Bachelors</th>\n",
       "      <th>Income</th>\n",
       "      <th>Kurang Mampu</th>\n",
       "      <th>Density</th>\n",
       "    </tr>\n",
       "  </thead>\n",
       "  <tbody>\n",
       "    <tr>\n",
       "      <td>0</td>\n",
       "      <td>Hillary Clinton</td>\n",
       "      <td>Alabama</td>\n",
       "      <td>Democrat</td>\n",
       "      <td>309928</td>\n",
       "      <td>0.802243</td>\n",
       "      <td>1000</td>\n",
       "      <td>Alabama</td>\n",
       "      <td>4849377</td>\n",
       "      <td>26.7</td>\n",
       "      <td>4.1</td>\n",
       "      <td>66.2</td>\n",
       "      <td>83.1</td>\n",
       "      <td>22.6</td>\n",
       "      <td>43253</td>\n",
       "      <td>18.6</td>\n",
       "      <td>94.4</td>\n",
       "    </tr>\n",
       "    <tr>\n",
       "      <td>1</td>\n",
       "      <td>Hillary Clinton</td>\n",
       "      <td>Alaska</td>\n",
       "      <td>Democrat</td>\n",
       "      <td>99</td>\n",
       "      <td>0.183673</td>\n",
       "      <td>2000</td>\n",
       "      <td>Alaska</td>\n",
       "      <td>736732</td>\n",
       "      <td>3.9</td>\n",
       "      <td>6.8</td>\n",
       "      <td>61.9</td>\n",
       "      <td>91.6</td>\n",
       "      <td>27.5</td>\n",
       "      <td>70760</td>\n",
       "      <td>9.9</td>\n",
       "      <td>1.2</td>\n",
       "    </tr>\n",
       "    <tr>\n",
       "      <td>2</td>\n",
       "      <td>Hillary Clinton</td>\n",
       "      <td>Arizona</td>\n",
       "      <td>Democrat</td>\n",
       "      <td>235697</td>\n",
       "      <td>0.590576</td>\n",
       "      <td>4000</td>\n",
       "      <td>Arizona</td>\n",
       "      <td>6731484</td>\n",
       "      <td>4.7</td>\n",
       "      <td>30.5</td>\n",
       "      <td>56.2</td>\n",
       "      <td>85.7</td>\n",
       "      <td>26.9</td>\n",
       "      <td>49774</td>\n",
       "      <td>17.9</td>\n",
       "      <td>56.3</td>\n",
       "    </tr>\n",
       "    <tr>\n",
       "      <td>3</td>\n",
       "      <td>Hillary Clinton</td>\n",
       "      <td>Arkansas</td>\n",
       "      <td>Democrat</td>\n",
       "      <td>144580</td>\n",
       "      <td>0.690291</td>\n",
       "      <td>5000</td>\n",
       "      <td>Arkansas</td>\n",
       "      <td>2966369</td>\n",
       "      <td>15.6</td>\n",
       "      <td>7.0</td>\n",
       "      <td>73.4</td>\n",
       "      <td>83.7</td>\n",
       "      <td>20.1</td>\n",
       "      <td>40768</td>\n",
       "      <td>19.2</td>\n",
       "      <td>56.0</td>\n",
       "    </tr>\n",
       "    <tr>\n",
       "      <td>4</td>\n",
       "      <td>Hillary Clinton</td>\n",
       "      <td>California</td>\n",
       "      <td>Democrat</td>\n",
       "      <td>1940580</td>\n",
       "      <td>0.563692</td>\n",
       "      <td>6000</td>\n",
       "      <td>California</td>\n",
       "      <td>38802500</td>\n",
       "      <td>6.5</td>\n",
       "      <td>38.6</td>\n",
       "      <td>38.5</td>\n",
       "      <td>81.2</td>\n",
       "      <td>30.7</td>\n",
       "      <td>61094</td>\n",
       "      <td>15.9</td>\n",
       "      <td>239.1</td>\n",
       "    </tr>\n",
       "    <tr>\n",
       "      <td>5</td>\n",
       "      <td>Hillary Clinton</td>\n",
       "      <td>Colorado</td>\n",
       "      <td>Democrat</td>\n",
       "      <td>49256</td>\n",
       "      <td>0.406456</td>\n",
       "      <td>8000</td>\n",
       "      <td>Colorado</td>\n",
       "      <td>5355866</td>\n",
       "      <td>4.5</td>\n",
       "      <td>21.2</td>\n",
       "      <td>69.0</td>\n",
       "      <td>90.2</td>\n",
       "      <td>37.0</td>\n",
       "      <td>58433</td>\n",
       "      <td>13.2</td>\n",
       "      <td>48.5</td>\n",
       "    </tr>\n",
       "    <tr>\n",
       "      <td>6</td>\n",
       "      <td>Hillary Clinton</td>\n",
       "      <td>Connecticut</td>\n",
       "      <td>Democrat</td>\n",
       "      <td>170075</td>\n",
       "      <td>0.527389</td>\n",
       "      <td>9000</td>\n",
       "      <td>Connecticut</td>\n",
       "      <td>3596677</td>\n",
       "      <td>11.5</td>\n",
       "      <td>15.0</td>\n",
       "      <td>68.8</td>\n",
       "      <td>89.2</td>\n",
       "      <td>36.5</td>\n",
       "      <td>69461</td>\n",
       "      <td>10.2</td>\n",
       "      <td>738.1</td>\n",
       "    </tr>\n",
       "    <tr>\n",
       "      <td>7</td>\n",
       "      <td>Hillary Clinton</td>\n",
       "      <td>Delaware</td>\n",
       "      <td>Democrat</td>\n",
       "      <td>55950</td>\n",
       "      <td>0.604153</td>\n",
       "      <td>10000</td>\n",
       "      <td>Delaware</td>\n",
       "      <td>935614</td>\n",
       "      <td>22.2</td>\n",
       "      <td>8.9</td>\n",
       "      <td>63.7</td>\n",
       "      <td>87.7</td>\n",
       "      <td>28.9</td>\n",
       "      <td>59878</td>\n",
       "      <td>11.7</td>\n",
       "      <td>460.8</td>\n",
       "    </tr>\n",
       "    <tr>\n",
       "      <td>8</td>\n",
       "      <td>Hillary Clinton</td>\n",
       "      <td>Florida</td>\n",
       "      <td>Democrat</td>\n",
       "      <td>1097400</td>\n",
       "      <td>0.659494</td>\n",
       "      <td>12000</td>\n",
       "      <td>Florida</td>\n",
       "      <td>19893297</td>\n",
       "      <td>16.8</td>\n",
       "      <td>24.1</td>\n",
       "      <td>55.8</td>\n",
       "      <td>86.1</td>\n",
       "      <td>26.4</td>\n",
       "      <td>46956</td>\n",
       "      <td>16.3</td>\n",
       "      <td>350.6</td>\n",
       "    </tr>\n",
       "    <tr>\n",
       "      <td>9</td>\n",
       "      <td>Hillary Clinton</td>\n",
       "      <td>Georgia</td>\n",
       "      <td>Democrat</td>\n",
       "      <td>543008</td>\n",
       "      <td>0.716994</td>\n",
       "      <td>13000</td>\n",
       "      <td>Georgia</td>\n",
       "      <td>10097343</td>\n",
       "      <td>31.5</td>\n",
       "      <td>9.3</td>\n",
       "      <td>54.3</td>\n",
       "      <td>84.7</td>\n",
       "      <td>28.0</td>\n",
       "      <td>49179</td>\n",
       "      <td>18.2</td>\n",
       "      <td>168.4</td>\n",
       "    </tr>\n",
       "    <tr>\n",
       "      <td>10</td>\n",
       "      <td>Hillary Clinton</td>\n",
       "      <td>Hawaii</td>\n",
       "      <td>Democrat</td>\n",
       "      <td>10127</td>\n",
       "      <td>0.300879</td>\n",
       "      <td>15000</td>\n",
       "      <td>Hawaii</td>\n",
       "      <td>1419561</td>\n",
       "      <td>2.5</td>\n",
       "      <td>10.1</td>\n",
       "      <td>23.0</td>\n",
       "      <td>90.4</td>\n",
       "      <td>30.1</td>\n",
       "      <td>67402</td>\n",
       "      <td>11.2</td>\n",
       "      <td>211.8</td>\n",
       "    </tr>\n",
       "    <tr>\n",
       "      <td>11</td>\n",
       "      <td>Hillary Clinton</td>\n",
       "      <td>Idaho</td>\n",
       "      <td>Democrat</td>\n",
       "      <td>5065</td>\n",
       "      <td>0.213668</td>\n",
       "      <td>16000</td>\n",
       "      <td>Idaho</td>\n",
       "      <td>1634464</td>\n",
       "      <td>0.8</td>\n",
       "      <td>12.0</td>\n",
       "      <td>82.8</td>\n",
       "      <td>88.8</td>\n",
       "      <td>25.1</td>\n",
       "      <td>46767</td>\n",
       "      <td>15.5</td>\n",
       "      <td>19.0</td>\n",
       "    </tr>\n",
       "    <tr>\n",
       "      <td>12</td>\n",
       "      <td>Hillary Clinton</td>\n",
       "      <td>Illinois</td>\n",
       "      <td>Democrat</td>\n",
       "      <td>1012175</td>\n",
       "      <td>0.509185</td>\n",
       "      <td>17000</td>\n",
       "      <td>Illinois</td>\n",
       "      <td>12880580</td>\n",
       "      <td>14.7</td>\n",
       "      <td>16.7</td>\n",
       "      <td>62.3</td>\n",
       "      <td>87.3</td>\n",
       "      <td>31.4</td>\n",
       "      <td>56797</td>\n",
       "      <td>14.1</td>\n",
       "      <td>231.1</td>\n",
       "    </tr>\n",
       "    <tr>\n",
       "      <td>13</td>\n",
       "      <td>Hillary Clinton</td>\n",
       "      <td>Indiana</td>\n",
       "      <td>Democrat</td>\n",
       "      <td>303382</td>\n",
       "      <td>0.475045</td>\n",
       "      <td>18000</td>\n",
       "      <td>Indiana</td>\n",
       "      <td>6596855</td>\n",
       "      <td>9.6</td>\n",
       "      <td>6.6</td>\n",
       "      <td>80.3</td>\n",
       "      <td>87.2</td>\n",
       "      <td>23.2</td>\n",
       "      <td>48248</td>\n",
       "      <td>15.4</td>\n",
       "      <td>181.0</td>\n",
       "    </tr>\n",
       "    <tr>\n",
       "      <td>14</td>\n",
       "      <td>Hillary Clinton</td>\n",
       "      <td>Iowa</td>\n",
       "      <td>Democrat</td>\n",
       "      <td>69733</td>\n",
       "      <td>0.498317</td>\n",
       "      <td>19000</td>\n",
       "      <td>Iowa</td>\n",
       "      <td>3107126</td>\n",
       "      <td>3.4</td>\n",
       "      <td>5.6</td>\n",
       "      <td>87.1</td>\n",
       "      <td>91.0</td>\n",
       "      <td>25.7</td>\n",
       "      <td>51843</td>\n",
       "      <td>12.4</td>\n",
       "      <td>54.5</td>\n",
       "    </tr>\n",
       "    <tr>\n",
       "      <td>15</td>\n",
       "      <td>Hillary Clinton</td>\n",
       "      <td>Kansas</td>\n",
       "      <td>Democrat</td>\n",
       "      <td>12593</td>\n",
       "      <td>0.322542</td>\n",
       "      <td>20000</td>\n",
       "      <td>Kansas</td>\n",
       "      <td>2904021</td>\n",
       "      <td>6.3</td>\n",
       "      <td>11.4</td>\n",
       "      <td>76.8</td>\n",
       "      <td>89.8</td>\n",
       "      <td>30.3</td>\n",
       "      <td>51332</td>\n",
       "      <td>13.7</td>\n",
       "      <td>34.9</td>\n",
       "    </tr>\n",
       "    <tr>\n",
       "      <td>16</td>\n",
       "      <td>Hillary Clinton</td>\n",
       "      <td>Kentucky</td>\n",
       "      <td>Democrat</td>\n",
       "      <td>212550</td>\n",
       "      <td>0.502273</td>\n",
       "      <td>21000</td>\n",
       "      <td>Kentucky</td>\n",
       "      <td>4413457</td>\n",
       "      <td>8.2</td>\n",
       "      <td>3.4</td>\n",
       "      <td>85.4</td>\n",
       "      <td>83.0</td>\n",
       "      <td>21.5</td>\n",
       "      <td>43036</td>\n",
       "      <td>18.8</td>\n",
       "      <td>109.9</td>\n",
       "    </tr>\n",
       "    <tr>\n",
       "      <td>17</td>\n",
       "      <td>Hillary Clinton</td>\n",
       "      <td>Louisiana</td>\n",
       "      <td>Democrat</td>\n",
       "      <td>221615</td>\n",
       "      <td>0.754164</td>\n",
       "      <td>22000</td>\n",
       "      <td>Louisiana</td>\n",
       "      <td>4649676</td>\n",
       "      <td>32.5</td>\n",
       "      <td>4.8</td>\n",
       "      <td>59.3</td>\n",
       "      <td>82.6</td>\n",
       "      <td>21.8</td>\n",
       "      <td>44874</td>\n",
       "      <td>19.1</td>\n",
       "      <td>104.9</td>\n",
       "    </tr>\n",
       "    <tr>\n",
       "      <td>18</td>\n",
       "      <td>Hillary Clinton</td>\n",
       "      <td>Maine</td>\n",
       "      <td>Democrat</td>\n",
       "      <td>1214</td>\n",
       "      <td>0.355490</td>\n",
       "      <td>23000</td>\n",
       "      <td>Maine</td>\n",
       "      <td>1330089</td>\n",
       "      <td>1.4</td>\n",
       "      <td>1.5</td>\n",
       "      <td>93.8</td>\n",
       "      <td>91.1</td>\n",
       "      <td>27.9</td>\n",
       "      <td>48453</td>\n",
       "      <td>13.6</td>\n",
       "      <td>43.1</td>\n",
       "    </tr>\n",
       "    <tr>\n",
       "      <td>19</td>\n",
       "      <td>Hillary Clinton</td>\n",
       "      <td>Maryland</td>\n",
       "      <td>Democrat</td>\n",
       "      <td>533247</td>\n",
       "      <td>0.654675</td>\n",
       "      <td>24000</td>\n",
       "      <td>Maryland</td>\n",
       "      <td>5976407</td>\n",
       "      <td>30.3</td>\n",
       "      <td>9.3</td>\n",
       "      <td>52.6</td>\n",
       "      <td>88.7</td>\n",
       "      <td>36.8</td>\n",
       "      <td>73538</td>\n",
       "      <td>9.8</td>\n",
       "      <td>594.8</td>\n",
       "    </tr>\n",
       "    <tr>\n",
       "      <td>20</td>\n",
       "      <td>Hillary Clinton</td>\n",
       "      <td>Massachusetts</td>\n",
       "      <td>Democrat</td>\n",
       "      <td>603784</td>\n",
       "      <td>0.503719</td>\n",
       "      <td>25000</td>\n",
       "      <td>Massachusetts</td>\n",
       "      <td>6745408</td>\n",
       "      <td>8.3</td>\n",
       "      <td>10.8</td>\n",
       "      <td>74.3</td>\n",
       "      <td>89.4</td>\n",
       "      <td>39.4</td>\n",
       "      <td>66866</td>\n",
       "      <td>11.4</td>\n",
       "      <td>839.4</td>\n",
       "    </tr>\n",
       "    <tr>\n",
       "      <td>21</td>\n",
       "      <td>Hillary Clinton</td>\n",
       "      <td>Michigan</td>\n",
       "      <td>Democrat</td>\n",
       "      <td>576795</td>\n",
       "      <td>0.492139</td>\n",
       "      <td>26000</td>\n",
       "      <td>Michigan</td>\n",
       "      <td>9909877</td>\n",
       "      <td>14.2</td>\n",
       "      <td>4.8</td>\n",
       "      <td>75.8</td>\n",
       "      <td>88.9</td>\n",
       "      <td>25.9</td>\n",
       "      <td>48411</td>\n",
       "      <td>16.8</td>\n",
       "      <td>174.8</td>\n",
       "    </tr>\n",
       "    <tr>\n",
       "      <td>22</td>\n",
       "      <td>Hillary Clinton</td>\n",
       "      <td>Mississippi</td>\n",
       "      <td>Democrat</td>\n",
       "      <td>182447</td>\n",
       "      <td>0.833872</td>\n",
       "      <td>28000</td>\n",
       "      <td>Mississippi</td>\n",
       "      <td>2994079</td>\n",
       "      <td>37.5</td>\n",
       "      <td>3.0</td>\n",
       "      <td>57.3</td>\n",
       "      <td>81.5</td>\n",
       "      <td>20.1</td>\n",
       "      <td>39031</td>\n",
       "      <td>22.7</td>\n",
       "      <td>63.2</td>\n",
       "    </tr>\n",
       "    <tr>\n",
       "      <td>23</td>\n",
       "      <td>Hillary Clinton</td>\n",
       "      <td>Missouri</td>\n",
       "      <td>Democrat</td>\n",
       "      <td>310602</td>\n",
       "      <td>0.501235</td>\n",
       "      <td>29000</td>\n",
       "      <td>Missouri</td>\n",
       "      <td>6063589</td>\n",
       "      <td>11.8</td>\n",
       "      <td>4.0</td>\n",
       "      <td>80.1</td>\n",
       "      <td>87.6</td>\n",
       "      <td>26.2</td>\n",
       "      <td>47380</td>\n",
       "      <td>15.5</td>\n",
       "      <td>87.1</td>\n",
       "    </tr>\n",
       "    <tr>\n",
       "      <td>24</td>\n",
       "      <td>Hillary Clinton</td>\n",
       "      <td>Montana</td>\n",
       "      <td>Democrat</td>\n",
       "      <td>55194</td>\n",
       "      <td>0.466315</td>\n",
       "      <td>30000</td>\n",
       "      <td>Montana</td>\n",
       "      <td>1023579</td>\n",
       "      <td>0.6</td>\n",
       "      <td>3.5</td>\n",
       "      <td>86.7</td>\n",
       "      <td>92.1</td>\n",
       "      <td>28.7</td>\n",
       "      <td>46230</td>\n",
       "      <td>15.2</td>\n",
       "      <td>6.8</td>\n",
       "    </tr>\n",
       "    <tr>\n",
       "      <td>25</td>\n",
       "      <td>Hillary Clinton</td>\n",
       "      <td>Nebraska</td>\n",
       "      <td>Democrat</td>\n",
       "      <td>14340</td>\n",
       "      <td>0.428571</td>\n",
       "      <td>31000</td>\n",
       "      <td>Nebraska</td>\n",
       "      <td>1881503</td>\n",
       "      <td>4.9</td>\n",
       "      <td>10.2</td>\n",
       "      <td>80.5</td>\n",
       "      <td>90.5</td>\n",
       "      <td>28.5</td>\n",
       "      <td>51672</td>\n",
       "      <td>12.8</td>\n",
       "      <td>23.8</td>\n",
       "    </tr>\n",
       "    <tr>\n",
       "      <td>26</td>\n",
       "      <td>Hillary Clinton</td>\n",
       "      <td>Nevada</td>\n",
       "      <td>Democrat</td>\n",
       "      <td>6296</td>\n",
       "      <td>0.527436</td>\n",
       "      <td>32000</td>\n",
       "      <td>Nevada</td>\n",
       "      <td>2839099</td>\n",
       "      <td>9.1</td>\n",
       "      <td>27.8</td>\n",
       "      <td>51.5</td>\n",
       "      <td>84.6</td>\n",
       "      <td>22.4</td>\n",
       "      <td>52800</td>\n",
       "      <td>15.0</td>\n",
       "      <td>24.6</td>\n",
       "    </tr>\n",
       "    <tr>\n",
       "      <td>27</td>\n",
       "      <td>Hillary Clinton</td>\n",
       "      <td>New Hampshire</td>\n",
       "      <td>Democrat</td>\n",
       "      <td>95252</td>\n",
       "      <td>0.385892</td>\n",
       "      <td>33000</td>\n",
       "      <td>New Hampshire</td>\n",
       "      <td>1326813</td>\n",
       "      <td>1.5</td>\n",
       "      <td>3.3</td>\n",
       "      <td>91.3</td>\n",
       "      <td>91.8</td>\n",
       "      <td>33.7</td>\n",
       "      <td>64916</td>\n",
       "      <td>8.7</td>\n",
       "      <td>147.0</td>\n",
       "    </tr>\n",
       "    <tr>\n",
       "      <td>28</td>\n",
       "      <td>Hillary Clinton</td>\n",
       "      <td>New Jersey</td>\n",
       "      <td>Democrat</td>\n",
       "      <td>554237</td>\n",
       "      <td>0.631612</td>\n",
       "      <td>34000</td>\n",
       "      <td>New Jersey</td>\n",
       "      <td>8938175</td>\n",
       "      <td>14.8</td>\n",
       "      <td>19.3</td>\n",
       "      <td>56.8</td>\n",
       "      <td>88.1</td>\n",
       "      <td>35.8</td>\n",
       "      <td>71629</td>\n",
       "      <td>10.4</td>\n",
       "      <td>1195.5</td>\n",
       "    </tr>\n",
       "    <tr>\n",
       "      <td>29</td>\n",
       "      <td>Hillary Clinton</td>\n",
       "      <td>New Mexico</td>\n",
       "      <td>Democrat</td>\n",
       "      <td>110451</td>\n",
       "      <td>0.515387</td>\n",
       "      <td>35000</td>\n",
       "      <td>New Mexico</td>\n",
       "      <td>2085572</td>\n",
       "      <td>2.5</td>\n",
       "      <td>47.7</td>\n",
       "      <td>38.9</td>\n",
       "      <td>83.6</td>\n",
       "      <td>25.8</td>\n",
       "      <td>44927</td>\n",
       "      <td>20.4</td>\n",
       "      <td>17.0</td>\n",
       "    </tr>\n",
       "    <tr>\n",
       "      <td>30</td>\n",
       "      <td>Hillary Clinton</td>\n",
       "      <td>New York</td>\n",
       "      <td>Democrat</td>\n",
       "      <td>1054083</td>\n",
       "      <td>0.579947</td>\n",
       "      <td>36000</td>\n",
       "      <td>New York</td>\n",
       "      <td>19746227</td>\n",
       "      <td>17.6</td>\n",
       "      <td>18.6</td>\n",
       "      <td>56.5</td>\n",
       "      <td>85.2</td>\n",
       "      <td>33.2</td>\n",
       "      <td>58003</td>\n",
       "      <td>15.3</td>\n",
       "      <td>411.2</td>\n",
       "    </tr>\n",
       "    <tr>\n",
       "      <td>31</td>\n",
       "      <td>Hillary Clinton</td>\n",
       "      <td>North Carolina</td>\n",
       "      <td>Democrat</td>\n",
       "      <td>616383</td>\n",
       "      <td>0.572475</td>\n",
       "      <td>37000</td>\n",
       "      <td>North Carolina</td>\n",
       "      <td>9943964</td>\n",
       "      <td>22.1</td>\n",
       "      <td>9.0</td>\n",
       "      <td>64.1</td>\n",
       "      <td>84.9</td>\n",
       "      <td>27.3</td>\n",
       "      <td>46334</td>\n",
       "      <td>17.5</td>\n",
       "      <td>196.1</td>\n",
       "    </tr>\n",
       "    <tr>\n",
       "      <td>32</td>\n",
       "      <td>Hillary Clinton</td>\n",
       "      <td>North Dakota</td>\n",
       "      <td>Democrat</td>\n",
       "      <td>101</td>\n",
       "      <td>0.285311</td>\n",
       "      <td>38000</td>\n",
       "      <td>North Dakota</td>\n",
       "      <td>739482</td>\n",
       "      <td>2.1</td>\n",
       "      <td>3.2</td>\n",
       "      <td>86.6</td>\n",
       "      <td>90.9</td>\n",
       "      <td>27.2</td>\n",
       "      <td>53741</td>\n",
       "      <td>11.9</td>\n",
       "      <td>9.7</td>\n",
       "    </tr>\n",
       "    <tr>\n",
       "      <td>33</td>\n",
       "      <td>Hillary Clinton</td>\n",
       "      <td>Ohio</td>\n",
       "      <td>Democrat</td>\n",
       "      <td>679266</td>\n",
       "      <td>0.569465</td>\n",
       "      <td>39000</td>\n",
       "      <td>Ohio</td>\n",
       "      <td>11594163</td>\n",
       "      <td>12.6</td>\n",
       "      <td>3.5</td>\n",
       "      <td>80.1</td>\n",
       "      <td>88.5</td>\n",
       "      <td>25.2</td>\n",
       "      <td>48308</td>\n",
       "      <td>15.8</td>\n",
       "      <td>282.3</td>\n",
       "    </tr>\n",
       "    <tr>\n",
       "      <td>34</td>\n",
       "      <td>Hillary Clinton</td>\n",
       "      <td>Oklahoma</td>\n",
       "      <td>Democrat</td>\n",
       "      <td>139338</td>\n",
       "      <td>0.444612</td>\n",
       "      <td>40000</td>\n",
       "      <td>Oklahoma</td>\n",
       "      <td>3878051</td>\n",
       "      <td>7.7</td>\n",
       "      <td>9.8</td>\n",
       "      <td>67.0</td>\n",
       "      <td>86.4</td>\n",
       "      <td>23.5</td>\n",
       "      <td>45339</td>\n",
       "      <td>16.9</td>\n",
       "      <td>54.7</td>\n",
       "    </tr>\n",
       "    <tr>\n",
       "      <td>35</td>\n",
       "      <td>Hillary Clinton</td>\n",
       "      <td>Oregon</td>\n",
       "      <td>Democrat</td>\n",
       "      <td>251739</td>\n",
       "      <td>0.439730</td>\n",
       "      <td>41000</td>\n",
       "      <td>Oregon</td>\n",
       "      <td>3970239</td>\n",
       "      <td>2.0</td>\n",
       "      <td>12.5</td>\n",
       "      <td>77.0</td>\n",
       "      <td>89.4</td>\n",
       "      <td>29.7</td>\n",
       "      <td>50229</td>\n",
       "      <td>16.2</td>\n",
       "      <td>39.9</td>\n",
       "    </tr>\n",
       "    <tr>\n",
       "      <td>36</td>\n",
       "      <td>Hillary Clinton</td>\n",
       "      <td>Pennsylvania</td>\n",
       "      <td>Democrat</td>\n",
       "      <td>918689</td>\n",
       "      <td>0.560640</td>\n",
       "      <td>42000</td>\n",
       "      <td>Pennsylvania</td>\n",
       "      <td>12787209</td>\n",
       "      <td>11.6</td>\n",
       "      <td>6.6</td>\n",
       "      <td>77.9</td>\n",
       "      <td>88.7</td>\n",
       "      <td>27.5</td>\n",
       "      <td>52548</td>\n",
       "      <td>13.3</td>\n",
       "      <td>283.9</td>\n",
       "    </tr>\n",
       "    <tr>\n",
       "      <td>37</td>\n",
       "      <td>Hillary Clinton</td>\n",
       "      <td>Rhode Island</td>\n",
       "      <td>Democrat</td>\n",
       "      <td>52493</td>\n",
       "      <td>0.440329</td>\n",
       "      <td>44000</td>\n",
       "      <td>Rhode Island</td>\n",
       "      <td>1055173</td>\n",
       "      <td>7.7</td>\n",
       "      <td>14.0</td>\n",
       "      <td>74.5</td>\n",
       "      <td>85.2</td>\n",
       "      <td>31.3</td>\n",
       "      <td>56361</td>\n",
       "      <td>13.6</td>\n",
       "      <td>1018.1</td>\n",
       "    </tr>\n",
       "    <tr>\n",
       "      <td>38</td>\n",
       "      <td>Hillary Clinton</td>\n",
       "      <td>South Carolina</td>\n",
       "      <td>Democrat</td>\n",
       "      <td>271514</td>\n",
       "      <td>0.738832</td>\n",
       "      <td>45000</td>\n",
       "      <td>South Carolina</td>\n",
       "      <td>4832482</td>\n",
       "      <td>27.8</td>\n",
       "      <td>5.4</td>\n",
       "      <td>63.9</td>\n",
       "      <td>84.5</td>\n",
       "      <td>25.1</td>\n",
       "      <td>44779</td>\n",
       "      <td>18.1</td>\n",
       "      <td>153.9</td>\n",
       "    </tr>\n",
       "    <tr>\n",
       "      <td>39</td>\n",
       "      <td>Hillary Clinton</td>\n",
       "      <td>South Dakota</td>\n",
       "      <td>Democrat</td>\n",
       "      <td>27046</td>\n",
       "      <td>0.510263</td>\n",
       "      <td>46000</td>\n",
       "      <td>South Dakota</td>\n",
       "      <td>853175</td>\n",
       "      <td>1.9</td>\n",
       "      <td>3.6</td>\n",
       "      <td>83.0</td>\n",
       "      <td>90.4</td>\n",
       "      <td>26.2</td>\n",
       "      <td>49495</td>\n",
       "      <td>14.1</td>\n",
       "      <td>10.7</td>\n",
       "    </tr>\n",
       "    <tr>\n",
       "      <td>40</td>\n",
       "      <td>Hillary Clinton</td>\n",
       "      <td>Tennessee</td>\n",
       "      <td>Democrat</td>\n",
       "      <td>245304</td>\n",
       "      <td>0.670895</td>\n",
       "      <td>47000</td>\n",
       "      <td>Tennessee</td>\n",
       "      <td>6549352</td>\n",
       "      <td>17.1</td>\n",
       "      <td>5.0</td>\n",
       "      <td>74.6</td>\n",
       "      <td>84.4</td>\n",
       "      <td>23.8</td>\n",
       "      <td>44298</td>\n",
       "      <td>17.6</td>\n",
       "      <td>153.9</td>\n",
       "    </tr>\n",
       "    <tr>\n",
       "      <td>41</td>\n",
       "      <td>Hillary Clinton</td>\n",
       "      <td>Texas</td>\n",
       "      <td>Democrat</td>\n",
       "      <td>935080</td>\n",
       "      <td>0.662876</td>\n",
       "      <td>48000</td>\n",
       "      <td>Texas</td>\n",
       "      <td>26956958</td>\n",
       "      <td>12.5</td>\n",
       "      <td>38.6</td>\n",
       "      <td>43.5</td>\n",
       "      <td>81.2</td>\n",
       "      <td>26.7</td>\n",
       "      <td>51900</td>\n",
       "      <td>17.6</td>\n",
       "      <td>96.3</td>\n",
       "    </tr>\n",
       "    <tr>\n",
       "      <td>42</td>\n",
       "      <td>Hillary Clinton</td>\n",
       "      <td>Utah</td>\n",
       "      <td>Democrat</td>\n",
       "      <td>15666</td>\n",
       "      <td>0.203457</td>\n",
       "      <td>49000</td>\n",
       "      <td>Utah</td>\n",
       "      <td>2942902</td>\n",
       "      <td>1.3</td>\n",
       "      <td>13.5</td>\n",
       "      <td>79.3</td>\n",
       "      <td>90.9</td>\n",
       "      <td>30.3</td>\n",
       "      <td>58821</td>\n",
       "      <td>12.7</td>\n",
       "      <td>33.6</td>\n",
       "    </tr>\n",
       "    <tr>\n",
       "      <td>43</td>\n",
       "      <td>Hillary Clinton</td>\n",
       "      <td>Vermont</td>\n",
       "      <td>Democrat</td>\n",
       "      <td>18335</td>\n",
       "      <td>0.136626</td>\n",
       "      <td>50000</td>\n",
       "      <td>Vermont</td>\n",
       "      <td>626562</td>\n",
       "      <td>1.2</td>\n",
       "      <td>1.8</td>\n",
       "      <td>93.5</td>\n",
       "      <td>91.4</td>\n",
       "      <td>34.8</td>\n",
       "      <td>54267</td>\n",
       "      <td>11.8</td>\n",
       "      <td>67.9</td>\n",
       "    </tr>\n",
       "    <tr>\n",
       "      <td>44</td>\n",
       "      <td>Hillary Clinton</td>\n",
       "      <td>Virginia</td>\n",
       "      <td>Democrat</td>\n",
       "      <td>503358</td>\n",
       "      <td>0.646271</td>\n",
       "      <td>51000</td>\n",
       "      <td>Virginia</td>\n",
       "      <td>8326289</td>\n",
       "      <td>19.7</td>\n",
       "      <td>8.9</td>\n",
       "      <td>63.1</td>\n",
       "      <td>87.5</td>\n",
       "      <td>35.2</td>\n",
       "      <td>63907</td>\n",
       "      <td>11.3</td>\n",
       "      <td>202.6</td>\n",
       "    </tr>\n",
       "    <tr>\n",
       "      <td>45</td>\n",
       "      <td>Hillary Clinton</td>\n",
       "      <td>Washington</td>\n",
       "      <td>Democrat</td>\n",
       "      <td>7140</td>\n",
       "      <td>0.271493</td>\n",
       "      <td>53000</td>\n",
       "      <td>Washington</td>\n",
       "      <td>7061530</td>\n",
       "      <td>4.1</td>\n",
       "      <td>12.2</td>\n",
       "      <td>70.4</td>\n",
       "      <td>90.0</td>\n",
       "      <td>31.9</td>\n",
       "      <td>59478</td>\n",
       "      <td>13.4</td>\n",
       "      <td>101.2</td>\n",
       "    </tr>\n",
       "    <tr>\n",
       "      <td>46</td>\n",
       "      <td>Hillary Clinton</td>\n",
       "      <td>West Virginia</td>\n",
       "      <td>Democrat</td>\n",
       "      <td>86354</td>\n",
       "      <td>0.410791</td>\n",
       "      <td>54000</td>\n",
       "      <td>West Virginia</td>\n",
       "      <td>1850326</td>\n",
       "      <td>3.6</td>\n",
       "      <td>1.5</td>\n",
       "      <td>92.5</td>\n",
       "      <td>83.9</td>\n",
       "      <td>18.3</td>\n",
       "      <td>41043</td>\n",
       "      <td>17.9</td>\n",
       "      <td>77.1</td>\n",
       "    </tr>\n",
       "    <tr>\n",
       "      <td>47</td>\n",
       "      <td>Hillary Clinton</td>\n",
       "      <td>Wisconsin</td>\n",
       "      <td>Democrat</td>\n",
       "      <td>432767</td>\n",
       "      <td>0.432463</td>\n",
       "      <td>55000</td>\n",
       "      <td>Wisconsin</td>\n",
       "      <td>5757564</td>\n",
       "      <td>6.6</td>\n",
       "      <td>6.5</td>\n",
       "      <td>82.2</td>\n",
       "      <td>90.4</td>\n",
       "      <td>26.8</td>\n",
       "      <td>52413</td>\n",
       "      <td>13.0</td>\n",
       "      <td>105.0</td>\n",
       "    </tr>\n",
       "    <tr>\n",
       "      <td>48</td>\n",
       "      <td>Hillary Clinton</td>\n",
       "      <td>Wyoming</td>\n",
       "      <td>Democrat</td>\n",
       "      <td>124</td>\n",
       "      <td>0.442857</td>\n",
       "      <td>56000</td>\n",
       "      <td>Wyoming</td>\n",
       "      <td>584153</td>\n",
       "      <td>1.6</td>\n",
       "      <td>9.8</td>\n",
       "      <td>84.1</td>\n",
       "      <td>92.4</td>\n",
       "      <td>24.7</td>\n",
       "      <td>57406</td>\n",
       "      <td>11.5</td>\n",
       "      <td>5.8</td>\n",
       "    </tr>\n",
       "  </tbody>\n",
       "</table>\n",
       "</div>"
      ],
      "text/plain": [
       "          candidate           state     party    votes  partyFrac   fips  \\\n",
       "0   Hillary Clinton         Alabama  Democrat   309928   0.802243   1000   \n",
       "1   Hillary Clinton          Alaska  Democrat       99   0.183673   2000   \n",
       "2   Hillary Clinton         Arizona  Democrat   235697   0.590576   4000   \n",
       "3   Hillary Clinton        Arkansas  Democrat   144580   0.690291   5000   \n",
       "4   Hillary Clinton      California  Democrat  1940580   0.563692   6000   \n",
       "5   Hillary Clinton        Colorado  Democrat    49256   0.406456   8000   \n",
       "6   Hillary Clinton     Connecticut  Democrat   170075   0.527389   9000   \n",
       "7   Hillary Clinton        Delaware  Democrat    55950   0.604153  10000   \n",
       "8   Hillary Clinton         Florida  Democrat  1097400   0.659494  12000   \n",
       "9   Hillary Clinton         Georgia  Democrat   543008   0.716994  13000   \n",
       "10  Hillary Clinton          Hawaii  Democrat    10127   0.300879  15000   \n",
       "11  Hillary Clinton           Idaho  Democrat     5065   0.213668  16000   \n",
       "12  Hillary Clinton        Illinois  Democrat  1012175   0.509185  17000   \n",
       "13  Hillary Clinton         Indiana  Democrat   303382   0.475045  18000   \n",
       "14  Hillary Clinton            Iowa  Democrat    69733   0.498317  19000   \n",
       "15  Hillary Clinton          Kansas  Democrat    12593   0.322542  20000   \n",
       "16  Hillary Clinton        Kentucky  Democrat   212550   0.502273  21000   \n",
       "17  Hillary Clinton       Louisiana  Democrat   221615   0.754164  22000   \n",
       "18  Hillary Clinton           Maine  Democrat     1214   0.355490  23000   \n",
       "19  Hillary Clinton        Maryland  Democrat   533247   0.654675  24000   \n",
       "20  Hillary Clinton   Massachusetts  Democrat   603784   0.503719  25000   \n",
       "21  Hillary Clinton        Michigan  Democrat   576795   0.492139  26000   \n",
       "22  Hillary Clinton     Mississippi  Democrat   182447   0.833872  28000   \n",
       "23  Hillary Clinton        Missouri  Democrat   310602   0.501235  29000   \n",
       "24  Hillary Clinton         Montana  Democrat    55194   0.466315  30000   \n",
       "25  Hillary Clinton        Nebraska  Democrat    14340   0.428571  31000   \n",
       "26  Hillary Clinton          Nevada  Democrat     6296   0.527436  32000   \n",
       "27  Hillary Clinton   New Hampshire  Democrat    95252   0.385892  33000   \n",
       "28  Hillary Clinton      New Jersey  Democrat   554237   0.631612  34000   \n",
       "29  Hillary Clinton      New Mexico  Democrat   110451   0.515387  35000   \n",
       "30  Hillary Clinton        New York  Democrat  1054083   0.579947  36000   \n",
       "31  Hillary Clinton  North Carolina  Democrat   616383   0.572475  37000   \n",
       "32  Hillary Clinton    North Dakota  Democrat      101   0.285311  38000   \n",
       "33  Hillary Clinton            Ohio  Democrat   679266   0.569465  39000   \n",
       "34  Hillary Clinton        Oklahoma  Democrat   139338   0.444612  40000   \n",
       "35  Hillary Clinton          Oregon  Democrat   251739   0.439730  41000   \n",
       "36  Hillary Clinton    Pennsylvania  Democrat   918689   0.560640  42000   \n",
       "37  Hillary Clinton    Rhode Island  Democrat    52493   0.440329  44000   \n",
       "38  Hillary Clinton  South Carolina  Democrat   271514   0.738832  45000   \n",
       "39  Hillary Clinton    South Dakota  Democrat    27046   0.510263  46000   \n",
       "40  Hillary Clinton       Tennessee  Democrat   245304   0.670895  47000   \n",
       "41  Hillary Clinton           Texas  Democrat   935080   0.662876  48000   \n",
       "42  Hillary Clinton            Utah  Democrat    15666   0.203457  49000   \n",
       "43  Hillary Clinton         Vermont  Democrat    18335   0.136626  50000   \n",
       "44  Hillary Clinton        Virginia  Democrat   503358   0.646271  51000   \n",
       "45  Hillary Clinton      Washington  Democrat     7140   0.271493  53000   \n",
       "46  Hillary Clinton   West Virginia  Democrat    86354   0.410791  54000   \n",
       "47  Hillary Clinton       Wisconsin  Democrat   432767   0.432463  55000   \n",
       "48  Hillary Clinton         Wyoming  Democrat      124   0.442857  56000   \n",
       "\n",
       "         area_name  Population  Black  Latino  White  HighSchool  Bachelors  \\\n",
       "0          Alabama     4849377   26.7     4.1   66.2        83.1       22.6   \n",
       "1           Alaska      736732    3.9     6.8   61.9        91.6       27.5   \n",
       "2          Arizona     6731484    4.7    30.5   56.2        85.7       26.9   \n",
       "3         Arkansas     2966369   15.6     7.0   73.4        83.7       20.1   \n",
       "4       California    38802500    6.5    38.6   38.5        81.2       30.7   \n",
       "5         Colorado     5355866    4.5    21.2   69.0        90.2       37.0   \n",
       "6      Connecticut     3596677   11.5    15.0   68.8        89.2       36.5   \n",
       "7         Delaware      935614   22.2     8.9   63.7        87.7       28.9   \n",
       "8          Florida    19893297   16.8    24.1   55.8        86.1       26.4   \n",
       "9          Georgia    10097343   31.5     9.3   54.3        84.7       28.0   \n",
       "10          Hawaii     1419561    2.5    10.1   23.0        90.4       30.1   \n",
       "11           Idaho     1634464    0.8    12.0   82.8        88.8       25.1   \n",
       "12        Illinois    12880580   14.7    16.7   62.3        87.3       31.4   \n",
       "13         Indiana     6596855    9.6     6.6   80.3        87.2       23.2   \n",
       "14            Iowa     3107126    3.4     5.6   87.1        91.0       25.7   \n",
       "15          Kansas     2904021    6.3    11.4   76.8        89.8       30.3   \n",
       "16        Kentucky     4413457    8.2     3.4   85.4        83.0       21.5   \n",
       "17       Louisiana     4649676   32.5     4.8   59.3        82.6       21.8   \n",
       "18           Maine     1330089    1.4     1.5   93.8        91.1       27.9   \n",
       "19        Maryland     5976407   30.3     9.3   52.6        88.7       36.8   \n",
       "20   Massachusetts     6745408    8.3    10.8   74.3        89.4       39.4   \n",
       "21        Michigan     9909877   14.2     4.8   75.8        88.9       25.9   \n",
       "22     Mississippi     2994079   37.5     3.0   57.3        81.5       20.1   \n",
       "23        Missouri     6063589   11.8     4.0   80.1        87.6       26.2   \n",
       "24         Montana     1023579    0.6     3.5   86.7        92.1       28.7   \n",
       "25        Nebraska     1881503    4.9    10.2   80.5        90.5       28.5   \n",
       "26          Nevada     2839099    9.1    27.8   51.5        84.6       22.4   \n",
       "27   New Hampshire     1326813    1.5     3.3   91.3        91.8       33.7   \n",
       "28      New Jersey     8938175   14.8    19.3   56.8        88.1       35.8   \n",
       "29      New Mexico     2085572    2.5    47.7   38.9        83.6       25.8   \n",
       "30        New York    19746227   17.6    18.6   56.5        85.2       33.2   \n",
       "31  North Carolina     9943964   22.1     9.0   64.1        84.9       27.3   \n",
       "32    North Dakota      739482    2.1     3.2   86.6        90.9       27.2   \n",
       "33            Ohio    11594163   12.6     3.5   80.1        88.5       25.2   \n",
       "34        Oklahoma     3878051    7.7     9.8   67.0        86.4       23.5   \n",
       "35          Oregon     3970239    2.0    12.5   77.0        89.4       29.7   \n",
       "36    Pennsylvania    12787209   11.6     6.6   77.9        88.7       27.5   \n",
       "37    Rhode Island     1055173    7.7    14.0   74.5        85.2       31.3   \n",
       "38  South Carolina     4832482   27.8     5.4   63.9        84.5       25.1   \n",
       "39    South Dakota      853175    1.9     3.6   83.0        90.4       26.2   \n",
       "40       Tennessee     6549352   17.1     5.0   74.6        84.4       23.8   \n",
       "41           Texas    26956958   12.5    38.6   43.5        81.2       26.7   \n",
       "42            Utah     2942902    1.3    13.5   79.3        90.9       30.3   \n",
       "43         Vermont      626562    1.2     1.8   93.5        91.4       34.8   \n",
       "44        Virginia     8326289   19.7     8.9   63.1        87.5       35.2   \n",
       "45      Washington     7061530    4.1    12.2   70.4        90.0       31.9   \n",
       "46   West Virginia     1850326    3.6     1.5   92.5        83.9       18.3   \n",
       "47       Wisconsin     5757564    6.6     6.5   82.2        90.4       26.8   \n",
       "48         Wyoming      584153    1.6     9.8   84.1        92.4       24.7   \n",
       "\n",
       "    Income  Kurang Mampu  Density  \n",
       "0    43253          18.6     94.4  \n",
       "1    70760           9.9      1.2  \n",
       "2    49774          17.9     56.3  \n",
       "3    40768          19.2     56.0  \n",
       "4    61094          15.9    239.1  \n",
       "5    58433          13.2     48.5  \n",
       "6    69461          10.2    738.1  \n",
       "7    59878          11.7    460.8  \n",
       "8    46956          16.3    350.6  \n",
       "9    49179          18.2    168.4  \n",
       "10   67402          11.2    211.8  \n",
       "11   46767          15.5     19.0  \n",
       "12   56797          14.1    231.1  \n",
       "13   48248          15.4    181.0  \n",
       "14   51843          12.4     54.5  \n",
       "15   51332          13.7     34.9  \n",
       "16   43036          18.8    109.9  \n",
       "17   44874          19.1    104.9  \n",
       "18   48453          13.6     43.1  \n",
       "19   73538           9.8    594.8  \n",
       "20   66866          11.4    839.4  \n",
       "21   48411          16.8    174.8  \n",
       "22   39031          22.7     63.2  \n",
       "23   47380          15.5     87.1  \n",
       "24   46230          15.2      6.8  \n",
       "25   51672          12.8     23.8  \n",
       "26   52800          15.0     24.6  \n",
       "27   64916           8.7    147.0  \n",
       "28   71629          10.4   1195.5  \n",
       "29   44927          20.4     17.0  \n",
       "30   58003          15.3    411.2  \n",
       "31   46334          17.5    196.1  \n",
       "32   53741          11.9      9.7  \n",
       "33   48308          15.8    282.3  \n",
       "34   45339          16.9     54.7  \n",
       "35   50229          16.2     39.9  \n",
       "36   52548          13.3    283.9  \n",
       "37   56361          13.6   1018.1  \n",
       "38   44779          18.1    153.9  \n",
       "39   49495          14.1     10.7  \n",
       "40   44298          17.6    153.9  \n",
       "41   51900          17.6     96.3  \n",
       "42   58821          12.7     33.6  \n",
       "43   54267          11.8     67.9  \n",
       "44   63907          11.3    202.6  \n",
       "45   59478          13.4    101.2  \n",
       "46   41043          17.9     77.1  \n",
       "47   52413          13.0    105.0  \n",
       "48   57406          11.5      5.8  "
      ]
     },
     "execution_count": 238,
     "metadata": {},
     "output_type": "execute_result"
    }
   ],
   "source": [
    "#Merging demographics and results\n",
    "allData11 = pd.merge(vbs1, demographics, how=\"inner\", left_on = 'state',right_on = 'area_name')\n",
    "allData11.drop('state_abbreviation',axis=1, inplace=True)\n",
    "# allData.head()\n",
    "#Segregate data candidate wise\n",
    "Hill= allData11[(allData11.candidate == \"Hillary Clinton\")] # | (allData11.candidate != \"Hillary Clinton\")]\n",
    "# Hill = allData11[(allData11.candidate != 'No Preference') & (allData11.candidate != ' Uncommitted')]\n",
    "Hill = Hill.reset_index();\n",
    "Hill.drop('index',axis=1, inplace=True)\n",
    "Hill"
   ]
  },
  {
   "cell_type": "markdown",
   "metadata": {},
   "source": [
    "### Hillary voter white vs income household based state"
   ]
  },
  {
   "cell_type": "code",
   "execution_count": 317,
   "metadata": {},
   "outputs": [
    {
     "data": {
      "application/vnd.plotly.v1+json": {
       "config": {
        "plotlyServerURL": "https://plot.ly"
       },
       "data": [
        {
         "hoverlabel": {
          "namelength": 0
         },
         "hovertemplate": "state=Alabama<br>Income=%{x}<br>White=%{y}<br>votes=%{marker.size}",
         "legendgroup": "state=Alabama",
         "marker": {
          "color": "#636efa",
          "size": [
           309928
          ],
          "sizemode": "area",
          "sizeref": 4851.45,
          "symbol": "circle"
         },
         "mode": "markers",
         "name": "state=Alabama",
         "showlegend": true,
         "type": "scatter",
         "x": [
          43253
         ],
         "xaxis": "x",
         "y": [
          66.2
         ],
         "yaxis": "y"
        },
        {
         "hoverlabel": {
          "namelength": 0
         },
         "hovertemplate": "state=Alaska<br>Income=%{x}<br>White=%{y}<br>votes=%{marker.size}",
         "legendgroup": "state=Alaska",
         "marker": {
          "color": "#EF553B",
          "size": [
           99
          ],
          "sizemode": "area",
          "sizeref": 4851.45,
          "symbol": "circle"
         },
         "mode": "markers",
         "name": "state=Alaska",
         "showlegend": true,
         "type": "scatter",
         "x": [
          70760
         ],
         "xaxis": "x",
         "y": [
          61.9
         ],
         "yaxis": "y"
        },
        {
         "hoverlabel": {
          "namelength": 0
         },
         "hovertemplate": "state=Arizona<br>Income=%{x}<br>White=%{y}<br>votes=%{marker.size}",
         "legendgroup": "state=Arizona",
         "marker": {
          "color": "#00cc96",
          "size": [
           235697
          ],
          "sizemode": "area",
          "sizeref": 4851.45,
          "symbol": "circle"
         },
         "mode": "markers",
         "name": "state=Arizona",
         "showlegend": true,
         "type": "scatter",
         "x": [
          49774
         ],
         "xaxis": "x",
         "y": [
          56.2
         ],
         "yaxis": "y"
        },
        {
         "hoverlabel": {
          "namelength": 0
         },
         "hovertemplate": "state=Arkansas<br>Income=%{x}<br>White=%{y}<br>votes=%{marker.size}",
         "legendgroup": "state=Arkansas",
         "marker": {
          "color": "#ab63fa",
          "size": [
           144580
          ],
          "sizemode": "area",
          "sizeref": 4851.45,
          "symbol": "circle"
         },
         "mode": "markers",
         "name": "state=Arkansas",
         "showlegend": true,
         "type": "scatter",
         "x": [
          40768
         ],
         "xaxis": "x",
         "y": [
          73.4
         ],
         "yaxis": "y"
        },
        {
         "hoverlabel": {
          "namelength": 0
         },
         "hovertemplate": "state=California<br>Income=%{x}<br>White=%{y}<br>votes=%{marker.size}",
         "legendgroup": "state=California",
         "marker": {
          "color": "#FFA15A",
          "size": [
           1940580
          ],
          "sizemode": "area",
          "sizeref": 4851.45,
          "symbol": "circle"
         },
         "mode": "markers",
         "name": "state=California",
         "showlegend": true,
         "type": "scatter",
         "x": [
          61094
         ],
         "xaxis": "x",
         "y": [
          38.5
         ],
         "yaxis": "y"
        },
        {
         "hoverlabel": {
          "namelength": 0
         },
         "hovertemplate": "state=Colorado<br>Income=%{x}<br>White=%{y}<br>votes=%{marker.size}",
         "legendgroup": "state=Colorado",
         "marker": {
          "color": "#19d3f3",
          "size": [
           49256
          ],
          "sizemode": "area",
          "sizeref": 4851.45,
          "symbol": "circle"
         },
         "mode": "markers",
         "name": "state=Colorado",
         "showlegend": true,
         "type": "scatter",
         "x": [
          58433
         ],
         "xaxis": "x",
         "y": [
          69
         ],
         "yaxis": "y"
        },
        {
         "hoverlabel": {
          "namelength": 0
         },
         "hovertemplate": "state=Connecticut<br>Income=%{x}<br>White=%{y}<br>votes=%{marker.size}",
         "legendgroup": "state=Connecticut",
         "marker": {
          "color": "#FF6692",
          "size": [
           170075
          ],
          "sizemode": "area",
          "sizeref": 4851.45,
          "symbol": "circle"
         },
         "mode": "markers",
         "name": "state=Connecticut",
         "showlegend": true,
         "type": "scatter",
         "x": [
          69461
         ],
         "xaxis": "x",
         "y": [
          68.8
         ],
         "yaxis": "y"
        },
        {
         "hoverlabel": {
          "namelength": 0
         },
         "hovertemplate": "state=Delaware<br>Income=%{x}<br>White=%{y}<br>votes=%{marker.size}",
         "legendgroup": "state=Delaware",
         "marker": {
          "color": "#B6E880",
          "size": [
           55950
          ],
          "sizemode": "area",
          "sizeref": 4851.45,
          "symbol": "circle"
         },
         "mode": "markers",
         "name": "state=Delaware",
         "showlegend": true,
         "type": "scatter",
         "x": [
          59878
         ],
         "xaxis": "x",
         "y": [
          63.7
         ],
         "yaxis": "y"
        },
        {
         "hoverlabel": {
          "namelength": 0
         },
         "hovertemplate": "state=Florida<br>Income=%{x}<br>White=%{y}<br>votes=%{marker.size}",
         "legendgroup": "state=Florida",
         "marker": {
          "color": "#FF97FF",
          "size": [
           1097400
          ],
          "sizemode": "area",
          "sizeref": 4851.45,
          "symbol": "circle"
         },
         "mode": "markers",
         "name": "state=Florida",
         "showlegend": true,
         "type": "scatter",
         "x": [
          46956
         ],
         "xaxis": "x",
         "y": [
          55.8
         ],
         "yaxis": "y"
        },
        {
         "hoverlabel": {
          "namelength": 0
         },
         "hovertemplate": "state=Georgia<br>Income=%{x}<br>White=%{y}<br>votes=%{marker.size}",
         "legendgroup": "state=Georgia",
         "marker": {
          "color": "#FECB52",
          "size": [
           543008
          ],
          "sizemode": "area",
          "sizeref": 4851.45,
          "symbol": "circle"
         },
         "mode": "markers",
         "name": "state=Georgia",
         "showlegend": true,
         "type": "scatter",
         "x": [
          49179
         ],
         "xaxis": "x",
         "y": [
          54.3
         ],
         "yaxis": "y"
        },
        {
         "hoverlabel": {
          "namelength": 0
         },
         "hovertemplate": "state=Hawaii<br>Income=%{x}<br>White=%{y}<br>votes=%{marker.size}",
         "legendgroup": "state=Hawaii",
         "marker": {
          "color": "#636efa",
          "size": [
           10127
          ],
          "sizemode": "area",
          "sizeref": 4851.45,
          "symbol": "circle"
         },
         "mode": "markers",
         "name": "state=Hawaii",
         "showlegend": true,
         "type": "scatter",
         "x": [
          67402
         ],
         "xaxis": "x",
         "y": [
          23
         ],
         "yaxis": "y"
        },
        {
         "hoverlabel": {
          "namelength": 0
         },
         "hovertemplate": "state=Idaho<br>Income=%{x}<br>White=%{y}<br>votes=%{marker.size}",
         "legendgroup": "state=Idaho",
         "marker": {
          "color": "#EF553B",
          "size": [
           5065
          ],
          "sizemode": "area",
          "sizeref": 4851.45,
          "symbol": "circle"
         },
         "mode": "markers",
         "name": "state=Idaho",
         "showlegend": true,
         "type": "scatter",
         "x": [
          46767
         ],
         "xaxis": "x",
         "y": [
          82.8
         ],
         "yaxis": "y"
        },
        {
         "hoverlabel": {
          "namelength": 0
         },
         "hovertemplate": "state=Illinois<br>Income=%{x}<br>White=%{y}<br>votes=%{marker.size}",
         "legendgroup": "state=Illinois",
         "marker": {
          "color": "#00cc96",
          "size": [
           1012175
          ],
          "sizemode": "area",
          "sizeref": 4851.45,
          "symbol": "circle"
         },
         "mode": "markers",
         "name": "state=Illinois",
         "showlegend": true,
         "type": "scatter",
         "x": [
          56797
         ],
         "xaxis": "x",
         "y": [
          62.3
         ],
         "yaxis": "y"
        },
        {
         "hoverlabel": {
          "namelength": 0
         },
         "hovertemplate": "state=Indiana<br>Income=%{x}<br>White=%{y}<br>votes=%{marker.size}",
         "legendgroup": "state=Indiana",
         "marker": {
          "color": "#ab63fa",
          "size": [
           303382
          ],
          "sizemode": "area",
          "sizeref": 4851.45,
          "symbol": "circle"
         },
         "mode": "markers",
         "name": "state=Indiana",
         "showlegend": true,
         "type": "scatter",
         "x": [
          48248
         ],
         "xaxis": "x",
         "y": [
          80.3
         ],
         "yaxis": "y"
        },
        {
         "hoverlabel": {
          "namelength": 0
         },
         "hovertemplate": "state=Iowa<br>Income=%{x}<br>White=%{y}<br>votes=%{marker.size}",
         "legendgroup": "state=Iowa",
         "marker": {
          "color": "#FFA15A",
          "size": [
           69733
          ],
          "sizemode": "area",
          "sizeref": 4851.45,
          "symbol": "circle"
         },
         "mode": "markers",
         "name": "state=Iowa",
         "showlegend": true,
         "type": "scatter",
         "x": [
          51843
         ],
         "xaxis": "x",
         "y": [
          87.1
         ],
         "yaxis": "y"
        },
        {
         "hoverlabel": {
          "namelength": 0
         },
         "hovertemplate": "state=Kansas<br>Income=%{x}<br>White=%{y}<br>votes=%{marker.size}",
         "legendgroup": "state=Kansas",
         "marker": {
          "color": "#19d3f3",
          "size": [
           12593
          ],
          "sizemode": "area",
          "sizeref": 4851.45,
          "symbol": "circle"
         },
         "mode": "markers",
         "name": "state=Kansas",
         "showlegend": true,
         "type": "scatter",
         "x": [
          51332
         ],
         "xaxis": "x",
         "y": [
          76.8
         ],
         "yaxis": "y"
        },
        {
         "hoverlabel": {
          "namelength": 0
         },
         "hovertemplate": "state=Kentucky<br>Income=%{x}<br>White=%{y}<br>votes=%{marker.size}",
         "legendgroup": "state=Kentucky",
         "marker": {
          "color": "#FF6692",
          "size": [
           212550
          ],
          "sizemode": "area",
          "sizeref": 4851.45,
          "symbol": "circle"
         },
         "mode": "markers",
         "name": "state=Kentucky",
         "showlegend": true,
         "type": "scatter",
         "x": [
          43036
         ],
         "xaxis": "x",
         "y": [
          85.4
         ],
         "yaxis": "y"
        },
        {
         "hoverlabel": {
          "namelength": 0
         },
         "hovertemplate": "state=Louisiana<br>Income=%{x}<br>White=%{y}<br>votes=%{marker.size}",
         "legendgroup": "state=Louisiana",
         "marker": {
          "color": "#B6E880",
          "size": [
           221615
          ],
          "sizemode": "area",
          "sizeref": 4851.45,
          "symbol": "circle"
         },
         "mode": "markers",
         "name": "state=Louisiana",
         "showlegend": true,
         "type": "scatter",
         "x": [
          44874
         ],
         "xaxis": "x",
         "y": [
          59.3
         ],
         "yaxis": "y"
        },
        {
         "hoverlabel": {
          "namelength": 0
         },
         "hovertemplate": "state=Maine<br>Income=%{x}<br>White=%{y}<br>votes=%{marker.size}",
         "legendgroup": "state=Maine",
         "marker": {
          "color": "#FF97FF",
          "size": [
           1214
          ],
          "sizemode": "area",
          "sizeref": 4851.45,
          "symbol": "circle"
         },
         "mode": "markers",
         "name": "state=Maine",
         "showlegend": true,
         "type": "scatter",
         "x": [
          48453
         ],
         "xaxis": "x",
         "y": [
          93.8
         ],
         "yaxis": "y"
        },
        {
         "hoverlabel": {
          "namelength": 0
         },
         "hovertemplate": "state=Maryland<br>Income=%{x}<br>White=%{y}<br>votes=%{marker.size}",
         "legendgroup": "state=Maryland",
         "marker": {
          "color": "#FECB52",
          "size": [
           533247
          ],
          "sizemode": "area",
          "sizeref": 4851.45,
          "symbol": "circle"
         },
         "mode": "markers",
         "name": "state=Maryland",
         "showlegend": true,
         "type": "scatter",
         "x": [
          73538
         ],
         "xaxis": "x",
         "y": [
          52.6
         ],
         "yaxis": "y"
        },
        {
         "hoverlabel": {
          "namelength": 0
         },
         "hovertemplate": "state=Massachusetts<br>Income=%{x}<br>White=%{y}<br>votes=%{marker.size}",
         "legendgroup": "state=Massachusetts",
         "marker": {
          "color": "#636efa",
          "size": [
           603784
          ],
          "sizemode": "area",
          "sizeref": 4851.45,
          "symbol": "circle"
         },
         "mode": "markers",
         "name": "state=Massachusetts",
         "showlegend": true,
         "type": "scatter",
         "x": [
          66866
         ],
         "xaxis": "x",
         "y": [
          74.3
         ],
         "yaxis": "y"
        },
        {
         "hoverlabel": {
          "namelength": 0
         },
         "hovertemplate": "state=Michigan<br>Income=%{x}<br>White=%{y}<br>votes=%{marker.size}",
         "legendgroup": "state=Michigan",
         "marker": {
          "color": "#EF553B",
          "size": [
           576795
          ],
          "sizemode": "area",
          "sizeref": 4851.45,
          "symbol": "circle"
         },
         "mode": "markers",
         "name": "state=Michigan",
         "showlegend": true,
         "type": "scatter",
         "x": [
          48411
         ],
         "xaxis": "x",
         "y": [
          75.8
         ],
         "yaxis": "y"
        },
        {
         "hoverlabel": {
          "namelength": 0
         },
         "hovertemplate": "state=Mississippi<br>Income=%{x}<br>White=%{y}<br>votes=%{marker.size}",
         "legendgroup": "state=Mississippi",
         "marker": {
          "color": "#00cc96",
          "size": [
           182447
          ],
          "sizemode": "area",
          "sizeref": 4851.45,
          "symbol": "circle"
         },
         "mode": "markers",
         "name": "state=Mississippi",
         "showlegend": true,
         "type": "scatter",
         "x": [
          39031
         ],
         "xaxis": "x",
         "y": [
          57.3
         ],
         "yaxis": "y"
        },
        {
         "hoverlabel": {
          "namelength": 0
         },
         "hovertemplate": "state=Missouri<br>Income=%{x}<br>White=%{y}<br>votes=%{marker.size}",
         "legendgroup": "state=Missouri",
         "marker": {
          "color": "#ab63fa",
          "size": [
           310602
          ],
          "sizemode": "area",
          "sizeref": 4851.45,
          "symbol": "circle"
         },
         "mode": "markers",
         "name": "state=Missouri",
         "showlegend": true,
         "type": "scatter",
         "x": [
          47380
         ],
         "xaxis": "x",
         "y": [
          80.1
         ],
         "yaxis": "y"
        },
        {
         "hoverlabel": {
          "namelength": 0
         },
         "hovertemplate": "state=Montana<br>Income=%{x}<br>White=%{y}<br>votes=%{marker.size}",
         "legendgroup": "state=Montana",
         "marker": {
          "color": "#FFA15A",
          "size": [
           55194
          ],
          "sizemode": "area",
          "sizeref": 4851.45,
          "symbol": "circle"
         },
         "mode": "markers",
         "name": "state=Montana",
         "showlegend": true,
         "type": "scatter",
         "x": [
          46230
         ],
         "xaxis": "x",
         "y": [
          86.7
         ],
         "yaxis": "y"
        },
        {
         "hoverlabel": {
          "namelength": 0
         },
         "hovertemplate": "state=Nebraska<br>Income=%{x}<br>White=%{y}<br>votes=%{marker.size}",
         "legendgroup": "state=Nebraska",
         "marker": {
          "color": "#19d3f3",
          "size": [
           14340
          ],
          "sizemode": "area",
          "sizeref": 4851.45,
          "symbol": "circle"
         },
         "mode": "markers",
         "name": "state=Nebraska",
         "showlegend": true,
         "type": "scatter",
         "x": [
          51672
         ],
         "xaxis": "x",
         "y": [
          80.5
         ],
         "yaxis": "y"
        },
        {
         "hoverlabel": {
          "namelength": 0
         },
         "hovertemplate": "state=Nevada<br>Income=%{x}<br>White=%{y}<br>votes=%{marker.size}",
         "legendgroup": "state=Nevada",
         "marker": {
          "color": "#FF6692",
          "size": [
           6296
          ],
          "sizemode": "area",
          "sizeref": 4851.45,
          "symbol": "circle"
         },
         "mode": "markers",
         "name": "state=Nevada",
         "showlegend": true,
         "type": "scatter",
         "x": [
          52800
         ],
         "xaxis": "x",
         "y": [
          51.5
         ],
         "yaxis": "y"
        },
        {
         "hoverlabel": {
          "namelength": 0
         },
         "hovertemplate": "state=New Hampshire<br>Income=%{x}<br>White=%{y}<br>votes=%{marker.size}",
         "legendgroup": "state=New Hampshire",
         "marker": {
          "color": "#B6E880",
          "size": [
           95252
          ],
          "sizemode": "area",
          "sizeref": 4851.45,
          "symbol": "circle"
         },
         "mode": "markers",
         "name": "state=New Hampshire",
         "showlegend": true,
         "type": "scatter",
         "x": [
          64916
         ],
         "xaxis": "x",
         "y": [
          91.3
         ],
         "yaxis": "y"
        },
        {
         "hoverlabel": {
          "namelength": 0
         },
         "hovertemplate": "state=New Jersey<br>Income=%{x}<br>White=%{y}<br>votes=%{marker.size}",
         "legendgroup": "state=New Jersey",
         "marker": {
          "color": "#FF97FF",
          "size": [
           554237
          ],
          "sizemode": "area",
          "sizeref": 4851.45,
          "symbol": "circle"
         },
         "mode": "markers",
         "name": "state=New Jersey",
         "showlegend": true,
         "type": "scatter",
         "x": [
          71629
         ],
         "xaxis": "x",
         "y": [
          56.8
         ],
         "yaxis": "y"
        },
        {
         "hoverlabel": {
          "namelength": 0
         },
         "hovertemplate": "state=New Mexico<br>Income=%{x}<br>White=%{y}<br>votes=%{marker.size}",
         "legendgroup": "state=New Mexico",
         "marker": {
          "color": "#FECB52",
          "size": [
           110451
          ],
          "sizemode": "area",
          "sizeref": 4851.45,
          "symbol": "circle"
         },
         "mode": "markers",
         "name": "state=New Mexico",
         "showlegend": true,
         "type": "scatter",
         "x": [
          44927
         ],
         "xaxis": "x",
         "y": [
          38.9
         ],
         "yaxis": "y"
        },
        {
         "hoverlabel": {
          "namelength": 0
         },
         "hovertemplate": "state=New York<br>Income=%{x}<br>White=%{y}<br>votes=%{marker.size}",
         "legendgroup": "state=New York",
         "marker": {
          "color": "#636efa",
          "size": [
           1054083
          ],
          "sizemode": "area",
          "sizeref": 4851.45,
          "symbol": "circle"
         },
         "mode": "markers",
         "name": "state=New York",
         "showlegend": true,
         "type": "scatter",
         "x": [
          58003
         ],
         "xaxis": "x",
         "y": [
          56.5
         ],
         "yaxis": "y"
        },
        {
         "hoverlabel": {
          "namelength": 0
         },
         "hovertemplate": "state=North Carolina<br>Income=%{x}<br>White=%{y}<br>votes=%{marker.size}",
         "legendgroup": "state=North Carolina",
         "marker": {
          "color": "#EF553B",
          "size": [
           616383
          ],
          "sizemode": "area",
          "sizeref": 4851.45,
          "symbol": "circle"
         },
         "mode": "markers",
         "name": "state=North Carolina",
         "showlegend": true,
         "type": "scatter",
         "x": [
          46334
         ],
         "xaxis": "x",
         "y": [
          64.1
         ],
         "yaxis": "y"
        },
        {
         "hoverlabel": {
          "namelength": 0
         },
         "hovertemplate": "state=North Dakota<br>Income=%{x}<br>White=%{y}<br>votes=%{marker.size}",
         "legendgroup": "state=North Dakota",
         "marker": {
          "color": "#00cc96",
          "size": [
           101
          ],
          "sizemode": "area",
          "sizeref": 4851.45,
          "symbol": "circle"
         },
         "mode": "markers",
         "name": "state=North Dakota",
         "showlegend": true,
         "type": "scatter",
         "x": [
          53741
         ],
         "xaxis": "x",
         "y": [
          86.6
         ],
         "yaxis": "y"
        },
        {
         "hoverlabel": {
          "namelength": 0
         },
         "hovertemplate": "state=Ohio<br>Income=%{x}<br>White=%{y}<br>votes=%{marker.size}",
         "legendgroup": "state=Ohio",
         "marker": {
          "color": "#ab63fa",
          "size": [
           679266
          ],
          "sizemode": "area",
          "sizeref": 4851.45,
          "symbol": "circle"
         },
         "mode": "markers",
         "name": "state=Ohio",
         "showlegend": true,
         "type": "scatter",
         "x": [
          48308
         ],
         "xaxis": "x",
         "y": [
          80.1
         ],
         "yaxis": "y"
        },
        {
         "hoverlabel": {
          "namelength": 0
         },
         "hovertemplate": "state=Oklahoma<br>Income=%{x}<br>White=%{y}<br>votes=%{marker.size}",
         "legendgroup": "state=Oklahoma",
         "marker": {
          "color": "#FFA15A",
          "size": [
           139338
          ],
          "sizemode": "area",
          "sizeref": 4851.45,
          "symbol": "circle"
         },
         "mode": "markers",
         "name": "state=Oklahoma",
         "showlegend": true,
         "type": "scatter",
         "x": [
          45339
         ],
         "xaxis": "x",
         "y": [
          67
         ],
         "yaxis": "y"
        },
        {
         "hoverlabel": {
          "namelength": 0
         },
         "hovertemplate": "state=Oregon<br>Income=%{x}<br>White=%{y}<br>votes=%{marker.size}",
         "legendgroup": "state=Oregon",
         "marker": {
          "color": "#19d3f3",
          "size": [
           251739
          ],
          "sizemode": "area",
          "sizeref": 4851.45,
          "symbol": "circle"
         },
         "mode": "markers",
         "name": "state=Oregon",
         "showlegend": true,
         "type": "scatter",
         "x": [
          50229
         ],
         "xaxis": "x",
         "y": [
          77
         ],
         "yaxis": "y"
        },
        {
         "hoverlabel": {
          "namelength": 0
         },
         "hovertemplate": "state=Pennsylvania<br>Income=%{x}<br>White=%{y}<br>votes=%{marker.size}",
         "legendgroup": "state=Pennsylvania",
         "marker": {
          "color": "#FF6692",
          "size": [
           918689
          ],
          "sizemode": "area",
          "sizeref": 4851.45,
          "symbol": "circle"
         },
         "mode": "markers",
         "name": "state=Pennsylvania",
         "showlegend": true,
         "type": "scatter",
         "x": [
          52548
         ],
         "xaxis": "x",
         "y": [
          77.9
         ],
         "yaxis": "y"
        },
        {
         "hoverlabel": {
          "namelength": 0
         },
         "hovertemplate": "state=Rhode Island<br>Income=%{x}<br>White=%{y}<br>votes=%{marker.size}",
         "legendgroup": "state=Rhode Island",
         "marker": {
          "color": "#B6E880",
          "size": [
           52493
          ],
          "sizemode": "area",
          "sizeref": 4851.45,
          "symbol": "circle"
         },
         "mode": "markers",
         "name": "state=Rhode Island",
         "showlegend": true,
         "type": "scatter",
         "x": [
          56361
         ],
         "xaxis": "x",
         "y": [
          74.5
         ],
         "yaxis": "y"
        },
        {
         "hoverlabel": {
          "namelength": 0
         },
         "hovertemplate": "state=South Carolina<br>Income=%{x}<br>White=%{y}<br>votes=%{marker.size}",
         "legendgroup": "state=South Carolina",
         "marker": {
          "color": "#FF97FF",
          "size": [
           271514
          ],
          "sizemode": "area",
          "sizeref": 4851.45,
          "symbol": "circle"
         },
         "mode": "markers",
         "name": "state=South Carolina",
         "showlegend": true,
         "type": "scatter",
         "x": [
          44779
         ],
         "xaxis": "x",
         "y": [
          63.9
         ],
         "yaxis": "y"
        },
        {
         "hoverlabel": {
          "namelength": 0
         },
         "hovertemplate": "state=South Dakota<br>Income=%{x}<br>White=%{y}<br>votes=%{marker.size}",
         "legendgroup": "state=South Dakota",
         "marker": {
          "color": "#FECB52",
          "size": [
           27046
          ],
          "sizemode": "area",
          "sizeref": 4851.45,
          "symbol": "circle"
         },
         "mode": "markers",
         "name": "state=South Dakota",
         "showlegend": true,
         "type": "scatter",
         "x": [
          49495
         ],
         "xaxis": "x",
         "y": [
          83
         ],
         "yaxis": "y"
        },
        {
         "hoverlabel": {
          "namelength": 0
         },
         "hovertemplate": "state=Tennessee<br>Income=%{x}<br>White=%{y}<br>votes=%{marker.size}",
         "legendgroup": "state=Tennessee",
         "marker": {
          "color": "#636efa",
          "size": [
           245304
          ],
          "sizemode": "area",
          "sizeref": 4851.45,
          "symbol": "circle"
         },
         "mode": "markers",
         "name": "state=Tennessee",
         "showlegend": true,
         "type": "scatter",
         "x": [
          44298
         ],
         "xaxis": "x",
         "y": [
          74.6
         ],
         "yaxis": "y"
        },
        {
         "hoverlabel": {
          "namelength": 0
         },
         "hovertemplate": "state=Texas<br>Income=%{x}<br>White=%{y}<br>votes=%{marker.size}",
         "legendgroup": "state=Texas",
         "marker": {
          "color": "#EF553B",
          "size": [
           935080
          ],
          "sizemode": "area",
          "sizeref": 4851.45,
          "symbol": "circle"
         },
         "mode": "markers",
         "name": "state=Texas",
         "showlegend": true,
         "type": "scatter",
         "x": [
          51900
         ],
         "xaxis": "x",
         "y": [
          43.5
         ],
         "yaxis": "y"
        },
        {
         "hoverlabel": {
          "namelength": 0
         },
         "hovertemplate": "state=Utah<br>Income=%{x}<br>White=%{y}<br>votes=%{marker.size}",
         "legendgroup": "state=Utah",
         "marker": {
          "color": "#00cc96",
          "size": [
           15666
          ],
          "sizemode": "area",
          "sizeref": 4851.45,
          "symbol": "circle"
         },
         "mode": "markers",
         "name": "state=Utah",
         "showlegend": true,
         "type": "scatter",
         "x": [
          58821
         ],
         "xaxis": "x",
         "y": [
          79.3
         ],
         "yaxis": "y"
        },
        {
         "hoverlabel": {
          "namelength": 0
         },
         "hovertemplate": "state=Vermont<br>Income=%{x}<br>White=%{y}<br>votes=%{marker.size}",
         "legendgroup": "state=Vermont",
         "marker": {
          "color": "#ab63fa",
          "size": [
           18335
          ],
          "sizemode": "area",
          "sizeref": 4851.45,
          "symbol": "circle"
         },
         "mode": "markers",
         "name": "state=Vermont",
         "showlegend": true,
         "type": "scatter",
         "x": [
          54267
         ],
         "xaxis": "x",
         "y": [
          93.5
         ],
         "yaxis": "y"
        },
        {
         "hoverlabel": {
          "namelength": 0
         },
         "hovertemplate": "state=Virginia<br>Income=%{x}<br>White=%{y}<br>votes=%{marker.size}",
         "legendgroup": "state=Virginia",
         "marker": {
          "color": "#FFA15A",
          "size": [
           503358
          ],
          "sizemode": "area",
          "sizeref": 4851.45,
          "symbol": "circle"
         },
         "mode": "markers",
         "name": "state=Virginia",
         "showlegend": true,
         "type": "scatter",
         "x": [
          63907
         ],
         "xaxis": "x",
         "y": [
          63.1
         ],
         "yaxis": "y"
        },
        {
         "hoverlabel": {
          "namelength": 0
         },
         "hovertemplate": "state=Washington<br>Income=%{x}<br>White=%{y}<br>votes=%{marker.size}",
         "legendgroup": "state=Washington",
         "marker": {
          "color": "#19d3f3",
          "size": [
           7140
          ],
          "sizemode": "area",
          "sizeref": 4851.45,
          "symbol": "circle"
         },
         "mode": "markers",
         "name": "state=Washington",
         "showlegend": true,
         "type": "scatter",
         "x": [
          59478
         ],
         "xaxis": "x",
         "y": [
          70.4
         ],
         "yaxis": "y"
        },
        {
         "hoverlabel": {
          "namelength": 0
         },
         "hovertemplate": "state=West Virginia<br>Income=%{x}<br>White=%{y}<br>votes=%{marker.size}",
         "legendgroup": "state=West Virginia",
         "marker": {
          "color": "#FF6692",
          "size": [
           86354
          ],
          "sizemode": "area",
          "sizeref": 4851.45,
          "symbol": "circle"
         },
         "mode": "markers",
         "name": "state=West Virginia",
         "showlegend": true,
         "type": "scatter",
         "x": [
          41043
         ],
         "xaxis": "x",
         "y": [
          92.5
         ],
         "yaxis": "y"
        },
        {
         "hoverlabel": {
          "namelength": 0
         },
         "hovertemplate": "state=Wisconsin<br>Income=%{x}<br>White=%{y}<br>votes=%{marker.size}",
         "legendgroup": "state=Wisconsin",
         "marker": {
          "color": "#B6E880",
          "size": [
           432767
          ],
          "sizemode": "area",
          "sizeref": 4851.45,
          "symbol": "circle"
         },
         "mode": "markers",
         "name": "state=Wisconsin",
         "showlegend": true,
         "type": "scatter",
         "x": [
          52413
         ],
         "xaxis": "x",
         "y": [
          82.2
         ],
         "yaxis": "y"
        },
        {
         "hoverlabel": {
          "namelength": 0
         },
         "hovertemplate": "state=Wyoming<br>Income=%{x}<br>White=%{y}<br>votes=%{marker.size}",
         "legendgroup": "state=Wyoming",
         "marker": {
          "color": "#FF97FF",
          "size": [
           124
          ],
          "sizemode": "area",
          "sizeref": 4851.45,
          "symbol": "circle"
         },
         "mode": "markers",
         "name": "state=Wyoming",
         "showlegend": true,
         "type": "scatter",
         "x": [
          57406
         ],
         "xaxis": "x",
         "y": [
          84.1
         ],
         "yaxis": "y"
        }
       ],
       "layout": {
        "legend": {
         "itemsizing": "constant",
         "tracegroupgap": 0
        },
        "margin": {
         "t": 60
        },
        "template": {
         "data": {
          "bar": [
           {
            "error_x": {
             "color": "#2a3f5f"
            },
            "error_y": {
             "color": "#2a3f5f"
            },
            "marker": {
             "line": {
              "color": "#E5ECF6",
              "width": 0.5
             }
            },
            "type": "bar"
           }
          ],
          "barpolar": [
           {
            "marker": {
             "line": {
              "color": "#E5ECF6",
              "width": 0.5
             }
            },
            "type": "barpolar"
           }
          ],
          "carpet": [
           {
            "aaxis": {
             "endlinecolor": "#2a3f5f",
             "gridcolor": "white",
             "linecolor": "white",
             "minorgridcolor": "white",
             "startlinecolor": "#2a3f5f"
            },
            "baxis": {
             "endlinecolor": "#2a3f5f",
             "gridcolor": "white",
             "linecolor": "white",
             "minorgridcolor": "white",
             "startlinecolor": "#2a3f5f"
            },
            "type": "carpet"
           }
          ],
          "choropleth": [
           {
            "colorbar": {
             "outlinewidth": 0,
             "ticks": ""
            },
            "type": "choropleth"
           }
          ],
          "contour": [
           {
            "colorbar": {
             "outlinewidth": 0,
             "ticks": ""
            },
            "colorscale": [
             [
              0,
              "#0d0887"
             ],
             [
              0.1111111111111111,
              "#46039f"
             ],
             [
              0.2222222222222222,
              "#7201a8"
             ],
             [
              0.3333333333333333,
              "#9c179e"
             ],
             [
              0.4444444444444444,
              "#bd3786"
             ],
             [
              0.5555555555555556,
              "#d8576b"
             ],
             [
              0.6666666666666666,
              "#ed7953"
             ],
             [
              0.7777777777777778,
              "#fb9f3a"
             ],
             [
              0.8888888888888888,
              "#fdca26"
             ],
             [
              1,
              "#f0f921"
             ]
            ],
            "type": "contour"
           }
          ],
          "contourcarpet": [
           {
            "colorbar": {
             "outlinewidth": 0,
             "ticks": ""
            },
            "type": "contourcarpet"
           }
          ],
          "heatmap": [
           {
            "colorbar": {
             "outlinewidth": 0,
             "ticks": ""
            },
            "colorscale": [
             [
              0,
              "#0d0887"
             ],
             [
              0.1111111111111111,
              "#46039f"
             ],
             [
              0.2222222222222222,
              "#7201a8"
             ],
             [
              0.3333333333333333,
              "#9c179e"
             ],
             [
              0.4444444444444444,
              "#bd3786"
             ],
             [
              0.5555555555555556,
              "#d8576b"
             ],
             [
              0.6666666666666666,
              "#ed7953"
             ],
             [
              0.7777777777777778,
              "#fb9f3a"
             ],
             [
              0.8888888888888888,
              "#fdca26"
             ],
             [
              1,
              "#f0f921"
             ]
            ],
            "type": "heatmap"
           }
          ],
          "heatmapgl": [
           {
            "colorbar": {
             "outlinewidth": 0,
             "ticks": ""
            },
            "colorscale": [
             [
              0,
              "#0d0887"
             ],
             [
              0.1111111111111111,
              "#46039f"
             ],
             [
              0.2222222222222222,
              "#7201a8"
             ],
             [
              0.3333333333333333,
              "#9c179e"
             ],
             [
              0.4444444444444444,
              "#bd3786"
             ],
             [
              0.5555555555555556,
              "#d8576b"
             ],
             [
              0.6666666666666666,
              "#ed7953"
             ],
             [
              0.7777777777777778,
              "#fb9f3a"
             ],
             [
              0.8888888888888888,
              "#fdca26"
             ],
             [
              1,
              "#f0f921"
             ]
            ],
            "type": "heatmapgl"
           }
          ],
          "histogram": [
           {
            "marker": {
             "colorbar": {
              "outlinewidth": 0,
              "ticks": ""
             }
            },
            "type": "histogram"
           }
          ],
          "histogram2d": [
           {
            "colorbar": {
             "outlinewidth": 0,
             "ticks": ""
            },
            "colorscale": [
             [
              0,
              "#0d0887"
             ],
             [
              0.1111111111111111,
              "#46039f"
             ],
             [
              0.2222222222222222,
              "#7201a8"
             ],
             [
              0.3333333333333333,
              "#9c179e"
             ],
             [
              0.4444444444444444,
              "#bd3786"
             ],
             [
              0.5555555555555556,
              "#d8576b"
             ],
             [
              0.6666666666666666,
              "#ed7953"
             ],
             [
              0.7777777777777778,
              "#fb9f3a"
             ],
             [
              0.8888888888888888,
              "#fdca26"
             ],
             [
              1,
              "#f0f921"
             ]
            ],
            "type": "histogram2d"
           }
          ],
          "histogram2dcontour": [
           {
            "colorbar": {
             "outlinewidth": 0,
             "ticks": ""
            },
            "colorscale": [
             [
              0,
              "#0d0887"
             ],
             [
              0.1111111111111111,
              "#46039f"
             ],
             [
              0.2222222222222222,
              "#7201a8"
             ],
             [
              0.3333333333333333,
              "#9c179e"
             ],
             [
              0.4444444444444444,
              "#bd3786"
             ],
             [
              0.5555555555555556,
              "#d8576b"
             ],
             [
              0.6666666666666666,
              "#ed7953"
             ],
             [
              0.7777777777777778,
              "#fb9f3a"
             ],
             [
              0.8888888888888888,
              "#fdca26"
             ],
             [
              1,
              "#f0f921"
             ]
            ],
            "type": "histogram2dcontour"
           }
          ],
          "mesh3d": [
           {
            "colorbar": {
             "outlinewidth": 0,
             "ticks": ""
            },
            "type": "mesh3d"
           }
          ],
          "parcoords": [
           {
            "line": {
             "colorbar": {
              "outlinewidth": 0,
              "ticks": ""
             }
            },
            "type": "parcoords"
           }
          ],
          "pie": [
           {
            "automargin": true,
            "type": "pie"
           }
          ],
          "scatter": [
           {
            "marker": {
             "colorbar": {
              "outlinewidth": 0,
              "ticks": ""
             }
            },
            "type": "scatter"
           }
          ],
          "scatter3d": [
           {
            "line": {
             "colorbar": {
              "outlinewidth": 0,
              "ticks": ""
             }
            },
            "marker": {
             "colorbar": {
              "outlinewidth": 0,
              "ticks": ""
             }
            },
            "type": "scatter3d"
           }
          ],
          "scattercarpet": [
           {
            "marker": {
             "colorbar": {
              "outlinewidth": 0,
              "ticks": ""
             }
            },
            "type": "scattercarpet"
           }
          ],
          "scattergeo": [
           {
            "marker": {
             "colorbar": {
              "outlinewidth": 0,
              "ticks": ""
             }
            },
            "type": "scattergeo"
           }
          ],
          "scattergl": [
           {
            "marker": {
             "colorbar": {
              "outlinewidth": 0,
              "ticks": ""
             }
            },
            "type": "scattergl"
           }
          ],
          "scattermapbox": [
           {
            "marker": {
             "colorbar": {
              "outlinewidth": 0,
              "ticks": ""
             }
            },
            "type": "scattermapbox"
           }
          ],
          "scatterpolar": [
           {
            "marker": {
             "colorbar": {
              "outlinewidth": 0,
              "ticks": ""
             }
            },
            "type": "scatterpolar"
           }
          ],
          "scatterpolargl": [
           {
            "marker": {
             "colorbar": {
              "outlinewidth": 0,
              "ticks": ""
             }
            },
            "type": "scatterpolargl"
           }
          ],
          "scatterternary": [
           {
            "marker": {
             "colorbar": {
              "outlinewidth": 0,
              "ticks": ""
             }
            },
            "type": "scatterternary"
           }
          ],
          "surface": [
           {
            "colorbar": {
             "outlinewidth": 0,
             "ticks": ""
            },
            "colorscale": [
             [
              0,
              "#0d0887"
             ],
             [
              0.1111111111111111,
              "#46039f"
             ],
             [
              0.2222222222222222,
              "#7201a8"
             ],
             [
              0.3333333333333333,
              "#9c179e"
             ],
             [
              0.4444444444444444,
              "#bd3786"
             ],
             [
              0.5555555555555556,
              "#d8576b"
             ],
             [
              0.6666666666666666,
              "#ed7953"
             ],
             [
              0.7777777777777778,
              "#fb9f3a"
             ],
             [
              0.8888888888888888,
              "#fdca26"
             ],
             [
              1,
              "#f0f921"
             ]
            ],
            "type": "surface"
           }
          ],
          "table": [
           {
            "cells": {
             "fill": {
              "color": "#EBF0F8"
             },
             "line": {
              "color": "white"
             }
            },
            "header": {
             "fill": {
              "color": "#C8D4E3"
             },
             "line": {
              "color": "white"
             }
            },
            "type": "table"
           }
          ]
         },
         "layout": {
          "annotationdefaults": {
           "arrowcolor": "#2a3f5f",
           "arrowhead": 0,
           "arrowwidth": 1
          },
          "coloraxis": {
           "colorbar": {
            "outlinewidth": 0,
            "ticks": ""
           }
          },
          "colorscale": {
           "diverging": [
            [
             0,
             "#8e0152"
            ],
            [
             0.1,
             "#c51b7d"
            ],
            [
             0.2,
             "#de77ae"
            ],
            [
             0.3,
             "#f1b6da"
            ],
            [
             0.4,
             "#fde0ef"
            ],
            [
             0.5,
             "#f7f7f7"
            ],
            [
             0.6,
             "#e6f5d0"
            ],
            [
             0.7,
             "#b8e186"
            ],
            [
             0.8,
             "#7fbc41"
            ],
            [
             0.9,
             "#4d9221"
            ],
            [
             1,
             "#276419"
            ]
           ],
           "sequential": [
            [
             0,
             "#0d0887"
            ],
            [
             0.1111111111111111,
             "#46039f"
            ],
            [
             0.2222222222222222,
             "#7201a8"
            ],
            [
             0.3333333333333333,
             "#9c179e"
            ],
            [
             0.4444444444444444,
             "#bd3786"
            ],
            [
             0.5555555555555556,
             "#d8576b"
            ],
            [
             0.6666666666666666,
             "#ed7953"
            ],
            [
             0.7777777777777778,
             "#fb9f3a"
            ],
            [
             0.8888888888888888,
             "#fdca26"
            ],
            [
             1,
             "#f0f921"
            ]
           ],
           "sequentialminus": [
            [
             0,
             "#0d0887"
            ],
            [
             0.1111111111111111,
             "#46039f"
            ],
            [
             0.2222222222222222,
             "#7201a8"
            ],
            [
             0.3333333333333333,
             "#9c179e"
            ],
            [
             0.4444444444444444,
             "#bd3786"
            ],
            [
             0.5555555555555556,
             "#d8576b"
            ],
            [
             0.6666666666666666,
             "#ed7953"
            ],
            [
             0.7777777777777778,
             "#fb9f3a"
            ],
            [
             0.8888888888888888,
             "#fdca26"
            ],
            [
             1,
             "#f0f921"
            ]
           ]
          },
          "colorway": [
           "#636efa",
           "#EF553B",
           "#00cc96",
           "#ab63fa",
           "#FFA15A",
           "#19d3f3",
           "#FF6692",
           "#B6E880",
           "#FF97FF",
           "#FECB52"
          ],
          "font": {
           "color": "#2a3f5f"
          },
          "geo": {
           "bgcolor": "white",
           "lakecolor": "white",
           "landcolor": "#E5ECF6",
           "showlakes": true,
           "showland": true,
           "subunitcolor": "white"
          },
          "hoverlabel": {
           "align": "left"
          },
          "hovermode": "closest",
          "mapbox": {
           "style": "light"
          },
          "paper_bgcolor": "white",
          "plot_bgcolor": "#E5ECF6",
          "polar": {
           "angularaxis": {
            "gridcolor": "white",
            "linecolor": "white",
            "ticks": ""
           },
           "bgcolor": "#E5ECF6",
           "radialaxis": {
            "gridcolor": "white",
            "linecolor": "white",
            "ticks": ""
           }
          },
          "scene": {
           "xaxis": {
            "backgroundcolor": "#E5ECF6",
            "gridcolor": "white",
            "gridwidth": 2,
            "linecolor": "white",
            "showbackground": true,
            "ticks": "",
            "zerolinecolor": "white"
           },
           "yaxis": {
            "backgroundcolor": "#E5ECF6",
            "gridcolor": "white",
            "gridwidth": 2,
            "linecolor": "white",
            "showbackground": true,
            "ticks": "",
            "zerolinecolor": "white"
           },
           "zaxis": {
            "backgroundcolor": "#E5ECF6",
            "gridcolor": "white",
            "gridwidth": 2,
            "linecolor": "white",
            "showbackground": true,
            "ticks": "",
            "zerolinecolor": "white"
           }
          },
          "shapedefaults": {
           "line": {
            "color": "#2a3f5f"
           }
          },
          "ternary": {
           "aaxis": {
            "gridcolor": "white",
            "linecolor": "white",
            "ticks": ""
           },
           "baxis": {
            "gridcolor": "white",
            "linecolor": "white",
            "ticks": ""
           },
           "bgcolor": "#E5ECF6",
           "caxis": {
            "gridcolor": "white",
            "linecolor": "white",
            "ticks": ""
           }
          },
          "title": {
           "x": 0.05
          },
          "xaxis": {
           "automargin": true,
           "gridcolor": "white",
           "linecolor": "white",
           "ticks": "",
           "title": {
            "standoff": 15
           },
           "zerolinecolor": "white",
           "zerolinewidth": 2
          },
          "yaxis": {
           "automargin": true,
           "gridcolor": "white",
           "linecolor": "white",
           "ticks": "",
           "title": {
            "standoff": 15
           },
           "zerolinecolor": "white",
           "zerolinewidth": 2
          }
         }
        },
        "xaxis": {
         "anchor": "y",
         "domain": [
          0,
          1
         ],
         "title": {
          "text": "Income"
         }
        },
        "yaxis": {
         "anchor": "x",
         "domain": [
          0,
          1
         ],
         "title": {
          "text": "White"
         }
        }
       }
      },
      "text/html": [
       "<div>\n",
       "        \n",
       "        \n",
       "            <div id=\"ed8229fa-4dfb-4d2a-b1f7-a6a5b9700d53\" class=\"plotly-graph-div\" style=\"height:525px; width:100%;\"></div>\n",
       "            <script type=\"text/javascript\">\n",
       "                require([\"plotly\"], function(Plotly) {\n",
       "                    window.PLOTLYENV=window.PLOTLYENV || {};\n",
       "                    \n",
       "                if (document.getElementById(\"ed8229fa-4dfb-4d2a-b1f7-a6a5b9700d53\")) {\n",
       "                    Plotly.newPlot(\n",
       "                        'ed8229fa-4dfb-4d2a-b1f7-a6a5b9700d53',\n",
       "                        [{\"hoverlabel\": {\"namelength\": 0}, \"hovertemplate\": \"state=Alabama<br>Income=%{x}<br>White=%{y}<br>votes=%{marker.size}\", \"legendgroup\": \"state=Alabama\", \"marker\": {\"color\": \"#636efa\", \"size\": [309928], \"sizemode\": \"area\", \"sizeref\": 4851.45, \"symbol\": \"circle\"}, \"mode\": \"markers\", \"name\": \"state=Alabama\", \"showlegend\": true, \"type\": \"scatter\", \"x\": [43253], \"xaxis\": \"x\", \"y\": [66.2], \"yaxis\": \"y\"}, {\"hoverlabel\": {\"namelength\": 0}, \"hovertemplate\": \"state=Alaska<br>Income=%{x}<br>White=%{y}<br>votes=%{marker.size}\", \"legendgroup\": \"state=Alaska\", \"marker\": {\"color\": \"#EF553B\", \"size\": [99], \"sizemode\": \"area\", \"sizeref\": 4851.45, \"symbol\": \"circle\"}, \"mode\": \"markers\", \"name\": \"state=Alaska\", \"showlegend\": true, \"type\": \"scatter\", \"x\": [70760], \"xaxis\": \"x\", \"y\": [61.9], \"yaxis\": \"y\"}, {\"hoverlabel\": {\"namelength\": 0}, \"hovertemplate\": \"state=Arizona<br>Income=%{x}<br>White=%{y}<br>votes=%{marker.size}\", \"legendgroup\": \"state=Arizona\", \"marker\": {\"color\": \"#00cc96\", \"size\": [235697], \"sizemode\": \"area\", \"sizeref\": 4851.45, \"symbol\": \"circle\"}, \"mode\": \"markers\", \"name\": \"state=Arizona\", \"showlegend\": true, \"type\": \"scatter\", \"x\": [49774], \"xaxis\": \"x\", \"y\": [56.2], \"yaxis\": \"y\"}, {\"hoverlabel\": {\"namelength\": 0}, \"hovertemplate\": \"state=Arkansas<br>Income=%{x}<br>White=%{y}<br>votes=%{marker.size}\", \"legendgroup\": \"state=Arkansas\", \"marker\": {\"color\": \"#ab63fa\", \"size\": [144580], \"sizemode\": \"area\", \"sizeref\": 4851.45, \"symbol\": \"circle\"}, \"mode\": \"markers\", \"name\": \"state=Arkansas\", \"showlegend\": true, \"type\": \"scatter\", \"x\": [40768], \"xaxis\": \"x\", \"y\": [73.4], \"yaxis\": \"y\"}, {\"hoverlabel\": {\"namelength\": 0}, \"hovertemplate\": \"state=California<br>Income=%{x}<br>White=%{y}<br>votes=%{marker.size}\", \"legendgroup\": \"state=California\", \"marker\": {\"color\": \"#FFA15A\", \"size\": [1940580], \"sizemode\": \"area\", \"sizeref\": 4851.45, \"symbol\": \"circle\"}, \"mode\": \"markers\", \"name\": \"state=California\", \"showlegend\": true, \"type\": \"scatter\", \"x\": [61094], \"xaxis\": \"x\", \"y\": [38.5], \"yaxis\": \"y\"}, {\"hoverlabel\": {\"namelength\": 0}, \"hovertemplate\": \"state=Colorado<br>Income=%{x}<br>White=%{y}<br>votes=%{marker.size}\", \"legendgroup\": \"state=Colorado\", \"marker\": {\"color\": \"#19d3f3\", \"size\": [49256], \"sizemode\": \"area\", \"sizeref\": 4851.45, \"symbol\": \"circle\"}, \"mode\": \"markers\", \"name\": \"state=Colorado\", \"showlegend\": true, \"type\": \"scatter\", \"x\": [58433], \"xaxis\": \"x\", \"y\": [69.0], \"yaxis\": \"y\"}, {\"hoverlabel\": {\"namelength\": 0}, \"hovertemplate\": \"state=Connecticut<br>Income=%{x}<br>White=%{y}<br>votes=%{marker.size}\", \"legendgroup\": \"state=Connecticut\", \"marker\": {\"color\": \"#FF6692\", \"size\": [170075], \"sizemode\": \"area\", \"sizeref\": 4851.45, \"symbol\": \"circle\"}, \"mode\": \"markers\", \"name\": \"state=Connecticut\", \"showlegend\": true, \"type\": \"scatter\", \"x\": [69461], \"xaxis\": \"x\", \"y\": [68.8], \"yaxis\": \"y\"}, {\"hoverlabel\": {\"namelength\": 0}, \"hovertemplate\": \"state=Delaware<br>Income=%{x}<br>White=%{y}<br>votes=%{marker.size}\", \"legendgroup\": \"state=Delaware\", \"marker\": {\"color\": \"#B6E880\", \"size\": [55950], \"sizemode\": \"area\", \"sizeref\": 4851.45, \"symbol\": \"circle\"}, \"mode\": \"markers\", \"name\": \"state=Delaware\", \"showlegend\": true, \"type\": \"scatter\", \"x\": [59878], \"xaxis\": \"x\", \"y\": [63.7], \"yaxis\": \"y\"}, {\"hoverlabel\": {\"namelength\": 0}, \"hovertemplate\": \"state=Florida<br>Income=%{x}<br>White=%{y}<br>votes=%{marker.size}\", \"legendgroup\": \"state=Florida\", \"marker\": {\"color\": \"#FF97FF\", \"size\": [1097400], \"sizemode\": \"area\", \"sizeref\": 4851.45, \"symbol\": \"circle\"}, \"mode\": \"markers\", \"name\": \"state=Florida\", \"showlegend\": true, \"type\": \"scatter\", \"x\": [46956], \"xaxis\": \"x\", \"y\": [55.8], \"yaxis\": \"y\"}, {\"hoverlabel\": {\"namelength\": 0}, \"hovertemplate\": \"state=Georgia<br>Income=%{x}<br>White=%{y}<br>votes=%{marker.size}\", \"legendgroup\": \"state=Georgia\", \"marker\": {\"color\": \"#FECB52\", \"size\": [543008], \"sizemode\": \"area\", \"sizeref\": 4851.45, \"symbol\": \"circle\"}, \"mode\": \"markers\", \"name\": \"state=Georgia\", \"showlegend\": true, \"type\": \"scatter\", \"x\": [49179], \"xaxis\": \"x\", \"y\": [54.3], \"yaxis\": \"y\"}, {\"hoverlabel\": {\"namelength\": 0}, \"hovertemplate\": \"state=Hawaii<br>Income=%{x}<br>White=%{y}<br>votes=%{marker.size}\", \"legendgroup\": \"state=Hawaii\", \"marker\": {\"color\": \"#636efa\", \"size\": [10127], \"sizemode\": \"area\", \"sizeref\": 4851.45, \"symbol\": \"circle\"}, \"mode\": \"markers\", \"name\": \"state=Hawaii\", \"showlegend\": true, \"type\": \"scatter\", \"x\": [67402], \"xaxis\": \"x\", \"y\": [23.0], \"yaxis\": \"y\"}, {\"hoverlabel\": {\"namelength\": 0}, \"hovertemplate\": \"state=Idaho<br>Income=%{x}<br>White=%{y}<br>votes=%{marker.size}\", \"legendgroup\": \"state=Idaho\", \"marker\": {\"color\": \"#EF553B\", \"size\": [5065], \"sizemode\": \"area\", \"sizeref\": 4851.45, \"symbol\": \"circle\"}, \"mode\": \"markers\", \"name\": \"state=Idaho\", \"showlegend\": true, \"type\": \"scatter\", \"x\": [46767], \"xaxis\": \"x\", \"y\": [82.8], \"yaxis\": \"y\"}, {\"hoverlabel\": {\"namelength\": 0}, \"hovertemplate\": \"state=Illinois<br>Income=%{x}<br>White=%{y}<br>votes=%{marker.size}\", \"legendgroup\": \"state=Illinois\", \"marker\": {\"color\": \"#00cc96\", \"size\": [1012175], \"sizemode\": \"area\", \"sizeref\": 4851.45, \"symbol\": \"circle\"}, \"mode\": \"markers\", \"name\": \"state=Illinois\", \"showlegend\": true, \"type\": \"scatter\", \"x\": [56797], \"xaxis\": \"x\", \"y\": [62.3], \"yaxis\": \"y\"}, {\"hoverlabel\": {\"namelength\": 0}, \"hovertemplate\": \"state=Indiana<br>Income=%{x}<br>White=%{y}<br>votes=%{marker.size}\", \"legendgroup\": \"state=Indiana\", \"marker\": {\"color\": \"#ab63fa\", \"size\": [303382], \"sizemode\": \"area\", \"sizeref\": 4851.45, \"symbol\": \"circle\"}, \"mode\": \"markers\", \"name\": \"state=Indiana\", \"showlegend\": true, \"type\": \"scatter\", \"x\": [48248], \"xaxis\": \"x\", \"y\": [80.3], \"yaxis\": \"y\"}, {\"hoverlabel\": {\"namelength\": 0}, \"hovertemplate\": \"state=Iowa<br>Income=%{x}<br>White=%{y}<br>votes=%{marker.size}\", \"legendgroup\": \"state=Iowa\", \"marker\": {\"color\": \"#FFA15A\", \"size\": [69733], \"sizemode\": \"area\", \"sizeref\": 4851.45, \"symbol\": \"circle\"}, \"mode\": \"markers\", \"name\": \"state=Iowa\", \"showlegend\": true, \"type\": \"scatter\", \"x\": [51843], \"xaxis\": \"x\", \"y\": [87.1], \"yaxis\": \"y\"}, {\"hoverlabel\": {\"namelength\": 0}, \"hovertemplate\": \"state=Kansas<br>Income=%{x}<br>White=%{y}<br>votes=%{marker.size}\", \"legendgroup\": \"state=Kansas\", \"marker\": {\"color\": \"#19d3f3\", \"size\": [12593], \"sizemode\": \"area\", \"sizeref\": 4851.45, \"symbol\": \"circle\"}, \"mode\": \"markers\", \"name\": \"state=Kansas\", \"showlegend\": true, \"type\": \"scatter\", \"x\": [51332], \"xaxis\": \"x\", \"y\": [76.8], \"yaxis\": \"y\"}, {\"hoverlabel\": {\"namelength\": 0}, \"hovertemplate\": \"state=Kentucky<br>Income=%{x}<br>White=%{y}<br>votes=%{marker.size}\", \"legendgroup\": \"state=Kentucky\", \"marker\": {\"color\": \"#FF6692\", \"size\": [212550], \"sizemode\": \"area\", \"sizeref\": 4851.45, \"symbol\": \"circle\"}, \"mode\": \"markers\", \"name\": \"state=Kentucky\", \"showlegend\": true, \"type\": \"scatter\", \"x\": [43036], \"xaxis\": \"x\", \"y\": [85.4], \"yaxis\": \"y\"}, {\"hoverlabel\": {\"namelength\": 0}, \"hovertemplate\": \"state=Louisiana<br>Income=%{x}<br>White=%{y}<br>votes=%{marker.size}\", \"legendgroup\": \"state=Louisiana\", \"marker\": {\"color\": \"#B6E880\", \"size\": [221615], \"sizemode\": \"area\", \"sizeref\": 4851.45, \"symbol\": \"circle\"}, \"mode\": \"markers\", \"name\": \"state=Louisiana\", \"showlegend\": true, \"type\": \"scatter\", \"x\": [44874], \"xaxis\": \"x\", \"y\": [59.3], \"yaxis\": \"y\"}, {\"hoverlabel\": {\"namelength\": 0}, \"hovertemplate\": \"state=Maine<br>Income=%{x}<br>White=%{y}<br>votes=%{marker.size}\", \"legendgroup\": \"state=Maine\", \"marker\": {\"color\": \"#FF97FF\", \"size\": [1214], \"sizemode\": \"area\", \"sizeref\": 4851.45, \"symbol\": \"circle\"}, \"mode\": \"markers\", \"name\": \"state=Maine\", \"showlegend\": true, \"type\": \"scatter\", \"x\": [48453], \"xaxis\": \"x\", \"y\": [93.8], \"yaxis\": \"y\"}, {\"hoverlabel\": {\"namelength\": 0}, \"hovertemplate\": \"state=Maryland<br>Income=%{x}<br>White=%{y}<br>votes=%{marker.size}\", \"legendgroup\": \"state=Maryland\", \"marker\": {\"color\": \"#FECB52\", \"size\": [533247], \"sizemode\": \"area\", \"sizeref\": 4851.45, \"symbol\": \"circle\"}, \"mode\": \"markers\", \"name\": \"state=Maryland\", \"showlegend\": true, \"type\": \"scatter\", \"x\": [73538], \"xaxis\": \"x\", \"y\": [52.6], \"yaxis\": \"y\"}, {\"hoverlabel\": {\"namelength\": 0}, \"hovertemplate\": \"state=Massachusetts<br>Income=%{x}<br>White=%{y}<br>votes=%{marker.size}\", \"legendgroup\": \"state=Massachusetts\", \"marker\": {\"color\": \"#636efa\", \"size\": [603784], \"sizemode\": \"area\", \"sizeref\": 4851.45, \"symbol\": \"circle\"}, \"mode\": \"markers\", \"name\": \"state=Massachusetts\", \"showlegend\": true, \"type\": \"scatter\", \"x\": [66866], \"xaxis\": \"x\", \"y\": [74.3], \"yaxis\": \"y\"}, {\"hoverlabel\": {\"namelength\": 0}, \"hovertemplate\": \"state=Michigan<br>Income=%{x}<br>White=%{y}<br>votes=%{marker.size}\", \"legendgroup\": \"state=Michigan\", \"marker\": {\"color\": \"#EF553B\", \"size\": [576795], \"sizemode\": \"area\", \"sizeref\": 4851.45, \"symbol\": \"circle\"}, \"mode\": \"markers\", \"name\": \"state=Michigan\", \"showlegend\": true, \"type\": \"scatter\", \"x\": [48411], \"xaxis\": \"x\", \"y\": [75.8], \"yaxis\": \"y\"}, {\"hoverlabel\": {\"namelength\": 0}, \"hovertemplate\": \"state=Mississippi<br>Income=%{x}<br>White=%{y}<br>votes=%{marker.size}\", \"legendgroup\": \"state=Mississippi\", \"marker\": {\"color\": \"#00cc96\", \"size\": [182447], \"sizemode\": \"area\", \"sizeref\": 4851.45, \"symbol\": \"circle\"}, \"mode\": \"markers\", \"name\": \"state=Mississippi\", \"showlegend\": true, \"type\": \"scatter\", \"x\": [39031], \"xaxis\": \"x\", \"y\": [57.3], \"yaxis\": \"y\"}, {\"hoverlabel\": {\"namelength\": 0}, \"hovertemplate\": \"state=Missouri<br>Income=%{x}<br>White=%{y}<br>votes=%{marker.size}\", \"legendgroup\": \"state=Missouri\", \"marker\": {\"color\": \"#ab63fa\", \"size\": [310602], \"sizemode\": \"area\", \"sizeref\": 4851.45, \"symbol\": \"circle\"}, \"mode\": \"markers\", \"name\": \"state=Missouri\", \"showlegend\": true, \"type\": \"scatter\", \"x\": [47380], \"xaxis\": \"x\", \"y\": [80.1], \"yaxis\": \"y\"}, {\"hoverlabel\": {\"namelength\": 0}, \"hovertemplate\": \"state=Montana<br>Income=%{x}<br>White=%{y}<br>votes=%{marker.size}\", \"legendgroup\": \"state=Montana\", \"marker\": {\"color\": \"#FFA15A\", \"size\": [55194], \"sizemode\": \"area\", \"sizeref\": 4851.45, \"symbol\": \"circle\"}, \"mode\": \"markers\", \"name\": \"state=Montana\", \"showlegend\": true, \"type\": \"scatter\", \"x\": [46230], \"xaxis\": \"x\", \"y\": [86.7], \"yaxis\": \"y\"}, {\"hoverlabel\": {\"namelength\": 0}, \"hovertemplate\": \"state=Nebraska<br>Income=%{x}<br>White=%{y}<br>votes=%{marker.size}\", \"legendgroup\": \"state=Nebraska\", \"marker\": {\"color\": \"#19d3f3\", \"size\": [14340], \"sizemode\": \"area\", \"sizeref\": 4851.45, \"symbol\": \"circle\"}, \"mode\": \"markers\", \"name\": \"state=Nebraska\", \"showlegend\": true, \"type\": \"scatter\", \"x\": [51672], \"xaxis\": \"x\", \"y\": [80.5], \"yaxis\": \"y\"}, {\"hoverlabel\": {\"namelength\": 0}, \"hovertemplate\": \"state=Nevada<br>Income=%{x}<br>White=%{y}<br>votes=%{marker.size}\", \"legendgroup\": \"state=Nevada\", \"marker\": {\"color\": \"#FF6692\", \"size\": [6296], \"sizemode\": \"area\", \"sizeref\": 4851.45, \"symbol\": \"circle\"}, \"mode\": \"markers\", \"name\": \"state=Nevada\", \"showlegend\": true, \"type\": \"scatter\", \"x\": [52800], \"xaxis\": \"x\", \"y\": [51.5], \"yaxis\": \"y\"}, {\"hoverlabel\": {\"namelength\": 0}, \"hovertemplate\": \"state=New Hampshire<br>Income=%{x}<br>White=%{y}<br>votes=%{marker.size}\", \"legendgroup\": \"state=New Hampshire\", \"marker\": {\"color\": \"#B6E880\", \"size\": [95252], \"sizemode\": \"area\", \"sizeref\": 4851.45, \"symbol\": \"circle\"}, \"mode\": \"markers\", \"name\": \"state=New Hampshire\", \"showlegend\": true, \"type\": \"scatter\", \"x\": [64916], \"xaxis\": \"x\", \"y\": [91.3], \"yaxis\": \"y\"}, {\"hoverlabel\": {\"namelength\": 0}, \"hovertemplate\": \"state=New Jersey<br>Income=%{x}<br>White=%{y}<br>votes=%{marker.size}\", \"legendgroup\": \"state=New Jersey\", \"marker\": {\"color\": \"#FF97FF\", \"size\": [554237], \"sizemode\": \"area\", \"sizeref\": 4851.45, \"symbol\": \"circle\"}, \"mode\": \"markers\", \"name\": \"state=New Jersey\", \"showlegend\": true, \"type\": \"scatter\", \"x\": [71629], \"xaxis\": \"x\", \"y\": [56.8], \"yaxis\": \"y\"}, {\"hoverlabel\": {\"namelength\": 0}, \"hovertemplate\": \"state=New Mexico<br>Income=%{x}<br>White=%{y}<br>votes=%{marker.size}\", \"legendgroup\": \"state=New Mexico\", \"marker\": {\"color\": \"#FECB52\", \"size\": [110451], \"sizemode\": \"area\", \"sizeref\": 4851.45, \"symbol\": \"circle\"}, \"mode\": \"markers\", \"name\": \"state=New Mexico\", \"showlegend\": true, \"type\": \"scatter\", \"x\": [44927], \"xaxis\": \"x\", \"y\": [38.9], \"yaxis\": \"y\"}, {\"hoverlabel\": {\"namelength\": 0}, \"hovertemplate\": \"state=New York<br>Income=%{x}<br>White=%{y}<br>votes=%{marker.size}\", \"legendgroup\": \"state=New York\", \"marker\": {\"color\": \"#636efa\", \"size\": [1054083], \"sizemode\": \"area\", \"sizeref\": 4851.45, \"symbol\": \"circle\"}, \"mode\": \"markers\", \"name\": \"state=New York\", \"showlegend\": true, \"type\": \"scatter\", \"x\": [58003], \"xaxis\": \"x\", \"y\": [56.5], \"yaxis\": \"y\"}, {\"hoverlabel\": {\"namelength\": 0}, \"hovertemplate\": \"state=North Carolina<br>Income=%{x}<br>White=%{y}<br>votes=%{marker.size}\", \"legendgroup\": \"state=North Carolina\", \"marker\": {\"color\": \"#EF553B\", \"size\": [616383], \"sizemode\": \"area\", \"sizeref\": 4851.45, \"symbol\": \"circle\"}, \"mode\": \"markers\", \"name\": \"state=North Carolina\", \"showlegend\": true, \"type\": \"scatter\", \"x\": [46334], \"xaxis\": \"x\", \"y\": [64.1], \"yaxis\": \"y\"}, {\"hoverlabel\": {\"namelength\": 0}, \"hovertemplate\": \"state=North Dakota<br>Income=%{x}<br>White=%{y}<br>votes=%{marker.size}\", \"legendgroup\": \"state=North Dakota\", \"marker\": {\"color\": \"#00cc96\", \"size\": [101], \"sizemode\": \"area\", \"sizeref\": 4851.45, \"symbol\": \"circle\"}, \"mode\": \"markers\", \"name\": \"state=North Dakota\", \"showlegend\": true, \"type\": \"scatter\", \"x\": [53741], \"xaxis\": \"x\", \"y\": [86.6], \"yaxis\": \"y\"}, {\"hoverlabel\": {\"namelength\": 0}, \"hovertemplate\": \"state=Ohio<br>Income=%{x}<br>White=%{y}<br>votes=%{marker.size}\", \"legendgroup\": \"state=Ohio\", \"marker\": {\"color\": \"#ab63fa\", \"size\": [679266], \"sizemode\": \"area\", \"sizeref\": 4851.45, \"symbol\": \"circle\"}, \"mode\": \"markers\", \"name\": \"state=Ohio\", \"showlegend\": true, \"type\": \"scatter\", \"x\": [48308], \"xaxis\": \"x\", \"y\": [80.1], \"yaxis\": \"y\"}, {\"hoverlabel\": {\"namelength\": 0}, \"hovertemplate\": \"state=Oklahoma<br>Income=%{x}<br>White=%{y}<br>votes=%{marker.size}\", \"legendgroup\": \"state=Oklahoma\", \"marker\": {\"color\": \"#FFA15A\", \"size\": [139338], \"sizemode\": \"area\", \"sizeref\": 4851.45, \"symbol\": \"circle\"}, \"mode\": \"markers\", \"name\": \"state=Oklahoma\", \"showlegend\": true, \"type\": \"scatter\", \"x\": [45339], \"xaxis\": \"x\", \"y\": [67.0], \"yaxis\": \"y\"}, {\"hoverlabel\": {\"namelength\": 0}, \"hovertemplate\": \"state=Oregon<br>Income=%{x}<br>White=%{y}<br>votes=%{marker.size}\", \"legendgroup\": \"state=Oregon\", \"marker\": {\"color\": \"#19d3f3\", \"size\": [251739], \"sizemode\": \"area\", \"sizeref\": 4851.45, \"symbol\": \"circle\"}, \"mode\": \"markers\", \"name\": \"state=Oregon\", \"showlegend\": true, \"type\": \"scatter\", \"x\": [50229], \"xaxis\": \"x\", \"y\": [77.0], \"yaxis\": \"y\"}, {\"hoverlabel\": {\"namelength\": 0}, \"hovertemplate\": \"state=Pennsylvania<br>Income=%{x}<br>White=%{y}<br>votes=%{marker.size}\", \"legendgroup\": \"state=Pennsylvania\", \"marker\": {\"color\": \"#FF6692\", \"size\": [918689], \"sizemode\": \"area\", \"sizeref\": 4851.45, \"symbol\": \"circle\"}, \"mode\": \"markers\", \"name\": \"state=Pennsylvania\", \"showlegend\": true, \"type\": \"scatter\", \"x\": [52548], \"xaxis\": \"x\", \"y\": [77.9], \"yaxis\": \"y\"}, {\"hoverlabel\": {\"namelength\": 0}, \"hovertemplate\": \"state=Rhode Island<br>Income=%{x}<br>White=%{y}<br>votes=%{marker.size}\", \"legendgroup\": \"state=Rhode Island\", \"marker\": {\"color\": \"#B6E880\", \"size\": [52493], \"sizemode\": \"area\", \"sizeref\": 4851.45, \"symbol\": \"circle\"}, \"mode\": \"markers\", \"name\": \"state=Rhode Island\", \"showlegend\": true, \"type\": \"scatter\", \"x\": [56361], \"xaxis\": \"x\", \"y\": [74.5], \"yaxis\": \"y\"}, {\"hoverlabel\": {\"namelength\": 0}, \"hovertemplate\": \"state=South Carolina<br>Income=%{x}<br>White=%{y}<br>votes=%{marker.size}\", \"legendgroup\": \"state=South Carolina\", \"marker\": {\"color\": \"#FF97FF\", \"size\": [271514], \"sizemode\": \"area\", \"sizeref\": 4851.45, \"symbol\": \"circle\"}, \"mode\": \"markers\", \"name\": \"state=South Carolina\", \"showlegend\": true, \"type\": \"scatter\", \"x\": [44779], \"xaxis\": \"x\", \"y\": [63.9], \"yaxis\": \"y\"}, {\"hoverlabel\": {\"namelength\": 0}, \"hovertemplate\": \"state=South Dakota<br>Income=%{x}<br>White=%{y}<br>votes=%{marker.size}\", \"legendgroup\": \"state=South Dakota\", \"marker\": {\"color\": \"#FECB52\", \"size\": [27046], \"sizemode\": \"area\", \"sizeref\": 4851.45, \"symbol\": \"circle\"}, \"mode\": \"markers\", \"name\": \"state=South Dakota\", \"showlegend\": true, \"type\": \"scatter\", \"x\": [49495], \"xaxis\": \"x\", \"y\": [83.0], \"yaxis\": \"y\"}, {\"hoverlabel\": {\"namelength\": 0}, \"hovertemplate\": \"state=Tennessee<br>Income=%{x}<br>White=%{y}<br>votes=%{marker.size}\", \"legendgroup\": \"state=Tennessee\", \"marker\": {\"color\": \"#636efa\", \"size\": [245304], \"sizemode\": \"area\", \"sizeref\": 4851.45, \"symbol\": \"circle\"}, \"mode\": \"markers\", \"name\": \"state=Tennessee\", \"showlegend\": true, \"type\": \"scatter\", \"x\": [44298], \"xaxis\": \"x\", \"y\": [74.6], \"yaxis\": \"y\"}, {\"hoverlabel\": {\"namelength\": 0}, \"hovertemplate\": \"state=Texas<br>Income=%{x}<br>White=%{y}<br>votes=%{marker.size}\", \"legendgroup\": \"state=Texas\", \"marker\": {\"color\": \"#EF553B\", \"size\": [935080], \"sizemode\": \"area\", \"sizeref\": 4851.45, \"symbol\": \"circle\"}, \"mode\": \"markers\", \"name\": \"state=Texas\", \"showlegend\": true, \"type\": \"scatter\", \"x\": [51900], \"xaxis\": \"x\", \"y\": [43.5], \"yaxis\": \"y\"}, {\"hoverlabel\": {\"namelength\": 0}, \"hovertemplate\": \"state=Utah<br>Income=%{x}<br>White=%{y}<br>votes=%{marker.size}\", \"legendgroup\": \"state=Utah\", \"marker\": {\"color\": \"#00cc96\", \"size\": [15666], \"sizemode\": \"area\", \"sizeref\": 4851.45, \"symbol\": \"circle\"}, \"mode\": \"markers\", \"name\": \"state=Utah\", \"showlegend\": true, \"type\": \"scatter\", \"x\": [58821], \"xaxis\": \"x\", \"y\": [79.3], \"yaxis\": \"y\"}, {\"hoverlabel\": {\"namelength\": 0}, \"hovertemplate\": \"state=Vermont<br>Income=%{x}<br>White=%{y}<br>votes=%{marker.size}\", \"legendgroup\": \"state=Vermont\", \"marker\": {\"color\": \"#ab63fa\", \"size\": [18335], \"sizemode\": \"area\", \"sizeref\": 4851.45, \"symbol\": \"circle\"}, \"mode\": \"markers\", \"name\": \"state=Vermont\", \"showlegend\": true, \"type\": \"scatter\", \"x\": [54267], \"xaxis\": \"x\", \"y\": [93.5], \"yaxis\": \"y\"}, {\"hoverlabel\": {\"namelength\": 0}, \"hovertemplate\": \"state=Virginia<br>Income=%{x}<br>White=%{y}<br>votes=%{marker.size}\", \"legendgroup\": \"state=Virginia\", \"marker\": {\"color\": \"#FFA15A\", \"size\": [503358], \"sizemode\": \"area\", \"sizeref\": 4851.45, \"symbol\": \"circle\"}, \"mode\": \"markers\", \"name\": \"state=Virginia\", \"showlegend\": true, \"type\": \"scatter\", \"x\": [63907], \"xaxis\": \"x\", \"y\": [63.1], \"yaxis\": \"y\"}, {\"hoverlabel\": {\"namelength\": 0}, \"hovertemplate\": \"state=Washington<br>Income=%{x}<br>White=%{y}<br>votes=%{marker.size}\", \"legendgroup\": \"state=Washington\", \"marker\": {\"color\": \"#19d3f3\", \"size\": [7140], \"sizemode\": \"area\", \"sizeref\": 4851.45, \"symbol\": \"circle\"}, \"mode\": \"markers\", \"name\": \"state=Washington\", \"showlegend\": true, \"type\": \"scatter\", \"x\": [59478], \"xaxis\": \"x\", \"y\": [70.4], \"yaxis\": \"y\"}, {\"hoverlabel\": {\"namelength\": 0}, \"hovertemplate\": \"state=West Virginia<br>Income=%{x}<br>White=%{y}<br>votes=%{marker.size}\", \"legendgroup\": \"state=West Virginia\", \"marker\": {\"color\": \"#FF6692\", \"size\": [86354], \"sizemode\": \"area\", \"sizeref\": 4851.45, \"symbol\": \"circle\"}, \"mode\": \"markers\", \"name\": \"state=West Virginia\", \"showlegend\": true, \"type\": \"scatter\", \"x\": [41043], \"xaxis\": \"x\", \"y\": [92.5], \"yaxis\": \"y\"}, {\"hoverlabel\": {\"namelength\": 0}, \"hovertemplate\": \"state=Wisconsin<br>Income=%{x}<br>White=%{y}<br>votes=%{marker.size}\", \"legendgroup\": \"state=Wisconsin\", \"marker\": {\"color\": \"#B6E880\", \"size\": [432767], \"sizemode\": \"area\", \"sizeref\": 4851.45, \"symbol\": \"circle\"}, \"mode\": \"markers\", \"name\": \"state=Wisconsin\", \"showlegend\": true, \"type\": \"scatter\", \"x\": [52413], \"xaxis\": \"x\", \"y\": [82.2], \"yaxis\": \"y\"}, {\"hoverlabel\": {\"namelength\": 0}, \"hovertemplate\": \"state=Wyoming<br>Income=%{x}<br>White=%{y}<br>votes=%{marker.size}\", \"legendgroup\": \"state=Wyoming\", \"marker\": {\"color\": \"#FF97FF\", \"size\": [124], \"sizemode\": \"area\", \"sizeref\": 4851.45, \"symbol\": \"circle\"}, \"mode\": \"markers\", \"name\": \"state=Wyoming\", \"showlegend\": true, \"type\": \"scatter\", \"x\": [57406], \"xaxis\": \"x\", \"y\": [84.1], \"yaxis\": \"y\"}],\n",
       "                        {\"legend\": {\"itemsizing\": \"constant\", \"tracegroupgap\": 0}, \"margin\": {\"t\": 60}, \"template\": {\"data\": {\"bar\": [{\"error_x\": {\"color\": \"#2a3f5f\"}, \"error_y\": {\"color\": \"#2a3f5f\"}, \"marker\": {\"line\": {\"color\": \"#E5ECF6\", \"width\": 0.5}}, \"type\": \"bar\"}], \"barpolar\": [{\"marker\": {\"line\": {\"color\": \"#E5ECF6\", \"width\": 0.5}}, \"type\": \"barpolar\"}], \"carpet\": [{\"aaxis\": {\"endlinecolor\": \"#2a3f5f\", \"gridcolor\": \"white\", \"linecolor\": \"white\", \"minorgridcolor\": \"white\", \"startlinecolor\": \"#2a3f5f\"}, \"baxis\": {\"endlinecolor\": \"#2a3f5f\", \"gridcolor\": \"white\", \"linecolor\": \"white\", \"minorgridcolor\": \"white\", \"startlinecolor\": \"#2a3f5f\"}, \"type\": \"carpet\"}], \"choropleth\": [{\"colorbar\": {\"outlinewidth\": 0, \"ticks\": \"\"}, \"type\": \"choropleth\"}], \"contour\": [{\"colorbar\": {\"outlinewidth\": 0, \"ticks\": \"\"}, \"colorscale\": [[0.0, \"#0d0887\"], [0.1111111111111111, \"#46039f\"], [0.2222222222222222, \"#7201a8\"], [0.3333333333333333, \"#9c179e\"], [0.4444444444444444, \"#bd3786\"], [0.5555555555555556, \"#d8576b\"], [0.6666666666666666, \"#ed7953\"], [0.7777777777777778, \"#fb9f3a\"], [0.8888888888888888, \"#fdca26\"], [1.0, \"#f0f921\"]], \"type\": \"contour\"}], \"contourcarpet\": [{\"colorbar\": {\"outlinewidth\": 0, \"ticks\": \"\"}, \"type\": \"contourcarpet\"}], \"heatmap\": [{\"colorbar\": {\"outlinewidth\": 0, \"ticks\": \"\"}, \"colorscale\": [[0.0, \"#0d0887\"], [0.1111111111111111, \"#46039f\"], [0.2222222222222222, \"#7201a8\"], [0.3333333333333333, \"#9c179e\"], [0.4444444444444444, \"#bd3786\"], [0.5555555555555556, \"#d8576b\"], [0.6666666666666666, \"#ed7953\"], [0.7777777777777778, \"#fb9f3a\"], [0.8888888888888888, \"#fdca26\"], [1.0, \"#f0f921\"]], \"type\": \"heatmap\"}], \"heatmapgl\": [{\"colorbar\": {\"outlinewidth\": 0, \"ticks\": \"\"}, \"colorscale\": [[0.0, \"#0d0887\"], [0.1111111111111111, \"#46039f\"], [0.2222222222222222, \"#7201a8\"], [0.3333333333333333, \"#9c179e\"], [0.4444444444444444, \"#bd3786\"], [0.5555555555555556, \"#d8576b\"], [0.6666666666666666, \"#ed7953\"], [0.7777777777777778, \"#fb9f3a\"], [0.8888888888888888, \"#fdca26\"], [1.0, \"#f0f921\"]], \"type\": \"heatmapgl\"}], \"histogram\": [{\"marker\": {\"colorbar\": {\"outlinewidth\": 0, \"ticks\": \"\"}}, \"type\": \"histogram\"}], \"histogram2d\": [{\"colorbar\": {\"outlinewidth\": 0, \"ticks\": \"\"}, \"colorscale\": [[0.0, \"#0d0887\"], [0.1111111111111111, \"#46039f\"], [0.2222222222222222, \"#7201a8\"], [0.3333333333333333, \"#9c179e\"], [0.4444444444444444, \"#bd3786\"], [0.5555555555555556, \"#d8576b\"], [0.6666666666666666, \"#ed7953\"], [0.7777777777777778, \"#fb9f3a\"], [0.8888888888888888, \"#fdca26\"], [1.0, \"#f0f921\"]], \"type\": \"histogram2d\"}], \"histogram2dcontour\": [{\"colorbar\": {\"outlinewidth\": 0, \"ticks\": \"\"}, \"colorscale\": [[0.0, \"#0d0887\"], [0.1111111111111111, \"#46039f\"], [0.2222222222222222, \"#7201a8\"], [0.3333333333333333, \"#9c179e\"], [0.4444444444444444, \"#bd3786\"], [0.5555555555555556, \"#d8576b\"], [0.6666666666666666, \"#ed7953\"], [0.7777777777777778, \"#fb9f3a\"], [0.8888888888888888, \"#fdca26\"], [1.0, \"#f0f921\"]], \"type\": \"histogram2dcontour\"}], \"mesh3d\": [{\"colorbar\": {\"outlinewidth\": 0, \"ticks\": \"\"}, \"type\": \"mesh3d\"}], \"parcoords\": [{\"line\": {\"colorbar\": {\"outlinewidth\": 0, \"ticks\": \"\"}}, \"type\": \"parcoords\"}], \"pie\": [{\"automargin\": true, \"type\": \"pie\"}], \"scatter\": [{\"marker\": {\"colorbar\": {\"outlinewidth\": 0, \"ticks\": \"\"}}, \"type\": \"scatter\"}], \"scatter3d\": [{\"line\": {\"colorbar\": {\"outlinewidth\": 0, \"ticks\": \"\"}}, \"marker\": {\"colorbar\": {\"outlinewidth\": 0, \"ticks\": \"\"}}, \"type\": \"scatter3d\"}], \"scattercarpet\": [{\"marker\": {\"colorbar\": {\"outlinewidth\": 0, \"ticks\": \"\"}}, \"type\": \"scattercarpet\"}], \"scattergeo\": [{\"marker\": {\"colorbar\": {\"outlinewidth\": 0, \"ticks\": \"\"}}, \"type\": \"scattergeo\"}], \"scattergl\": [{\"marker\": {\"colorbar\": {\"outlinewidth\": 0, \"ticks\": \"\"}}, \"type\": \"scattergl\"}], \"scattermapbox\": [{\"marker\": {\"colorbar\": {\"outlinewidth\": 0, \"ticks\": \"\"}}, \"type\": \"scattermapbox\"}], \"scatterpolar\": [{\"marker\": {\"colorbar\": {\"outlinewidth\": 0, \"ticks\": \"\"}}, \"type\": \"scatterpolar\"}], \"scatterpolargl\": [{\"marker\": {\"colorbar\": {\"outlinewidth\": 0, \"ticks\": \"\"}}, \"type\": \"scatterpolargl\"}], \"scatterternary\": [{\"marker\": {\"colorbar\": {\"outlinewidth\": 0, \"ticks\": \"\"}}, \"type\": \"scatterternary\"}], \"surface\": [{\"colorbar\": {\"outlinewidth\": 0, \"ticks\": \"\"}, \"colorscale\": [[0.0, \"#0d0887\"], [0.1111111111111111, \"#46039f\"], [0.2222222222222222, \"#7201a8\"], [0.3333333333333333, \"#9c179e\"], [0.4444444444444444, \"#bd3786\"], [0.5555555555555556, \"#d8576b\"], [0.6666666666666666, \"#ed7953\"], [0.7777777777777778, \"#fb9f3a\"], [0.8888888888888888, \"#fdca26\"], [1.0, \"#f0f921\"]], \"type\": \"surface\"}], \"table\": [{\"cells\": {\"fill\": {\"color\": \"#EBF0F8\"}, \"line\": {\"color\": \"white\"}}, \"header\": {\"fill\": {\"color\": \"#C8D4E3\"}, \"line\": {\"color\": \"white\"}}, \"type\": \"table\"}]}, \"layout\": {\"annotationdefaults\": {\"arrowcolor\": \"#2a3f5f\", \"arrowhead\": 0, \"arrowwidth\": 1}, \"coloraxis\": {\"colorbar\": {\"outlinewidth\": 0, \"ticks\": \"\"}}, \"colorscale\": {\"diverging\": [[0, \"#8e0152\"], [0.1, \"#c51b7d\"], [0.2, \"#de77ae\"], [0.3, \"#f1b6da\"], [0.4, \"#fde0ef\"], [0.5, \"#f7f7f7\"], [0.6, \"#e6f5d0\"], [0.7, \"#b8e186\"], [0.8, \"#7fbc41\"], [0.9, \"#4d9221\"], [1, \"#276419\"]], \"sequential\": [[0.0, \"#0d0887\"], [0.1111111111111111, \"#46039f\"], [0.2222222222222222, \"#7201a8\"], [0.3333333333333333, \"#9c179e\"], [0.4444444444444444, \"#bd3786\"], [0.5555555555555556, \"#d8576b\"], [0.6666666666666666, \"#ed7953\"], [0.7777777777777778, \"#fb9f3a\"], [0.8888888888888888, \"#fdca26\"], [1.0, \"#f0f921\"]], \"sequentialminus\": [[0.0, \"#0d0887\"], [0.1111111111111111, \"#46039f\"], [0.2222222222222222, \"#7201a8\"], [0.3333333333333333, \"#9c179e\"], [0.4444444444444444, \"#bd3786\"], [0.5555555555555556, \"#d8576b\"], [0.6666666666666666, \"#ed7953\"], [0.7777777777777778, \"#fb9f3a\"], [0.8888888888888888, \"#fdca26\"], [1.0, \"#f0f921\"]]}, \"colorway\": [\"#636efa\", \"#EF553B\", \"#00cc96\", \"#ab63fa\", \"#FFA15A\", \"#19d3f3\", \"#FF6692\", \"#B6E880\", \"#FF97FF\", \"#FECB52\"], \"font\": {\"color\": \"#2a3f5f\"}, \"geo\": {\"bgcolor\": \"white\", \"lakecolor\": \"white\", \"landcolor\": \"#E5ECF6\", \"showlakes\": true, \"showland\": true, \"subunitcolor\": \"white\"}, \"hoverlabel\": {\"align\": \"left\"}, \"hovermode\": \"closest\", \"mapbox\": {\"style\": \"light\"}, \"paper_bgcolor\": \"white\", \"plot_bgcolor\": \"#E5ECF6\", \"polar\": {\"angularaxis\": {\"gridcolor\": \"white\", \"linecolor\": \"white\", \"ticks\": \"\"}, \"bgcolor\": \"#E5ECF6\", \"radialaxis\": {\"gridcolor\": \"white\", \"linecolor\": \"white\", \"ticks\": \"\"}}, \"scene\": {\"xaxis\": {\"backgroundcolor\": \"#E5ECF6\", \"gridcolor\": \"white\", \"gridwidth\": 2, \"linecolor\": \"white\", \"showbackground\": true, \"ticks\": \"\", \"zerolinecolor\": \"white\"}, \"yaxis\": {\"backgroundcolor\": \"#E5ECF6\", \"gridcolor\": \"white\", \"gridwidth\": 2, \"linecolor\": \"white\", \"showbackground\": true, \"ticks\": \"\", \"zerolinecolor\": \"white\"}, \"zaxis\": {\"backgroundcolor\": \"#E5ECF6\", \"gridcolor\": \"white\", \"gridwidth\": 2, \"linecolor\": \"white\", \"showbackground\": true, \"ticks\": \"\", \"zerolinecolor\": \"white\"}}, \"shapedefaults\": {\"line\": {\"color\": \"#2a3f5f\"}}, \"ternary\": {\"aaxis\": {\"gridcolor\": \"white\", \"linecolor\": \"white\", \"ticks\": \"\"}, \"baxis\": {\"gridcolor\": \"white\", \"linecolor\": \"white\", \"ticks\": \"\"}, \"bgcolor\": \"#E5ECF6\", \"caxis\": {\"gridcolor\": \"white\", \"linecolor\": \"white\", \"ticks\": \"\"}}, \"title\": {\"x\": 0.05}, \"xaxis\": {\"automargin\": true, \"gridcolor\": \"white\", \"linecolor\": \"white\", \"ticks\": \"\", \"title\": {\"standoff\": 15}, \"zerolinecolor\": \"white\", \"zerolinewidth\": 2}, \"yaxis\": {\"automargin\": true, \"gridcolor\": \"white\", \"linecolor\": \"white\", \"ticks\": \"\", \"title\": {\"standoff\": 15}, \"zerolinecolor\": \"white\", \"zerolinewidth\": 2}}}, \"xaxis\": {\"anchor\": \"y\", \"domain\": [0.0, 1.0], \"title\": {\"text\": \"Income\"}}, \"yaxis\": {\"anchor\": \"x\", \"domain\": [0.0, 1.0], \"title\": {\"text\": \"White\"}}},\n",
       "                        {\"responsive\": true}\n",
       "                    ).then(function(){\n",
       "                            \n",
       "var gd = document.getElementById('ed8229fa-4dfb-4d2a-b1f7-a6a5b9700d53');\n",
       "var x = new MutationObserver(function (mutations, observer) {{\n",
       "        var display = window.getComputedStyle(gd).display;\n",
       "        if (!display || display === 'none') {{\n",
       "            console.log([gd, 'removed!']);\n",
       "            Plotly.purge(gd);\n",
       "            observer.disconnect();\n",
       "        }}\n",
       "}});\n",
       "\n",
       "// Listen for the removal of the full notebook cells\n",
       "var notebookContainer = gd.closest('#notebook-container');\n",
       "if (notebookContainer) {{\n",
       "    x.observe(notebookContainer, {childList: true});\n",
       "}}\n",
       "\n",
       "// Listen for the clearing of the current output cell\n",
       "var outputEl = gd.closest('.output');\n",
       "if (outputEl) {{\n",
       "    x.observe(outputEl, {childList: true});\n",
       "}}\n",
       "\n",
       "                        })\n",
       "                };\n",
       "                });\n",
       "            </script>\n",
       "        </div>"
      ]
     },
     "metadata": {},
     "output_type": "display_data"
    }
   ],
   "source": [
    "fig = px.scatter(Hill, x=\"Income\", y=\"White\", color=\"state\",\n",
    "                 size='votes')\n",
    "fig.show()"
   ]
  },
  {
   "cell_type": "code",
   "execution_count": 248,
   "metadata": {},
   "outputs": [
    {
     "data": {
      "text/html": [
       "<div>\n",
       "<style scoped>\n",
       "    .dataframe tbody tr th:only-of-type {\n",
       "        vertical-align: middle;\n",
       "    }\n",
       "\n",
       "    .dataframe tbody tr th {\n",
       "        vertical-align: top;\n",
       "    }\n",
       "\n",
       "    .dataframe thead th {\n",
       "        text-align: right;\n",
       "    }\n",
       "</style>\n",
       "<table border=\"1\" class=\"dataframe\">\n",
       "  <thead>\n",
       "    <tr style=\"text-align: right;\">\n",
       "      <th></th>\n",
       "      <th>candidate</th>\n",
       "      <th>state</th>\n",
       "      <th>party</th>\n",
       "      <th>votes</th>\n",
       "      <th>partyFrac</th>\n",
       "      <th>fips</th>\n",
       "      <th>area_name</th>\n",
       "      <th>Population</th>\n",
       "      <th>Black</th>\n",
       "      <th>Latino</th>\n",
       "      <th>White</th>\n",
       "      <th>HighSchool</th>\n",
       "      <th>Bachelors</th>\n",
       "      <th>Income</th>\n",
       "      <th>Kurang Mampu</th>\n",
       "      <th>Density</th>\n",
       "    </tr>\n",
       "  </thead>\n",
       "  <tbody>\n",
       "    <tr>\n",
       "      <td>0</td>\n",
       "      <td>Donald Trump</td>\n",
       "      <td>Alabama</td>\n",
       "      <td>Republican</td>\n",
       "      <td>371735</td>\n",
       "      <td>0.443793</td>\n",
       "      <td>1000</td>\n",
       "      <td>Alabama</td>\n",
       "      <td>4849377</td>\n",
       "      <td>26.7</td>\n",
       "      <td>4.1</td>\n",
       "      <td>66.2</td>\n",
       "      <td>83.1</td>\n",
       "      <td>22.6</td>\n",
       "      <td>43253</td>\n",
       "      <td>18.6</td>\n",
       "      <td>94.4</td>\n",
       "    </tr>\n",
       "    <tr>\n",
       "      <td>1</td>\n",
       "      <td>Donald Trump</td>\n",
       "      <td>Alaska</td>\n",
       "      <td>Republican</td>\n",
       "      <td>7346</td>\n",
       "      <td>0.334975</td>\n",
       "      <td>2000</td>\n",
       "      <td>Alaska</td>\n",
       "      <td>736732</td>\n",
       "      <td>3.9</td>\n",
       "      <td>6.8</td>\n",
       "      <td>61.9</td>\n",
       "      <td>91.6</td>\n",
       "      <td>27.5</td>\n",
       "      <td>70760</td>\n",
       "      <td>9.9</td>\n",
       "      <td>1.2</td>\n",
       "    </tr>\n",
       "    <tr>\n",
       "      <td>2</td>\n",
       "      <td>Donald Trump</td>\n",
       "      <td>Arizona</td>\n",
       "      <td>Republican</td>\n",
       "      <td>249916</td>\n",
       "      <td>0.574384</td>\n",
       "      <td>4000</td>\n",
       "      <td>Arizona</td>\n",
       "      <td>6731484</td>\n",
       "      <td>4.7</td>\n",
       "      <td>30.5</td>\n",
       "      <td>56.2</td>\n",
       "      <td>85.7</td>\n",
       "      <td>26.9</td>\n",
       "      <td>49774</td>\n",
       "      <td>17.9</td>\n",
       "      <td>56.3</td>\n",
       "    </tr>\n",
       "    <tr>\n",
       "      <td>3</td>\n",
       "      <td>Donald Trump</td>\n",
       "      <td>Arkansas</td>\n",
       "      <td>Republican</td>\n",
       "      <td>133144</td>\n",
       "      <td>0.335779</td>\n",
       "      <td>5000</td>\n",
       "      <td>Arkansas</td>\n",
       "      <td>2966369</td>\n",
       "      <td>15.6</td>\n",
       "      <td>7.0</td>\n",
       "      <td>73.4</td>\n",
       "      <td>83.7</td>\n",
       "      <td>20.1</td>\n",
       "      <td>40768</td>\n",
       "      <td>19.2</td>\n",
       "      <td>56.0</td>\n",
       "    </tr>\n",
       "    <tr>\n",
       "      <td>4</td>\n",
       "      <td>Donald Trump</td>\n",
       "      <td>California</td>\n",
       "      <td>Republican</td>\n",
       "      <td>1174829</td>\n",
       "      <td>0.785537</td>\n",
       "      <td>6000</td>\n",
       "      <td>California</td>\n",
       "      <td>38802500</td>\n",
       "      <td>6.5</td>\n",
       "      <td>38.6</td>\n",
       "      <td>38.5</td>\n",
       "      <td>81.2</td>\n",
       "      <td>30.7</td>\n",
       "      <td>61094</td>\n",
       "      <td>15.9</td>\n",
       "      <td>239.1</td>\n",
       "    </tr>\n",
       "  </tbody>\n",
       "</table>\n",
       "</div>"
      ],
      "text/plain": [
       "      candidate       state       party    votes  partyFrac  fips   area_name  \\\n",
       "0  Donald Trump     Alabama  Republican   371735   0.443793  1000     Alabama   \n",
       "1  Donald Trump      Alaska  Republican     7346   0.334975  2000      Alaska   \n",
       "2  Donald Trump     Arizona  Republican   249916   0.574384  4000     Arizona   \n",
       "3  Donald Trump    Arkansas  Republican   133144   0.335779  5000    Arkansas   \n",
       "4  Donald Trump  California  Republican  1174829   0.785537  6000  California   \n",
       "\n",
       "   Population  Black  Latino  White  HighSchool  Bachelors  Income  \\\n",
       "0     4849377   26.7     4.1   66.2        83.1       22.6   43253   \n",
       "1      736732    3.9     6.8   61.9        91.6       27.5   70760   \n",
       "2     6731484    4.7    30.5   56.2        85.7       26.9   49774   \n",
       "3     2966369   15.6     7.0   73.4        83.7       20.1   40768   \n",
       "4    38802500    6.5    38.6   38.5        81.2       30.7   61094   \n",
       "\n",
       "   Kurang Mampu  Density  \n",
       "0          18.6     94.4  \n",
       "1           9.9      1.2  \n",
       "2          17.9     56.3  \n",
       "3          19.2     56.0  \n",
       "4          15.9    239.1  "
      ]
     },
     "execution_count": 248,
     "metadata": {},
     "output_type": "execute_result"
    }
   ],
   "source": [
    "#Merging demographics and results\n",
    "allData = pd.merge(vbs, demographics, how=\"inner\", left_on = 'state',right_on = 'area_name')\n",
    "allData.drop('state_abbreviation',axis=1, inplace=True)\n",
    "allData.head()\n",
    "# #Segregate data candidate wise\n",
    "DNT = allData[(allData.candidate == \"Donald Trump\")] #| (allData.candidate != \"Donald Trump\")]\n",
    "DNT = DNT.reset_index();\n",
    "DNT.drop('index',axis=1, inplace=True)\n",
    "DNT.head()"
   ]
  },
  {
   "cell_type": "code",
   "execution_count": 264,
   "metadata": {},
   "outputs": [
    {
     "data": {
      "application/vnd.plotly.v1+json": {
       "config": {
        "plotlyServerURL": "https://plot.ly"
       },
       "data": [
        {
         "hoverlabel": {
          "namelength": 0
         },
         "hovertemplate": "state=Alabama<br>Income=%{x}<br>White=%{y}<br>votes=%{marker.size}",
         "legendgroup": "state=Alabama",
         "marker": {
          "color": "#636efa",
          "size": [
           371735
          ],
          "sizemode": "area",
          "sizeref": 2937.0725,
          "symbol": "circle"
         },
         "mode": "markers",
         "name": "state=Alabama",
         "showlegend": true,
         "type": "scatter",
         "x": [
          43253
         ],
         "xaxis": "x",
         "y": [
          66.2
         ],
         "yaxis": "y"
        },
        {
         "hoverlabel": {
          "namelength": 0
         },
         "hovertemplate": "state=Alaska<br>Income=%{x}<br>White=%{y}<br>votes=%{marker.size}",
         "legendgroup": "state=Alaska",
         "marker": {
          "color": "#EF553B",
          "size": [
           7346
          ],
          "sizemode": "area",
          "sizeref": 2937.0725,
          "symbol": "circle"
         },
         "mode": "markers",
         "name": "state=Alaska",
         "showlegend": true,
         "type": "scatter",
         "x": [
          70760
         ],
         "xaxis": "x",
         "y": [
          61.9
         ],
         "yaxis": "y"
        },
        {
         "hoverlabel": {
          "namelength": 0
         },
         "hovertemplate": "state=Arizona<br>Income=%{x}<br>White=%{y}<br>votes=%{marker.size}",
         "legendgroup": "state=Arizona",
         "marker": {
          "color": "#00cc96",
          "size": [
           249916
          ],
          "sizemode": "area",
          "sizeref": 2937.0725,
          "symbol": "circle"
         },
         "mode": "markers",
         "name": "state=Arizona",
         "showlegend": true,
         "type": "scatter",
         "x": [
          49774
         ],
         "xaxis": "x",
         "y": [
          56.2
         ],
         "yaxis": "y"
        },
        {
         "hoverlabel": {
          "namelength": 0
         },
         "hovertemplate": "state=Arkansas<br>Income=%{x}<br>White=%{y}<br>votes=%{marker.size}",
         "legendgroup": "state=Arkansas",
         "marker": {
          "color": "#ab63fa",
          "size": [
           133144
          ],
          "sizemode": "area",
          "sizeref": 2937.0725,
          "symbol": "circle"
         },
         "mode": "markers",
         "name": "state=Arkansas",
         "showlegend": true,
         "type": "scatter",
         "x": [
          40768
         ],
         "xaxis": "x",
         "y": [
          73.4
         ],
         "yaxis": "y"
        },
        {
         "hoverlabel": {
          "namelength": 0
         },
         "hovertemplate": "state=California<br>Income=%{x}<br>White=%{y}<br>votes=%{marker.size}",
         "legendgroup": "state=California",
         "marker": {
          "color": "#FFA15A",
          "size": [
           1174829
          ],
          "sizemode": "area",
          "sizeref": 2937.0725,
          "symbol": "circle"
         },
         "mode": "markers",
         "name": "state=California",
         "showlegend": true,
         "type": "scatter",
         "x": [
          61094
         ],
         "xaxis": "x",
         "y": [
          38.5
         ],
         "yaxis": "y"
        },
        {
         "hoverlabel": {
          "namelength": 0
         },
         "hovertemplate": "state=Connecticut<br>Income=%{x}<br>White=%{y}<br>votes=%{marker.size}",
         "legendgroup": "state=Connecticut",
         "marker": {
          "color": "#19d3f3",
          "size": [
           123367
          ],
          "sizemode": "area",
          "sizeref": 2937.0725,
          "symbol": "circle"
         },
         "mode": "markers",
         "name": "state=Connecticut",
         "showlegend": true,
         "type": "scatter",
         "x": [
          69461
         ],
         "xaxis": "x",
         "y": [
          68.8
         ],
         "yaxis": "y"
        },
        {
         "hoverlabel": {
          "namelength": 0
         },
         "hovertemplate": "state=Delaware<br>Income=%{x}<br>White=%{y}<br>votes=%{marker.size}",
         "legendgroup": "state=Delaware",
         "marker": {
          "color": "#FF6692",
          "size": [
           42472
          ],
          "sizemode": "area",
          "sizeref": 2937.0725,
          "symbol": "circle"
         },
         "mode": "markers",
         "name": "state=Delaware",
         "showlegend": true,
         "type": "scatter",
         "x": [
          59878
         ],
         "xaxis": "x",
         "y": [
          63.7
         ],
         "yaxis": "y"
        },
        {
         "hoverlabel": {
          "namelength": 0
         },
         "hovertemplate": "state=Florida<br>Income=%{x}<br>White=%{y}<br>votes=%{marker.size}",
         "legendgroup": "state=Florida",
         "marker": {
          "color": "#B6E880",
          "size": [
           1077221
          ],
          "sizemode": "area",
          "sizeref": 2937.0725,
          "symbol": "circle"
         },
         "mode": "markers",
         "name": "state=Florida",
         "showlegend": true,
         "type": "scatter",
         "x": [
          46956
         ],
         "xaxis": "x",
         "y": [
          55.8
         ],
         "yaxis": "y"
        },
        {
         "hoverlabel": {
          "namelength": 0
         },
         "hovertemplate": "state=Georgia<br>Income=%{x}<br>White=%{y}<br>votes=%{marker.size}",
         "legendgroup": "state=Georgia",
         "marker": {
          "color": "#FF97FF",
          "size": [
           501707
          ],
          "sizemode": "area",
          "sizeref": 2937.0725,
          "symbol": "circle"
         },
         "mode": "markers",
         "name": "state=Georgia",
         "showlegend": true,
         "type": "scatter",
         "x": [
          49179
         ],
         "xaxis": "x",
         "y": [
          54.3
         ],
         "yaxis": "y"
        },
        {
         "hoverlabel": {
          "namelength": 0
         },
         "hovertemplate": "state=Hawaii<br>Income=%{x}<br>White=%{y}<br>votes=%{marker.size}",
         "legendgroup": "state=Hawaii",
         "marker": {
          "color": "#FECB52",
          "size": [
           5677
          ],
          "sizemode": "area",
          "sizeref": 2937.0725,
          "symbol": "circle"
         },
         "mode": "markers",
         "name": "state=Hawaii",
         "showlegend": true,
         "type": "scatter",
         "x": [
          67402
         ],
         "xaxis": "x",
         "y": [
          23
         ],
         "yaxis": "y"
        },
        {
         "hoverlabel": {
          "namelength": 0
         },
         "hovertemplate": "state=Idaho<br>Income=%{x}<br>White=%{y}<br>votes=%{marker.size}",
         "legendgroup": "state=Idaho",
         "marker": {
          "color": "#636efa",
          "size": [
           62478
          ],
          "sizemode": "area",
          "sizeref": 2937.0725,
          "symbol": "circle"
         },
         "mode": "markers",
         "name": "state=Idaho",
         "showlegend": true,
         "type": "scatter",
         "x": [
          46767
         ],
         "xaxis": "x",
         "y": [
          82.8
         ],
         "yaxis": "y"
        },
        {
         "hoverlabel": {
          "namelength": 0
         },
         "hovertemplate": "state=Illinois<br>Income=%{x}<br>White=%{y}<br>votes=%{marker.size}",
         "legendgroup": "state=Illinois",
         "marker": {
          "color": "#EF553B",
          "size": [
           551464
          ],
          "sizemode": "area",
          "sizeref": 2937.0725,
          "symbol": "circle"
         },
         "mode": "markers",
         "name": "state=Illinois",
         "showlegend": true,
         "type": "scatter",
         "x": [
          56797
         ],
         "xaxis": "x",
         "y": [
          62.3
         ],
         "yaxis": "y"
        },
        {
         "hoverlabel": {
          "namelength": 0
         },
         "hovertemplate": "state=Indiana<br>Income=%{x}<br>White=%{y}<br>votes=%{marker.size}",
         "legendgroup": "state=Indiana",
         "marker": {
          "color": "#00cc96",
          "size": [
           590460
          ],
          "sizemode": "area",
          "sizeref": 2937.0725,
          "symbol": "circle"
         },
         "mode": "markers",
         "name": "state=Indiana",
         "showlegend": true,
         "type": "scatter",
         "x": [
          48248
         ],
         "xaxis": "x",
         "y": [
          80.3
         ],
         "yaxis": "y"
        },
        {
         "hoverlabel": {
          "namelength": 0
         },
         "hovertemplate": "state=Iowa<br>Income=%{x}<br>White=%{y}<br>votes=%{marker.size}",
         "legendgroup": "state=Iowa",
         "marker": {
          "color": "#ab63fa",
          "size": [
           45419
          ],
          "sizemode": "area",
          "sizeref": 2937.0725,
          "symbol": "circle"
         },
         "mode": "markers",
         "name": "state=Iowa",
         "showlegend": true,
         "type": "scatter",
         "x": [
          51843
         ],
         "xaxis": "x",
         "y": [
          87.1
         ],
         "yaxis": "y"
        },
        {
         "hoverlabel": {
          "namelength": 0
         },
         "hovertemplate": "state=Kansas<br>Income=%{x}<br>White=%{y}<br>votes=%{marker.size}",
         "legendgroup": "state=Kansas",
         "marker": {
          "color": "#FFA15A",
          "size": [
           17062
          ],
          "sizemode": "area",
          "sizeref": 2937.0725,
          "symbol": "circle"
         },
         "mode": "markers",
         "name": "state=Kansas",
         "showlegend": true,
         "type": "scatter",
         "x": [
          51332
         ],
         "xaxis": "x",
         "y": [
          76.8
         ],
         "yaxis": "y"
        },
        {
         "hoverlabel": {
          "namelength": 0
         },
         "hovertemplate": "state=Kentucky<br>Income=%{x}<br>White=%{y}<br>votes=%{marker.size}",
         "legendgroup": "state=Kentucky",
         "marker": {
          "color": "#19d3f3",
          "size": [
           82493
          ],
          "sizemode": "area",
          "sizeref": 2937.0725,
          "symbol": "circle"
         },
         "mode": "markers",
         "name": "state=Kentucky",
         "showlegend": true,
         "type": "scatter",
         "x": [
          43036
         ],
         "xaxis": "x",
         "y": [
          85.4
         ],
         "yaxis": "y"
        },
        {
         "hoverlabel": {
          "namelength": 0
         },
         "hovertemplate": "state=Louisiana<br>Income=%{x}<br>White=%{y}<br>votes=%{marker.size}",
         "legendgroup": "state=Louisiana",
         "marker": {
          "color": "#FF6692",
          "size": [
           124818
          ],
          "sizemode": "area",
          "sizeref": 2937.0725,
          "symbol": "circle"
         },
         "mode": "markers",
         "name": "state=Louisiana",
         "showlegend": true,
         "type": "scatter",
         "x": [
          44874
         ],
         "xaxis": "x",
         "y": [
          59.3
         ],
         "yaxis": "y"
        },
        {
         "hoverlabel": {
          "namelength": 0
         },
         "hovertemplate": "state=Maryland<br>Income=%{x}<br>White=%{y}<br>votes=%{marker.size}",
         "legendgroup": "state=Maryland",
         "marker": {
          "color": "#B6E880",
          "size": [
           236623
          ],
          "sizemode": "area",
          "sizeref": 2937.0725,
          "symbol": "circle"
         },
         "mode": "markers",
         "name": "state=Maryland",
         "showlegend": true,
         "type": "scatter",
         "x": [
          73538
         ],
         "xaxis": "x",
         "y": [
          52.6
         ],
         "yaxis": "y"
        },
        {
         "hoverlabel": {
          "namelength": 0
         },
         "hovertemplate": "state=Massachusetts<br>Income=%{x}<br>White=%{y}<br>votes=%{marker.size}",
         "legendgroup": "state=Massachusetts",
         "marker": {
          "color": "#FF97FF",
          "size": [
           311313
          ],
          "sizemode": "area",
          "sizeref": 2937.0725,
          "symbol": "circle"
         },
         "mode": "markers",
         "name": "state=Massachusetts",
         "showlegend": true,
         "type": "scatter",
         "x": [
          66866
         ],
         "xaxis": "x",
         "y": [
          74.3
         ],
         "yaxis": "y"
        },
        {
         "hoverlabel": {
          "namelength": 0
         },
         "hovertemplate": "state=Michigan<br>Income=%{x}<br>White=%{y}<br>votes=%{marker.size}",
         "legendgroup": "state=Michigan",
         "marker": {
          "color": "#FECB52",
          "size": [
           483751
          ],
          "sizemode": "area",
          "sizeref": 2937.0725,
          "symbol": "circle"
         },
         "mode": "markers",
         "name": "state=Michigan",
         "showlegend": true,
         "type": "scatter",
         "x": [
          48411
         ],
         "xaxis": "x",
         "y": [
          75.8
         ],
         "yaxis": "y"
        },
        {
         "hoverlabel": {
          "namelength": 0
         },
         "hovertemplate": "state=Mississippi<br>Income=%{x}<br>White=%{y}<br>votes=%{marker.size}",
         "legendgroup": "state=Mississippi",
         "marker": {
          "color": "#636efa",
          "size": [
           191755
          ],
          "sizemode": "area",
          "sizeref": 2937.0725,
          "symbol": "circle"
         },
         "mode": "markers",
         "name": "state=Mississippi",
         "showlegend": true,
         "type": "scatter",
         "x": [
          39031
         ],
         "xaxis": "x",
         "y": [
          57.3
         ],
         "yaxis": "y"
        },
        {
         "hoverlabel": {
          "namelength": 0
         },
         "hovertemplate": "state=Missouri<br>Income=%{x}<br>White=%{y}<br>votes=%{marker.size}",
         "legendgroup": "state=Missouri",
         "marker": {
          "color": "#EF553B",
          "size": [
           382093
          ],
          "sizemode": "area",
          "sizeref": 2937.0725,
          "symbol": "circle"
         },
         "mode": "markers",
         "name": "state=Missouri",
         "showlegend": true,
         "type": "scatter",
         "x": [
          47380
         ],
         "xaxis": "x",
         "y": [
          80.1
         ],
         "yaxis": "y"
        },
        {
         "hoverlabel": {
          "namelength": 0
         },
         "hovertemplate": "state=Montana<br>Income=%{x}<br>White=%{y}<br>votes=%{marker.size}",
         "legendgroup": "state=Montana",
         "marker": {
          "color": "#00cc96",
          "size": [
           114056
          ],
          "sizemode": "area",
          "sizeref": 2937.0725,
          "symbol": "circle"
         },
         "mode": "markers",
         "name": "state=Montana",
         "showlegend": true,
         "type": "scatter",
         "x": [
          46230
         ],
         "xaxis": "x",
         "y": [
          86.7
         ],
         "yaxis": "y"
        },
        {
         "hoverlabel": {
          "namelength": 0
         },
         "hovertemplate": "state=Nebraska<br>Income=%{x}<br>White=%{y}<br>votes=%{marker.size}",
         "legendgroup": "state=Nebraska",
         "marker": {
          "color": "#ab63fa",
          "size": [
           121287
          ],
          "sizemode": "area",
          "sizeref": 2937.0725,
          "symbol": "circle"
         },
         "mode": "markers",
         "name": "state=Nebraska",
         "showlegend": true,
         "type": "scatter",
         "x": [
          51672
         ],
         "xaxis": "x",
         "y": [
          80.5
         ],
         "yaxis": "y"
        },
        {
         "hoverlabel": {
          "namelength": 0
         },
         "hovertemplate": "state=Nevada<br>Income=%{x}<br>White=%{y}<br>votes=%{marker.size}",
         "legendgroup": "state=Nevada",
         "marker": {
          "color": "#FFA15A",
          "size": [
           34531
          ],
          "sizemode": "area",
          "sizeref": 2937.0725,
          "symbol": "circle"
         },
         "mode": "markers",
         "name": "state=Nevada",
         "showlegend": true,
         "type": "scatter",
         "x": [
          52800
         ],
         "xaxis": "x",
         "y": [
          51.5
         ],
         "yaxis": "y"
        },
        {
         "hoverlabel": {
          "namelength": 0
         },
         "hovertemplate": "state=New Hampshire<br>Income=%{x}<br>White=%{y}<br>votes=%{marker.size}",
         "legendgroup": "state=New Hampshire",
         "marker": {
          "color": "#19d3f3",
          "size": [
           100406
          ],
          "sizemode": "area",
          "sizeref": 2937.0725,
          "symbol": "circle"
         },
         "mode": "markers",
         "name": "state=New Hampshire",
         "showlegend": true,
         "type": "scatter",
         "x": [
          64916
         ],
         "xaxis": "x",
         "y": [
          91.3
         ],
         "yaxis": "y"
        },
        {
         "hoverlabel": {
          "namelength": 0
         },
         "hovertemplate": "state=New Jersey<br>Income=%{x}<br>White=%{y}<br>votes=%{marker.size}",
         "legendgroup": "state=New Jersey",
         "marker": {
          "color": "#FF6692",
          "size": [
           356697
          ],
          "sizemode": "area",
          "sizeref": 2937.0725,
          "symbol": "circle"
         },
         "mode": "markers",
         "name": "state=New Jersey",
         "showlegend": true,
         "type": "scatter",
         "x": [
          71629
         ],
         "xaxis": "x",
         "y": [
          56.8
         ],
         "yaxis": "y"
        },
        {
         "hoverlabel": {
          "namelength": 0
         },
         "hovertemplate": "state=New Mexico<br>Income=%{x}<br>White=%{y}<br>votes=%{marker.size}",
         "legendgroup": "state=New Mexico",
         "marker": {
          "color": "#B6E880",
          "size": [
           73530
          ],
          "sizemode": "area",
          "sizeref": 2937.0725,
          "symbol": "circle"
         },
         "mode": "markers",
         "name": "state=New Mexico",
         "showlegend": true,
         "type": "scatter",
         "x": [
          44927
         ],
         "xaxis": "x",
         "y": [
          38.9
         ],
         "yaxis": "y"
        },
        {
         "hoverlabel": {
          "namelength": 0
         },
         "hovertemplate": "state=New York<br>Income=%{x}<br>White=%{y}<br>votes=%{marker.size}",
         "legendgroup": "state=New York",
         "marker": {
          "color": "#FF97FF",
          "size": [
           524932
          ],
          "sizemode": "area",
          "sizeref": 2937.0725,
          "symbol": "circle"
         },
         "mode": "markers",
         "name": "state=New York",
         "showlegend": true,
         "type": "scatter",
         "x": [
          58003
         ],
         "xaxis": "x",
         "y": [
          56.5
         ],
         "yaxis": "y"
        },
        {
         "hoverlabel": {
          "namelength": 0
         },
         "hovertemplate": "state=North Carolina<br>Income=%{x}<br>White=%{y}<br>votes=%{marker.size}",
         "legendgroup": "state=North Carolina",
         "marker": {
          "color": "#FECB52",
          "size": [
           458151
          ],
          "sizemode": "area",
          "sizeref": 2937.0725,
          "symbol": "circle"
         },
         "mode": "markers",
         "name": "state=North Carolina",
         "showlegend": true,
         "type": "scatter",
         "x": [
          46334
         ],
         "xaxis": "x",
         "y": [
          64.1
         ],
         "yaxis": "y"
        },
        {
         "hoverlabel": {
          "namelength": 0
         },
         "hovertemplate": "state=Ohio<br>Income=%{x}<br>White=%{y}<br>votes=%{marker.size}",
         "legendgroup": "state=Ohio",
         "marker": {
          "color": "#636efa",
          "size": [
           727585
          ],
          "sizemode": "area",
          "sizeref": 2937.0725,
          "symbol": "circle"
         },
         "mode": "markers",
         "name": "state=Ohio",
         "showlegend": true,
         "type": "scatter",
         "x": [
          48308
         ],
         "xaxis": "x",
         "y": [
          80.1
         ],
         "yaxis": "y"
        },
        {
         "hoverlabel": {
          "namelength": 0
         },
         "hovertemplate": "state=Oklahoma<br>Income=%{x}<br>White=%{y}<br>votes=%{marker.size}",
         "legendgroup": "state=Oklahoma",
         "marker": {
          "color": "#EF553B",
          "size": [
           130141
          ],
          "sizemode": "area",
          "sizeref": 2937.0725,
          "symbol": "circle"
         },
         "mode": "markers",
         "name": "state=Oklahoma",
         "showlegend": true,
         "type": "scatter",
         "x": [
          45339
         ],
         "xaxis": "x",
         "y": [
          67
         ],
         "yaxis": "y"
        },
        {
         "hoverlabel": {
          "namelength": 0
         },
         "hovertemplate": "state=Oregon<br>Income=%{x}<br>White=%{y}<br>votes=%{marker.size}",
         "legendgroup": "state=Oregon",
         "marker": {
          "color": "#00cc96",
          "size": [
           240804
          ],
          "sizemode": "area",
          "sizeref": 2937.0725,
          "symbol": "circle"
         },
         "mode": "markers",
         "name": "state=Oregon",
         "showlegend": true,
         "type": "scatter",
         "x": [
          50229
         ],
         "xaxis": "x",
         "y": [
          77
         ],
         "yaxis": "y"
        },
        {
         "hoverlabel": {
          "namelength": 0
         },
         "hovertemplate": "state=Pennsylvania<br>Income=%{x}<br>White=%{y}<br>votes=%{marker.size}",
         "legendgroup": "state=Pennsylvania",
         "marker": {
          "color": "#ab63fa",
          "size": [
           892702
          ],
          "sizemode": "area",
          "sizeref": 2937.0725,
          "symbol": "circle"
         },
         "mode": "markers",
         "name": "state=Pennsylvania",
         "showlegend": true,
         "type": "scatter",
         "x": [
          52548
         ],
         "xaxis": "x",
         "y": [
          77.9
         ],
         "yaxis": "y"
        },
        {
         "hoverlabel": {
          "namelength": 0
         },
         "hovertemplate": "state=Rhode Island<br>Income=%{x}<br>White=%{y}<br>votes=%{marker.size}",
         "legendgroup": "state=Rhode Island",
         "marker": {
          "color": "#FFA15A",
          "size": [
           39059
          ],
          "sizemode": "area",
          "sizeref": 2937.0725,
          "symbol": "circle"
         },
         "mode": "markers",
         "name": "state=Rhode Island",
         "showlegend": true,
         "type": "scatter",
         "x": [
          56361
         ],
         "xaxis": "x",
         "y": [
          74.5
         ],
         "yaxis": "y"
        },
        {
         "hoverlabel": {
          "namelength": 0
         },
         "hovertemplate": "state=South Carolina<br>Income=%{x}<br>White=%{y}<br>votes=%{marker.size}",
         "legendgroup": "state=South Carolina",
         "marker": {
          "color": "#19d3f3",
          "size": [
           239851
          ],
          "sizemode": "area",
          "sizeref": 2937.0725,
          "symbol": "circle"
         },
         "mode": "markers",
         "name": "state=South Carolina",
         "showlegend": true,
         "type": "scatter",
         "x": [
          44779
         ],
         "xaxis": "x",
         "y": [
          63.9
         ],
         "yaxis": "y"
        },
        {
         "hoverlabel": {
          "namelength": 0
         },
         "hovertemplate": "state=South Dakota<br>Income=%{x}<br>White=%{y}<br>votes=%{marker.size}",
         "legendgroup": "state=South Dakota",
         "marker": {
          "color": "#FF6692",
          "size": [
           44866
          ],
          "sizemode": "area",
          "sizeref": 2937.0725,
          "symbol": "circle"
         },
         "mode": "markers",
         "name": "state=South Dakota",
         "showlegend": true,
         "type": "scatter",
         "x": [
          49495
         ],
         "xaxis": "x",
         "y": [
          83
         ],
         "yaxis": "y"
        },
        {
         "hoverlabel": {
          "namelength": 0
         },
         "hovertemplate": "state=Tennessee<br>Income=%{x}<br>White=%{y}<br>votes=%{marker.size}",
         "legendgroup": "state=Tennessee",
         "marker": {
          "color": "#B6E880",
          "size": [
           332702
          ],
          "sizemode": "area",
          "sizeref": 2937.0725,
          "symbol": "circle"
         },
         "mode": "markers",
         "name": "state=Tennessee",
         "showlegend": true,
         "type": "scatter",
         "x": [
          44298
         ],
         "xaxis": "x",
         "y": [
          74.6
         ],
         "yaxis": "y"
        },
        {
         "hoverlabel": {
          "namelength": 0
         },
         "hovertemplate": "state=Texas<br>Income=%{x}<br>White=%{y}<br>votes=%{marker.size}",
         "legendgroup": "state=Texas",
         "marker": {
          "color": "#FF97FF",
          "size": [
           757618
          ],
          "sizemode": "area",
          "sizeref": 2937.0725,
          "symbol": "circle"
         },
         "mode": "markers",
         "name": "state=Texas",
         "showlegend": true,
         "type": "scatter",
         "x": [
          51900
         ],
         "xaxis": "x",
         "y": [
          43.5
         ],
         "yaxis": "y"
        },
        {
         "hoverlabel": {
          "namelength": 0
         },
         "hovertemplate": "state=Utah<br>Income=%{x}<br>White=%{y}<br>votes=%{marker.size}",
         "legendgroup": "state=Utah",
         "marker": {
          "color": "#FECB52",
          "size": [
           24864
          ],
          "sizemode": "area",
          "sizeref": 2937.0725,
          "symbol": "circle"
         },
         "mode": "markers",
         "name": "state=Utah",
         "showlegend": true,
         "type": "scatter",
         "x": [
          58821
         ],
         "xaxis": "x",
         "y": [
          79.3
         ],
         "yaxis": "y"
        },
        {
         "hoverlabel": {
          "namelength": 0
         },
         "hovertemplate": "state=Vermont<br>Income=%{x}<br>White=%{y}<br>votes=%{marker.size}",
         "legendgroup": "state=Vermont",
         "marker": {
          "color": "#636efa",
          "size": [
           19968
          ],
          "sizemode": "area",
          "sizeref": 2937.0725,
          "symbol": "circle"
         },
         "mode": "markers",
         "name": "state=Vermont",
         "showlegend": true,
         "type": "scatter",
         "x": [
          54267
         ],
         "xaxis": "x",
         "y": [
          93.5
         ],
         "yaxis": "y"
        },
        {
         "hoverlabel": {
          "namelength": 0
         },
         "hovertemplate": "state=Virginia<br>Income=%{x}<br>White=%{y}<br>votes=%{marker.size}",
         "legendgroup": "state=Virginia",
         "marker": {
          "color": "#EF553B",
          "size": [
           355960
          ],
          "sizemode": "area",
          "sizeref": 2937.0725,
          "symbol": "circle"
         },
         "mode": "markers",
         "name": "state=Virginia",
         "showlegend": true,
         "type": "scatter",
         "x": [
          63907
         ],
         "xaxis": "x",
         "y": [
          63.1
         ],
         "yaxis": "y"
        },
        {
         "hoverlabel": {
          "namelength": 0
         },
         "hovertemplate": "state=Washington<br>Income=%{x}<br>White=%{y}<br>votes=%{marker.size}",
         "legendgroup": "state=Washington",
         "marker": {
          "color": "#00cc96",
          "size": [
           403003
          ],
          "sizemode": "area",
          "sizeref": 2937.0725,
          "symbol": "circle"
         },
         "mode": "markers",
         "name": "state=Washington",
         "showlegend": true,
         "type": "scatter",
         "x": [
          59478
         ],
         "xaxis": "x",
         "y": [
          70.4
         ],
         "yaxis": "y"
        },
        {
         "hoverlabel": {
          "namelength": 0
         },
         "hovertemplate": "state=West Virginia<br>Income=%{x}<br>White=%{y}<br>votes=%{marker.size}",
         "legendgroup": "state=West Virginia",
         "marker": {
          "color": "#ab63fa",
          "size": [
           156245
          ],
          "sizemode": "area",
          "sizeref": 2937.0725,
          "symbol": "circle"
         },
         "mode": "markers",
         "name": "state=West Virginia",
         "showlegend": true,
         "type": "scatter",
         "x": [
          41043
         ],
         "xaxis": "x",
         "y": [
          92.5
         ],
         "yaxis": "y"
        },
        {
         "hoverlabel": {
          "namelength": 0
         },
         "hovertemplate": "state=Wisconsin<br>Income=%{x}<br>White=%{y}<br>votes=%{marker.size}",
         "legendgroup": "state=Wisconsin",
         "marker": {
          "color": "#FFA15A",
          "size": [
           386370
          ],
          "sizemode": "area",
          "sizeref": 2937.0725,
          "symbol": "circle"
         },
         "mode": "markers",
         "name": "state=Wisconsin",
         "showlegend": true,
         "type": "scatter",
         "x": [
          52413
         ],
         "xaxis": "x",
         "y": [
          82.2
         ],
         "yaxis": "y"
        },
        {
         "hoverlabel": {
          "namelength": 0
         },
         "hovertemplate": "state=Wyoming<br>Income=%{x}<br>White=%{y}<br>votes=%{marker.size}",
         "legendgroup": "state=Wyoming",
         "marker": {
          "color": "#19d3f3",
          "size": [
           70
          ],
          "sizemode": "area",
          "sizeref": 2937.0725,
          "symbol": "circle"
         },
         "mode": "markers",
         "name": "state=Wyoming",
         "showlegend": true,
         "type": "scatter",
         "x": [
          57406
         ],
         "xaxis": "x",
         "y": [
          84.1
         ],
         "yaxis": "y"
        }
       ],
       "layout": {
        "legend": {
         "itemsizing": "constant",
         "tracegroupgap": 0
        },
        "margin": {
         "t": 60
        },
        "template": {
         "data": {
          "bar": [
           {
            "error_x": {
             "color": "#2a3f5f"
            },
            "error_y": {
             "color": "#2a3f5f"
            },
            "marker": {
             "line": {
              "color": "#E5ECF6",
              "width": 0.5
             }
            },
            "type": "bar"
           }
          ],
          "barpolar": [
           {
            "marker": {
             "line": {
              "color": "#E5ECF6",
              "width": 0.5
             }
            },
            "type": "barpolar"
           }
          ],
          "carpet": [
           {
            "aaxis": {
             "endlinecolor": "#2a3f5f",
             "gridcolor": "white",
             "linecolor": "white",
             "minorgridcolor": "white",
             "startlinecolor": "#2a3f5f"
            },
            "baxis": {
             "endlinecolor": "#2a3f5f",
             "gridcolor": "white",
             "linecolor": "white",
             "minorgridcolor": "white",
             "startlinecolor": "#2a3f5f"
            },
            "type": "carpet"
           }
          ],
          "choropleth": [
           {
            "colorbar": {
             "outlinewidth": 0,
             "ticks": ""
            },
            "type": "choropleth"
           }
          ],
          "contour": [
           {
            "colorbar": {
             "outlinewidth": 0,
             "ticks": ""
            },
            "colorscale": [
             [
              0,
              "#0d0887"
             ],
             [
              0.1111111111111111,
              "#46039f"
             ],
             [
              0.2222222222222222,
              "#7201a8"
             ],
             [
              0.3333333333333333,
              "#9c179e"
             ],
             [
              0.4444444444444444,
              "#bd3786"
             ],
             [
              0.5555555555555556,
              "#d8576b"
             ],
             [
              0.6666666666666666,
              "#ed7953"
             ],
             [
              0.7777777777777778,
              "#fb9f3a"
             ],
             [
              0.8888888888888888,
              "#fdca26"
             ],
             [
              1,
              "#f0f921"
             ]
            ],
            "type": "contour"
           }
          ],
          "contourcarpet": [
           {
            "colorbar": {
             "outlinewidth": 0,
             "ticks": ""
            },
            "type": "contourcarpet"
           }
          ],
          "heatmap": [
           {
            "colorbar": {
             "outlinewidth": 0,
             "ticks": ""
            },
            "colorscale": [
             [
              0,
              "#0d0887"
             ],
             [
              0.1111111111111111,
              "#46039f"
             ],
             [
              0.2222222222222222,
              "#7201a8"
             ],
             [
              0.3333333333333333,
              "#9c179e"
             ],
             [
              0.4444444444444444,
              "#bd3786"
             ],
             [
              0.5555555555555556,
              "#d8576b"
             ],
             [
              0.6666666666666666,
              "#ed7953"
             ],
             [
              0.7777777777777778,
              "#fb9f3a"
             ],
             [
              0.8888888888888888,
              "#fdca26"
             ],
             [
              1,
              "#f0f921"
             ]
            ],
            "type": "heatmap"
           }
          ],
          "heatmapgl": [
           {
            "colorbar": {
             "outlinewidth": 0,
             "ticks": ""
            },
            "colorscale": [
             [
              0,
              "#0d0887"
             ],
             [
              0.1111111111111111,
              "#46039f"
             ],
             [
              0.2222222222222222,
              "#7201a8"
             ],
             [
              0.3333333333333333,
              "#9c179e"
             ],
             [
              0.4444444444444444,
              "#bd3786"
             ],
             [
              0.5555555555555556,
              "#d8576b"
             ],
             [
              0.6666666666666666,
              "#ed7953"
             ],
             [
              0.7777777777777778,
              "#fb9f3a"
             ],
             [
              0.8888888888888888,
              "#fdca26"
             ],
             [
              1,
              "#f0f921"
             ]
            ],
            "type": "heatmapgl"
           }
          ],
          "histogram": [
           {
            "marker": {
             "colorbar": {
              "outlinewidth": 0,
              "ticks": ""
             }
            },
            "type": "histogram"
           }
          ],
          "histogram2d": [
           {
            "colorbar": {
             "outlinewidth": 0,
             "ticks": ""
            },
            "colorscale": [
             [
              0,
              "#0d0887"
             ],
             [
              0.1111111111111111,
              "#46039f"
             ],
             [
              0.2222222222222222,
              "#7201a8"
             ],
             [
              0.3333333333333333,
              "#9c179e"
             ],
             [
              0.4444444444444444,
              "#bd3786"
             ],
             [
              0.5555555555555556,
              "#d8576b"
             ],
             [
              0.6666666666666666,
              "#ed7953"
             ],
             [
              0.7777777777777778,
              "#fb9f3a"
             ],
             [
              0.8888888888888888,
              "#fdca26"
             ],
             [
              1,
              "#f0f921"
             ]
            ],
            "type": "histogram2d"
           }
          ],
          "histogram2dcontour": [
           {
            "colorbar": {
             "outlinewidth": 0,
             "ticks": ""
            },
            "colorscale": [
             [
              0,
              "#0d0887"
             ],
             [
              0.1111111111111111,
              "#46039f"
             ],
             [
              0.2222222222222222,
              "#7201a8"
             ],
             [
              0.3333333333333333,
              "#9c179e"
             ],
             [
              0.4444444444444444,
              "#bd3786"
             ],
             [
              0.5555555555555556,
              "#d8576b"
             ],
             [
              0.6666666666666666,
              "#ed7953"
             ],
             [
              0.7777777777777778,
              "#fb9f3a"
             ],
             [
              0.8888888888888888,
              "#fdca26"
             ],
             [
              1,
              "#f0f921"
             ]
            ],
            "type": "histogram2dcontour"
           }
          ],
          "mesh3d": [
           {
            "colorbar": {
             "outlinewidth": 0,
             "ticks": ""
            },
            "type": "mesh3d"
           }
          ],
          "parcoords": [
           {
            "line": {
             "colorbar": {
              "outlinewidth": 0,
              "ticks": ""
             }
            },
            "type": "parcoords"
           }
          ],
          "pie": [
           {
            "automargin": true,
            "type": "pie"
           }
          ],
          "scatter": [
           {
            "marker": {
             "colorbar": {
              "outlinewidth": 0,
              "ticks": ""
             }
            },
            "type": "scatter"
           }
          ],
          "scatter3d": [
           {
            "line": {
             "colorbar": {
              "outlinewidth": 0,
              "ticks": ""
             }
            },
            "marker": {
             "colorbar": {
              "outlinewidth": 0,
              "ticks": ""
             }
            },
            "type": "scatter3d"
           }
          ],
          "scattercarpet": [
           {
            "marker": {
             "colorbar": {
              "outlinewidth": 0,
              "ticks": ""
             }
            },
            "type": "scattercarpet"
           }
          ],
          "scattergeo": [
           {
            "marker": {
             "colorbar": {
              "outlinewidth": 0,
              "ticks": ""
             }
            },
            "type": "scattergeo"
           }
          ],
          "scattergl": [
           {
            "marker": {
             "colorbar": {
              "outlinewidth": 0,
              "ticks": ""
             }
            },
            "type": "scattergl"
           }
          ],
          "scattermapbox": [
           {
            "marker": {
             "colorbar": {
              "outlinewidth": 0,
              "ticks": ""
             }
            },
            "type": "scattermapbox"
           }
          ],
          "scatterpolar": [
           {
            "marker": {
             "colorbar": {
              "outlinewidth": 0,
              "ticks": ""
             }
            },
            "type": "scatterpolar"
           }
          ],
          "scatterpolargl": [
           {
            "marker": {
             "colorbar": {
              "outlinewidth": 0,
              "ticks": ""
             }
            },
            "type": "scatterpolargl"
           }
          ],
          "scatterternary": [
           {
            "marker": {
             "colorbar": {
              "outlinewidth": 0,
              "ticks": ""
             }
            },
            "type": "scatterternary"
           }
          ],
          "surface": [
           {
            "colorbar": {
             "outlinewidth": 0,
             "ticks": ""
            },
            "colorscale": [
             [
              0,
              "#0d0887"
             ],
             [
              0.1111111111111111,
              "#46039f"
             ],
             [
              0.2222222222222222,
              "#7201a8"
             ],
             [
              0.3333333333333333,
              "#9c179e"
             ],
             [
              0.4444444444444444,
              "#bd3786"
             ],
             [
              0.5555555555555556,
              "#d8576b"
             ],
             [
              0.6666666666666666,
              "#ed7953"
             ],
             [
              0.7777777777777778,
              "#fb9f3a"
             ],
             [
              0.8888888888888888,
              "#fdca26"
             ],
             [
              1,
              "#f0f921"
             ]
            ],
            "type": "surface"
           }
          ],
          "table": [
           {
            "cells": {
             "fill": {
              "color": "#EBF0F8"
             },
             "line": {
              "color": "white"
             }
            },
            "header": {
             "fill": {
              "color": "#C8D4E3"
             },
             "line": {
              "color": "white"
             }
            },
            "type": "table"
           }
          ]
         },
         "layout": {
          "annotationdefaults": {
           "arrowcolor": "#2a3f5f",
           "arrowhead": 0,
           "arrowwidth": 1
          },
          "coloraxis": {
           "colorbar": {
            "outlinewidth": 0,
            "ticks": ""
           }
          },
          "colorscale": {
           "diverging": [
            [
             0,
             "#8e0152"
            ],
            [
             0.1,
             "#c51b7d"
            ],
            [
             0.2,
             "#de77ae"
            ],
            [
             0.3,
             "#f1b6da"
            ],
            [
             0.4,
             "#fde0ef"
            ],
            [
             0.5,
             "#f7f7f7"
            ],
            [
             0.6,
             "#e6f5d0"
            ],
            [
             0.7,
             "#b8e186"
            ],
            [
             0.8,
             "#7fbc41"
            ],
            [
             0.9,
             "#4d9221"
            ],
            [
             1,
             "#276419"
            ]
           ],
           "sequential": [
            [
             0,
             "#0d0887"
            ],
            [
             0.1111111111111111,
             "#46039f"
            ],
            [
             0.2222222222222222,
             "#7201a8"
            ],
            [
             0.3333333333333333,
             "#9c179e"
            ],
            [
             0.4444444444444444,
             "#bd3786"
            ],
            [
             0.5555555555555556,
             "#d8576b"
            ],
            [
             0.6666666666666666,
             "#ed7953"
            ],
            [
             0.7777777777777778,
             "#fb9f3a"
            ],
            [
             0.8888888888888888,
             "#fdca26"
            ],
            [
             1,
             "#f0f921"
            ]
           ],
           "sequentialminus": [
            [
             0,
             "#0d0887"
            ],
            [
             0.1111111111111111,
             "#46039f"
            ],
            [
             0.2222222222222222,
             "#7201a8"
            ],
            [
             0.3333333333333333,
             "#9c179e"
            ],
            [
             0.4444444444444444,
             "#bd3786"
            ],
            [
             0.5555555555555556,
             "#d8576b"
            ],
            [
             0.6666666666666666,
             "#ed7953"
            ],
            [
             0.7777777777777778,
             "#fb9f3a"
            ],
            [
             0.8888888888888888,
             "#fdca26"
            ],
            [
             1,
             "#f0f921"
            ]
           ]
          },
          "colorway": [
           "#636efa",
           "#EF553B",
           "#00cc96",
           "#ab63fa",
           "#FFA15A",
           "#19d3f3",
           "#FF6692",
           "#B6E880",
           "#FF97FF",
           "#FECB52"
          ],
          "font": {
           "color": "#2a3f5f"
          },
          "geo": {
           "bgcolor": "white",
           "lakecolor": "white",
           "landcolor": "#E5ECF6",
           "showlakes": true,
           "showland": true,
           "subunitcolor": "white"
          },
          "hoverlabel": {
           "align": "left"
          },
          "hovermode": "closest",
          "mapbox": {
           "style": "light"
          },
          "paper_bgcolor": "white",
          "plot_bgcolor": "#E5ECF6",
          "polar": {
           "angularaxis": {
            "gridcolor": "white",
            "linecolor": "white",
            "ticks": ""
           },
           "bgcolor": "#E5ECF6",
           "radialaxis": {
            "gridcolor": "white",
            "linecolor": "white",
            "ticks": ""
           }
          },
          "scene": {
           "xaxis": {
            "backgroundcolor": "#E5ECF6",
            "gridcolor": "white",
            "gridwidth": 2,
            "linecolor": "white",
            "showbackground": true,
            "ticks": "",
            "zerolinecolor": "white"
           },
           "yaxis": {
            "backgroundcolor": "#E5ECF6",
            "gridcolor": "white",
            "gridwidth": 2,
            "linecolor": "white",
            "showbackground": true,
            "ticks": "",
            "zerolinecolor": "white"
           },
           "zaxis": {
            "backgroundcolor": "#E5ECF6",
            "gridcolor": "white",
            "gridwidth": 2,
            "linecolor": "white",
            "showbackground": true,
            "ticks": "",
            "zerolinecolor": "white"
           }
          },
          "shapedefaults": {
           "line": {
            "color": "#2a3f5f"
           }
          },
          "ternary": {
           "aaxis": {
            "gridcolor": "white",
            "linecolor": "white",
            "ticks": ""
           },
           "baxis": {
            "gridcolor": "white",
            "linecolor": "white",
            "ticks": ""
           },
           "bgcolor": "#E5ECF6",
           "caxis": {
            "gridcolor": "white",
            "linecolor": "white",
            "ticks": ""
           }
          },
          "title": {
           "x": 0.05
          },
          "xaxis": {
           "automargin": true,
           "gridcolor": "white",
           "linecolor": "white",
           "ticks": "",
           "title": {
            "standoff": 15
           },
           "zerolinecolor": "white",
           "zerolinewidth": 2
          },
          "yaxis": {
           "automargin": true,
           "gridcolor": "white",
           "linecolor": "white",
           "ticks": "",
           "title": {
            "standoff": 15
           },
           "zerolinecolor": "white",
           "zerolinewidth": 2
          }
         }
        },
        "xaxis": {
         "anchor": "y",
         "domain": [
          0,
          1
         ],
         "title": {
          "text": "Income"
         }
        },
        "yaxis": {
         "anchor": "x",
         "domain": [
          0,
          1
         ],
         "title": {
          "text": "White"
         }
        }
       }
      },
      "text/html": [
       "<div>\n",
       "        \n",
       "        \n",
       "            <div id=\"465730b0-66a6-4620-a8f5-6b411dfaf708\" class=\"plotly-graph-div\" style=\"height:525px; width:100%;\"></div>\n",
       "            <script type=\"text/javascript\">\n",
       "                require([\"plotly\"], function(Plotly) {\n",
       "                    window.PLOTLYENV=window.PLOTLYENV || {};\n",
       "                    \n",
       "                if (document.getElementById(\"465730b0-66a6-4620-a8f5-6b411dfaf708\")) {\n",
       "                    Plotly.newPlot(\n",
       "                        '465730b0-66a6-4620-a8f5-6b411dfaf708',\n",
       "                        [{\"hoverlabel\": {\"namelength\": 0}, \"hovertemplate\": \"state=Alabama<br>Income=%{x}<br>White=%{y}<br>votes=%{marker.size}\", \"legendgroup\": \"state=Alabama\", \"marker\": {\"color\": \"#636efa\", \"size\": [371735], \"sizemode\": \"area\", \"sizeref\": 2937.0725, \"symbol\": \"circle\"}, \"mode\": \"markers\", \"name\": \"state=Alabama\", \"showlegend\": true, \"type\": \"scatter\", \"x\": [43253], \"xaxis\": \"x\", \"y\": [66.2], \"yaxis\": \"y\"}, {\"hoverlabel\": {\"namelength\": 0}, \"hovertemplate\": \"state=Alaska<br>Income=%{x}<br>White=%{y}<br>votes=%{marker.size}\", \"legendgroup\": \"state=Alaska\", \"marker\": {\"color\": \"#EF553B\", \"size\": [7346], \"sizemode\": \"area\", \"sizeref\": 2937.0725, \"symbol\": \"circle\"}, \"mode\": \"markers\", \"name\": \"state=Alaska\", \"showlegend\": true, \"type\": \"scatter\", \"x\": [70760], \"xaxis\": \"x\", \"y\": [61.9], \"yaxis\": \"y\"}, {\"hoverlabel\": {\"namelength\": 0}, \"hovertemplate\": \"state=Arizona<br>Income=%{x}<br>White=%{y}<br>votes=%{marker.size}\", \"legendgroup\": \"state=Arizona\", \"marker\": {\"color\": \"#00cc96\", \"size\": [249916], \"sizemode\": \"area\", \"sizeref\": 2937.0725, \"symbol\": \"circle\"}, \"mode\": \"markers\", \"name\": \"state=Arizona\", \"showlegend\": true, \"type\": \"scatter\", \"x\": [49774], \"xaxis\": \"x\", \"y\": [56.2], \"yaxis\": \"y\"}, {\"hoverlabel\": {\"namelength\": 0}, \"hovertemplate\": \"state=Arkansas<br>Income=%{x}<br>White=%{y}<br>votes=%{marker.size}\", \"legendgroup\": \"state=Arkansas\", \"marker\": {\"color\": \"#ab63fa\", \"size\": [133144], \"sizemode\": \"area\", \"sizeref\": 2937.0725, \"symbol\": \"circle\"}, \"mode\": \"markers\", \"name\": \"state=Arkansas\", \"showlegend\": true, \"type\": \"scatter\", \"x\": [40768], \"xaxis\": \"x\", \"y\": [73.4], \"yaxis\": \"y\"}, {\"hoverlabel\": {\"namelength\": 0}, \"hovertemplate\": \"state=California<br>Income=%{x}<br>White=%{y}<br>votes=%{marker.size}\", \"legendgroup\": \"state=California\", \"marker\": {\"color\": \"#FFA15A\", \"size\": [1174829], \"sizemode\": \"area\", \"sizeref\": 2937.0725, \"symbol\": \"circle\"}, \"mode\": \"markers\", \"name\": \"state=California\", \"showlegend\": true, \"type\": \"scatter\", \"x\": [61094], \"xaxis\": \"x\", \"y\": [38.5], \"yaxis\": \"y\"}, {\"hoverlabel\": {\"namelength\": 0}, \"hovertemplate\": \"state=Connecticut<br>Income=%{x}<br>White=%{y}<br>votes=%{marker.size}\", \"legendgroup\": \"state=Connecticut\", \"marker\": {\"color\": \"#19d3f3\", \"size\": [123367], \"sizemode\": \"area\", \"sizeref\": 2937.0725, \"symbol\": \"circle\"}, \"mode\": \"markers\", \"name\": \"state=Connecticut\", \"showlegend\": true, \"type\": \"scatter\", \"x\": [69461], \"xaxis\": \"x\", \"y\": [68.8], \"yaxis\": \"y\"}, {\"hoverlabel\": {\"namelength\": 0}, \"hovertemplate\": \"state=Delaware<br>Income=%{x}<br>White=%{y}<br>votes=%{marker.size}\", \"legendgroup\": \"state=Delaware\", \"marker\": {\"color\": \"#FF6692\", \"size\": [42472], \"sizemode\": \"area\", \"sizeref\": 2937.0725, \"symbol\": \"circle\"}, \"mode\": \"markers\", \"name\": \"state=Delaware\", \"showlegend\": true, \"type\": \"scatter\", \"x\": [59878], \"xaxis\": \"x\", \"y\": [63.7], \"yaxis\": \"y\"}, {\"hoverlabel\": {\"namelength\": 0}, \"hovertemplate\": \"state=Florida<br>Income=%{x}<br>White=%{y}<br>votes=%{marker.size}\", \"legendgroup\": \"state=Florida\", \"marker\": {\"color\": \"#B6E880\", \"size\": [1077221], \"sizemode\": \"area\", \"sizeref\": 2937.0725, \"symbol\": \"circle\"}, \"mode\": \"markers\", \"name\": \"state=Florida\", \"showlegend\": true, \"type\": \"scatter\", \"x\": [46956], \"xaxis\": \"x\", \"y\": [55.8], \"yaxis\": \"y\"}, {\"hoverlabel\": {\"namelength\": 0}, \"hovertemplate\": \"state=Georgia<br>Income=%{x}<br>White=%{y}<br>votes=%{marker.size}\", \"legendgroup\": \"state=Georgia\", \"marker\": {\"color\": \"#FF97FF\", \"size\": [501707], \"sizemode\": \"area\", \"sizeref\": 2937.0725, \"symbol\": \"circle\"}, \"mode\": \"markers\", \"name\": \"state=Georgia\", \"showlegend\": true, \"type\": \"scatter\", \"x\": [49179], \"xaxis\": \"x\", \"y\": [54.3], \"yaxis\": \"y\"}, {\"hoverlabel\": {\"namelength\": 0}, \"hovertemplate\": \"state=Hawaii<br>Income=%{x}<br>White=%{y}<br>votes=%{marker.size}\", \"legendgroup\": \"state=Hawaii\", \"marker\": {\"color\": \"#FECB52\", \"size\": [5677], \"sizemode\": \"area\", \"sizeref\": 2937.0725, \"symbol\": \"circle\"}, \"mode\": \"markers\", \"name\": \"state=Hawaii\", \"showlegend\": true, \"type\": \"scatter\", \"x\": [67402], \"xaxis\": \"x\", \"y\": [23.0], \"yaxis\": \"y\"}, {\"hoverlabel\": {\"namelength\": 0}, \"hovertemplate\": \"state=Idaho<br>Income=%{x}<br>White=%{y}<br>votes=%{marker.size}\", \"legendgroup\": \"state=Idaho\", \"marker\": {\"color\": \"#636efa\", \"size\": [62478], \"sizemode\": \"area\", \"sizeref\": 2937.0725, \"symbol\": \"circle\"}, \"mode\": \"markers\", \"name\": \"state=Idaho\", \"showlegend\": true, \"type\": \"scatter\", \"x\": [46767], \"xaxis\": \"x\", \"y\": [82.8], \"yaxis\": \"y\"}, {\"hoverlabel\": {\"namelength\": 0}, \"hovertemplate\": \"state=Illinois<br>Income=%{x}<br>White=%{y}<br>votes=%{marker.size}\", \"legendgroup\": \"state=Illinois\", \"marker\": {\"color\": \"#EF553B\", \"size\": [551464], \"sizemode\": \"area\", \"sizeref\": 2937.0725, \"symbol\": \"circle\"}, \"mode\": \"markers\", \"name\": \"state=Illinois\", \"showlegend\": true, \"type\": \"scatter\", \"x\": [56797], \"xaxis\": \"x\", \"y\": [62.3], \"yaxis\": \"y\"}, {\"hoverlabel\": {\"namelength\": 0}, \"hovertemplate\": \"state=Indiana<br>Income=%{x}<br>White=%{y}<br>votes=%{marker.size}\", \"legendgroup\": \"state=Indiana\", \"marker\": {\"color\": \"#00cc96\", \"size\": [590460], \"sizemode\": \"area\", \"sizeref\": 2937.0725, \"symbol\": \"circle\"}, \"mode\": \"markers\", \"name\": \"state=Indiana\", \"showlegend\": true, \"type\": \"scatter\", \"x\": [48248], \"xaxis\": \"x\", \"y\": [80.3], \"yaxis\": \"y\"}, {\"hoverlabel\": {\"namelength\": 0}, \"hovertemplate\": \"state=Iowa<br>Income=%{x}<br>White=%{y}<br>votes=%{marker.size}\", \"legendgroup\": \"state=Iowa\", \"marker\": {\"color\": \"#ab63fa\", \"size\": [45419], \"sizemode\": \"area\", \"sizeref\": 2937.0725, \"symbol\": \"circle\"}, \"mode\": \"markers\", \"name\": \"state=Iowa\", \"showlegend\": true, \"type\": \"scatter\", \"x\": [51843], \"xaxis\": \"x\", \"y\": [87.1], \"yaxis\": \"y\"}, {\"hoverlabel\": {\"namelength\": 0}, \"hovertemplate\": \"state=Kansas<br>Income=%{x}<br>White=%{y}<br>votes=%{marker.size}\", \"legendgroup\": \"state=Kansas\", \"marker\": {\"color\": \"#FFA15A\", \"size\": [17062], \"sizemode\": \"area\", \"sizeref\": 2937.0725, \"symbol\": \"circle\"}, \"mode\": \"markers\", \"name\": \"state=Kansas\", \"showlegend\": true, \"type\": \"scatter\", \"x\": [51332], \"xaxis\": \"x\", \"y\": [76.8], \"yaxis\": \"y\"}, {\"hoverlabel\": {\"namelength\": 0}, \"hovertemplate\": \"state=Kentucky<br>Income=%{x}<br>White=%{y}<br>votes=%{marker.size}\", \"legendgroup\": \"state=Kentucky\", \"marker\": {\"color\": \"#19d3f3\", \"size\": [82493], \"sizemode\": \"area\", \"sizeref\": 2937.0725, \"symbol\": \"circle\"}, \"mode\": \"markers\", \"name\": \"state=Kentucky\", \"showlegend\": true, \"type\": \"scatter\", \"x\": [43036], \"xaxis\": \"x\", \"y\": [85.4], \"yaxis\": \"y\"}, {\"hoverlabel\": {\"namelength\": 0}, \"hovertemplate\": \"state=Louisiana<br>Income=%{x}<br>White=%{y}<br>votes=%{marker.size}\", \"legendgroup\": \"state=Louisiana\", \"marker\": {\"color\": \"#FF6692\", \"size\": [124818], \"sizemode\": \"area\", \"sizeref\": 2937.0725, \"symbol\": \"circle\"}, \"mode\": \"markers\", \"name\": \"state=Louisiana\", \"showlegend\": true, \"type\": \"scatter\", \"x\": [44874], \"xaxis\": \"x\", \"y\": [59.3], \"yaxis\": \"y\"}, {\"hoverlabel\": {\"namelength\": 0}, \"hovertemplate\": \"state=Maryland<br>Income=%{x}<br>White=%{y}<br>votes=%{marker.size}\", \"legendgroup\": \"state=Maryland\", \"marker\": {\"color\": \"#B6E880\", \"size\": [236623], \"sizemode\": \"area\", \"sizeref\": 2937.0725, \"symbol\": \"circle\"}, \"mode\": \"markers\", \"name\": \"state=Maryland\", \"showlegend\": true, \"type\": \"scatter\", \"x\": [73538], \"xaxis\": \"x\", \"y\": [52.6], \"yaxis\": \"y\"}, {\"hoverlabel\": {\"namelength\": 0}, \"hovertemplate\": \"state=Massachusetts<br>Income=%{x}<br>White=%{y}<br>votes=%{marker.size}\", \"legendgroup\": \"state=Massachusetts\", \"marker\": {\"color\": \"#FF97FF\", \"size\": [311313], \"sizemode\": \"area\", \"sizeref\": 2937.0725, \"symbol\": \"circle\"}, \"mode\": \"markers\", \"name\": \"state=Massachusetts\", \"showlegend\": true, \"type\": \"scatter\", \"x\": [66866], \"xaxis\": \"x\", \"y\": [74.3], \"yaxis\": \"y\"}, {\"hoverlabel\": {\"namelength\": 0}, \"hovertemplate\": \"state=Michigan<br>Income=%{x}<br>White=%{y}<br>votes=%{marker.size}\", \"legendgroup\": \"state=Michigan\", \"marker\": {\"color\": \"#FECB52\", \"size\": [483751], \"sizemode\": \"area\", \"sizeref\": 2937.0725, \"symbol\": \"circle\"}, \"mode\": \"markers\", \"name\": \"state=Michigan\", \"showlegend\": true, \"type\": \"scatter\", \"x\": [48411], \"xaxis\": \"x\", \"y\": [75.8], \"yaxis\": \"y\"}, {\"hoverlabel\": {\"namelength\": 0}, \"hovertemplate\": \"state=Mississippi<br>Income=%{x}<br>White=%{y}<br>votes=%{marker.size}\", \"legendgroup\": \"state=Mississippi\", \"marker\": {\"color\": \"#636efa\", \"size\": [191755], \"sizemode\": \"area\", \"sizeref\": 2937.0725, \"symbol\": \"circle\"}, \"mode\": \"markers\", \"name\": \"state=Mississippi\", \"showlegend\": true, \"type\": \"scatter\", \"x\": [39031], \"xaxis\": \"x\", \"y\": [57.3], \"yaxis\": \"y\"}, {\"hoverlabel\": {\"namelength\": 0}, \"hovertemplate\": \"state=Missouri<br>Income=%{x}<br>White=%{y}<br>votes=%{marker.size}\", \"legendgroup\": \"state=Missouri\", \"marker\": {\"color\": \"#EF553B\", \"size\": [382093], \"sizemode\": \"area\", \"sizeref\": 2937.0725, \"symbol\": \"circle\"}, \"mode\": \"markers\", \"name\": \"state=Missouri\", \"showlegend\": true, \"type\": \"scatter\", \"x\": [47380], \"xaxis\": \"x\", \"y\": [80.1], \"yaxis\": \"y\"}, {\"hoverlabel\": {\"namelength\": 0}, \"hovertemplate\": \"state=Montana<br>Income=%{x}<br>White=%{y}<br>votes=%{marker.size}\", \"legendgroup\": \"state=Montana\", \"marker\": {\"color\": \"#00cc96\", \"size\": [114056], \"sizemode\": \"area\", \"sizeref\": 2937.0725, \"symbol\": \"circle\"}, \"mode\": \"markers\", \"name\": \"state=Montana\", \"showlegend\": true, \"type\": \"scatter\", \"x\": [46230], \"xaxis\": \"x\", \"y\": [86.7], \"yaxis\": \"y\"}, {\"hoverlabel\": {\"namelength\": 0}, \"hovertemplate\": \"state=Nebraska<br>Income=%{x}<br>White=%{y}<br>votes=%{marker.size}\", \"legendgroup\": \"state=Nebraska\", \"marker\": {\"color\": \"#ab63fa\", \"size\": [121287], \"sizemode\": \"area\", \"sizeref\": 2937.0725, \"symbol\": \"circle\"}, \"mode\": \"markers\", \"name\": \"state=Nebraska\", \"showlegend\": true, \"type\": \"scatter\", \"x\": [51672], \"xaxis\": \"x\", \"y\": [80.5], \"yaxis\": \"y\"}, {\"hoverlabel\": {\"namelength\": 0}, \"hovertemplate\": \"state=Nevada<br>Income=%{x}<br>White=%{y}<br>votes=%{marker.size}\", \"legendgroup\": \"state=Nevada\", \"marker\": {\"color\": \"#FFA15A\", \"size\": [34531], \"sizemode\": \"area\", \"sizeref\": 2937.0725, \"symbol\": \"circle\"}, \"mode\": \"markers\", \"name\": \"state=Nevada\", \"showlegend\": true, \"type\": \"scatter\", \"x\": [52800], \"xaxis\": \"x\", \"y\": [51.5], \"yaxis\": \"y\"}, {\"hoverlabel\": {\"namelength\": 0}, \"hovertemplate\": \"state=New Hampshire<br>Income=%{x}<br>White=%{y}<br>votes=%{marker.size}\", \"legendgroup\": \"state=New Hampshire\", \"marker\": {\"color\": \"#19d3f3\", \"size\": [100406], \"sizemode\": \"area\", \"sizeref\": 2937.0725, \"symbol\": \"circle\"}, \"mode\": \"markers\", \"name\": \"state=New Hampshire\", \"showlegend\": true, \"type\": \"scatter\", \"x\": [64916], \"xaxis\": \"x\", \"y\": [91.3], \"yaxis\": \"y\"}, {\"hoverlabel\": {\"namelength\": 0}, \"hovertemplate\": \"state=New Jersey<br>Income=%{x}<br>White=%{y}<br>votes=%{marker.size}\", \"legendgroup\": \"state=New Jersey\", \"marker\": {\"color\": \"#FF6692\", \"size\": [356697], \"sizemode\": \"area\", \"sizeref\": 2937.0725, \"symbol\": \"circle\"}, \"mode\": \"markers\", \"name\": \"state=New Jersey\", \"showlegend\": true, \"type\": \"scatter\", \"x\": [71629], \"xaxis\": \"x\", \"y\": [56.8], \"yaxis\": \"y\"}, {\"hoverlabel\": {\"namelength\": 0}, \"hovertemplate\": \"state=New Mexico<br>Income=%{x}<br>White=%{y}<br>votes=%{marker.size}\", \"legendgroup\": \"state=New Mexico\", \"marker\": {\"color\": \"#B6E880\", \"size\": [73530], \"sizemode\": \"area\", \"sizeref\": 2937.0725, \"symbol\": \"circle\"}, \"mode\": \"markers\", \"name\": \"state=New Mexico\", \"showlegend\": true, \"type\": \"scatter\", \"x\": [44927], \"xaxis\": \"x\", \"y\": [38.9], \"yaxis\": \"y\"}, {\"hoverlabel\": {\"namelength\": 0}, \"hovertemplate\": \"state=New York<br>Income=%{x}<br>White=%{y}<br>votes=%{marker.size}\", \"legendgroup\": \"state=New York\", \"marker\": {\"color\": \"#FF97FF\", \"size\": [524932], \"sizemode\": \"area\", \"sizeref\": 2937.0725, \"symbol\": \"circle\"}, \"mode\": \"markers\", \"name\": \"state=New York\", \"showlegend\": true, \"type\": \"scatter\", \"x\": [58003], \"xaxis\": \"x\", \"y\": [56.5], \"yaxis\": \"y\"}, {\"hoverlabel\": {\"namelength\": 0}, \"hovertemplate\": \"state=North Carolina<br>Income=%{x}<br>White=%{y}<br>votes=%{marker.size}\", \"legendgroup\": \"state=North Carolina\", \"marker\": {\"color\": \"#FECB52\", \"size\": [458151], \"sizemode\": \"area\", \"sizeref\": 2937.0725, \"symbol\": \"circle\"}, \"mode\": \"markers\", \"name\": \"state=North Carolina\", \"showlegend\": true, \"type\": \"scatter\", \"x\": [46334], \"xaxis\": \"x\", \"y\": [64.1], \"yaxis\": \"y\"}, {\"hoverlabel\": {\"namelength\": 0}, \"hovertemplate\": \"state=Ohio<br>Income=%{x}<br>White=%{y}<br>votes=%{marker.size}\", \"legendgroup\": \"state=Ohio\", \"marker\": {\"color\": \"#636efa\", \"size\": [727585], \"sizemode\": \"area\", \"sizeref\": 2937.0725, \"symbol\": \"circle\"}, \"mode\": \"markers\", \"name\": \"state=Ohio\", \"showlegend\": true, \"type\": \"scatter\", \"x\": [48308], \"xaxis\": \"x\", \"y\": [80.1], \"yaxis\": \"y\"}, {\"hoverlabel\": {\"namelength\": 0}, \"hovertemplate\": \"state=Oklahoma<br>Income=%{x}<br>White=%{y}<br>votes=%{marker.size}\", \"legendgroup\": \"state=Oklahoma\", \"marker\": {\"color\": \"#EF553B\", \"size\": [130141], \"sizemode\": \"area\", \"sizeref\": 2937.0725, \"symbol\": \"circle\"}, \"mode\": \"markers\", \"name\": \"state=Oklahoma\", \"showlegend\": true, \"type\": \"scatter\", \"x\": [45339], \"xaxis\": \"x\", \"y\": [67.0], \"yaxis\": \"y\"}, {\"hoverlabel\": {\"namelength\": 0}, \"hovertemplate\": \"state=Oregon<br>Income=%{x}<br>White=%{y}<br>votes=%{marker.size}\", \"legendgroup\": \"state=Oregon\", \"marker\": {\"color\": \"#00cc96\", \"size\": [240804], \"sizemode\": \"area\", \"sizeref\": 2937.0725, \"symbol\": \"circle\"}, \"mode\": \"markers\", \"name\": \"state=Oregon\", \"showlegend\": true, \"type\": \"scatter\", \"x\": [50229], \"xaxis\": \"x\", \"y\": [77.0], \"yaxis\": \"y\"}, {\"hoverlabel\": {\"namelength\": 0}, \"hovertemplate\": \"state=Pennsylvania<br>Income=%{x}<br>White=%{y}<br>votes=%{marker.size}\", \"legendgroup\": \"state=Pennsylvania\", \"marker\": {\"color\": \"#ab63fa\", \"size\": [892702], \"sizemode\": \"area\", \"sizeref\": 2937.0725, \"symbol\": \"circle\"}, \"mode\": \"markers\", \"name\": \"state=Pennsylvania\", \"showlegend\": true, \"type\": \"scatter\", \"x\": [52548], \"xaxis\": \"x\", \"y\": [77.9], \"yaxis\": \"y\"}, {\"hoverlabel\": {\"namelength\": 0}, \"hovertemplate\": \"state=Rhode Island<br>Income=%{x}<br>White=%{y}<br>votes=%{marker.size}\", \"legendgroup\": \"state=Rhode Island\", \"marker\": {\"color\": \"#FFA15A\", \"size\": [39059], \"sizemode\": \"area\", \"sizeref\": 2937.0725, \"symbol\": \"circle\"}, \"mode\": \"markers\", \"name\": \"state=Rhode Island\", \"showlegend\": true, \"type\": \"scatter\", \"x\": [56361], \"xaxis\": \"x\", \"y\": [74.5], \"yaxis\": \"y\"}, {\"hoverlabel\": {\"namelength\": 0}, \"hovertemplate\": \"state=South Carolina<br>Income=%{x}<br>White=%{y}<br>votes=%{marker.size}\", \"legendgroup\": \"state=South Carolina\", \"marker\": {\"color\": \"#19d3f3\", \"size\": [239851], \"sizemode\": \"area\", \"sizeref\": 2937.0725, \"symbol\": \"circle\"}, \"mode\": \"markers\", \"name\": \"state=South Carolina\", \"showlegend\": true, \"type\": \"scatter\", \"x\": [44779], \"xaxis\": \"x\", \"y\": [63.9], \"yaxis\": \"y\"}, {\"hoverlabel\": {\"namelength\": 0}, \"hovertemplate\": \"state=South Dakota<br>Income=%{x}<br>White=%{y}<br>votes=%{marker.size}\", \"legendgroup\": \"state=South Dakota\", \"marker\": {\"color\": \"#FF6692\", \"size\": [44866], \"sizemode\": \"area\", \"sizeref\": 2937.0725, \"symbol\": \"circle\"}, \"mode\": \"markers\", \"name\": \"state=South Dakota\", \"showlegend\": true, \"type\": \"scatter\", \"x\": [49495], \"xaxis\": \"x\", \"y\": [83.0], \"yaxis\": \"y\"}, {\"hoverlabel\": {\"namelength\": 0}, \"hovertemplate\": \"state=Tennessee<br>Income=%{x}<br>White=%{y}<br>votes=%{marker.size}\", \"legendgroup\": \"state=Tennessee\", \"marker\": {\"color\": \"#B6E880\", \"size\": [332702], \"sizemode\": \"area\", \"sizeref\": 2937.0725, \"symbol\": \"circle\"}, \"mode\": \"markers\", \"name\": \"state=Tennessee\", \"showlegend\": true, \"type\": \"scatter\", \"x\": [44298], \"xaxis\": \"x\", \"y\": [74.6], \"yaxis\": \"y\"}, {\"hoverlabel\": {\"namelength\": 0}, \"hovertemplate\": \"state=Texas<br>Income=%{x}<br>White=%{y}<br>votes=%{marker.size}\", \"legendgroup\": \"state=Texas\", \"marker\": {\"color\": \"#FF97FF\", \"size\": [757618], \"sizemode\": \"area\", \"sizeref\": 2937.0725, \"symbol\": \"circle\"}, \"mode\": \"markers\", \"name\": \"state=Texas\", \"showlegend\": true, \"type\": \"scatter\", \"x\": [51900], \"xaxis\": \"x\", \"y\": [43.5], \"yaxis\": \"y\"}, {\"hoverlabel\": {\"namelength\": 0}, \"hovertemplate\": \"state=Utah<br>Income=%{x}<br>White=%{y}<br>votes=%{marker.size}\", \"legendgroup\": \"state=Utah\", \"marker\": {\"color\": \"#FECB52\", \"size\": [24864], \"sizemode\": \"area\", \"sizeref\": 2937.0725, \"symbol\": \"circle\"}, \"mode\": \"markers\", \"name\": \"state=Utah\", \"showlegend\": true, \"type\": \"scatter\", \"x\": [58821], \"xaxis\": \"x\", \"y\": [79.3], \"yaxis\": \"y\"}, {\"hoverlabel\": {\"namelength\": 0}, \"hovertemplate\": \"state=Vermont<br>Income=%{x}<br>White=%{y}<br>votes=%{marker.size}\", \"legendgroup\": \"state=Vermont\", \"marker\": {\"color\": \"#636efa\", \"size\": [19968], \"sizemode\": \"area\", \"sizeref\": 2937.0725, \"symbol\": \"circle\"}, \"mode\": \"markers\", \"name\": \"state=Vermont\", \"showlegend\": true, \"type\": \"scatter\", \"x\": [54267], \"xaxis\": \"x\", \"y\": [93.5], \"yaxis\": \"y\"}, {\"hoverlabel\": {\"namelength\": 0}, \"hovertemplate\": \"state=Virginia<br>Income=%{x}<br>White=%{y}<br>votes=%{marker.size}\", \"legendgroup\": \"state=Virginia\", \"marker\": {\"color\": \"#EF553B\", \"size\": [355960], \"sizemode\": \"area\", \"sizeref\": 2937.0725, \"symbol\": \"circle\"}, \"mode\": \"markers\", \"name\": \"state=Virginia\", \"showlegend\": true, \"type\": \"scatter\", \"x\": [63907], \"xaxis\": \"x\", \"y\": [63.1], \"yaxis\": \"y\"}, {\"hoverlabel\": {\"namelength\": 0}, \"hovertemplate\": \"state=Washington<br>Income=%{x}<br>White=%{y}<br>votes=%{marker.size}\", \"legendgroup\": \"state=Washington\", \"marker\": {\"color\": \"#00cc96\", \"size\": [403003], \"sizemode\": \"area\", \"sizeref\": 2937.0725, \"symbol\": \"circle\"}, \"mode\": \"markers\", \"name\": \"state=Washington\", \"showlegend\": true, \"type\": \"scatter\", \"x\": [59478], \"xaxis\": \"x\", \"y\": [70.4], \"yaxis\": \"y\"}, {\"hoverlabel\": {\"namelength\": 0}, \"hovertemplate\": \"state=West Virginia<br>Income=%{x}<br>White=%{y}<br>votes=%{marker.size}\", \"legendgroup\": \"state=West Virginia\", \"marker\": {\"color\": \"#ab63fa\", \"size\": [156245], \"sizemode\": \"area\", \"sizeref\": 2937.0725, \"symbol\": \"circle\"}, \"mode\": \"markers\", \"name\": \"state=West Virginia\", \"showlegend\": true, \"type\": \"scatter\", \"x\": [41043], \"xaxis\": \"x\", \"y\": [92.5], \"yaxis\": \"y\"}, {\"hoverlabel\": {\"namelength\": 0}, \"hovertemplate\": \"state=Wisconsin<br>Income=%{x}<br>White=%{y}<br>votes=%{marker.size}\", \"legendgroup\": \"state=Wisconsin\", \"marker\": {\"color\": \"#FFA15A\", \"size\": [386370], \"sizemode\": \"area\", \"sizeref\": 2937.0725, \"symbol\": \"circle\"}, \"mode\": \"markers\", \"name\": \"state=Wisconsin\", \"showlegend\": true, \"type\": \"scatter\", \"x\": [52413], \"xaxis\": \"x\", \"y\": [82.2], \"yaxis\": \"y\"}, {\"hoverlabel\": {\"namelength\": 0}, \"hovertemplate\": \"state=Wyoming<br>Income=%{x}<br>White=%{y}<br>votes=%{marker.size}\", \"legendgroup\": \"state=Wyoming\", \"marker\": {\"color\": \"#19d3f3\", \"size\": [70], \"sizemode\": \"area\", \"sizeref\": 2937.0725, \"symbol\": \"circle\"}, \"mode\": \"markers\", \"name\": \"state=Wyoming\", \"showlegend\": true, \"type\": \"scatter\", \"x\": [57406], \"xaxis\": \"x\", \"y\": [84.1], \"yaxis\": \"y\"}],\n",
       "                        {\"legend\": {\"itemsizing\": \"constant\", \"tracegroupgap\": 0}, \"margin\": {\"t\": 60}, \"template\": {\"data\": {\"bar\": [{\"error_x\": {\"color\": \"#2a3f5f\"}, \"error_y\": {\"color\": \"#2a3f5f\"}, \"marker\": {\"line\": {\"color\": \"#E5ECF6\", \"width\": 0.5}}, \"type\": \"bar\"}], \"barpolar\": [{\"marker\": {\"line\": {\"color\": \"#E5ECF6\", \"width\": 0.5}}, \"type\": \"barpolar\"}], \"carpet\": [{\"aaxis\": {\"endlinecolor\": \"#2a3f5f\", \"gridcolor\": \"white\", \"linecolor\": \"white\", \"minorgridcolor\": \"white\", \"startlinecolor\": \"#2a3f5f\"}, \"baxis\": {\"endlinecolor\": \"#2a3f5f\", \"gridcolor\": \"white\", \"linecolor\": \"white\", \"minorgridcolor\": \"white\", \"startlinecolor\": \"#2a3f5f\"}, \"type\": \"carpet\"}], \"choropleth\": [{\"colorbar\": {\"outlinewidth\": 0, \"ticks\": \"\"}, \"type\": \"choropleth\"}], \"contour\": [{\"colorbar\": {\"outlinewidth\": 0, \"ticks\": \"\"}, \"colorscale\": [[0.0, \"#0d0887\"], [0.1111111111111111, \"#46039f\"], [0.2222222222222222, \"#7201a8\"], [0.3333333333333333, \"#9c179e\"], [0.4444444444444444, \"#bd3786\"], [0.5555555555555556, \"#d8576b\"], [0.6666666666666666, \"#ed7953\"], [0.7777777777777778, \"#fb9f3a\"], [0.8888888888888888, \"#fdca26\"], [1.0, \"#f0f921\"]], \"type\": \"contour\"}], \"contourcarpet\": [{\"colorbar\": {\"outlinewidth\": 0, \"ticks\": \"\"}, \"type\": \"contourcarpet\"}], \"heatmap\": [{\"colorbar\": {\"outlinewidth\": 0, \"ticks\": \"\"}, \"colorscale\": [[0.0, \"#0d0887\"], [0.1111111111111111, \"#46039f\"], [0.2222222222222222, \"#7201a8\"], [0.3333333333333333, \"#9c179e\"], [0.4444444444444444, \"#bd3786\"], [0.5555555555555556, \"#d8576b\"], [0.6666666666666666, \"#ed7953\"], [0.7777777777777778, \"#fb9f3a\"], [0.8888888888888888, \"#fdca26\"], [1.0, \"#f0f921\"]], \"type\": \"heatmap\"}], \"heatmapgl\": [{\"colorbar\": {\"outlinewidth\": 0, \"ticks\": \"\"}, \"colorscale\": [[0.0, \"#0d0887\"], [0.1111111111111111, \"#46039f\"], [0.2222222222222222, \"#7201a8\"], [0.3333333333333333, \"#9c179e\"], [0.4444444444444444, \"#bd3786\"], [0.5555555555555556, \"#d8576b\"], [0.6666666666666666, \"#ed7953\"], [0.7777777777777778, \"#fb9f3a\"], [0.8888888888888888, \"#fdca26\"], [1.0, \"#f0f921\"]], \"type\": \"heatmapgl\"}], \"histogram\": [{\"marker\": {\"colorbar\": {\"outlinewidth\": 0, \"ticks\": \"\"}}, \"type\": \"histogram\"}], \"histogram2d\": [{\"colorbar\": {\"outlinewidth\": 0, \"ticks\": \"\"}, \"colorscale\": [[0.0, \"#0d0887\"], [0.1111111111111111, \"#46039f\"], [0.2222222222222222, \"#7201a8\"], [0.3333333333333333, \"#9c179e\"], [0.4444444444444444, \"#bd3786\"], [0.5555555555555556, \"#d8576b\"], [0.6666666666666666, \"#ed7953\"], [0.7777777777777778, \"#fb9f3a\"], [0.8888888888888888, \"#fdca26\"], [1.0, \"#f0f921\"]], \"type\": \"histogram2d\"}], \"histogram2dcontour\": [{\"colorbar\": {\"outlinewidth\": 0, \"ticks\": \"\"}, \"colorscale\": [[0.0, \"#0d0887\"], [0.1111111111111111, \"#46039f\"], [0.2222222222222222, \"#7201a8\"], [0.3333333333333333, \"#9c179e\"], [0.4444444444444444, \"#bd3786\"], [0.5555555555555556, \"#d8576b\"], [0.6666666666666666, \"#ed7953\"], [0.7777777777777778, \"#fb9f3a\"], [0.8888888888888888, \"#fdca26\"], [1.0, \"#f0f921\"]], \"type\": \"histogram2dcontour\"}], \"mesh3d\": [{\"colorbar\": {\"outlinewidth\": 0, \"ticks\": \"\"}, \"type\": \"mesh3d\"}], \"parcoords\": [{\"line\": {\"colorbar\": {\"outlinewidth\": 0, \"ticks\": \"\"}}, \"type\": \"parcoords\"}], \"pie\": [{\"automargin\": true, \"type\": \"pie\"}], \"scatter\": [{\"marker\": {\"colorbar\": {\"outlinewidth\": 0, \"ticks\": \"\"}}, \"type\": \"scatter\"}], \"scatter3d\": [{\"line\": {\"colorbar\": {\"outlinewidth\": 0, \"ticks\": \"\"}}, \"marker\": {\"colorbar\": {\"outlinewidth\": 0, \"ticks\": \"\"}}, \"type\": \"scatter3d\"}], \"scattercarpet\": [{\"marker\": {\"colorbar\": {\"outlinewidth\": 0, \"ticks\": \"\"}}, \"type\": \"scattercarpet\"}], \"scattergeo\": [{\"marker\": {\"colorbar\": {\"outlinewidth\": 0, \"ticks\": \"\"}}, \"type\": \"scattergeo\"}], \"scattergl\": [{\"marker\": {\"colorbar\": {\"outlinewidth\": 0, \"ticks\": \"\"}}, \"type\": \"scattergl\"}], \"scattermapbox\": [{\"marker\": {\"colorbar\": {\"outlinewidth\": 0, \"ticks\": \"\"}}, \"type\": \"scattermapbox\"}], \"scatterpolar\": [{\"marker\": {\"colorbar\": {\"outlinewidth\": 0, \"ticks\": \"\"}}, \"type\": \"scatterpolar\"}], \"scatterpolargl\": [{\"marker\": {\"colorbar\": {\"outlinewidth\": 0, \"ticks\": \"\"}}, \"type\": \"scatterpolargl\"}], \"scatterternary\": [{\"marker\": {\"colorbar\": {\"outlinewidth\": 0, \"ticks\": \"\"}}, \"type\": \"scatterternary\"}], \"surface\": [{\"colorbar\": {\"outlinewidth\": 0, \"ticks\": \"\"}, \"colorscale\": [[0.0, \"#0d0887\"], [0.1111111111111111, \"#46039f\"], [0.2222222222222222, \"#7201a8\"], [0.3333333333333333, \"#9c179e\"], [0.4444444444444444, \"#bd3786\"], [0.5555555555555556, \"#d8576b\"], [0.6666666666666666, \"#ed7953\"], [0.7777777777777778, \"#fb9f3a\"], [0.8888888888888888, \"#fdca26\"], [1.0, \"#f0f921\"]], \"type\": \"surface\"}], \"table\": [{\"cells\": {\"fill\": {\"color\": \"#EBF0F8\"}, \"line\": {\"color\": \"white\"}}, \"header\": {\"fill\": {\"color\": \"#C8D4E3\"}, \"line\": {\"color\": \"white\"}}, \"type\": \"table\"}]}, \"layout\": {\"annotationdefaults\": {\"arrowcolor\": \"#2a3f5f\", \"arrowhead\": 0, \"arrowwidth\": 1}, \"coloraxis\": {\"colorbar\": {\"outlinewidth\": 0, \"ticks\": \"\"}}, \"colorscale\": {\"diverging\": [[0, \"#8e0152\"], [0.1, \"#c51b7d\"], [0.2, \"#de77ae\"], [0.3, \"#f1b6da\"], [0.4, \"#fde0ef\"], [0.5, \"#f7f7f7\"], [0.6, \"#e6f5d0\"], [0.7, \"#b8e186\"], [0.8, \"#7fbc41\"], [0.9, \"#4d9221\"], [1, \"#276419\"]], \"sequential\": [[0.0, \"#0d0887\"], [0.1111111111111111, \"#46039f\"], [0.2222222222222222, \"#7201a8\"], [0.3333333333333333, \"#9c179e\"], [0.4444444444444444, \"#bd3786\"], [0.5555555555555556, \"#d8576b\"], [0.6666666666666666, \"#ed7953\"], [0.7777777777777778, \"#fb9f3a\"], [0.8888888888888888, \"#fdca26\"], [1.0, \"#f0f921\"]], \"sequentialminus\": [[0.0, \"#0d0887\"], [0.1111111111111111, \"#46039f\"], [0.2222222222222222, \"#7201a8\"], [0.3333333333333333, \"#9c179e\"], [0.4444444444444444, \"#bd3786\"], [0.5555555555555556, \"#d8576b\"], [0.6666666666666666, \"#ed7953\"], [0.7777777777777778, \"#fb9f3a\"], [0.8888888888888888, \"#fdca26\"], [1.0, \"#f0f921\"]]}, \"colorway\": [\"#636efa\", \"#EF553B\", \"#00cc96\", \"#ab63fa\", \"#FFA15A\", \"#19d3f3\", \"#FF6692\", \"#B6E880\", \"#FF97FF\", \"#FECB52\"], \"font\": {\"color\": \"#2a3f5f\"}, \"geo\": {\"bgcolor\": \"white\", \"lakecolor\": \"white\", \"landcolor\": \"#E5ECF6\", \"showlakes\": true, \"showland\": true, \"subunitcolor\": \"white\"}, \"hoverlabel\": {\"align\": \"left\"}, \"hovermode\": \"closest\", \"mapbox\": {\"style\": \"light\"}, \"paper_bgcolor\": \"white\", \"plot_bgcolor\": \"#E5ECF6\", \"polar\": {\"angularaxis\": {\"gridcolor\": \"white\", \"linecolor\": \"white\", \"ticks\": \"\"}, \"bgcolor\": \"#E5ECF6\", \"radialaxis\": {\"gridcolor\": \"white\", \"linecolor\": \"white\", \"ticks\": \"\"}}, \"scene\": {\"xaxis\": {\"backgroundcolor\": \"#E5ECF6\", \"gridcolor\": \"white\", \"gridwidth\": 2, \"linecolor\": \"white\", \"showbackground\": true, \"ticks\": \"\", \"zerolinecolor\": \"white\"}, \"yaxis\": {\"backgroundcolor\": \"#E5ECF6\", \"gridcolor\": \"white\", \"gridwidth\": 2, \"linecolor\": \"white\", \"showbackground\": true, \"ticks\": \"\", \"zerolinecolor\": \"white\"}, \"zaxis\": {\"backgroundcolor\": \"#E5ECF6\", \"gridcolor\": \"white\", \"gridwidth\": 2, \"linecolor\": \"white\", \"showbackground\": true, \"ticks\": \"\", \"zerolinecolor\": \"white\"}}, \"shapedefaults\": {\"line\": {\"color\": \"#2a3f5f\"}}, \"ternary\": {\"aaxis\": {\"gridcolor\": \"white\", \"linecolor\": \"white\", \"ticks\": \"\"}, \"baxis\": {\"gridcolor\": \"white\", \"linecolor\": \"white\", \"ticks\": \"\"}, \"bgcolor\": \"#E5ECF6\", \"caxis\": {\"gridcolor\": \"white\", \"linecolor\": \"white\", \"ticks\": \"\"}}, \"title\": {\"x\": 0.05}, \"xaxis\": {\"automargin\": true, \"gridcolor\": \"white\", \"linecolor\": \"white\", \"ticks\": \"\", \"title\": {\"standoff\": 15}, \"zerolinecolor\": \"white\", \"zerolinewidth\": 2}, \"yaxis\": {\"automargin\": true, \"gridcolor\": \"white\", \"linecolor\": \"white\", \"ticks\": \"\", \"title\": {\"standoff\": 15}, \"zerolinecolor\": \"white\", \"zerolinewidth\": 2}}}, \"xaxis\": {\"anchor\": \"y\", \"domain\": [0.0, 1.0], \"title\": {\"text\": \"Income\"}}, \"yaxis\": {\"anchor\": \"x\", \"domain\": [0.0, 1.0], \"title\": {\"text\": \"White\"}}},\n",
       "                        {\"responsive\": true}\n",
       "                    ).then(function(){\n",
       "                            \n",
       "var gd = document.getElementById('465730b0-66a6-4620-a8f5-6b411dfaf708');\n",
       "var x = new MutationObserver(function (mutations, observer) {{\n",
       "        var display = window.getComputedStyle(gd).display;\n",
       "        if (!display || display === 'none') {{\n",
       "            console.log([gd, 'removed!']);\n",
       "            Plotly.purge(gd);\n",
       "            observer.disconnect();\n",
       "        }}\n",
       "}});\n",
       "\n",
       "// Listen for the removal of the full notebook cells\n",
       "var notebookContainer = gd.closest('#notebook-container');\n",
       "if (notebookContainer) {{\n",
       "    x.observe(notebookContainer, {childList: true});\n",
       "}}\n",
       "\n",
       "// Listen for the clearing of the current output cell\n",
       "var outputEl = gd.closest('.output');\n",
       "if (outputEl) {{\n",
       "    x.observe(outputEl, {childList: true});\n",
       "}}\n",
       "\n",
       "                        })\n",
       "                };\n",
       "                });\n",
       "            </script>\n",
       "        </div>"
      ]
     },
     "metadata": {},
     "output_type": "display_data"
    }
   ],
   "source": [
    "fig = px.scatter(DNT, x=\"Income\", y=\"White\", color=\"state\",\n",
    "                 size='votes')\n",
    "fig.show()"
   ]
  },
  {
   "cell_type": "code",
   "execution_count": 301,
   "metadata": {},
   "outputs": [
    {
     "data": {
      "text/html": [
       "<div>\n",
       "<style scoped>\n",
       "    .dataframe tbody tr th:only-of-type {\n",
       "        vertical-align: middle;\n",
       "    }\n",
       "\n",
       "    .dataframe tbody tr th {\n",
       "        vertical-align: top;\n",
       "    }\n",
       "\n",
       "    .dataframe thead th {\n",
       "        text-align: right;\n",
       "    }\n",
       "</style>\n",
       "<table border=\"1\" class=\"dataframe\">\n",
       "  <thead>\n",
       "    <tr style=\"text-align: right;\">\n",
       "      <th></th>\n",
       "      <th>candidate</th>\n",
       "      <th>state</th>\n",
       "      <th>party</th>\n",
       "      <th>votes</th>\n",
       "      <th>partyFrac</th>\n",
       "      <th>fips</th>\n",
       "      <th>area_name</th>\n",
       "      <th>Population</th>\n",
       "      <th>Black</th>\n",
       "      <th>Latino</th>\n",
       "      <th>White</th>\n",
       "      <th>HighSchool</th>\n",
       "      <th>Bachelors</th>\n",
       "      <th>Income</th>\n",
       "      <th>Kurang Mampu</th>\n",
       "      <th>Density</th>\n",
       "    </tr>\n",
       "  </thead>\n",
       "  <tbody>\n",
       "    <tr>\n",
       "      <td>0</td>\n",
       "      <td>Ted Cruz</td>\n",
       "      <td>Alabama</td>\n",
       "      <td>Republican</td>\n",
       "      <td>180608</td>\n",
       "      <td>0.215617</td>\n",
       "      <td>1000</td>\n",
       "      <td>Alabama</td>\n",
       "      <td>4849377</td>\n",
       "      <td>26.7</td>\n",
       "      <td>4.1</td>\n",
       "      <td>66.2</td>\n",
       "      <td>83.1</td>\n",
       "      <td>22.6</td>\n",
       "      <td>43253</td>\n",
       "      <td>18.6</td>\n",
       "      <td>94.4</td>\n",
       "    </tr>\n",
       "    <tr>\n",
       "      <td>1</td>\n",
       "      <td>Ted Cruz</td>\n",
       "      <td>Alaska</td>\n",
       "      <td>Republican</td>\n",
       "      <td>7973</td>\n",
       "      <td>0.363566</td>\n",
       "      <td>2000</td>\n",
       "      <td>Alaska</td>\n",
       "      <td>736732</td>\n",
       "      <td>3.9</td>\n",
       "      <td>6.8</td>\n",
       "      <td>61.9</td>\n",
       "      <td>91.6</td>\n",
       "      <td>27.5</td>\n",
       "      <td>70760</td>\n",
       "      <td>9.9</td>\n",
       "      <td>1.2</td>\n",
       "    </tr>\n",
       "    <tr>\n",
       "      <td>2</td>\n",
       "      <td>Ted Cruz</td>\n",
       "      <td>Arizona</td>\n",
       "      <td>Republican</td>\n",
       "      <td>132147</td>\n",
       "      <td>0.303714</td>\n",
       "      <td>4000</td>\n",
       "      <td>Arizona</td>\n",
       "      <td>6731484</td>\n",
       "      <td>4.7</td>\n",
       "      <td>30.5</td>\n",
       "      <td>56.2</td>\n",
       "      <td>85.7</td>\n",
       "      <td>26.9</td>\n",
       "      <td>49774</td>\n",
       "      <td>17.9</td>\n",
       "      <td>56.3</td>\n",
       "    </tr>\n",
       "    <tr>\n",
       "      <td>3</td>\n",
       "      <td>Ted Cruz</td>\n",
       "      <td>Arkansas</td>\n",
       "      <td>Republican</td>\n",
       "      <td>123873</td>\n",
       "      <td>0.312398</td>\n",
       "      <td>5000</td>\n",
       "      <td>Arkansas</td>\n",
       "      <td>2966369</td>\n",
       "      <td>15.6</td>\n",
       "      <td>7.0</td>\n",
       "      <td>73.4</td>\n",
       "      <td>83.7</td>\n",
       "      <td>20.1</td>\n",
       "      <td>40768</td>\n",
       "      <td>19.2</td>\n",
       "      <td>56.0</td>\n",
       "    </tr>\n",
       "    <tr>\n",
       "      <td>4</td>\n",
       "      <td>Ted Cruz</td>\n",
       "      <td>California</td>\n",
       "      <td>Republican</td>\n",
       "      <td>144125</td>\n",
       "      <td>0.096368</td>\n",
       "      <td>6000</td>\n",
       "      <td>California</td>\n",
       "      <td>38802500</td>\n",
       "      <td>6.5</td>\n",
       "      <td>38.6</td>\n",
       "      <td>38.5</td>\n",
       "      <td>81.2</td>\n",
       "      <td>30.7</td>\n",
       "      <td>61094</td>\n",
       "      <td>15.9</td>\n",
       "      <td>239.1</td>\n",
       "    </tr>\n",
       "  </tbody>\n",
       "</table>\n",
       "</div>"
      ],
      "text/plain": [
       "  candidate       state       party   votes  partyFrac  fips   area_name  \\\n",
       "0  Ted Cruz     Alabama  Republican  180608   0.215617  1000     Alabama   \n",
       "1  Ted Cruz      Alaska  Republican    7973   0.363566  2000      Alaska   \n",
       "2  Ted Cruz     Arizona  Republican  132147   0.303714  4000     Arizona   \n",
       "3  Ted Cruz    Arkansas  Republican  123873   0.312398  5000    Arkansas   \n",
       "4  Ted Cruz  California  Republican  144125   0.096368  6000  California   \n",
       "\n",
       "   Population  Black  Latino  White  HighSchool  Bachelors  Income  \\\n",
       "0     4849377   26.7     4.1   66.2        83.1       22.6   43253   \n",
       "1      736732    3.9     6.8   61.9        91.6       27.5   70760   \n",
       "2     6731484    4.7    30.5   56.2        85.7       26.9   49774   \n",
       "3     2966369   15.6     7.0   73.4        83.7       20.1   40768   \n",
       "4    38802500    6.5    38.6   38.5        81.2       30.7   61094   \n",
       "\n",
       "   Kurang Mampu  Density  \n",
       "0          18.6     94.4  \n",
       "1           9.9      1.2  \n",
       "2          17.9     56.3  \n",
       "3          19.2     56.0  \n",
       "4          15.9    239.1  "
      ]
     },
     "execution_count": 301,
     "metadata": {},
     "output_type": "execute_result"
    }
   ],
   "source": [
    "#Merging demographics and results\n",
    "allData = pd.merge(vbs, demographics, how=\"inner\", left_on = 'state',right_on = 'area_name')\n",
    "allData.drop('state_abbreviation',axis=1, inplace=True)\n",
    "allData.head()\n",
    "# #Segregate data candidate wise\n",
    "TED = allData[(allData.candidate == \"Ted Cruz\")] #| (allData.candidate == \"Donald Trump\")]\n",
    "TED = TED.reset_index();\n",
    "TED.drop('index',axis=1, inplace=True)\n",
    "TED.head()"
   ]
  },
  {
   "cell_type": "code",
   "execution_count": 307,
   "metadata": {},
   "outputs": [
    {
     "data": {
      "text/html": [
       "<div>\n",
       "<style scoped>\n",
       "    .dataframe tbody tr th:only-of-type {\n",
       "        vertical-align: middle;\n",
       "    }\n",
       "\n",
       "    .dataframe tbody tr th {\n",
       "        vertical-align: top;\n",
       "    }\n",
       "\n",
       "    .dataframe thead th {\n",
       "        text-align: right;\n",
       "    }\n",
       "</style>\n",
       "<table border=\"1\" class=\"dataframe\">\n",
       "  <thead>\n",
       "    <tr style=\"text-align: right;\">\n",
       "      <th></th>\n",
       "      <th>candidate</th>\n",
       "      <th>state</th>\n",
       "      <th>party</th>\n",
       "      <th>votes</th>\n",
       "      <th>partyFrac</th>\n",
       "      <th>fips</th>\n",
       "      <th>area_name</th>\n",
       "      <th>Population</th>\n",
       "      <th>Black</th>\n",
       "      <th>Latino</th>\n",
       "      <th>White</th>\n",
       "      <th>HighSchool</th>\n",
       "      <th>Bachelors</th>\n",
       "      <th>Income</th>\n",
       "      <th>Kurang Mampu</th>\n",
       "      <th>Density</th>\n",
       "    </tr>\n",
       "  </thead>\n",
       "  <tbody>\n",
       "    <tr>\n",
       "      <td>0</td>\n",
       "      <td>Ben Carson</td>\n",
       "      <td>Alabama</td>\n",
       "      <td>Republican</td>\n",
       "      <td>87517</td>\n",
       "      <td>0.104481</td>\n",
       "      <td>1000</td>\n",
       "      <td>Alabama</td>\n",
       "      <td>4849377</td>\n",
       "      <td>26.7</td>\n",
       "      <td>4.1</td>\n",
       "      <td>66.2</td>\n",
       "      <td>83.1</td>\n",
       "      <td>22.6</td>\n",
       "      <td>43253</td>\n",
       "      <td>18.6</td>\n",
       "      <td>94.4</td>\n",
       "    </tr>\n",
       "    <tr>\n",
       "      <td>1</td>\n",
       "      <td>Donald Trump</td>\n",
       "      <td>Alabama</td>\n",
       "      <td>Republican</td>\n",
       "      <td>371735</td>\n",
       "      <td>0.443793</td>\n",
       "      <td>1000</td>\n",
       "      <td>Alabama</td>\n",
       "      <td>4849377</td>\n",
       "      <td>26.7</td>\n",
       "      <td>4.1</td>\n",
       "      <td>66.2</td>\n",
       "      <td>83.1</td>\n",
       "      <td>22.6</td>\n",
       "      <td>43253</td>\n",
       "      <td>18.6</td>\n",
       "      <td>94.4</td>\n",
       "    </tr>\n",
       "    <tr>\n",
       "      <td>2</td>\n",
       "      <td>John Kasich</td>\n",
       "      <td>Alabama</td>\n",
       "      <td>Republican</td>\n",
       "      <td>37970</td>\n",
       "      <td>0.045330</td>\n",
       "      <td>1000</td>\n",
       "      <td>Alabama</td>\n",
       "      <td>4849377</td>\n",
       "      <td>26.7</td>\n",
       "      <td>4.1</td>\n",
       "      <td>66.2</td>\n",
       "      <td>83.1</td>\n",
       "      <td>22.6</td>\n",
       "      <td>43253</td>\n",
       "      <td>18.6</td>\n",
       "      <td>94.4</td>\n",
       "    </tr>\n",
       "    <tr>\n",
       "      <td>3</td>\n",
       "      <td>Marco Rubio</td>\n",
       "      <td>Alabama</td>\n",
       "      <td>Republican</td>\n",
       "      <td>159802</td>\n",
       "      <td>0.190778</td>\n",
       "      <td>1000</td>\n",
       "      <td>Alabama</td>\n",
       "      <td>4849377</td>\n",
       "      <td>26.7</td>\n",
       "      <td>4.1</td>\n",
       "      <td>66.2</td>\n",
       "      <td>83.1</td>\n",
       "      <td>22.6</td>\n",
       "      <td>43253</td>\n",
       "      <td>18.6</td>\n",
       "      <td>94.4</td>\n",
       "    </tr>\n",
       "    <tr>\n",
       "      <td>4</td>\n",
       "      <td>Ted Cruz</td>\n",
       "      <td>Alabama</td>\n",
       "      <td>Republican</td>\n",
       "      <td>180608</td>\n",
       "      <td>0.215617</td>\n",
       "      <td>1000</td>\n",
       "      <td>Alabama</td>\n",
       "      <td>4849377</td>\n",
       "      <td>26.7</td>\n",
       "      <td>4.1</td>\n",
       "      <td>66.2</td>\n",
       "      <td>83.1</td>\n",
       "      <td>22.6</td>\n",
       "      <td>43253</td>\n",
       "      <td>18.6</td>\n",
       "      <td>94.4</td>\n",
       "    </tr>\n",
       "    <tr>\n",
       "      <td>...</td>\n",
       "      <td>...</td>\n",
       "      <td>...</td>\n",
       "      <td>...</td>\n",
       "      <td>...</td>\n",
       "      <td>...</td>\n",
       "      <td>...</td>\n",
       "      <td>...</td>\n",
       "      <td>...</td>\n",
       "      <td>...</td>\n",
       "      <td>...</td>\n",
       "      <td>...</td>\n",
       "      <td>...</td>\n",
       "      <td>...</td>\n",
       "      <td>...</td>\n",
       "      <td>...</td>\n",
       "      <td>...</td>\n",
       "    </tr>\n",
       "    <tr>\n",
       "      <td>501</td>\n",
       "      <td>Chris Christie</td>\n",
       "      <td>Wyoming</td>\n",
       "      <td>Republican</td>\n",
       "      <td>0</td>\n",
       "      <td>0.000000</td>\n",
       "      <td>56000</td>\n",
       "      <td>Wyoming</td>\n",
       "      <td>584153</td>\n",
       "      <td>1.6</td>\n",
       "      <td>9.8</td>\n",
       "      <td>84.1</td>\n",
       "      <td>92.4</td>\n",
       "      <td>24.7</td>\n",
       "      <td>57406</td>\n",
       "      <td>11.5</td>\n",
       "      <td>5.8</td>\n",
       "    </tr>\n",
       "    <tr>\n",
       "      <td>502</td>\n",
       "      <td>Jeb Bush</td>\n",
       "      <td>Wyoming</td>\n",
       "      <td>Republican</td>\n",
       "      <td>0</td>\n",
       "      <td>0.000000</td>\n",
       "      <td>56000</td>\n",
       "      <td>Wyoming</td>\n",
       "      <td>584153</td>\n",
       "      <td>1.6</td>\n",
       "      <td>9.8</td>\n",
       "      <td>84.1</td>\n",
       "      <td>92.4</td>\n",
       "      <td>24.7</td>\n",
       "      <td>57406</td>\n",
       "      <td>11.5</td>\n",
       "      <td>5.8</td>\n",
       "    </tr>\n",
       "    <tr>\n",
       "      <td>503</td>\n",
       "      <td>Mike Huckabee</td>\n",
       "      <td>Wyoming</td>\n",
       "      <td>Republican</td>\n",
       "      <td>0</td>\n",
       "      <td>0.000000</td>\n",
       "      <td>56000</td>\n",
       "      <td>Wyoming</td>\n",
       "      <td>584153</td>\n",
       "      <td>1.6</td>\n",
       "      <td>9.8</td>\n",
       "      <td>84.1</td>\n",
       "      <td>92.4</td>\n",
       "      <td>24.7</td>\n",
       "      <td>57406</td>\n",
       "      <td>11.5</td>\n",
       "      <td>5.8</td>\n",
       "    </tr>\n",
       "    <tr>\n",
       "      <td>504</td>\n",
       "      <td>Rand Paul</td>\n",
       "      <td>Wyoming</td>\n",
       "      <td>Republican</td>\n",
       "      <td>0</td>\n",
       "      <td>0.000000</td>\n",
       "      <td>56000</td>\n",
       "      <td>Wyoming</td>\n",
       "      <td>584153</td>\n",
       "      <td>1.6</td>\n",
       "      <td>9.8</td>\n",
       "      <td>84.1</td>\n",
       "      <td>92.4</td>\n",
       "      <td>24.7</td>\n",
       "      <td>57406</td>\n",
       "      <td>11.5</td>\n",
       "      <td>5.8</td>\n",
       "    </tr>\n",
       "    <tr>\n",
       "      <td>505</td>\n",
       "      <td>Rick Santorum</td>\n",
       "      <td>Wyoming</td>\n",
       "      <td>Republican</td>\n",
       "      <td>0</td>\n",
       "      <td>0.000000</td>\n",
       "      <td>56000</td>\n",
       "      <td>Wyoming</td>\n",
       "      <td>584153</td>\n",
       "      <td>1.6</td>\n",
       "      <td>9.8</td>\n",
       "      <td>84.1</td>\n",
       "      <td>92.4</td>\n",
       "      <td>24.7</td>\n",
       "      <td>57406</td>\n",
       "      <td>11.5</td>\n",
       "      <td>5.8</td>\n",
       "    </tr>\n",
       "  </tbody>\n",
       "</table>\n",
       "<p>506 rows × 16 columns</p>\n",
       "</div>"
      ],
      "text/plain": [
       "          candidate    state       party   votes  partyFrac   fips area_name  \\\n",
       "0        Ben Carson  Alabama  Republican   87517   0.104481   1000   Alabama   \n",
       "1      Donald Trump  Alabama  Republican  371735   0.443793   1000   Alabama   \n",
       "2       John Kasich  Alabama  Republican   37970   0.045330   1000   Alabama   \n",
       "3       Marco Rubio  Alabama  Republican  159802   0.190778   1000   Alabama   \n",
       "4          Ted Cruz  Alabama  Republican  180608   0.215617   1000   Alabama   \n",
       "..              ...      ...         ...     ...        ...    ...       ...   \n",
       "501  Chris Christie  Wyoming  Republican       0   0.000000  56000   Wyoming   \n",
       "502        Jeb Bush  Wyoming  Republican       0   0.000000  56000   Wyoming   \n",
       "503   Mike Huckabee  Wyoming  Republican       0   0.000000  56000   Wyoming   \n",
       "504       Rand Paul  Wyoming  Republican       0   0.000000  56000   Wyoming   \n",
       "505   Rick Santorum  Wyoming  Republican       0   0.000000  56000   Wyoming   \n",
       "\n",
       "     Population  Black  Latino  White  HighSchool  Bachelors  Income  \\\n",
       "0       4849377   26.7     4.1   66.2        83.1       22.6   43253   \n",
       "1       4849377   26.7     4.1   66.2        83.1       22.6   43253   \n",
       "2       4849377   26.7     4.1   66.2        83.1       22.6   43253   \n",
       "3       4849377   26.7     4.1   66.2        83.1       22.6   43253   \n",
       "4       4849377   26.7     4.1   66.2        83.1       22.6   43253   \n",
       "..          ...    ...     ...    ...         ...        ...     ...   \n",
       "501      584153    1.6     9.8   84.1        92.4       24.7   57406   \n",
       "502      584153    1.6     9.8   84.1        92.4       24.7   57406   \n",
       "503      584153    1.6     9.8   84.1        92.4       24.7   57406   \n",
       "504      584153    1.6     9.8   84.1        92.4       24.7   57406   \n",
       "505      584153    1.6     9.8   84.1        92.4       24.7   57406   \n",
       "\n",
       "     Kurang Mampu  Density  \n",
       "0            18.6     94.4  \n",
       "1            18.6     94.4  \n",
       "2            18.6     94.4  \n",
       "3            18.6     94.4  \n",
       "4            18.6     94.4  \n",
       "..            ...      ...  \n",
       "501          11.5      5.8  \n",
       "502          11.5      5.8  \n",
       "503          11.5      5.8  \n",
       "504          11.5      5.8  \n",
       "505          11.5      5.8  \n",
       "\n",
       "[506 rows x 16 columns]"
      ]
     },
     "execution_count": 307,
     "metadata": {},
     "output_type": "execute_result"
    }
   ],
   "source": [
    "#Merging demographics and results\n",
    "allData = pd.merge(vbs, demographics, how=\"inner\", left_on = 'state',right_on = 'area_name')\n",
    "allData.drop('state_abbreviation',axis=1, inplace=True)\n",
    "allData.head()\n",
    "# #Segregate data candidate wise\n",
    "# allCan = allData[(allData.candidate == \"Ted Cruz\") | (allData.candidate == \"Donald Trump\") | (allData.candidate == \"Hillary Clinton\") | (allData.candidate == \"Bernie Sanders\")  ]\n",
    "# allCan = allCan.reset_index();\n",
    "# allCan.drop('index',axis=1, inplace=True)\n",
    "allData"
   ]
  },
  {
   "cell_type": "markdown",
   "metadata": {},
   "source": [
    "### Head to Head Bernie Sanders(Dem) vs Ted Cruz(Rep) berdasarkan state"
   ]
  },
  {
   "cell_type": "code",
   "execution_count": 113,
   "metadata": {},
   "outputs": [
    {
     "data": {
      "image/png": "[encoded data removed]",
      "text/plain": [
       "<Figure size 1080x576 with 1 Axes>"
      ]
     },
     "metadata": {},
     "output_type": "display_data"
    }
   ],
   "source": [
    "plt.figure(figsize=(15,8))\n",
    "plt.bar(BER.state, BER.votes, color = 'b')\n",
    "plt.bar(TED.state, TED.votes, color = 'r')\n",
    "# plt.bar(Dem.candidate, resultss.votes, color='b')\n",
    "plt.xticks(rotation=90)\n",
    "plt.show()"
   ]
  },
  {
   "cell_type": "markdown",
   "metadata": {},
   "source": [
    "### Head to head Hillary(Dem) vs Trump(Rep) berdasar voter per state"
   ]
  },
  {
   "cell_type": "code",
   "execution_count": 112,
   "metadata": {},
   "outputs": [
    {
     "data": {
      "image/png": "[encoded data removed]",
      "text/plain": [
       "<Figure size 1080x576 with 1 Axes>"
      ]
     },
     "metadata": {},
     "output_type": "display_data"
    }
   ],
   "source": [
    "plt.figure(figsize=(15,8))\n",
    "plt.bar(DNT.state, DNT.votes, color = 'r')\n",
    "plt.bar(Hill.state, Hill.votes, color = 'b')\n",
    "# plt.bar(Dem.candidate, resultss.votes, color='b')\n",
    "plt.xticks(rotation=90)\n",
    "plt.show()"
   ]
  },
  {
   "cell_type": "code",
   "execution_count": 42,
   "metadata": {},
   "outputs": [
    {
     "name": "stdout",
     "output_type": "stream",
     "text": [
      "179130\n"
     ]
    }
   ],
   "source": [
    "a = results[results.party == \"Republican\"]\n",
    "a = results.groupby(\"state_abbreviation\")\n",
    "winner = results[results.candidate == (results.fraction_votes).max()]\n",
    "# print((result.fraction_votes).min())\n",
    "# winner = all.Data1.candidate[which.max(fraction_votes)],\n",
    "#                       Vote = max(fraction_votes),\n",
    "#                       votes = max(votes))\n",
    "results.head()\n",
    "# winner\n",
    "print((results.votes).max())"
   ]
  },
  {
   "cell_type": "code",
   "execution_count": 43,
   "metadata": {},
   "outputs": [
    {
     "data": {
      "text/html": [
       "<div>\n",
       "<style scoped>\n",
       "    .dataframe tbody tr th:only-of-type {\n",
       "        vertical-align: middle;\n",
       "    }\n",
       "\n",
       "    .dataframe tbody tr th {\n",
       "        vertical-align: top;\n",
       "    }\n",
       "\n",
       "    .dataframe thead th {\n",
       "        text-align: right;\n",
       "    }\n",
       "</style>\n",
       "<table border=\"1\" class=\"dataframe\">\n",
       "  <thead>\n",
       "    <tr style=\"text-align: right;\">\n",
       "      <th></th>\n",
       "      <th>candidate</th>\n",
       "      <th>state</th>\n",
       "      <th>party</th>\n",
       "      <th>votes</th>\n",
       "      <th>partyFrac</th>\n",
       "      <th>fips</th>\n",
       "      <th>area_name</th>\n",
       "      <th>Population</th>\n",
       "      <th>Age &gt; 65</th>\n",
       "      <th>Black</th>\n",
       "      <th>Latino</th>\n",
       "      <th>White</th>\n",
       "      <th>HighSchool</th>\n",
       "      <th>Bachelors</th>\n",
       "      <th>Median Household</th>\n",
       "      <th>&lt; Poverty level</th>\n",
       "      <th>Population PSM</th>\n",
       "      <th>Luas Area</th>\n",
       "    </tr>\n",
       "  </thead>\n",
       "  <tbody>\n",
       "    <tr>\n",
       "      <td>0</td>\n",
       "      <td>Ben Carson</td>\n",
       "      <td>Alabama</td>\n",
       "      <td>Republican</td>\n",
       "      <td>87517</td>\n",
       "      <td>0.104481</td>\n",
       "      <td>1000</td>\n",
       "      <td>Alabama</td>\n",
       "      <td>4849377</td>\n",
       "      <td>15.3</td>\n",
       "      <td>26.7</td>\n",
       "      <td>4.1</td>\n",
       "      <td>66.2</td>\n",
       "      <td>83.1</td>\n",
       "      <td>22.6</td>\n",
       "      <td>43253</td>\n",
       "      <td>18.6</td>\n",
       "      <td>94.4</td>\n",
       "      <td>50645.33</td>\n",
       "    </tr>\n",
       "    <tr>\n",
       "      <td>1</td>\n",
       "      <td>Donald Trump</td>\n",
       "      <td>Alabama</td>\n",
       "      <td>Republican</td>\n",
       "      <td>371735</td>\n",
       "      <td>0.443793</td>\n",
       "      <td>1000</td>\n",
       "      <td>Alabama</td>\n",
       "      <td>4849377</td>\n",
       "      <td>15.3</td>\n",
       "      <td>26.7</td>\n",
       "      <td>4.1</td>\n",
       "      <td>66.2</td>\n",
       "      <td>83.1</td>\n",
       "      <td>22.6</td>\n",
       "      <td>43253</td>\n",
       "      <td>18.6</td>\n",
       "      <td>94.4</td>\n",
       "      <td>50645.33</td>\n",
       "    </tr>\n",
       "    <tr>\n",
       "      <td>2</td>\n",
       "      <td>John Kasich</td>\n",
       "      <td>Alabama</td>\n",
       "      <td>Republican</td>\n",
       "      <td>37970</td>\n",
       "      <td>0.045330</td>\n",
       "      <td>1000</td>\n",
       "      <td>Alabama</td>\n",
       "      <td>4849377</td>\n",
       "      <td>15.3</td>\n",
       "      <td>26.7</td>\n",
       "      <td>4.1</td>\n",
       "      <td>66.2</td>\n",
       "      <td>83.1</td>\n",
       "      <td>22.6</td>\n",
       "      <td>43253</td>\n",
       "      <td>18.6</td>\n",
       "      <td>94.4</td>\n",
       "      <td>50645.33</td>\n",
       "    </tr>\n",
       "    <tr>\n",
       "      <td>3</td>\n",
       "      <td>Marco Rubio</td>\n",
       "      <td>Alabama</td>\n",
       "      <td>Republican</td>\n",
       "      <td>159802</td>\n",
       "      <td>0.190778</td>\n",
       "      <td>1000</td>\n",
       "      <td>Alabama</td>\n",
       "      <td>4849377</td>\n",
       "      <td>15.3</td>\n",
       "      <td>26.7</td>\n",
       "      <td>4.1</td>\n",
       "      <td>66.2</td>\n",
       "      <td>83.1</td>\n",
       "      <td>22.6</td>\n",
       "      <td>43253</td>\n",
       "      <td>18.6</td>\n",
       "      <td>94.4</td>\n",
       "      <td>50645.33</td>\n",
       "    </tr>\n",
       "    <tr>\n",
       "      <td>4</td>\n",
       "      <td>Ted Cruz</td>\n",
       "      <td>Alabama</td>\n",
       "      <td>Republican</td>\n",
       "      <td>180608</td>\n",
       "      <td>0.215617</td>\n",
       "      <td>1000</td>\n",
       "      <td>Alabama</td>\n",
       "      <td>4849377</td>\n",
       "      <td>15.3</td>\n",
       "      <td>26.7</td>\n",
       "      <td>4.1</td>\n",
       "      <td>66.2</td>\n",
       "      <td>83.1</td>\n",
       "      <td>22.6</td>\n",
       "      <td>43253</td>\n",
       "      <td>18.6</td>\n",
       "      <td>94.4</td>\n",
       "      <td>50645.33</td>\n",
       "    </tr>\n",
       "    <tr>\n",
       "      <td>...</td>\n",
       "      <td>...</td>\n",
       "      <td>...</td>\n",
       "      <td>...</td>\n",
       "      <td>...</td>\n",
       "      <td>...</td>\n",
       "      <td>...</td>\n",
       "      <td>...</td>\n",
       "      <td>...</td>\n",
       "      <td>...</td>\n",
       "      <td>...</td>\n",
       "      <td>...</td>\n",
       "      <td>...</td>\n",
       "      <td>...</td>\n",
       "      <td>...</td>\n",
       "      <td>...</td>\n",
       "      <td>...</td>\n",
       "      <td>...</td>\n",
       "      <td>...</td>\n",
       "    </tr>\n",
       "    <tr>\n",
       "      <td>501</td>\n",
       "      <td>Chris Christie</td>\n",
       "      <td>Wyoming</td>\n",
       "      <td>Republican</td>\n",
       "      <td>0</td>\n",
       "      <td>0.000000</td>\n",
       "      <td>56000</td>\n",
       "      <td>Wyoming</td>\n",
       "      <td>584153</td>\n",
       "      <td>14.0</td>\n",
       "      <td>1.6</td>\n",
       "      <td>9.8</td>\n",
       "      <td>84.1</td>\n",
       "      <td>92.4</td>\n",
       "      <td>24.7</td>\n",
       "      <td>57406</td>\n",
       "      <td>11.5</td>\n",
       "      <td>5.8</td>\n",
       "      <td>97093.14</td>\n",
       "    </tr>\n",
       "    <tr>\n",
       "      <td>502</td>\n",
       "      <td>Jeb Bush</td>\n",
       "      <td>Wyoming</td>\n",
       "      <td>Republican</td>\n",
       "      <td>0</td>\n",
       "      <td>0.000000</td>\n",
       "      <td>56000</td>\n",
       "      <td>Wyoming</td>\n",
       "      <td>584153</td>\n",
       "      <td>14.0</td>\n",
       "      <td>1.6</td>\n",
       "      <td>9.8</td>\n",
       "      <td>84.1</td>\n",
       "      <td>92.4</td>\n",
       "      <td>24.7</td>\n",
       "      <td>57406</td>\n",
       "      <td>11.5</td>\n",
       "      <td>5.8</td>\n",
       "      <td>97093.14</td>\n",
       "    </tr>\n",
       "    <tr>\n",
       "      <td>503</td>\n",
       "      <td>Mike Huckabee</td>\n",
       "      <td>Wyoming</td>\n",
       "      <td>Republican</td>\n",
       "      <td>0</td>\n",
       "      <td>0.000000</td>\n",
       "      <td>56000</td>\n",
       "      <td>Wyoming</td>\n",
       "      <td>584153</td>\n",
       "      <td>14.0</td>\n",
       "      <td>1.6</td>\n",
       "      <td>9.8</td>\n",
       "      <td>84.1</td>\n",
       "      <td>92.4</td>\n",
       "      <td>24.7</td>\n",
       "      <td>57406</td>\n",
       "      <td>11.5</td>\n",
       "      <td>5.8</td>\n",
       "      <td>97093.14</td>\n",
       "    </tr>\n",
       "    <tr>\n",
       "      <td>504</td>\n",
       "      <td>Rand Paul</td>\n",
       "      <td>Wyoming</td>\n",
       "      <td>Republican</td>\n",
       "      <td>0</td>\n",
       "      <td>0.000000</td>\n",
       "      <td>56000</td>\n",
       "      <td>Wyoming</td>\n",
       "      <td>584153</td>\n",
       "      <td>14.0</td>\n",
       "      <td>1.6</td>\n",
       "      <td>9.8</td>\n",
       "      <td>84.1</td>\n",
       "      <td>92.4</td>\n",
       "      <td>24.7</td>\n",
       "      <td>57406</td>\n",
       "      <td>11.5</td>\n",
       "      <td>5.8</td>\n",
       "      <td>97093.14</td>\n",
       "    </tr>\n",
       "    <tr>\n",
       "      <td>505</td>\n",
       "      <td>Rick Santorum</td>\n",
       "      <td>Wyoming</td>\n",
       "      <td>Republican</td>\n",
       "      <td>0</td>\n",
       "      <td>0.000000</td>\n",
       "      <td>56000</td>\n",
       "      <td>Wyoming</td>\n",
       "      <td>584153</td>\n",
       "      <td>14.0</td>\n",
       "      <td>1.6</td>\n",
       "      <td>9.8</td>\n",
       "      <td>84.1</td>\n",
       "      <td>92.4</td>\n",
       "      <td>24.7</td>\n",
       "      <td>57406</td>\n",
       "      <td>11.5</td>\n",
       "      <td>5.8</td>\n",
       "      <td>97093.14</td>\n",
       "    </tr>\n",
       "  </tbody>\n",
       "</table>\n",
       "<p>506 rows × 18 columns</p>\n",
       "</div>"
      ],
      "text/plain": [
       "          candidate    state       party   votes  partyFrac   fips area_name  \\\n",
       "0        Ben Carson  Alabama  Republican   87517   0.104481   1000   Alabama   \n",
       "1      Donald Trump  Alabama  Republican  371735   0.443793   1000   Alabama   \n",
       "2       John Kasich  Alabama  Republican   37970   0.045330   1000   Alabama   \n",
       "3       Marco Rubio  Alabama  Republican  159802   0.190778   1000   Alabama   \n",
       "4          Ted Cruz  Alabama  Republican  180608   0.215617   1000   Alabama   \n",
       "..              ...      ...         ...     ...        ...    ...       ...   \n",
       "501  Chris Christie  Wyoming  Republican       0   0.000000  56000   Wyoming   \n",
       "502        Jeb Bush  Wyoming  Republican       0   0.000000  56000   Wyoming   \n",
       "503   Mike Huckabee  Wyoming  Republican       0   0.000000  56000   Wyoming   \n",
       "504       Rand Paul  Wyoming  Republican       0   0.000000  56000   Wyoming   \n",
       "505   Rick Santorum  Wyoming  Republican       0   0.000000  56000   Wyoming   \n",
       "\n",
       "     Population  Age > 65  Black  Latino  White  HighSchool  Bachelors  \\\n",
       "0       4849377      15.3   26.7     4.1   66.2        83.1       22.6   \n",
       "1       4849377      15.3   26.7     4.1   66.2        83.1       22.6   \n",
       "2       4849377      15.3   26.7     4.1   66.2        83.1       22.6   \n",
       "3       4849377      15.3   26.7     4.1   66.2        83.1       22.6   \n",
       "4       4849377      15.3   26.7     4.1   66.2        83.1       22.6   \n",
       "..          ...       ...    ...     ...    ...         ...        ...   \n",
       "501      584153      14.0    1.6     9.8   84.1        92.4       24.7   \n",
       "502      584153      14.0    1.6     9.8   84.1        92.4       24.7   \n",
       "503      584153      14.0    1.6     9.8   84.1        92.4       24.7   \n",
       "504      584153      14.0    1.6     9.8   84.1        92.4       24.7   \n",
       "505      584153      14.0    1.6     9.8   84.1        92.4       24.7   \n",
       "\n",
       "     Median Household  < Poverty level  Population PSM  Luas Area  \n",
       "0               43253             18.6            94.4   50645.33  \n",
       "1               43253             18.6            94.4   50645.33  \n",
       "2               43253             18.6            94.4   50645.33  \n",
       "3               43253             18.6            94.4   50645.33  \n",
       "4               43253             18.6            94.4   50645.33  \n",
       "..                ...              ...             ...        ...  \n",
       "501             57406             11.5             5.8   97093.14  \n",
       "502             57406             11.5             5.8   97093.14  \n",
       "503             57406             11.5             5.8   97093.14  \n",
       "504             57406             11.5             5.8   97093.14  \n",
       "505             57406             11.5             5.8   97093.14  \n",
       "\n",
       "[506 rows x 18 columns]"
      ]
     },
     "execution_count": 43,
     "metadata": {},
     "output_type": "execute_result"
    }
   ],
   "source": [
    "allData"
   ]
  },
  {
   "cell_type": "code",
   "execution_count": 44,
   "metadata": {},
   "outputs": [
    {
     "data": {
      "text/html": [
       "<div>\n",
       "<style scoped>\n",
       "    .dataframe tbody tr th:only-of-type {\n",
       "        vertical-align: middle;\n",
       "    }\n",
       "\n",
       "    .dataframe tbody tr th {\n",
       "        vertical-align: top;\n",
       "    }\n",
       "\n",
       "    .dataframe thead th {\n",
       "        text-align: right;\n",
       "    }\n",
       "</style>\n",
       "<table border=\"1\" class=\"dataframe\">\n",
       "  <thead>\n",
       "    <tr style=\"text-align: right;\">\n",
       "      <th></th>\n",
       "      <th>candidate</th>\n",
       "      <th>state</th>\n",
       "      <th>party</th>\n",
       "      <th>votes</th>\n",
       "      <th>partyFrac</th>\n",
       "      <th>fips</th>\n",
       "      <th>area_name</th>\n",
       "      <th>Population</th>\n",
       "      <th>Age &gt; 65</th>\n",
       "      <th>Black</th>\n",
       "      <th>Latino</th>\n",
       "      <th>White</th>\n",
       "      <th>HighSchool</th>\n",
       "      <th>Bachelors</th>\n",
       "      <th>Median Household</th>\n",
       "      <th>&lt; Poverty level</th>\n",
       "      <th>Population PSM</th>\n",
       "      <th>Luas Area</th>\n",
       "    </tr>\n",
       "  </thead>\n",
       "  <tbody>\n",
       "    <tr>\n",
       "      <td>0</td>\n",
       "      <td>Bernie Sanders</td>\n",
       "      <td>Alabama</td>\n",
       "      <td>Democrat</td>\n",
       "      <td>76399</td>\n",
       "      <td>0.197757</td>\n",
       "      <td>1000</td>\n",
       "      <td>Alabama</td>\n",
       "      <td>4849377</td>\n",
       "      <td>15.3</td>\n",
       "      <td>26.7</td>\n",
       "      <td>4.1</td>\n",
       "      <td>66.2</td>\n",
       "      <td>83.1</td>\n",
       "      <td>22.6</td>\n",
       "      <td>43253</td>\n",
       "      <td>18.6</td>\n",
       "      <td>94.4</td>\n",
       "      <td>50645.33</td>\n",
       "    </tr>\n",
       "    <tr>\n",
       "      <td>1</td>\n",
       "      <td>Hillary Clinton</td>\n",
       "      <td>Alabama</td>\n",
       "      <td>Democrat</td>\n",
       "      <td>309928</td>\n",
       "      <td>0.802243</td>\n",
       "      <td>1000</td>\n",
       "      <td>Alabama</td>\n",
       "      <td>4849377</td>\n",
       "      <td>15.3</td>\n",
       "      <td>26.7</td>\n",
       "      <td>4.1</td>\n",
       "      <td>66.2</td>\n",
       "      <td>83.1</td>\n",
       "      <td>22.6</td>\n",
       "      <td>43253</td>\n",
       "      <td>18.6</td>\n",
       "      <td>94.4</td>\n",
       "      <td>50645.33</td>\n",
       "    </tr>\n",
       "    <tr>\n",
       "      <td>2</td>\n",
       "      <td>Martin O'Malley</td>\n",
       "      <td>Alabama</td>\n",
       "      <td>Democrat</td>\n",
       "      <td>0</td>\n",
       "      <td>0.000000</td>\n",
       "      <td>1000</td>\n",
       "      <td>Alabama</td>\n",
       "      <td>4849377</td>\n",
       "      <td>15.3</td>\n",
       "      <td>26.7</td>\n",
       "      <td>4.1</td>\n",
       "      <td>66.2</td>\n",
       "      <td>83.1</td>\n",
       "      <td>22.6</td>\n",
       "      <td>43253</td>\n",
       "      <td>18.6</td>\n",
       "      <td>94.4</td>\n",
       "      <td>50645.33</td>\n",
       "    </tr>\n",
       "    <tr>\n",
       "      <td>3</td>\n",
       "      <td>No Preference</td>\n",
       "      <td>Alabama</td>\n",
       "      <td>Democrat</td>\n",
       "      <td>0</td>\n",
       "      <td>0.000000</td>\n",
       "      <td>1000</td>\n",
       "      <td>Alabama</td>\n",
       "      <td>4849377</td>\n",
       "      <td>15.3</td>\n",
       "      <td>26.7</td>\n",
       "      <td>4.1</td>\n",
       "      <td>66.2</td>\n",
       "      <td>83.1</td>\n",
       "      <td>22.6</td>\n",
       "      <td>43253</td>\n",
       "      <td>18.6</td>\n",
       "      <td>94.4</td>\n",
       "      <td>50645.33</td>\n",
       "    </tr>\n",
       "    <tr>\n",
       "      <td>4</td>\n",
       "      <td>Bernie Sanders</td>\n",
       "      <td>Alaska</td>\n",
       "      <td>Democrat</td>\n",
       "      <td>440</td>\n",
       "      <td>0.816327</td>\n",
       "      <td>2000</td>\n",
       "      <td>Alaska</td>\n",
       "      <td>736732</td>\n",
       "      <td>9.4</td>\n",
       "      <td>3.9</td>\n",
       "      <td>6.8</td>\n",
       "      <td>61.9</td>\n",
       "      <td>91.6</td>\n",
       "      <td>27.5</td>\n",
       "      <td>70760</td>\n",
       "      <td>9.9</td>\n",
       "      <td>1.2</td>\n",
       "      <td>570640.95</td>\n",
       "    </tr>\n",
       "    <tr>\n",
       "      <td>...</td>\n",
       "      <td>...</td>\n",
       "      <td>...</td>\n",
       "      <td>...</td>\n",
       "      <td>...</td>\n",
       "      <td>...</td>\n",
       "      <td>...</td>\n",
       "      <td>...</td>\n",
       "      <td>...</td>\n",
       "      <td>...</td>\n",
       "      <td>...</td>\n",
       "      <td>...</td>\n",
       "      <td>...</td>\n",
       "      <td>...</td>\n",
       "      <td>...</td>\n",
       "      <td>...</td>\n",
       "      <td>...</td>\n",
       "      <td>...</td>\n",
       "      <td>...</td>\n",
       "    </tr>\n",
       "    <tr>\n",
       "      <td>191</td>\n",
       "      <td>No Preference</td>\n",
       "      <td>Wisconsin</td>\n",
       "      <td>Democrat</td>\n",
       "      <td>0</td>\n",
       "      <td>0.000000</td>\n",
       "      <td>55000</td>\n",
       "      <td>Wisconsin</td>\n",
       "      <td>5757564</td>\n",
       "      <td>15.2</td>\n",
       "      <td>6.6</td>\n",
       "      <td>6.5</td>\n",
       "      <td>82.2</td>\n",
       "      <td>90.4</td>\n",
       "      <td>26.8</td>\n",
       "      <td>52413</td>\n",
       "      <td>13.0</td>\n",
       "      <td>105.0</td>\n",
       "      <td>54157.80</td>\n",
       "    </tr>\n",
       "    <tr>\n",
       "      <td>192</td>\n",
       "      <td>Bernie Sanders</td>\n",
       "      <td>Wyoming</td>\n",
       "      <td>Democrat</td>\n",
       "      <td>156</td>\n",
       "      <td>0.557143</td>\n",
       "      <td>56000</td>\n",
       "      <td>Wyoming</td>\n",
       "      <td>584153</td>\n",
       "      <td>14.0</td>\n",
       "      <td>1.6</td>\n",
       "      <td>9.8</td>\n",
       "      <td>84.1</td>\n",
       "      <td>92.4</td>\n",
       "      <td>24.7</td>\n",
       "      <td>57406</td>\n",
       "      <td>11.5</td>\n",
       "      <td>5.8</td>\n",
       "      <td>97093.14</td>\n",
       "    </tr>\n",
       "    <tr>\n",
       "      <td>193</td>\n",
       "      <td>Hillary Clinton</td>\n",
       "      <td>Wyoming</td>\n",
       "      <td>Democrat</td>\n",
       "      <td>124</td>\n",
       "      <td>0.442857</td>\n",
       "      <td>56000</td>\n",
       "      <td>Wyoming</td>\n",
       "      <td>584153</td>\n",
       "      <td>14.0</td>\n",
       "      <td>1.6</td>\n",
       "      <td>9.8</td>\n",
       "      <td>84.1</td>\n",
       "      <td>92.4</td>\n",
       "      <td>24.7</td>\n",
       "      <td>57406</td>\n",
       "      <td>11.5</td>\n",
       "      <td>5.8</td>\n",
       "      <td>97093.14</td>\n",
       "    </tr>\n",
       "    <tr>\n",
       "      <td>194</td>\n",
       "      <td>Martin O'Malley</td>\n",
       "      <td>Wyoming</td>\n",
       "      <td>Democrat</td>\n",
       "      <td>0</td>\n",
       "      <td>0.000000</td>\n",
       "      <td>56000</td>\n",
       "      <td>Wyoming</td>\n",
       "      <td>584153</td>\n",
       "      <td>14.0</td>\n",
       "      <td>1.6</td>\n",
       "      <td>9.8</td>\n",
       "      <td>84.1</td>\n",
       "      <td>92.4</td>\n",
       "      <td>24.7</td>\n",
       "      <td>57406</td>\n",
       "      <td>11.5</td>\n",
       "      <td>5.8</td>\n",
       "      <td>97093.14</td>\n",
       "    </tr>\n",
       "    <tr>\n",
       "      <td>195</td>\n",
       "      <td>No Preference</td>\n",
       "      <td>Wyoming</td>\n",
       "      <td>Democrat</td>\n",
       "      <td>0</td>\n",
       "      <td>0.000000</td>\n",
       "      <td>56000</td>\n",
       "      <td>Wyoming</td>\n",
       "      <td>584153</td>\n",
       "      <td>14.0</td>\n",
       "      <td>1.6</td>\n",
       "      <td>9.8</td>\n",
       "      <td>84.1</td>\n",
       "      <td>92.4</td>\n",
       "      <td>24.7</td>\n",
       "      <td>57406</td>\n",
       "      <td>11.5</td>\n",
       "      <td>5.8</td>\n",
       "      <td>97093.14</td>\n",
       "    </tr>\n",
       "  </tbody>\n",
       "</table>\n",
       "<p>196 rows × 18 columns</p>\n",
       "</div>"
      ],
      "text/plain": [
       "           candidate      state     party   votes  partyFrac   fips  \\\n",
       "0     Bernie Sanders    Alabama  Democrat   76399   0.197757   1000   \n",
       "1    Hillary Clinton    Alabama  Democrat  309928   0.802243   1000   \n",
       "2    Martin O'Malley    Alabama  Democrat       0   0.000000   1000   \n",
       "3      No Preference    Alabama  Democrat       0   0.000000   1000   \n",
       "4     Bernie Sanders     Alaska  Democrat     440   0.816327   2000   \n",
       "..               ...        ...       ...     ...        ...    ...   \n",
       "191    No Preference  Wisconsin  Democrat       0   0.000000  55000   \n",
       "192   Bernie Sanders    Wyoming  Democrat     156   0.557143  56000   \n",
       "193  Hillary Clinton    Wyoming  Democrat     124   0.442857  56000   \n",
       "194  Martin O'Malley    Wyoming  Democrat       0   0.000000  56000   \n",
       "195    No Preference    Wyoming  Democrat       0   0.000000  56000   \n",
       "\n",
       "     area_name  Population  Age > 65  Black  Latino  White  HighSchool  \\\n",
       "0      Alabama     4849377      15.3   26.7     4.1   66.2        83.1   \n",
       "1      Alabama     4849377      15.3   26.7     4.1   66.2        83.1   \n",
       "2      Alabama     4849377      15.3   26.7     4.1   66.2        83.1   \n",
       "3      Alabama     4849377      15.3   26.7     4.1   66.2        83.1   \n",
       "4       Alaska      736732       9.4    3.9     6.8   61.9        91.6   \n",
       "..         ...         ...       ...    ...     ...    ...         ...   \n",
       "191  Wisconsin     5757564      15.2    6.6     6.5   82.2        90.4   \n",
       "192    Wyoming      584153      14.0    1.6     9.8   84.1        92.4   \n",
       "193    Wyoming      584153      14.0    1.6     9.8   84.1        92.4   \n",
       "194    Wyoming      584153      14.0    1.6     9.8   84.1        92.4   \n",
       "195    Wyoming      584153      14.0    1.6     9.8   84.1        92.4   \n",
       "\n",
       "     Bachelors  Median Household  < Poverty level  Population PSM  Luas Area  \n",
       "0         22.6             43253             18.6            94.4   50645.33  \n",
       "1         22.6             43253             18.6            94.4   50645.33  \n",
       "2         22.6             43253             18.6            94.4   50645.33  \n",
       "3         22.6             43253             18.6            94.4   50645.33  \n",
       "4         27.5             70760              9.9             1.2  570640.95  \n",
       "..         ...               ...              ...             ...        ...  \n",
       "191       26.8             52413             13.0           105.0   54157.80  \n",
       "192       24.7             57406             11.5             5.8   97093.14  \n",
       "193       24.7             57406             11.5             5.8   97093.14  \n",
       "194       24.7             57406             11.5             5.8   97093.14  \n",
       "195       24.7             57406             11.5             5.8   97093.14  \n",
       "\n",
       "[196 rows x 18 columns]"
      ]
     },
     "execution_count": 44,
     "metadata": {},
     "output_type": "execute_result"
    }
   ],
   "source": [
    "# Hill = allData[(allData.candidate == \"Donald Trump\")] #| (allData.candidate != \"Donald Trump\")]\n",
    "# DNT = DNT.reset_index();\n",
    "# DNT.drop('index',axis=1, inplace=True)\n",
    "# DNT.head()\n",
    "allData11"
   ]
  },
  {
   "cell_type": "code",
   "execution_count": 45,
   "metadata": {},
   "outputs": [
    {
     "data": {
      "text/html": [
       "<div>\n",
       "<style scoped>\n",
       "    .dataframe tbody tr th:only-of-type {\n",
       "        vertical-align: middle;\n",
       "    }\n",
       "\n",
       "    .dataframe tbody tr th {\n",
       "        vertical-align: top;\n",
       "    }\n",
       "\n",
       "    .dataframe thead th {\n",
       "        text-align: right;\n",
       "    }\n",
       "</style>\n",
       "<table border=\"1\" class=\"dataframe\">\n",
       "  <thead>\n",
       "    <tr style=\"text-align: right;\">\n",
       "      <th></th>\n",
       "      <th>candidate</th>\n",
       "      <th>state</th>\n",
       "      <th>party</th>\n",
       "      <th>votes</th>\n",
       "      <th>partyFrac</th>\n",
       "      <th>fips</th>\n",
       "      <th>area_name</th>\n",
       "      <th>Population</th>\n",
       "      <th>Age &gt; 65</th>\n",
       "      <th>Black</th>\n",
       "      <th>Latino</th>\n",
       "      <th>White</th>\n",
       "      <th>HighSchool</th>\n",
       "      <th>Bachelors</th>\n",
       "      <th>Median Household</th>\n",
       "      <th>&lt; Poverty level</th>\n",
       "      <th>Population PSM</th>\n",
       "      <th>Luas Area</th>\n",
       "    </tr>\n",
       "  </thead>\n",
       "  <tbody>\n",
       "    <tr>\n",
       "      <td>0</td>\n",
       "      <td>Hillary Clinton</td>\n",
       "      <td>Alabama</td>\n",
       "      <td>Democrat</td>\n",
       "      <td>309928</td>\n",
       "      <td>0.802243</td>\n",
       "      <td>1000</td>\n",
       "      <td>Alabama</td>\n",
       "      <td>4849377</td>\n",
       "      <td>15.3</td>\n",
       "      <td>26.7</td>\n",
       "      <td>4.1</td>\n",
       "      <td>66.2</td>\n",
       "      <td>83.1</td>\n",
       "      <td>22.6</td>\n",
       "      <td>43253</td>\n",
       "      <td>18.6</td>\n",
       "      <td>94.4</td>\n",
       "      <td>50645.33</td>\n",
       "    </tr>\n",
       "    <tr>\n",
       "      <td>1</td>\n",
       "      <td>Hillary Clinton</td>\n",
       "      <td>Alaska</td>\n",
       "      <td>Democrat</td>\n",
       "      <td>99</td>\n",
       "      <td>0.183673</td>\n",
       "      <td>2000</td>\n",
       "      <td>Alaska</td>\n",
       "      <td>736732</td>\n",
       "      <td>9.4</td>\n",
       "      <td>3.9</td>\n",
       "      <td>6.8</td>\n",
       "      <td>61.9</td>\n",
       "      <td>91.6</td>\n",
       "      <td>27.5</td>\n",
       "      <td>70760</td>\n",
       "      <td>9.9</td>\n",
       "      <td>1.2</td>\n",
       "      <td>570640.95</td>\n",
       "    </tr>\n",
       "    <tr>\n",
       "      <td>2</td>\n",
       "      <td>Hillary Clinton</td>\n",
       "      <td>Arizona</td>\n",
       "      <td>Democrat</td>\n",
       "      <td>235697</td>\n",
       "      <td>0.590576</td>\n",
       "      <td>4000</td>\n",
       "      <td>Arizona</td>\n",
       "      <td>6731484</td>\n",
       "      <td>15.9</td>\n",
       "      <td>4.7</td>\n",
       "      <td>30.5</td>\n",
       "      <td>56.2</td>\n",
       "      <td>85.7</td>\n",
       "      <td>26.9</td>\n",
       "      <td>49774</td>\n",
       "      <td>17.9</td>\n",
       "      <td>56.3</td>\n",
       "      <td>113594.08</td>\n",
       "    </tr>\n",
       "    <tr>\n",
       "      <td>3</td>\n",
       "      <td>Hillary Clinton</td>\n",
       "      <td>Arkansas</td>\n",
       "      <td>Democrat</td>\n",
       "      <td>144580</td>\n",
       "      <td>0.690291</td>\n",
       "      <td>5000</td>\n",
       "      <td>Arkansas</td>\n",
       "      <td>2966369</td>\n",
       "      <td>15.7</td>\n",
       "      <td>15.6</td>\n",
       "      <td>7.0</td>\n",
       "      <td>73.4</td>\n",
       "      <td>83.7</td>\n",
       "      <td>20.1</td>\n",
       "      <td>40768</td>\n",
       "      <td>19.2</td>\n",
       "      <td>56.0</td>\n",
       "      <td>52035.48</td>\n",
       "    </tr>\n",
       "    <tr>\n",
       "      <td>4</td>\n",
       "      <td>Hillary Clinton</td>\n",
       "      <td>California</td>\n",
       "      <td>Democrat</td>\n",
       "      <td>1940580</td>\n",
       "      <td>0.563692</td>\n",
       "      <td>6000</td>\n",
       "      <td>California</td>\n",
       "      <td>38802500</td>\n",
       "      <td>12.9</td>\n",
       "      <td>6.5</td>\n",
       "      <td>38.6</td>\n",
       "      <td>38.5</td>\n",
       "      <td>81.2</td>\n",
       "      <td>30.7</td>\n",
       "      <td>61094</td>\n",
       "      <td>15.9</td>\n",
       "      <td>239.1</td>\n",
       "      <td>155779.22</td>\n",
       "    </tr>\n",
       "    <tr>\n",
       "      <td>5</td>\n",
       "      <td>Hillary Clinton</td>\n",
       "      <td>Colorado</td>\n",
       "      <td>Democrat</td>\n",
       "      <td>49256</td>\n",
       "      <td>0.406456</td>\n",
       "      <td>8000</td>\n",
       "      <td>Colorado</td>\n",
       "      <td>5355866</td>\n",
       "      <td>12.7</td>\n",
       "      <td>4.5</td>\n",
       "      <td>21.2</td>\n",
       "      <td>69.0</td>\n",
       "      <td>90.2</td>\n",
       "      <td>37.0</td>\n",
       "      <td>58433</td>\n",
       "      <td>13.2</td>\n",
       "      <td>48.5</td>\n",
       "      <td>103641.89</td>\n",
       "    </tr>\n",
       "    <tr>\n",
       "      <td>6</td>\n",
       "      <td>Hillary Clinton</td>\n",
       "      <td>Connecticut</td>\n",
       "      <td>Democrat</td>\n",
       "      <td>170075</td>\n",
       "      <td>0.527389</td>\n",
       "      <td>9000</td>\n",
       "      <td>Connecticut</td>\n",
       "      <td>3596677</td>\n",
       "      <td>15.5</td>\n",
       "      <td>11.5</td>\n",
       "      <td>15.0</td>\n",
       "      <td>68.8</td>\n",
       "      <td>89.2</td>\n",
       "      <td>36.5</td>\n",
       "      <td>69461</td>\n",
       "      <td>10.2</td>\n",
       "      <td>738.1</td>\n",
       "      <td>4842.36</td>\n",
       "    </tr>\n",
       "    <tr>\n",
       "      <td>7</td>\n",
       "      <td>Hillary Clinton</td>\n",
       "      <td>Delaware</td>\n",
       "      <td>Democrat</td>\n",
       "      <td>55950</td>\n",
       "      <td>0.604153</td>\n",
       "      <td>10000</td>\n",
       "      <td>Delaware</td>\n",
       "      <td>935614</td>\n",
       "      <td>16.4</td>\n",
       "      <td>22.2</td>\n",
       "      <td>8.9</td>\n",
       "      <td>63.7</td>\n",
       "      <td>87.7</td>\n",
       "      <td>28.9</td>\n",
       "      <td>59878</td>\n",
       "      <td>11.7</td>\n",
       "      <td>460.8</td>\n",
       "      <td>1948.54</td>\n",
       "    </tr>\n",
       "    <tr>\n",
       "      <td>8</td>\n",
       "      <td>Hillary Clinton</td>\n",
       "      <td>Florida</td>\n",
       "      <td>Democrat</td>\n",
       "      <td>1097400</td>\n",
       "      <td>0.659494</td>\n",
       "      <td>12000</td>\n",
       "      <td>Florida</td>\n",
       "      <td>19893297</td>\n",
       "      <td>19.1</td>\n",
       "      <td>16.8</td>\n",
       "      <td>24.1</td>\n",
       "      <td>55.8</td>\n",
       "      <td>86.1</td>\n",
       "      <td>26.4</td>\n",
       "      <td>46956</td>\n",
       "      <td>16.3</td>\n",
       "      <td>350.6</td>\n",
       "      <td>53624.76</td>\n",
       "    </tr>\n",
       "    <tr>\n",
       "      <td>9</td>\n",
       "      <td>Hillary Clinton</td>\n",
       "      <td>Georgia</td>\n",
       "      <td>Democrat</td>\n",
       "      <td>543008</td>\n",
       "      <td>0.716994</td>\n",
       "      <td>13000</td>\n",
       "      <td>Georgia</td>\n",
       "      <td>10097343</td>\n",
       "      <td>12.4</td>\n",
       "      <td>31.5</td>\n",
       "      <td>9.3</td>\n",
       "      <td>54.3</td>\n",
       "      <td>84.7</td>\n",
       "      <td>28.0</td>\n",
       "      <td>49179</td>\n",
       "      <td>18.2</td>\n",
       "      <td>168.4</td>\n",
       "      <td>57513.49</td>\n",
       "    </tr>\n",
       "    <tr>\n",
       "      <td>10</td>\n",
       "      <td>Hillary Clinton</td>\n",
       "      <td>Hawaii</td>\n",
       "      <td>Democrat</td>\n",
       "      <td>10127</td>\n",
       "      <td>0.300879</td>\n",
       "      <td>15000</td>\n",
       "      <td>Hawaii</td>\n",
       "      <td>1419561</td>\n",
       "      <td>16.1</td>\n",
       "      <td>2.5</td>\n",
       "      <td>10.1</td>\n",
       "      <td>23.0</td>\n",
       "      <td>90.4</td>\n",
       "      <td>30.1</td>\n",
       "      <td>67402</td>\n",
       "      <td>11.2</td>\n",
       "      <td>211.8</td>\n",
       "      <td>6422.63</td>\n",
       "    </tr>\n",
       "    <tr>\n",
       "      <td>11</td>\n",
       "      <td>Hillary Clinton</td>\n",
       "      <td>Idaho</td>\n",
       "      <td>Democrat</td>\n",
       "      <td>5065</td>\n",
       "      <td>0.213668</td>\n",
       "      <td>16000</td>\n",
       "      <td>Idaho</td>\n",
       "      <td>1634464</td>\n",
       "      <td>14.3</td>\n",
       "      <td>0.8</td>\n",
       "      <td>12.0</td>\n",
       "      <td>82.8</td>\n",
       "      <td>88.8</td>\n",
       "      <td>25.1</td>\n",
       "      <td>46767</td>\n",
       "      <td>15.5</td>\n",
       "      <td>19.0</td>\n",
       "      <td>82643.12</td>\n",
       "    </tr>\n",
       "    <tr>\n",
       "      <td>12</td>\n",
       "      <td>Hillary Clinton</td>\n",
       "      <td>Illinois</td>\n",
       "      <td>Democrat</td>\n",
       "      <td>1012175</td>\n",
       "      <td>0.509185</td>\n",
       "      <td>17000</td>\n",
       "      <td>Illinois</td>\n",
       "      <td>12880580</td>\n",
       "      <td>13.9</td>\n",
       "      <td>14.7</td>\n",
       "      <td>16.7</td>\n",
       "      <td>62.3</td>\n",
       "      <td>87.3</td>\n",
       "      <td>31.4</td>\n",
       "      <td>56797</td>\n",
       "      <td>14.1</td>\n",
       "      <td>231.1</td>\n",
       "      <td>55518.93</td>\n",
       "    </tr>\n",
       "    <tr>\n",
       "      <td>13</td>\n",
       "      <td>Hillary Clinton</td>\n",
       "      <td>Indiana</td>\n",
       "      <td>Democrat</td>\n",
       "      <td>303382</td>\n",
       "      <td>0.475045</td>\n",
       "      <td>18000</td>\n",
       "      <td>Indiana</td>\n",
       "      <td>6596855</td>\n",
       "      <td>14.3</td>\n",
       "      <td>9.6</td>\n",
       "      <td>6.6</td>\n",
       "      <td>80.3</td>\n",
       "      <td>87.2</td>\n",
       "      <td>23.2</td>\n",
       "      <td>48248</td>\n",
       "      <td>15.4</td>\n",
       "      <td>181.0</td>\n",
       "      <td>35826.11</td>\n",
       "    </tr>\n",
       "    <tr>\n",
       "      <td>14</td>\n",
       "      <td>Hillary Clinton</td>\n",
       "      <td>Iowa</td>\n",
       "      <td>Democrat</td>\n",
       "      <td>69733</td>\n",
       "      <td>0.498317</td>\n",
       "      <td>19000</td>\n",
       "      <td>Iowa</td>\n",
       "      <td>3107126</td>\n",
       "      <td>15.8</td>\n",
       "      <td>3.4</td>\n",
       "      <td>5.6</td>\n",
       "      <td>87.1</td>\n",
       "      <td>91.0</td>\n",
       "      <td>25.7</td>\n",
       "      <td>51843</td>\n",
       "      <td>12.4</td>\n",
       "      <td>54.5</td>\n",
       "      <td>55857.13</td>\n",
       "    </tr>\n",
       "    <tr>\n",
       "      <td>15</td>\n",
       "      <td>Hillary Clinton</td>\n",
       "      <td>Kansas</td>\n",
       "      <td>Democrat</td>\n",
       "      <td>12593</td>\n",
       "      <td>0.322542</td>\n",
       "      <td>20000</td>\n",
       "      <td>Kansas</td>\n",
       "      <td>2904021</td>\n",
       "      <td>14.3</td>\n",
       "      <td>6.3</td>\n",
       "      <td>11.4</td>\n",
       "      <td>76.8</td>\n",
       "      <td>89.8</td>\n",
       "      <td>30.3</td>\n",
       "      <td>51332</td>\n",
       "      <td>13.7</td>\n",
       "      <td>34.9</td>\n",
       "      <td>81758.72</td>\n",
       "    </tr>\n",
       "    <tr>\n",
       "      <td>16</td>\n",
       "      <td>Hillary Clinton</td>\n",
       "      <td>Kentucky</td>\n",
       "      <td>Democrat</td>\n",
       "      <td>212550</td>\n",
       "      <td>0.502273</td>\n",
       "      <td>21000</td>\n",
       "      <td>Kentucky</td>\n",
       "      <td>4413457</td>\n",
       "      <td>14.8</td>\n",
       "      <td>8.2</td>\n",
       "      <td>3.4</td>\n",
       "      <td>85.4</td>\n",
       "      <td>83.0</td>\n",
       "      <td>21.5</td>\n",
       "      <td>43036</td>\n",
       "      <td>18.8</td>\n",
       "      <td>109.9</td>\n",
       "      <td>39486.34</td>\n",
       "    </tr>\n",
       "    <tr>\n",
       "      <td>17</td>\n",
       "      <td>Hillary Clinton</td>\n",
       "      <td>Louisiana</td>\n",
       "      <td>Democrat</td>\n",
       "      <td>221615</td>\n",
       "      <td>0.754164</td>\n",
       "      <td>22000</td>\n",
       "      <td>Louisiana</td>\n",
       "      <td>4649676</td>\n",
       "      <td>13.6</td>\n",
       "      <td>32.5</td>\n",
       "      <td>4.8</td>\n",
       "      <td>59.3</td>\n",
       "      <td>82.6</td>\n",
       "      <td>21.8</td>\n",
       "      <td>44874</td>\n",
       "      <td>19.1</td>\n",
       "      <td>104.9</td>\n",
       "      <td>43203.90</td>\n",
       "    </tr>\n",
       "    <tr>\n",
       "      <td>18</td>\n",
       "      <td>Hillary Clinton</td>\n",
       "      <td>Maine</td>\n",
       "      <td>Democrat</td>\n",
       "      <td>1214</td>\n",
       "      <td>0.355490</td>\n",
       "      <td>23000</td>\n",
       "      <td>Maine</td>\n",
       "      <td>1330089</td>\n",
       "      <td>18.3</td>\n",
       "      <td>1.4</td>\n",
       "      <td>1.5</td>\n",
       "      <td>93.8</td>\n",
       "      <td>91.1</td>\n",
       "      <td>27.9</td>\n",
       "      <td>48453</td>\n",
       "      <td>13.6</td>\n",
       "      <td>43.1</td>\n",
       "      <td>30842.92</td>\n",
       "    </tr>\n",
       "    <tr>\n",
       "      <td>19</td>\n",
       "      <td>Hillary Clinton</td>\n",
       "      <td>Maryland</td>\n",
       "      <td>Democrat</td>\n",
       "      <td>533247</td>\n",
       "      <td>0.654675</td>\n",
       "      <td>24000</td>\n",
       "      <td>Maryland</td>\n",
       "      <td>5976407</td>\n",
       "      <td>13.8</td>\n",
       "      <td>30.3</td>\n",
       "      <td>9.3</td>\n",
       "      <td>52.6</td>\n",
       "      <td>88.7</td>\n",
       "      <td>36.8</td>\n",
       "      <td>73538</td>\n",
       "      <td>9.8</td>\n",
       "      <td>594.8</td>\n",
       "      <td>9707.24</td>\n",
       "    </tr>\n",
       "    <tr>\n",
       "      <td>20</td>\n",
       "      <td>Hillary Clinton</td>\n",
       "      <td>Massachusetts</td>\n",
       "      <td>Democrat</td>\n",
       "      <td>603784</td>\n",
       "      <td>0.503719</td>\n",
       "      <td>25000</td>\n",
       "      <td>Massachusetts</td>\n",
       "      <td>6745408</td>\n",
       "      <td>15.1</td>\n",
       "      <td>8.3</td>\n",
       "      <td>10.8</td>\n",
       "      <td>74.3</td>\n",
       "      <td>89.4</td>\n",
       "      <td>39.4</td>\n",
       "      <td>66866</td>\n",
       "      <td>11.4</td>\n",
       "      <td>839.4</td>\n",
       "      <td>7800.06</td>\n",
       "    </tr>\n",
       "    <tr>\n",
       "      <td>21</td>\n",
       "      <td>Hillary Clinton</td>\n",
       "      <td>Michigan</td>\n",
       "      <td>Democrat</td>\n",
       "      <td>576795</td>\n",
       "      <td>0.492139</td>\n",
       "      <td>26000</td>\n",
       "      <td>Michigan</td>\n",
       "      <td>9909877</td>\n",
       "      <td>15.4</td>\n",
       "      <td>14.2</td>\n",
       "      <td>4.8</td>\n",
       "      <td>75.8</td>\n",
       "      <td>88.9</td>\n",
       "      <td>25.9</td>\n",
       "      <td>48411</td>\n",
       "      <td>16.8</td>\n",
       "      <td>174.8</td>\n",
       "      <td>56538.90</td>\n",
       "    </tr>\n",
       "    <tr>\n",
       "      <td>22</td>\n",
       "      <td>Hillary Clinton</td>\n",
       "      <td>Mississippi</td>\n",
       "      <td>Democrat</td>\n",
       "      <td>182447</td>\n",
       "      <td>0.833872</td>\n",
       "      <td>28000</td>\n",
       "      <td>Mississippi</td>\n",
       "      <td>2994079</td>\n",
       "      <td>14.3</td>\n",
       "      <td>37.5</td>\n",
       "      <td>3.0</td>\n",
       "      <td>57.3</td>\n",
       "      <td>81.5</td>\n",
       "      <td>20.1</td>\n",
       "      <td>39031</td>\n",
       "      <td>22.7</td>\n",
       "      <td>63.2</td>\n",
       "      <td>46923.27</td>\n",
       "    </tr>\n",
       "    <tr>\n",
       "      <td>23</td>\n",
       "      <td>Hillary Clinton</td>\n",
       "      <td>Missouri</td>\n",
       "      <td>Democrat</td>\n",
       "      <td>310602</td>\n",
       "      <td>0.501235</td>\n",
       "      <td>29000</td>\n",
       "      <td>Missouri</td>\n",
       "      <td>6063589</td>\n",
       "      <td>15.4</td>\n",
       "      <td>11.8</td>\n",
       "      <td>4.0</td>\n",
       "      <td>80.1</td>\n",
       "      <td>87.6</td>\n",
       "      <td>26.2</td>\n",
       "      <td>47380</td>\n",
       "      <td>15.5</td>\n",
       "      <td>87.1</td>\n",
       "      <td>68741.52</td>\n",
       "    </tr>\n",
       "    <tr>\n",
       "      <td>24</td>\n",
       "      <td>Hillary Clinton</td>\n",
       "      <td>Montana</td>\n",
       "      <td>Democrat</td>\n",
       "      <td>55194</td>\n",
       "      <td>0.466315</td>\n",
       "      <td>30000</td>\n",
       "      <td>Montana</td>\n",
       "      <td>1023579</td>\n",
       "      <td>16.7</td>\n",
       "      <td>0.6</td>\n",
       "      <td>3.5</td>\n",
       "      <td>86.7</td>\n",
       "      <td>92.1</td>\n",
       "      <td>28.7</td>\n",
       "      <td>46230</td>\n",
       "      <td>15.2</td>\n",
       "      <td>6.8</td>\n",
       "      <td>145545.80</td>\n",
       "    </tr>\n",
       "    <tr>\n",
       "      <td>25</td>\n",
       "      <td>Hillary Clinton</td>\n",
       "      <td>Nebraska</td>\n",
       "      <td>Democrat</td>\n",
       "      <td>14340</td>\n",
       "      <td>0.428571</td>\n",
       "      <td>31000</td>\n",
       "      <td>Nebraska</td>\n",
       "      <td>1881503</td>\n",
       "      <td>14.4</td>\n",
       "      <td>4.9</td>\n",
       "      <td>10.2</td>\n",
       "      <td>80.5</td>\n",
       "      <td>90.5</td>\n",
       "      <td>28.5</td>\n",
       "      <td>51672</td>\n",
       "      <td>12.8</td>\n",
       "      <td>23.8</td>\n",
       "      <td>76824.17</td>\n",
       "    </tr>\n",
       "    <tr>\n",
       "      <td>26</td>\n",
       "      <td>Hillary Clinton</td>\n",
       "      <td>Nevada</td>\n",
       "      <td>Democrat</td>\n",
       "      <td>6296</td>\n",
       "      <td>0.527436</td>\n",
       "      <td>32000</td>\n",
       "      <td>Nevada</td>\n",
       "      <td>2839099</td>\n",
       "      <td>14.2</td>\n",
       "      <td>9.1</td>\n",
       "      <td>27.8</td>\n",
       "      <td>51.5</td>\n",
       "      <td>84.6</td>\n",
       "      <td>22.4</td>\n",
       "      <td>52800</td>\n",
       "      <td>15.0</td>\n",
       "      <td>24.6</td>\n",
       "      <td>109781.18</td>\n",
       "    </tr>\n",
       "    <tr>\n",
       "      <td>27</td>\n",
       "      <td>Hillary Clinton</td>\n",
       "      <td>New Hampshire</td>\n",
       "      <td>Democrat</td>\n",
       "      <td>95252</td>\n",
       "      <td>0.385892</td>\n",
       "      <td>33000</td>\n",
       "      <td>New Hampshire</td>\n",
       "      <td>1326813</td>\n",
       "      <td>15.9</td>\n",
       "      <td>1.5</td>\n",
       "      <td>3.3</td>\n",
       "      <td>91.3</td>\n",
       "      <td>91.8</td>\n",
       "      <td>33.7</td>\n",
       "      <td>64916</td>\n",
       "      <td>8.7</td>\n",
       "      <td>147.0</td>\n",
       "      <td>8952.65</td>\n",
       "    </tr>\n",
       "    <tr>\n",
       "      <td>28</td>\n",
       "      <td>Hillary Clinton</td>\n",
       "      <td>New Jersey</td>\n",
       "      <td>Democrat</td>\n",
       "      <td>554237</td>\n",
       "      <td>0.631612</td>\n",
       "      <td>34000</td>\n",
       "      <td>New Jersey</td>\n",
       "      <td>8938175</td>\n",
       "      <td>14.7</td>\n",
       "      <td>14.8</td>\n",
       "      <td>19.3</td>\n",
       "      <td>56.8</td>\n",
       "      <td>88.1</td>\n",
       "      <td>35.8</td>\n",
       "      <td>71629</td>\n",
       "      <td>10.4</td>\n",
       "      <td>1195.5</td>\n",
       "      <td>7354.22</td>\n",
       "    </tr>\n",
       "    <tr>\n",
       "      <td>29</td>\n",
       "      <td>Hillary Clinton</td>\n",
       "      <td>New Mexico</td>\n",
       "      <td>Democrat</td>\n",
       "      <td>110451</td>\n",
       "      <td>0.515387</td>\n",
       "      <td>35000</td>\n",
       "      <td>New Mexico</td>\n",
       "      <td>2085572</td>\n",
       "      <td>15.3</td>\n",
       "      <td>2.5</td>\n",
       "      <td>47.7</td>\n",
       "      <td>38.9</td>\n",
       "      <td>83.6</td>\n",
       "      <td>25.8</td>\n",
       "      <td>44927</td>\n",
       "      <td>20.4</td>\n",
       "      <td>17.0</td>\n",
       "      <td>121298.15</td>\n",
       "    </tr>\n",
       "    <tr>\n",
       "      <td>30</td>\n",
       "      <td>Hillary Clinton</td>\n",
       "      <td>New York</td>\n",
       "      <td>Democrat</td>\n",
       "      <td>1054083</td>\n",
       "      <td>0.579947</td>\n",
       "      <td>36000</td>\n",
       "      <td>New York</td>\n",
       "      <td>19746227</td>\n",
       "      <td>14.7</td>\n",
       "      <td>17.6</td>\n",
       "      <td>18.6</td>\n",
       "      <td>56.5</td>\n",
       "      <td>85.2</td>\n",
       "      <td>33.2</td>\n",
       "      <td>58003</td>\n",
       "      <td>15.3</td>\n",
       "      <td>411.2</td>\n",
       "      <td>47126.40</td>\n",
       "    </tr>\n",
       "    <tr>\n",
       "      <td>31</td>\n",
       "      <td>Hillary Clinton</td>\n",
       "      <td>North Carolina</td>\n",
       "      <td>Democrat</td>\n",
       "      <td>616383</td>\n",
       "      <td>0.572475</td>\n",
       "      <td>37000</td>\n",
       "      <td>North Carolina</td>\n",
       "      <td>9943964</td>\n",
       "      <td>14.7</td>\n",
       "      <td>22.1</td>\n",
       "      <td>9.0</td>\n",
       "      <td>64.1</td>\n",
       "      <td>84.9</td>\n",
       "      <td>27.3</td>\n",
       "      <td>46334</td>\n",
       "      <td>17.5</td>\n",
       "      <td>196.1</td>\n",
       "      <td>48617.91</td>\n",
       "    </tr>\n",
       "    <tr>\n",
       "      <td>32</td>\n",
       "      <td>Hillary Clinton</td>\n",
       "      <td>North Dakota</td>\n",
       "      <td>Democrat</td>\n",
       "      <td>101</td>\n",
       "      <td>0.285311</td>\n",
       "      <td>38000</td>\n",
       "      <td>North Dakota</td>\n",
       "      <td>739482</td>\n",
       "      <td>14.2</td>\n",
       "      <td>2.1</td>\n",
       "      <td>3.2</td>\n",
       "      <td>86.6</td>\n",
       "      <td>90.9</td>\n",
       "      <td>27.2</td>\n",
       "      <td>53741</td>\n",
       "      <td>11.9</td>\n",
       "      <td>9.7</td>\n",
       "      <td>69000.80</td>\n",
       "    </tr>\n",
       "    <tr>\n",
       "      <td>33</td>\n",
       "      <td>Hillary Clinton</td>\n",
       "      <td>Ohio</td>\n",
       "      <td>Democrat</td>\n",
       "      <td>679266</td>\n",
       "      <td>0.569465</td>\n",
       "      <td>39000</td>\n",
       "      <td>Ohio</td>\n",
       "      <td>11594163</td>\n",
       "      <td>15.5</td>\n",
       "      <td>12.6</td>\n",
       "      <td>3.5</td>\n",
       "      <td>80.1</td>\n",
       "      <td>88.5</td>\n",
       "      <td>25.2</td>\n",
       "      <td>48308</td>\n",
       "      <td>15.8</td>\n",
       "      <td>282.3</td>\n",
       "      <td>40860.69</td>\n",
       "    </tr>\n",
       "    <tr>\n",
       "      <td>34</td>\n",
       "      <td>Hillary Clinton</td>\n",
       "      <td>Oklahoma</td>\n",
       "      <td>Democrat</td>\n",
       "      <td>139338</td>\n",
       "      <td>0.444612</td>\n",
       "      <td>40000</td>\n",
       "      <td>Oklahoma</td>\n",
       "      <td>3878051</td>\n",
       "      <td>14.5</td>\n",
       "      <td>7.7</td>\n",
       "      <td>9.8</td>\n",
       "      <td>67.0</td>\n",
       "      <td>86.4</td>\n",
       "      <td>23.5</td>\n",
       "      <td>45339</td>\n",
       "      <td>16.9</td>\n",
       "      <td>54.7</td>\n",
       "      <td>68594.92</td>\n",
       "    </tr>\n",
       "    <tr>\n",
       "      <td>35</td>\n",
       "      <td>Hillary Clinton</td>\n",
       "      <td>Oregon</td>\n",
       "      <td>Democrat</td>\n",
       "      <td>251739</td>\n",
       "      <td>0.439730</td>\n",
       "      <td>41000</td>\n",
       "      <td>Oregon</td>\n",
       "      <td>3970239</td>\n",
       "      <td>16.0</td>\n",
       "      <td>2.0</td>\n",
       "      <td>12.5</td>\n",
       "      <td>77.0</td>\n",
       "      <td>89.4</td>\n",
       "      <td>29.7</td>\n",
       "      <td>50229</td>\n",
       "      <td>16.2</td>\n",
       "      <td>39.9</td>\n",
       "      <td>95988.01</td>\n",
       "    </tr>\n",
       "    <tr>\n",
       "      <td>36</td>\n",
       "      <td>Hillary Clinton</td>\n",
       "      <td>Pennsylvania</td>\n",
       "      <td>Democrat</td>\n",
       "      <td>918689</td>\n",
       "      <td>0.560640</td>\n",
       "      <td>42000</td>\n",
       "      <td>Pennsylvania</td>\n",
       "      <td>12787209</td>\n",
       "      <td>16.7</td>\n",
       "      <td>11.6</td>\n",
       "      <td>6.6</td>\n",
       "      <td>77.9</td>\n",
       "      <td>88.7</td>\n",
       "      <td>27.5</td>\n",
       "      <td>52548</td>\n",
       "      <td>13.3</td>\n",
       "      <td>283.9</td>\n",
       "      <td>44742.70</td>\n",
       "    </tr>\n",
       "    <tr>\n",
       "      <td>37</td>\n",
       "      <td>Hillary Clinton</td>\n",
       "      <td>Rhode Island</td>\n",
       "      <td>Democrat</td>\n",
       "      <td>52493</td>\n",
       "      <td>0.440329</td>\n",
       "      <td>44000</td>\n",
       "      <td>Rhode Island</td>\n",
       "      <td>1055173</td>\n",
       "      <td>15.7</td>\n",
       "      <td>7.7</td>\n",
       "      <td>14.0</td>\n",
       "      <td>74.5</td>\n",
       "      <td>85.2</td>\n",
       "      <td>31.3</td>\n",
       "      <td>56361</td>\n",
       "      <td>13.6</td>\n",
       "      <td>1018.1</td>\n",
       "      <td>1033.81</td>\n",
       "    </tr>\n",
       "    <tr>\n",
       "      <td>38</td>\n",
       "      <td>Hillary Clinton</td>\n",
       "      <td>South Carolina</td>\n",
       "      <td>Democrat</td>\n",
       "      <td>271514</td>\n",
       "      <td>0.738832</td>\n",
       "      <td>45000</td>\n",
       "      <td>South Carolina</td>\n",
       "      <td>4832482</td>\n",
       "      <td>15.8</td>\n",
       "      <td>27.8</td>\n",
       "      <td>5.4</td>\n",
       "      <td>63.9</td>\n",
       "      <td>84.5</td>\n",
       "      <td>25.1</td>\n",
       "      <td>44779</td>\n",
       "      <td>18.1</td>\n",
       "      <td>153.9</td>\n",
       "      <td>30060.70</td>\n",
       "    </tr>\n",
       "    <tr>\n",
       "      <td>39</td>\n",
       "      <td>Hillary Clinton</td>\n",
       "      <td>South Dakota</td>\n",
       "      <td>Democrat</td>\n",
       "      <td>27046</td>\n",
       "      <td>0.510263</td>\n",
       "      <td>46000</td>\n",
       "      <td>South Dakota</td>\n",
       "      <td>853175</td>\n",
       "      <td>15.3</td>\n",
       "      <td>1.9</td>\n",
       "      <td>3.6</td>\n",
       "      <td>83.0</td>\n",
       "      <td>90.4</td>\n",
       "      <td>26.2</td>\n",
       "      <td>49495</td>\n",
       "      <td>14.1</td>\n",
       "      <td>10.7</td>\n",
       "      <td>75811.00</td>\n",
       "    </tr>\n",
       "    <tr>\n",
       "      <td>40</td>\n",
       "      <td>Hillary Clinton</td>\n",
       "      <td>Tennessee</td>\n",
       "      <td>Democrat</td>\n",
       "      <td>245304</td>\n",
       "      <td>0.670895</td>\n",
       "      <td>47000</td>\n",
       "      <td>Tennessee</td>\n",
       "      <td>6549352</td>\n",
       "      <td>15.1</td>\n",
       "      <td>17.1</td>\n",
       "      <td>5.0</td>\n",
       "      <td>74.6</td>\n",
       "      <td>84.4</td>\n",
       "      <td>23.8</td>\n",
       "      <td>44298</td>\n",
       "      <td>17.6</td>\n",
       "      <td>153.9</td>\n",
       "      <td>41234.90</td>\n",
       "    </tr>\n",
       "    <tr>\n",
       "      <td>41</td>\n",
       "      <td>Hillary Clinton</td>\n",
       "      <td>Texas</td>\n",
       "      <td>Democrat</td>\n",
       "      <td>935080</td>\n",
       "      <td>0.662876</td>\n",
       "      <td>48000</td>\n",
       "      <td>Texas</td>\n",
       "      <td>26956958</td>\n",
       "      <td>11.5</td>\n",
       "      <td>12.5</td>\n",
       "      <td>38.6</td>\n",
       "      <td>43.5</td>\n",
       "      <td>81.2</td>\n",
       "      <td>26.7</td>\n",
       "      <td>51900</td>\n",
       "      <td>17.6</td>\n",
       "      <td>96.3</td>\n",
       "      <td>261231.71</td>\n",
       "    </tr>\n",
       "    <tr>\n",
       "      <td>42</td>\n",
       "      <td>Hillary Clinton</td>\n",
       "      <td>Utah</td>\n",
       "      <td>Democrat</td>\n",
       "      <td>15666</td>\n",
       "      <td>0.203457</td>\n",
       "      <td>49000</td>\n",
       "      <td>Utah</td>\n",
       "      <td>2942902</td>\n",
       "      <td>10.0</td>\n",
       "      <td>1.3</td>\n",
       "      <td>13.5</td>\n",
       "      <td>79.3</td>\n",
       "      <td>90.9</td>\n",
       "      <td>30.3</td>\n",
       "      <td>58821</td>\n",
       "      <td>12.7</td>\n",
       "      <td>33.6</td>\n",
       "      <td>82169.62</td>\n",
       "    </tr>\n",
       "    <tr>\n",
       "      <td>43</td>\n",
       "      <td>Hillary Clinton</td>\n",
       "      <td>Vermont</td>\n",
       "      <td>Democrat</td>\n",
       "      <td>18335</td>\n",
       "      <td>0.136626</td>\n",
       "      <td>50000</td>\n",
       "      <td>Vermont</td>\n",
       "      <td>626562</td>\n",
       "      <td>16.9</td>\n",
       "      <td>1.2</td>\n",
       "      <td>1.8</td>\n",
       "      <td>93.5</td>\n",
       "      <td>91.4</td>\n",
       "      <td>34.8</td>\n",
       "      <td>54267</td>\n",
       "      <td>11.8</td>\n",
       "      <td>67.9</td>\n",
       "      <td>9216.66</td>\n",
       "    </tr>\n",
       "    <tr>\n",
       "      <td>44</td>\n",
       "      <td>Hillary Clinton</td>\n",
       "      <td>Virginia</td>\n",
       "      <td>Democrat</td>\n",
       "      <td>503358</td>\n",
       "      <td>0.646271</td>\n",
       "      <td>51000</td>\n",
       "      <td>Virginia</td>\n",
       "      <td>8326289</td>\n",
       "      <td>13.8</td>\n",
       "      <td>19.7</td>\n",
       "      <td>8.9</td>\n",
       "      <td>63.1</td>\n",
       "      <td>87.5</td>\n",
       "      <td>35.2</td>\n",
       "      <td>63907</td>\n",
       "      <td>11.3</td>\n",
       "      <td>202.6</td>\n",
       "      <td>39490.09</td>\n",
       "    </tr>\n",
       "    <tr>\n",
       "      <td>45</td>\n",
       "      <td>Hillary Clinton</td>\n",
       "      <td>Washington</td>\n",
       "      <td>Democrat</td>\n",
       "      <td>7140</td>\n",
       "      <td>0.271493</td>\n",
       "      <td>53000</td>\n",
       "      <td>Washington</td>\n",
       "      <td>7061530</td>\n",
       "      <td>14.1</td>\n",
       "      <td>4.1</td>\n",
       "      <td>12.2</td>\n",
       "      <td>70.4</td>\n",
       "      <td>90.0</td>\n",
       "      <td>31.9</td>\n",
       "      <td>59478</td>\n",
       "      <td>13.4</td>\n",
       "      <td>101.2</td>\n",
       "      <td>66455.52</td>\n",
       "    </tr>\n",
       "    <tr>\n",
       "      <td>46</td>\n",
       "      <td>Hillary Clinton</td>\n",
       "      <td>West Virginia</td>\n",
       "      <td>Democrat</td>\n",
       "      <td>86354</td>\n",
       "      <td>0.410791</td>\n",
       "      <td>54000</td>\n",
       "      <td>West Virginia</td>\n",
       "      <td>1850326</td>\n",
       "      <td>17.8</td>\n",
       "      <td>3.6</td>\n",
       "      <td>1.5</td>\n",
       "      <td>92.5</td>\n",
       "      <td>83.9</td>\n",
       "      <td>18.3</td>\n",
       "      <td>41043</td>\n",
       "      <td>17.9</td>\n",
       "      <td>77.1</td>\n",
       "      <td>24038.21</td>\n",
       "    </tr>\n",
       "    <tr>\n",
       "      <td>47</td>\n",
       "      <td>Hillary Clinton</td>\n",
       "      <td>Wisconsin</td>\n",
       "      <td>Democrat</td>\n",
       "      <td>432767</td>\n",
       "      <td>0.432463</td>\n",
       "      <td>55000</td>\n",
       "      <td>Wisconsin</td>\n",
       "      <td>5757564</td>\n",
       "      <td>15.2</td>\n",
       "      <td>6.6</td>\n",
       "      <td>6.5</td>\n",
       "      <td>82.2</td>\n",
       "      <td>90.4</td>\n",
       "      <td>26.8</td>\n",
       "      <td>52413</td>\n",
       "      <td>13.0</td>\n",
       "      <td>105.0</td>\n",
       "      <td>54157.80</td>\n",
       "    </tr>\n",
       "    <tr>\n",
       "      <td>48</td>\n",
       "      <td>Hillary Clinton</td>\n",
       "      <td>Wyoming</td>\n",
       "      <td>Democrat</td>\n",
       "      <td>124</td>\n",
       "      <td>0.442857</td>\n",
       "      <td>56000</td>\n",
       "      <td>Wyoming</td>\n",
       "      <td>584153</td>\n",
       "      <td>14.0</td>\n",
       "      <td>1.6</td>\n",
       "      <td>9.8</td>\n",
       "      <td>84.1</td>\n",
       "      <td>92.4</td>\n",
       "      <td>24.7</td>\n",
       "      <td>57406</td>\n",
       "      <td>11.5</td>\n",
       "      <td>5.8</td>\n",
       "      <td>97093.14</td>\n",
       "    </tr>\n",
       "  </tbody>\n",
       "</table>\n",
       "</div>"
      ],
      "text/plain": [
       "          candidate           state     party    votes  partyFrac   fips  \\\n",
       "0   Hillary Clinton         Alabama  Democrat   309928   0.802243   1000   \n",
       "1   Hillary Clinton          Alaska  Democrat       99   0.183673   2000   \n",
       "2   Hillary Clinton         Arizona  Democrat   235697   0.590576   4000   \n",
       "3   Hillary Clinton        Arkansas  Democrat   144580   0.690291   5000   \n",
       "4   Hillary Clinton      California  Democrat  1940580   0.563692   6000   \n",
       "5   Hillary Clinton        Colorado  Democrat    49256   0.406456   8000   \n",
       "6   Hillary Clinton     Connecticut  Democrat   170075   0.527389   9000   \n",
       "7   Hillary Clinton        Delaware  Democrat    55950   0.604153  10000   \n",
       "8   Hillary Clinton         Florida  Democrat  1097400   0.659494  12000   \n",
       "9   Hillary Clinton         Georgia  Democrat   543008   0.716994  13000   \n",
       "10  Hillary Clinton          Hawaii  Democrat    10127   0.300879  15000   \n",
       "11  Hillary Clinton           Idaho  Democrat     5065   0.213668  16000   \n",
       "12  Hillary Clinton        Illinois  Democrat  1012175   0.509185  17000   \n",
       "13  Hillary Clinton         Indiana  Democrat   303382   0.475045  18000   \n",
       "14  Hillary Clinton            Iowa  Democrat    69733   0.498317  19000   \n",
       "15  Hillary Clinton          Kansas  Democrat    12593   0.322542  20000   \n",
       "16  Hillary Clinton        Kentucky  Democrat   212550   0.502273  21000   \n",
       "17  Hillary Clinton       Louisiana  Democrat   221615   0.754164  22000   \n",
       "18  Hillary Clinton           Maine  Democrat     1214   0.355490  23000   \n",
       "19  Hillary Clinton        Maryland  Democrat   533247   0.654675  24000   \n",
       "20  Hillary Clinton   Massachusetts  Democrat   603784   0.503719  25000   \n",
       "21  Hillary Clinton        Michigan  Democrat   576795   0.492139  26000   \n",
       "22  Hillary Clinton     Mississippi  Democrat   182447   0.833872  28000   \n",
       "23  Hillary Clinton        Missouri  Democrat   310602   0.501235  29000   \n",
       "24  Hillary Clinton         Montana  Democrat    55194   0.466315  30000   \n",
       "25  Hillary Clinton        Nebraska  Democrat    14340   0.428571  31000   \n",
       "26  Hillary Clinton          Nevada  Democrat     6296   0.527436  32000   \n",
       "27  Hillary Clinton   New Hampshire  Democrat    95252   0.385892  33000   \n",
       "28  Hillary Clinton      New Jersey  Democrat   554237   0.631612  34000   \n",
       "29  Hillary Clinton      New Mexico  Democrat   110451   0.515387  35000   \n",
       "30  Hillary Clinton        New York  Democrat  1054083   0.579947  36000   \n",
       "31  Hillary Clinton  North Carolina  Democrat   616383   0.572475  37000   \n",
       "32  Hillary Clinton    North Dakota  Democrat      101   0.285311  38000   \n",
       "33  Hillary Clinton            Ohio  Democrat   679266   0.569465  39000   \n",
       "34  Hillary Clinton        Oklahoma  Democrat   139338   0.444612  40000   \n",
       "35  Hillary Clinton          Oregon  Democrat   251739   0.439730  41000   \n",
       "36  Hillary Clinton    Pennsylvania  Democrat   918689   0.560640  42000   \n",
       "37  Hillary Clinton    Rhode Island  Democrat    52493   0.440329  44000   \n",
       "38  Hillary Clinton  South Carolina  Democrat   271514   0.738832  45000   \n",
       "39  Hillary Clinton    South Dakota  Democrat    27046   0.510263  46000   \n",
       "40  Hillary Clinton       Tennessee  Democrat   245304   0.670895  47000   \n",
       "41  Hillary Clinton           Texas  Democrat   935080   0.662876  48000   \n",
       "42  Hillary Clinton            Utah  Democrat    15666   0.203457  49000   \n",
       "43  Hillary Clinton         Vermont  Democrat    18335   0.136626  50000   \n",
       "44  Hillary Clinton        Virginia  Democrat   503358   0.646271  51000   \n",
       "45  Hillary Clinton      Washington  Democrat     7140   0.271493  53000   \n",
       "46  Hillary Clinton   West Virginia  Democrat    86354   0.410791  54000   \n",
       "47  Hillary Clinton       Wisconsin  Democrat   432767   0.432463  55000   \n",
       "48  Hillary Clinton         Wyoming  Democrat      124   0.442857  56000   \n",
       "\n",
       "         area_name  Population  Age > 65  Black  Latino  White  HighSchool  \\\n",
       "0          Alabama     4849377      15.3   26.7     4.1   66.2        83.1   \n",
       "1           Alaska      736732       9.4    3.9     6.8   61.9        91.6   \n",
       "2          Arizona     6731484      15.9    4.7    30.5   56.2        85.7   \n",
       "3         Arkansas     2966369      15.7   15.6     7.0   73.4        83.7   \n",
       "4       California    38802500      12.9    6.5    38.6   38.5        81.2   \n",
       "5         Colorado     5355866      12.7    4.5    21.2   69.0        90.2   \n",
       "6      Connecticut     3596677      15.5   11.5    15.0   68.8        89.2   \n",
       "7         Delaware      935614      16.4   22.2     8.9   63.7        87.7   \n",
       "8          Florida    19893297      19.1   16.8    24.1   55.8        86.1   \n",
       "9          Georgia    10097343      12.4   31.5     9.3   54.3        84.7   \n",
       "10          Hawaii     1419561      16.1    2.5    10.1   23.0        90.4   \n",
       "11           Idaho     1634464      14.3    0.8    12.0   82.8        88.8   \n",
       "12        Illinois    12880580      13.9   14.7    16.7   62.3        87.3   \n",
       "13         Indiana     6596855      14.3    9.6     6.6   80.3        87.2   \n",
       "14            Iowa     3107126      15.8    3.4     5.6   87.1        91.0   \n",
       "15          Kansas     2904021      14.3    6.3    11.4   76.8        89.8   \n",
       "16        Kentucky     4413457      14.8    8.2     3.4   85.4        83.0   \n",
       "17       Louisiana     4649676      13.6   32.5     4.8   59.3        82.6   \n",
       "18           Maine     1330089      18.3    1.4     1.5   93.8        91.1   \n",
       "19        Maryland     5976407      13.8   30.3     9.3   52.6        88.7   \n",
       "20   Massachusetts     6745408      15.1    8.3    10.8   74.3        89.4   \n",
       "21        Michigan     9909877      15.4   14.2     4.8   75.8        88.9   \n",
       "22     Mississippi     2994079      14.3   37.5     3.0   57.3        81.5   \n",
       "23        Missouri     6063589      15.4   11.8     4.0   80.1        87.6   \n",
       "24         Montana     1023579      16.7    0.6     3.5   86.7        92.1   \n",
       "25        Nebraska     1881503      14.4    4.9    10.2   80.5        90.5   \n",
       "26          Nevada     2839099      14.2    9.1    27.8   51.5        84.6   \n",
       "27   New Hampshire     1326813      15.9    1.5     3.3   91.3        91.8   \n",
       "28      New Jersey     8938175      14.7   14.8    19.3   56.8        88.1   \n",
       "29      New Mexico     2085572      15.3    2.5    47.7   38.9        83.6   \n",
       "30        New York    19746227      14.7   17.6    18.6   56.5        85.2   \n",
       "31  North Carolina     9943964      14.7   22.1     9.0   64.1        84.9   \n",
       "32    North Dakota      739482      14.2    2.1     3.2   86.6        90.9   \n",
       "33            Ohio    11594163      15.5   12.6     3.5   80.1        88.5   \n",
       "34        Oklahoma     3878051      14.5    7.7     9.8   67.0        86.4   \n",
       "35          Oregon     3970239      16.0    2.0    12.5   77.0        89.4   \n",
       "36    Pennsylvania    12787209      16.7   11.6     6.6   77.9        88.7   \n",
       "37    Rhode Island     1055173      15.7    7.7    14.0   74.5        85.2   \n",
       "38  South Carolina     4832482      15.8   27.8     5.4   63.9        84.5   \n",
       "39    South Dakota      853175      15.3    1.9     3.6   83.0        90.4   \n",
       "40       Tennessee     6549352      15.1   17.1     5.0   74.6        84.4   \n",
       "41           Texas    26956958      11.5   12.5    38.6   43.5        81.2   \n",
       "42            Utah     2942902      10.0    1.3    13.5   79.3        90.9   \n",
       "43         Vermont      626562      16.9    1.2     1.8   93.5        91.4   \n",
       "44        Virginia     8326289      13.8   19.7     8.9   63.1        87.5   \n",
       "45      Washington     7061530      14.1    4.1    12.2   70.4        90.0   \n",
       "46   West Virginia     1850326      17.8    3.6     1.5   92.5        83.9   \n",
       "47       Wisconsin     5757564      15.2    6.6     6.5   82.2        90.4   \n",
       "48         Wyoming      584153      14.0    1.6     9.8   84.1        92.4   \n",
       "\n",
       "    Bachelors  Median Household  < Poverty level  Population PSM  Luas Area  \n",
       "0        22.6             43253             18.6            94.4   50645.33  \n",
       "1        27.5             70760              9.9             1.2  570640.95  \n",
       "2        26.9             49774             17.9            56.3  113594.08  \n",
       "3        20.1             40768             19.2            56.0   52035.48  \n",
       "4        30.7             61094             15.9           239.1  155779.22  \n",
       "5        37.0             58433             13.2            48.5  103641.89  \n",
       "6        36.5             69461             10.2           738.1    4842.36  \n",
       "7        28.9             59878             11.7           460.8    1948.54  \n",
       "8        26.4             46956             16.3           350.6   53624.76  \n",
       "9        28.0             49179             18.2           168.4   57513.49  \n",
       "10       30.1             67402             11.2           211.8    6422.63  \n",
       "11       25.1             46767             15.5            19.0   82643.12  \n",
       "12       31.4             56797             14.1           231.1   55518.93  \n",
       "13       23.2             48248             15.4           181.0   35826.11  \n",
       "14       25.7             51843             12.4            54.5   55857.13  \n",
       "15       30.3             51332             13.7            34.9   81758.72  \n",
       "16       21.5             43036             18.8           109.9   39486.34  \n",
       "17       21.8             44874             19.1           104.9   43203.90  \n",
       "18       27.9             48453             13.6            43.1   30842.92  \n",
       "19       36.8             73538              9.8           594.8    9707.24  \n",
       "20       39.4             66866             11.4           839.4    7800.06  \n",
       "21       25.9             48411             16.8           174.8   56538.90  \n",
       "22       20.1             39031             22.7            63.2   46923.27  \n",
       "23       26.2             47380             15.5            87.1   68741.52  \n",
       "24       28.7             46230             15.2             6.8  145545.80  \n",
       "25       28.5             51672             12.8            23.8   76824.17  \n",
       "26       22.4             52800             15.0            24.6  109781.18  \n",
       "27       33.7             64916              8.7           147.0    8952.65  \n",
       "28       35.8             71629             10.4          1195.5    7354.22  \n",
       "29       25.8             44927             20.4            17.0  121298.15  \n",
       "30       33.2             58003             15.3           411.2   47126.40  \n",
       "31       27.3             46334             17.5           196.1   48617.91  \n",
       "32       27.2             53741             11.9             9.7   69000.80  \n",
       "33       25.2             48308             15.8           282.3   40860.69  \n",
       "34       23.5             45339             16.9            54.7   68594.92  \n",
       "35       29.7             50229             16.2            39.9   95988.01  \n",
       "36       27.5             52548             13.3           283.9   44742.70  \n",
       "37       31.3             56361             13.6          1018.1    1033.81  \n",
       "38       25.1             44779             18.1           153.9   30060.70  \n",
       "39       26.2             49495             14.1            10.7   75811.00  \n",
       "40       23.8             44298             17.6           153.9   41234.90  \n",
       "41       26.7             51900             17.6            96.3  261231.71  \n",
       "42       30.3             58821             12.7            33.6   82169.62  \n",
       "43       34.8             54267             11.8            67.9    9216.66  \n",
       "44       35.2             63907             11.3           202.6   39490.09  \n",
       "45       31.9             59478             13.4           101.2   66455.52  \n",
       "46       18.3             41043             17.9            77.1   24038.21  \n",
       "47       26.8             52413             13.0           105.0   54157.80  \n",
       "48       24.7             57406             11.5             5.8   97093.14  "
      ]
     },
     "execution_count": 45,
     "metadata": {},
     "output_type": "execute_result"
    }
   ],
   "source": [
    "#Merging demographics and results\n",
    "# allData = pd.merge(vbs, demographics, how=\"inner\", left_on = 'state',right_on = 'area_name')\n",
    "# allData.drop('state_abbreviation',axis=1, inplace=True)\n",
    "\n",
    "#Segregate data candidate wise\n",
    "Hill = allData11[(allData11.candidate == \"Hillary Clinton\")]\n",
    "Hill = Hill.reset_index();\n",
    "Hill.drop('index',axis=1, inplace=True)\n",
    "Hill\n",
    "# allData"
   ]
  },
  {
   "cell_type": "code",
   "execution_count": 326,
   "metadata": {},
   "outputs": [],
   "source": [
    "# # plt.subplot(121)\n",
    "# plt.figure(figsize=(15,8))\n",
    "# plt.scatter(DNT['White'], DNT['votes'],color='white') \n",
    "# plt.legend(['White'])\n",
    "# # plt.subplot(122)\n",
    "# plt.scatter(DNT['Black'], DNT['votes'],color='black') \n",
    "# plt.legend(['Black'])\n",
    "\n",
    "# # plt.subplot(123)\n",
    "# plt.scatter(DNT['Bachelors'], DNT['votes'], color='blue') \n",
    "# plt.legend(['Bachelors'])\n",
    "\n",
    "# plt.xlabel('% voters')\n",
    "# plt.ylabel('Votes')\n",
    "\n",
    "\n",
    "# plt.show()"
   ]
  },
  {
   "cell_type": "code",
   "execution_count": 327,
   "metadata": {},
   "outputs": [],
   "source": [
    "# Hill"
   ]
  },
  {
   "cell_type": "code",
   "execution_count": 325,
   "metadata": {},
   "outputs": [],
   "source": [
    "# # plt.subplot(121)\n",
    "# plt.figure(figsize=(15,8))\n",
    "# plt.scatter(Hill['White'], Hill['votes'],color='white') \n",
    "# # plt.subplot(122)\n",
    "# plt.scatter(Hill['Black'], Hill['votes'],color='black') \n",
    "# plt.scatter(Hill['Bachelors'], Hill['votes'], color='blue') \n",
    "# plt.xlabel('% segmen')\n",
    "# plt.ylabel('Votes')\n",
    "# plt.show()"
   ]
  },
  {
   "cell_type": "code",
   "execution_count": 49,
   "metadata": {},
   "outputs": [],
   "source": [
    "# ax = sns.boxplot(x=\"Latino\", y=\"Bachelors\", hue=DNT.index,\n",
    "#                  data=DNT,  dodge=False)"
   ]
  },
  {
   "cell_type": "code",
   "execution_count": 50,
   "metadata": {},
   "outputs": [],
   "source": [
    "# j=g[g.party == 'Republic']\n",
    "#df1.drop(Taxi, inplace=True)\n",
    "# results = results[(resultss.state != \"Maine\") & (resultss.state != \"Massachusetts\") & (resultss.state != \"Vermont\") & (resultss.state != \"Illinois\") ]\n",
    "# resultss = resultss[(resultss.candidate != 'No Preference') & (resultss.candidate != ' Uncommitted')]\n",
    "# g = g[(g.candidate == \"\") |(resultss.candidate != \"Hillary Clinton\") ]\n",
    "# vis1=sns.scatterplot(x=df1.distance,y=df1.price,data=df1, hue=df1.cab_type, hue_order=cab_type,alpha=0.3, legend='full')"
   ]
  },
  {
   "cell_type": "code",
   "execution_count": 51,
   "metadata": {},
   "outputs": [
    {
     "data": {
      "text/html": [
       "<div>\n",
       "<style scoped>\n",
       "    .dataframe tbody tr th:only-of-type {\n",
       "        vertical-align: middle;\n",
       "    }\n",
       "\n",
       "    .dataframe tbody tr th {\n",
       "        vertical-align: top;\n",
       "    }\n",
       "\n",
       "    .dataframe thead th {\n",
       "        text-align: right;\n",
       "    }\n",
       "</style>\n",
       "<table border=\"1\" class=\"dataframe\">\n",
       "  <thead>\n",
       "    <tr style=\"text-align: right;\">\n",
       "      <th></th>\n",
       "      <th>candidate</th>\n",
       "      <th>state</th>\n",
       "      <th>party</th>\n",
       "      <th>votes</th>\n",
       "      <th>partyFrac</th>\n",
       "      <th>fips</th>\n",
       "      <th>area_name</th>\n",
       "      <th>Population</th>\n",
       "      <th>Age &gt; 65</th>\n",
       "      <th>Black</th>\n",
       "      <th>Latino</th>\n",
       "      <th>White</th>\n",
       "      <th>HighSchool</th>\n",
       "      <th>Bachelors</th>\n",
       "      <th>Median Household</th>\n",
       "      <th>&lt; Poverty level</th>\n",
       "      <th>Population PSM</th>\n",
       "      <th>Luas Area</th>\n",
       "    </tr>\n",
       "  </thead>\n",
       "  <tbody>\n",
       "    <tr>\n",
       "      <td>0</td>\n",
       "      <td>Donald Trump</td>\n",
       "      <td>Alabama</td>\n",
       "      <td>Republican</td>\n",
       "      <td>371735</td>\n",
       "      <td>0.443793</td>\n",
       "      <td>1000</td>\n",
       "      <td>Alabama</td>\n",
       "      <td>4849377</td>\n",
       "      <td>15.3</td>\n",
       "      <td>26.7</td>\n",
       "      <td>4.1</td>\n",
       "      <td>66.2</td>\n",
       "      <td>83.1</td>\n",
       "      <td>22.6</td>\n",
       "      <td>43253</td>\n",
       "      <td>18.6</td>\n",
       "      <td>94.4</td>\n",
       "      <td>50645.33</td>\n",
       "    </tr>\n",
       "    <tr>\n",
       "      <td>1</td>\n",
       "      <td>Donald Trump</td>\n",
       "      <td>Alaska</td>\n",
       "      <td>Republican</td>\n",
       "      <td>7346</td>\n",
       "      <td>0.334975</td>\n",
       "      <td>2000</td>\n",
       "      <td>Alaska</td>\n",
       "      <td>736732</td>\n",
       "      <td>9.4</td>\n",
       "      <td>3.9</td>\n",
       "      <td>6.8</td>\n",
       "      <td>61.9</td>\n",
       "      <td>91.6</td>\n",
       "      <td>27.5</td>\n",
       "      <td>70760</td>\n",
       "      <td>9.9</td>\n",
       "      <td>1.2</td>\n",
       "      <td>570640.95</td>\n",
       "    </tr>\n",
       "    <tr>\n",
       "      <td>2</td>\n",
       "      <td>Donald Trump</td>\n",
       "      <td>Arizona</td>\n",
       "      <td>Republican</td>\n",
       "      <td>249916</td>\n",
       "      <td>0.574384</td>\n",
       "      <td>4000</td>\n",
       "      <td>Arizona</td>\n",
       "      <td>6731484</td>\n",
       "      <td>15.9</td>\n",
       "      <td>4.7</td>\n",
       "      <td>30.5</td>\n",
       "      <td>56.2</td>\n",
       "      <td>85.7</td>\n",
       "      <td>26.9</td>\n",
       "      <td>49774</td>\n",
       "      <td>17.9</td>\n",
       "      <td>56.3</td>\n",
       "      <td>113594.08</td>\n",
       "    </tr>\n",
       "    <tr>\n",
       "      <td>3</td>\n",
       "      <td>Donald Trump</td>\n",
       "      <td>Arkansas</td>\n",
       "      <td>Republican</td>\n",
       "      <td>133144</td>\n",
       "      <td>0.335779</td>\n",
       "      <td>5000</td>\n",
       "      <td>Arkansas</td>\n",
       "      <td>2966369</td>\n",
       "      <td>15.7</td>\n",
       "      <td>15.6</td>\n",
       "      <td>7.0</td>\n",
       "      <td>73.4</td>\n",
       "      <td>83.7</td>\n",
       "      <td>20.1</td>\n",
       "      <td>40768</td>\n",
       "      <td>19.2</td>\n",
       "      <td>56.0</td>\n",
       "      <td>52035.48</td>\n",
       "    </tr>\n",
       "    <tr>\n",
       "      <td>4</td>\n",
       "      <td>Donald Trump</td>\n",
       "      <td>California</td>\n",
       "      <td>Republican</td>\n",
       "      <td>1174829</td>\n",
       "      <td>0.785537</td>\n",
       "      <td>6000</td>\n",
       "      <td>California</td>\n",
       "      <td>38802500</td>\n",
       "      <td>12.9</td>\n",
       "      <td>6.5</td>\n",
       "      <td>38.6</td>\n",
       "      <td>38.5</td>\n",
       "      <td>81.2</td>\n",
       "      <td>30.7</td>\n",
       "      <td>61094</td>\n",
       "      <td>15.9</td>\n",
       "      <td>239.1</td>\n",
       "      <td>155779.22</td>\n",
       "    </tr>\n",
       "  </tbody>\n",
       "</table>\n",
       "</div>"
      ],
      "text/plain": [
       "      candidate       state       party    votes  partyFrac  fips   area_name  \\\n",
       "0  Donald Trump     Alabama  Republican   371735   0.443793  1000     Alabama   \n",
       "1  Donald Trump      Alaska  Republican     7346   0.334975  2000      Alaska   \n",
       "2  Donald Trump     Arizona  Republican   249916   0.574384  4000     Arizona   \n",
       "3  Donald Trump    Arkansas  Republican   133144   0.335779  5000    Arkansas   \n",
       "4  Donald Trump  California  Republican  1174829   0.785537  6000  California   \n",
       "\n",
       "   Population  Age > 65  Black  Latino  White  HighSchool  Bachelors  \\\n",
       "0     4849377      15.3   26.7     4.1   66.2        83.1       22.6   \n",
       "1      736732       9.4    3.9     6.8   61.9        91.6       27.5   \n",
       "2     6731484      15.9    4.7    30.5   56.2        85.7       26.9   \n",
       "3     2966369      15.7   15.6     7.0   73.4        83.7       20.1   \n",
       "4    38802500      12.9    6.5    38.6   38.5        81.2       30.7   \n",
       "\n",
       "   Median Household  < Poverty level  Population PSM  Luas Area  \n",
       "0             43253             18.6            94.4   50645.33  \n",
       "1             70760              9.9             1.2  570640.95  \n",
       "2             49774             17.9            56.3  113594.08  \n",
       "3             40768             19.2            56.0   52035.48  \n",
       "4             61094             15.9           239.1  155779.22  "
      ]
     },
     "execution_count": 51,
     "metadata": {},
     "output_type": "execute_result"
    }
   ],
   "source": [
    "DNT.head()"
   ]
  },
  {
   "cell_type": "code",
   "execution_count": 322,
   "metadata": {},
   "outputs": [],
   "source": [
    "# import seaborn as sns\n",
    "# plt.figure(figsize=(16,8))\n",
    "# sns.set(style=\"whitegrid\")\n",
    "# sns.relplot(x=\"Black\", y='Bachelors', hue=DNT.index,size = 'votes', data=DNT)"
   ]
  },
  {
   "cell_type": "markdown",
   "metadata": {},
   "source": [
    "### MACHINE LEARNING"
   ]
  },
  {
   "cell_type": "code",
   "execution_count": 53,
   "metadata": {},
   "outputs": [],
   "source": [
    "# demographics.head()\n",
    "# results.head()"
   ]
  },
  {
   "cell_type": "code",
   "execution_count": 54,
   "metadata": {},
   "outputs": [],
   "source": [
    "# from sklearn.cluster import AgglomerativeClustering"
   ]
  },
  {
   "cell_type": "code",
   "execution_count": 55,
   "metadata": {},
   "outputs": [],
   "source": [
    "# import seaborn as sns\n",
    "# sns.set(style=\"whitegrid\")\n",
    "# sns.relplot(x=\"White\", y='Black', hue=a.index, data=a)"
   ]
  },
  {
   "cell_type": "code",
   "execution_count": 56,
   "metadata": {},
   "outputs": [],
   "source": [
    "# sns.relplot(x=\"White\", y=\"Bachelors\",hue=\"candidate\", size=\"votes\",\n",
    "#             sizes=(40, 400), alpha=.5, palette=\"muted\",\n",
    "#             height=6, data=a)\n",
    "\n",
    "#feature_cols = ['Population', 'Age > 65','Black','Latino','White','HighSchool','Bachelors','Median Household','< Powerty level','Population PSM']"
   ]
  },
  {
   "cell_type": "code",
   "execution_count": 57,
   "metadata": {},
   "outputs": [],
   "source": [
    "# demographics['Black'].std()\n",
    "scalertb = StandardScaler()\n",
    "aa = scalertb.fit_transform(demographics[[\"Population\"]])\n",
    "bb = scalertb.fit_transform(demographics[[\"Age > 65\"]])\n",
    "cc = scalertb.fit_transform(demographics[[\"Black\"]])\n",
    "dd = scalertb.fit_transform(demographics[[\"Latino\"]])\n",
    "ee = scalertb.fit_transform(demographics[[\"White\"]])\n",
    "ff = scalertb.fit_transform(demographics[[\"HighSchool\"]])\n",
    "gg = scalertb.fit_transform(demographics[[\"Bachelors\"]])\n",
    "hh = scalertb.fit_transform(demographics[[\"Median Household\"]])\n",
    "ii = scalertb.fit_transform(demographics[['< Poverty level']])\n",
    "jj = scalertb.fit_transform(demographics[[\"Population PSM\"]])\n",
    "demographics[\"Populationskl\"] = aa\n",
    "demographics[\"Age > 65skl\"] = bb\n",
    "demographics[\"Blackskl\"] = cc\n",
    "demographics[\"Latinoskl\"] = dd\n",
    "demographics[\"Whiteskl\"] = ee\n",
    "demographics[\"Highschoolskl\"] = ff\n",
    "demographics[\"Bachelorsskl\"] = gg\n",
    "demographics[\"Median Householdskl\"] = hh\n",
    "demographics[\"< Powerty Levelskl\"] = ii\n",
    "demographics[\"Population PSMskl\"] = jj\n",
    "# demographics"
   ]
  },
  {
   "cell_type": "markdown",
   "metadata": {},
   "source": [
    "---------------------------------------------------------"
   ]
  },
  {
   "cell_type": "code",
   "execution_count": 58,
   "metadata": {},
   "outputs": [
    {
     "data": {
      "text/plain": [
       "RandomForestRegressor(bootstrap=True, ccp_alpha=0.0, criterion='mse',\n",
       "                      max_depth=None, max_features='auto', max_leaf_nodes=None,\n",
       "                      max_samples=None, min_impurity_decrease=0.0,\n",
       "                      min_impurity_split=None, min_samples_leaf=1,\n",
       "                      min_samples_split=2, min_weight_fraction_leaf=0.0,\n",
       "                      n_estimators=10000, n_jobs=None, oob_score=False,\n",
       "                      random_state=None, verbose=0, warm_start=False)"
      ]
     },
     "execution_count": 58,
     "metadata": {},
     "output_type": "execute_result"
    }
   ],
   "source": [
    "#Select X for Prediction\n",
    "feature_cols = ['Population', 'Age > 65','Black','Latino','White','HighSchool','Bachelors','Median Household','< Poverty level','Population PSM']\n",
    "X = DNT[feature_cols]\n",
    "\n",
    "#Select y for Prediction\n",
    "y = DNT.partyFrac\n",
    "\n",
    "#Initializing Liner Regression and Random Forest\n",
    "rf1 = RandomForestRegressor(n_estimators=10000)\n",
    "#Train Model\n",
    "rf1.fit(X,y)\n"
   ]
  },
  {
   "cell_type": "code",
   "execution_count": 59,
   "metadata": {},
   "outputs": [
    {
     "data": {
      "text/plain": [
       "RandomForestRegressor(bootstrap=True, ccp_alpha=0.0, criterion='mse',\n",
       "                      max_depth=None, max_features='auto', max_leaf_nodes=None,\n",
       "                      max_samples=None, min_impurity_decrease=0.0,\n",
       "                      min_impurity_split=None, min_samples_leaf=1,\n",
       "                      min_samples_split=2, min_weight_fraction_leaf=0.0,\n",
       "                      n_estimators=1000, n_jobs=None, oob_score=False,\n",
       "                      random_state=None, verbose=0, warm_start=False)"
      ]
     },
     "execution_count": 59,
     "metadata": {},
     "output_type": "execute_result"
    }
   ],
   "source": [
    "#Select X for Prediction\n",
    "feature_cols = ['Population', 'Age > 65','Black','Latino','White','HighSchool','Bachelors','Median Household','< Poverty level','Population PSM']\n",
    "X = TED[feature_cols]\n",
    "\n",
    "#Select y for Prediction\n",
    "y = TED.partyFrac\n",
    "\n",
    "#Initializing Liner Regression and Random Forest\n",
    "rf2 = RandomForestRegressor(n_estimators=1000)\n",
    "#Train Model\n",
    "rf2.fit(X,y)"
   ]
  },
  {
   "cell_type": "code",
   "execution_count": 60,
   "metadata": {},
   "outputs": [],
   "source": [
    "# from sklearn.model_selection import train_test_split\n",
    "\n",
    "# xtr, xts, ytr, yts = train_test_split(X,y)\n",
    "# xtr.head()"
   ]
  },
  {
   "cell_type": "code",
   "execution_count": 61,
   "metadata": {},
   "outputs": [],
   "source": [
    "# xts.head()"
   ]
  },
  {
   "cell_type": "code",
   "execution_count": 62,
   "metadata": {},
   "outputs": [],
   "source": [
    "# model = LinearRegression()\n",
    "# model.fit(xtr, ytr)"
   ]
  },
  {
   "cell_type": "code",
   "execution_count": 63,
   "metadata": {},
   "outputs": [],
   "source": [
    "# model.score(xts, yts)"
   ]
  },
  {
   "cell_type": "code",
   "execution_count": 64,
   "metadata": {},
   "outputs": [],
   "source": [
    "# from sklearn.neighbors import NearestNeighbors\n",
    "# KNN = NearestNeighbors(n_neighbors= 1)\n",
    "# KNN.fit(xtr)"
   ]
  },
  {
   "cell_type": "code",
   "execution_count": 65,
   "metadata": {},
   "outputs": [],
   "source": [
    "#Select States with result no avaialable in primary_results.csv\n",
    "demographics1=demographics[(demographics.area_name=='Pennsylvania')]\n",
    "demographics2=demographics[(demographics.area_name=='Connecticut')]\n",
    "demographics3=demographics[(demographics.area_name=='Maryland')]\n",
    "demographics4=demographics[(demographics.area_name=='Delaware')]\n",
    "demographics5=demographics[(demographics.area_name=='New York')]"
   ]
  },
  {
   "cell_type": "code",
   "execution_count": 66,
   "metadata": {},
   "outputs": [],
   "source": [
    "#Test Model RF Trump\n",
    "X_test1=demographics1[feature_cols]\n",
    "y_pred4=rf1.predict(X_test1)\n",
    "xx=np.array(y_pred4);\n",
    "\n",
    "X_test1=demographics2[feature_cols]\n",
    "y_pred4=rf1.predict(X_test1)\n",
    "xx=np.append(xx, y_pred4[0])\n",
    "\n",
    "\n",
    "X_test1=demographics3[feature_cols]\n",
    "y_pred4=rf1.predict(X_test1)\n",
    "xx=np.append(xx,y_pred4[0])\n",
    "\n",
    "\n",
    "X_test1=demographics4[feature_cols]\n",
    "y_pred4=rf1.predict(X_test1)\n",
    "xx=np.append(xx, y_pred4[0])\n",
    "\n",
    "X_test1=demographics5[feature_cols]\n",
    "y_pred4=rf1.predict(X_test1)\n",
    "xx=np.append(xx, y_pred4[0])\n"
   ]
  },
  {
   "cell_type": "code",
   "execution_count": 67,
   "metadata": {},
   "outputs": [],
   "source": [
    "#Test Model RF Ted\n",
    "X_test1=demographics1[feature_cols]\n",
    "y_pred4=rf2.predict(X_test1)\n",
    "xxx=np.array(y_pred4);\n",
    "\n",
    "X_test1=demographics2[feature_cols]\n",
    "y_pred5=rf2.predict(X_test1)\n",
    "xxx=np.append(xxx, y_pred4[0])\n",
    "\n",
    "\n",
    "X_test1=demographics3[feature_cols]\n",
    "y_pred4=rf2.predict(X_test1)\n",
    "xxx=np.append(xxx,y_pred4[0])\n",
    "\n",
    "\n",
    "X_test1=demographics4[feature_cols]\n",
    "y_pred4=rf2.predict(X_test1)\n",
    "xxx=np.append(xxx, y_pred4[0])\n",
    "\n",
    "X_test1=demographics5[feature_cols]\n",
    "y_pred4=rf2.predict(X_test1)\n",
    "xxx=np.append(xxx, y_pred4[0])"
   ]
  },
  {
   "cell_type": "code",
   "execution_count": 68,
   "metadata": {},
   "outputs": [],
   "source": [
    "# primary.head()"
   ]
  },
  {
   "cell_type": "code",
   "execution_count": 69,
   "metadata": {},
   "outputs": [],
   "source": [
    "# result=pd.read_csv('primary_results.csv')\n",
    "# result = result[result.party == \"Republican\"]\n"
   ]
  },
  {
   "cell_type": "code",
   "execution_count": 70,
   "metadata": {},
   "outputs": [],
   "source": [
    "pred =pd.Series(xx, index=['Pennsylvania','Connecticut','Maryland','Delaware','New York']) \n",
    "x1 = np.array([.58,.59,.56,.62,.60])\n",
    "real = pd.Series(x1, index=['Pennsylvania','Connecticut','Maryland','Delaware','New York'])"
   ]
  },
  {
   "cell_type": "code",
   "execution_count": 71,
   "metadata": {},
   "outputs": [],
   "source": [
    "pred2 =pd.Series(xxx, index=['Pennsylvania','Connecticut','Maryland','Delaware','New York']) \n",
    "real2 = pd.Series(x1, index=['Pennsylvania','Connecticut','Maryland','Delaware','New York'])"
   ]
  },
  {
   "cell_type": "code",
   "execution_count": 72,
   "metadata": {},
   "outputs": [],
   "source": [
    "# pred2=pd.Series(xxx, index=['Pennsylvania','Connecticut','Maryland','Delaware','New York'])"
   ]
  },
  {
   "cell_type": "code",
   "execution_count": 73,
   "metadata": {},
   "outputs": [
    {
     "name": "stdout",
     "output_type": "stream",
     "text": [
      "MAX ERROR : 4.0 %\n",
      "RMSE : 0.0 %\n",
      "MAE : 2.0 %\n",
      "MDAE : 1.0 %\n",
      "RMSLE : 1.4000000000000001 %\n",
      "R2 Score : 20.0 %\n"
     ]
    }
   ],
   "source": [
    "#Calculate RMS Error\n",
    "# print(np.sqrt(mean_squared_error(a,b)))\n",
    "from sklearn.metrics import mean_squared_error as mse\n",
    "from sklearn.metrics import mean_absolute_error as mae\n",
    "from sklearn.metrics import max_error\n",
    "from sklearn.metrics import median_absolute_error as mdae\n",
    "from sklearn.metrics import mean_squared_log_error as msle\n",
    "from sklearn.metrics import r2_score\n",
    "\n",
    "print(f'MAX ERROR : {round(max_error(pred,real),2)*100} %')\n",
    "print(f'RMSE : {np.sqrt(round(mse(pred,real),2))*100} %')\n",
    "print(f'MAE : {round(mae(pred,real),2)*100} %')\n",
    "print(f'MDAE : {round(mdae(pred,real),2)*100} %')\n",
    "print(f'RMSLE : {round(np.sqrt(msle(pred,real)),3)*100} %')\n",
    "print(f'R2 Score : {round(r2_score(pred,real),2)*100} %')"
   ]
  },
  {
   "cell_type": "code",
   "execution_count": 74,
   "metadata": {},
   "outputs": [
    {
     "name": "stdout",
     "output_type": "stream",
     "text": [
      "MAX ERROR : 44.0 %\n",
      "RMSE : 0.0 %\n",
      "MAE : 2.0 %\n",
      "MDAE : 1.0 %\n",
      "RMSLE : 1.4000000000000001 %\n",
      "R2 Score : 20.0 %\n"
     ]
    }
   ],
   "source": [
    "#Calculate RMS Error\n",
    "# print(np.sqrt(mean_squared_error(a,b)))\n",
    "from sklearn.metrics import mean_squared_error as mse\n",
    "from sklearn.metrics import mean_absolute_error as mae\n",
    "from sklearn.metrics import max_error\n",
    "from sklearn.metrics import median_absolute_error as mdae\n",
    "from sklearn.metrics import mean_squared_log_error as msle\n",
    "from sklearn.metrics import r2_score\n",
    "\n",
    "print(f'MAX ERROR : {round(max_error(pred2,real2),2)*100} %')\n",
    "print(f'RMSE : {np.sqrt(round(mse(pred,real),2))*100} %')\n",
    "print(f'MAE : {round(mae(pred,real),2)*100} %')\n",
    "print(f'MDAE : {round(mdae(pred,real),2)*100} %')\n",
    "print(f'RMSLE : {round(np.sqrt(msle(pred,real)),3)*100} %')\n",
    "print(f'R2 Score : {round(r2_score(pred,real),2)*100} %')"
   ]
  },
  {
   "cell_type": "code",
   "execution_count": 76,
   "metadata": {},
   "outputs": [
    {
     "data": {
      "text/html": [
       "<div>\n",
       "<style scoped>\n",
       "    .dataframe tbody tr th:only-of-type {\n",
       "        vertical-align: middle;\n",
       "    }\n",
       "\n",
       "    .dataframe tbody tr th {\n",
       "        vertical-align: top;\n",
       "    }\n",
       "\n",
       "    .dataframe thead th {\n",
       "        text-align: right;\n",
       "    }\n",
       "</style>\n",
       "<table border=\"1\" class=\"dataframe\">\n",
       "  <thead>\n",
       "    <tr style=\"text-align: right;\">\n",
       "      <th></th>\n",
       "      <th>candidate</th>\n",
       "      <th>state</th>\n",
       "      <th>party</th>\n",
       "      <th>votes</th>\n",
       "      <th>partyFrac</th>\n",
       "      <th>fips</th>\n",
       "      <th>area_name</th>\n",
       "      <th>Population</th>\n",
       "      <th>Age &gt; 65</th>\n",
       "      <th>Black</th>\n",
       "      <th>Latino</th>\n",
       "      <th>White</th>\n",
       "      <th>HighSchool</th>\n",
       "      <th>Bachelors</th>\n",
       "      <th>Median Household</th>\n",
       "      <th>&lt; Poverty level</th>\n",
       "      <th>Population PSM</th>\n",
       "      <th>Luas Area</th>\n",
       "    </tr>\n",
       "  </thead>\n",
       "  <tbody>\n",
       "    <tr>\n",
       "      <td>0</td>\n",
       "      <td>Ted Cruz</td>\n",
       "      <td>Alabama</td>\n",
       "      <td>Republican</td>\n",
       "      <td>180608</td>\n",
       "      <td>0.215617</td>\n",
       "      <td>1000</td>\n",
       "      <td>Alabama</td>\n",
       "      <td>4849377</td>\n",
       "      <td>15.3</td>\n",
       "      <td>26.7</td>\n",
       "      <td>4.1</td>\n",
       "      <td>66.2</td>\n",
       "      <td>83.1</td>\n",
       "      <td>22.6</td>\n",
       "      <td>43253</td>\n",
       "      <td>18.6</td>\n",
       "      <td>94.4</td>\n",
       "      <td>50645.33</td>\n",
       "    </tr>\n",
       "    <tr>\n",
       "      <td>1</td>\n",
       "      <td>Ted Cruz</td>\n",
       "      <td>Alaska</td>\n",
       "      <td>Republican</td>\n",
       "      <td>7973</td>\n",
       "      <td>0.363566</td>\n",
       "      <td>2000</td>\n",
       "      <td>Alaska</td>\n",
       "      <td>736732</td>\n",
       "      <td>9.4</td>\n",
       "      <td>3.9</td>\n",
       "      <td>6.8</td>\n",
       "      <td>61.9</td>\n",
       "      <td>91.6</td>\n",
       "      <td>27.5</td>\n",
       "      <td>70760</td>\n",
       "      <td>9.9</td>\n",
       "      <td>1.2</td>\n",
       "      <td>570640.95</td>\n",
       "    </tr>\n",
       "    <tr>\n",
       "      <td>2</td>\n",
       "      <td>Ted Cruz</td>\n",
       "      <td>Arizona</td>\n",
       "      <td>Republican</td>\n",
       "      <td>132147</td>\n",
       "      <td>0.303714</td>\n",
       "      <td>4000</td>\n",
       "      <td>Arizona</td>\n",
       "      <td>6731484</td>\n",
       "      <td>15.9</td>\n",
       "      <td>4.7</td>\n",
       "      <td>30.5</td>\n",
       "      <td>56.2</td>\n",
       "      <td>85.7</td>\n",
       "      <td>26.9</td>\n",
       "      <td>49774</td>\n",
       "      <td>17.9</td>\n",
       "      <td>56.3</td>\n",
       "      <td>113594.08</td>\n",
       "    </tr>\n",
       "    <tr>\n",
       "      <td>3</td>\n",
       "      <td>Ted Cruz</td>\n",
       "      <td>Arkansas</td>\n",
       "      <td>Republican</td>\n",
       "      <td>123873</td>\n",
       "      <td>0.312398</td>\n",
       "      <td>5000</td>\n",
       "      <td>Arkansas</td>\n",
       "      <td>2966369</td>\n",
       "      <td>15.7</td>\n",
       "      <td>15.6</td>\n",
       "      <td>7.0</td>\n",
       "      <td>73.4</td>\n",
       "      <td>83.7</td>\n",
       "      <td>20.1</td>\n",
       "      <td>40768</td>\n",
       "      <td>19.2</td>\n",
       "      <td>56.0</td>\n",
       "      <td>52035.48</td>\n",
       "    </tr>\n",
       "    <tr>\n",
       "      <td>4</td>\n",
       "      <td>Ted Cruz</td>\n",
       "      <td>California</td>\n",
       "      <td>Republican</td>\n",
       "      <td>144125</td>\n",
       "      <td>0.096368</td>\n",
       "      <td>6000</td>\n",
       "      <td>California</td>\n",
       "      <td>38802500</td>\n",
       "      <td>12.9</td>\n",
       "      <td>6.5</td>\n",
       "      <td>38.6</td>\n",
       "      <td>38.5</td>\n",
       "      <td>81.2</td>\n",
       "      <td>30.7</td>\n",
       "      <td>61094</td>\n",
       "      <td>15.9</td>\n",
       "      <td>239.1</td>\n",
       "      <td>155779.22</td>\n",
       "    </tr>\n",
       "    <tr>\n",
       "      <td>5</td>\n",
       "      <td>Ted Cruz</td>\n",
       "      <td>Connecticut</td>\n",
       "      <td>Republican</td>\n",
       "      <td>24969</td>\n",
       "      <td>0.119574</td>\n",
       "      <td>9000</td>\n",
       "      <td>Connecticut</td>\n",
       "      <td>3596677</td>\n",
       "      <td>15.5</td>\n",
       "      <td>11.5</td>\n",
       "      <td>15.0</td>\n",
       "      <td>68.8</td>\n",
       "      <td>89.2</td>\n",
       "      <td>36.5</td>\n",
       "      <td>69461</td>\n",
       "      <td>10.2</td>\n",
       "      <td>738.1</td>\n",
       "      <td>4842.36</td>\n",
       "    </tr>\n",
       "    <tr>\n",
       "      <td>6</td>\n",
       "      <td>Ted Cruz</td>\n",
       "      <td>Delaware</td>\n",
       "      <td>Republican</td>\n",
       "      <td>11110</td>\n",
       "      <td>0.163847</td>\n",
       "      <td>10000</td>\n",
       "      <td>Delaware</td>\n",
       "      <td>935614</td>\n",
       "      <td>16.4</td>\n",
       "      <td>22.2</td>\n",
       "      <td>8.9</td>\n",
       "      <td>63.7</td>\n",
       "      <td>87.7</td>\n",
       "      <td>28.9</td>\n",
       "      <td>59878</td>\n",
       "      <td>11.7</td>\n",
       "      <td>460.8</td>\n",
       "      <td>1948.54</td>\n",
       "    </tr>\n",
       "    <tr>\n",
       "      <td>7</td>\n",
       "      <td>Ted Cruz</td>\n",
       "      <td>Florida</td>\n",
       "      <td>Republican</td>\n",
       "      <td>403640</td>\n",
       "      <td>0.177274</td>\n",
       "      <td>12000</td>\n",
       "      <td>Florida</td>\n",
       "      <td>19893297</td>\n",
       "      <td>19.1</td>\n",
       "      <td>16.8</td>\n",
       "      <td>24.1</td>\n",
       "      <td>55.8</td>\n",
       "      <td>86.1</td>\n",
       "      <td>26.4</td>\n",
       "      <td>46956</td>\n",
       "      <td>16.3</td>\n",
       "      <td>350.6</td>\n",
       "      <td>53624.76</td>\n",
       "    </tr>\n",
       "    <tr>\n",
       "      <td>8</td>\n",
       "      <td>Ted Cruz</td>\n",
       "      <td>Georgia</td>\n",
       "      <td>Republican</td>\n",
       "      <td>305109</td>\n",
       "      <td>0.239188</td>\n",
       "      <td>13000</td>\n",
       "      <td>Georgia</td>\n",
       "      <td>10097343</td>\n",
       "      <td>12.4</td>\n",
       "      <td>31.5</td>\n",
       "      <td>9.3</td>\n",
       "      <td>54.3</td>\n",
       "      <td>84.7</td>\n",
       "      <td>28.0</td>\n",
       "      <td>49179</td>\n",
       "      <td>18.2</td>\n",
       "      <td>168.4</td>\n",
       "      <td>57513.49</td>\n",
       "    </tr>\n",
       "    <tr>\n",
       "      <td>9</td>\n",
       "      <td>Ted Cruz</td>\n",
       "      <td>Hawaii</td>\n",
       "      <td>Republican</td>\n",
       "      <td>4379</td>\n",
       "      <td>0.331040</td>\n",
       "      <td>15000</td>\n",
       "      <td>Hawaii</td>\n",
       "      <td>1419561</td>\n",
       "      <td>16.1</td>\n",
       "      <td>2.5</td>\n",
       "      <td>10.1</td>\n",
       "      <td>23.0</td>\n",
       "      <td>90.4</td>\n",
       "      <td>30.1</td>\n",
       "      <td>67402</td>\n",
       "      <td>11.2</td>\n",
       "      <td>211.8</td>\n",
       "      <td>6422.63</td>\n",
       "    </tr>\n",
       "    <tr>\n",
       "      <td>10</td>\n",
       "      <td>Ted Cruz</td>\n",
       "      <td>Idaho</td>\n",
       "      <td>Republican</td>\n",
       "      <td>100942</td>\n",
       "      <td>0.468878</td>\n",
       "      <td>16000</td>\n",
       "      <td>Idaho</td>\n",
       "      <td>1634464</td>\n",
       "      <td>14.3</td>\n",
       "      <td>0.8</td>\n",
       "      <td>12.0</td>\n",
       "      <td>82.8</td>\n",
       "      <td>88.8</td>\n",
       "      <td>25.1</td>\n",
       "      <td>46767</td>\n",
       "      <td>15.5</td>\n",
       "      <td>19.0</td>\n",
       "      <td>82643.12</td>\n",
       "    </tr>\n",
       "    <tr>\n",
       "      <td>11</td>\n",
       "      <td>Ted Cruz</td>\n",
       "      <td>Illinois</td>\n",
       "      <td>Republican</td>\n",
       "      <td>430395</td>\n",
       "      <td>0.310821</td>\n",
       "      <td>17000</td>\n",
       "      <td>Illinois</td>\n",
       "      <td>12880580</td>\n",
       "      <td>13.9</td>\n",
       "      <td>14.7</td>\n",
       "      <td>16.7</td>\n",
       "      <td>62.3</td>\n",
       "      <td>87.3</td>\n",
       "      <td>31.4</td>\n",
       "      <td>56797</td>\n",
       "      <td>14.1</td>\n",
       "      <td>231.1</td>\n",
       "      <td>55518.93</td>\n",
       "    </tr>\n",
       "    <tr>\n",
       "      <td>12</td>\n",
       "      <td>Ted Cruz</td>\n",
       "      <td>Indiana</td>\n",
       "      <td>Republican</td>\n",
       "      <td>406280</td>\n",
       "      <td>0.375958</td>\n",
       "      <td>18000</td>\n",
       "      <td>Indiana</td>\n",
       "      <td>6596855</td>\n",
       "      <td>14.3</td>\n",
       "      <td>9.6</td>\n",
       "      <td>6.6</td>\n",
       "      <td>80.3</td>\n",
       "      <td>87.2</td>\n",
       "      <td>23.2</td>\n",
       "      <td>48248</td>\n",
       "      <td>15.4</td>\n",
       "      <td>181.0</td>\n",
       "      <td>35826.11</td>\n",
       "    </tr>\n",
       "    <tr>\n",
       "      <td>13</td>\n",
       "      <td>Ted Cruz</td>\n",
       "      <td>Iowa</td>\n",
       "      <td>Republican</td>\n",
       "      <td>51663</td>\n",
       "      <td>0.276681</td>\n",
       "      <td>19000</td>\n",
       "      <td>Iowa</td>\n",
       "      <td>3107126</td>\n",
       "      <td>15.8</td>\n",
       "      <td>3.4</td>\n",
       "      <td>5.6</td>\n",
       "      <td>87.1</td>\n",
       "      <td>91.0</td>\n",
       "      <td>25.7</td>\n",
       "      <td>51843</td>\n",
       "      <td>12.4</td>\n",
       "      <td>54.5</td>\n",
       "      <td>55857.13</td>\n",
       "    </tr>\n",
       "    <tr>\n",
       "      <td>14</td>\n",
       "      <td>Ted Cruz</td>\n",
       "      <td>Kansas</td>\n",
       "      <td>Republican</td>\n",
       "      <td>35207</td>\n",
       "      <td>0.487274</td>\n",
       "      <td>20000</td>\n",
       "      <td>Kansas</td>\n",
       "      <td>2904021</td>\n",
       "      <td>14.3</td>\n",
       "      <td>6.3</td>\n",
       "      <td>11.4</td>\n",
       "      <td>76.8</td>\n",
       "      <td>89.8</td>\n",
       "      <td>30.3</td>\n",
       "      <td>51332</td>\n",
       "      <td>13.7</td>\n",
       "      <td>34.9</td>\n",
       "      <td>81758.72</td>\n",
       "    </tr>\n",
       "    <tr>\n",
       "      <td>15</td>\n",
       "      <td>Ted Cruz</td>\n",
       "      <td>Kentucky</td>\n",
       "      <td>Republican</td>\n",
       "      <td>72503</td>\n",
       "      <td>0.321223</td>\n",
       "      <td>21000</td>\n",
       "      <td>Kentucky</td>\n",
       "      <td>4413457</td>\n",
       "      <td>14.8</td>\n",
       "      <td>8.2</td>\n",
       "      <td>3.4</td>\n",
       "      <td>85.4</td>\n",
       "      <td>83.0</td>\n",
       "      <td>21.5</td>\n",
       "      <td>43036</td>\n",
       "      <td>18.8</td>\n",
       "      <td>109.9</td>\n",
       "      <td>39486.34</td>\n",
       "    </tr>\n",
       "    <tr>\n",
       "      <td>16</td>\n",
       "      <td>Ted Cruz</td>\n",
       "      <td>Louisiana</td>\n",
       "      <td>Republican</td>\n",
       "      <td>113949</td>\n",
       "      <td>0.390335</td>\n",
       "      <td>22000</td>\n",
       "      <td>Louisiana</td>\n",
       "      <td>4649676</td>\n",
       "      <td>13.6</td>\n",
       "      <td>32.5</td>\n",
       "      <td>4.8</td>\n",
       "      <td>59.3</td>\n",
       "      <td>82.6</td>\n",
       "      <td>21.8</td>\n",
       "      <td>44874</td>\n",
       "      <td>19.1</td>\n",
       "      <td>104.9</td>\n",
       "      <td>43203.90</td>\n",
       "    </tr>\n",
       "    <tr>\n",
       "      <td>17</td>\n",
       "      <td>Ted Cruz</td>\n",
       "      <td>Maryland</td>\n",
       "      <td>Republican</td>\n",
       "      <td>82038</td>\n",
       "      <td>0.195912</td>\n",
       "      <td>24000</td>\n",
       "      <td>Maryland</td>\n",
       "      <td>5976407</td>\n",
       "      <td>13.8</td>\n",
       "      <td>30.3</td>\n",
       "      <td>9.3</td>\n",
       "      <td>52.6</td>\n",
       "      <td>88.7</td>\n",
       "      <td>36.8</td>\n",
       "      <td>73538</td>\n",
       "      <td>9.8</td>\n",
       "      <td>594.8</td>\n",
       "      <td>9707.24</td>\n",
       "    </tr>\n",
       "    <tr>\n",
       "      <td>18</td>\n",
       "      <td>Ted Cruz</td>\n",
       "      <td>Massachusetts</td>\n",
       "      <td>Republican</td>\n",
       "      <td>60473</td>\n",
       "      <td>0.098383</td>\n",
       "      <td>25000</td>\n",
       "      <td>Massachusetts</td>\n",
       "      <td>6745408</td>\n",
       "      <td>15.1</td>\n",
       "      <td>8.3</td>\n",
       "      <td>10.8</td>\n",
       "      <td>74.3</td>\n",
       "      <td>89.4</td>\n",
       "      <td>39.4</td>\n",
       "      <td>66866</td>\n",
       "      <td>11.4</td>\n",
       "      <td>839.4</td>\n",
       "      <td>7800.06</td>\n",
       "    </tr>\n",
       "    <tr>\n",
       "      <td>19</td>\n",
       "      <td>Ted Cruz</td>\n",
       "      <td>Michigan</td>\n",
       "      <td>Republican</td>\n",
       "      <td>330015</td>\n",
       "      <td>0.262105</td>\n",
       "      <td>26000</td>\n",
       "      <td>Michigan</td>\n",
       "      <td>9909877</td>\n",
       "      <td>15.4</td>\n",
       "      <td>14.2</td>\n",
       "      <td>4.8</td>\n",
       "      <td>75.8</td>\n",
       "      <td>88.9</td>\n",
       "      <td>25.9</td>\n",
       "      <td>48411</td>\n",
       "      <td>16.8</td>\n",
       "      <td>174.8</td>\n",
       "      <td>56538.90</td>\n",
       "    </tr>\n",
       "    <tr>\n",
       "      <td>20</td>\n",
       "      <td>Ted Cruz</td>\n",
       "      <td>Mississippi</td>\n",
       "      <td>Republican</td>\n",
       "      <td>147065</td>\n",
       "      <td>0.371935</td>\n",
       "      <td>28000</td>\n",
       "      <td>Mississippi</td>\n",
       "      <td>2994079</td>\n",
       "      <td>14.3</td>\n",
       "      <td>37.5</td>\n",
       "      <td>3.0</td>\n",
       "      <td>57.3</td>\n",
       "      <td>81.5</td>\n",
       "      <td>20.1</td>\n",
       "      <td>39031</td>\n",
       "      <td>22.7</td>\n",
       "      <td>63.2</td>\n",
       "      <td>46923.27</td>\n",
       "    </tr>\n",
       "    <tr>\n",
       "      <td>21</td>\n",
       "      <td>Ted Cruz</td>\n",
       "      <td>Missouri</td>\n",
       "      <td>Republican</td>\n",
       "      <td>380367</td>\n",
       "      <td>0.417070</td>\n",
       "      <td>29000</td>\n",
       "      <td>Missouri</td>\n",
       "      <td>6063589</td>\n",
       "      <td>15.4</td>\n",
       "      <td>11.8</td>\n",
       "      <td>4.0</td>\n",
       "      <td>80.1</td>\n",
       "      <td>87.6</td>\n",
       "      <td>26.2</td>\n",
       "      <td>47380</td>\n",
       "      <td>15.5</td>\n",
       "      <td>87.1</td>\n",
       "      <td>68741.52</td>\n",
       "    </tr>\n",
       "    <tr>\n",
       "      <td>22</td>\n",
       "      <td>Ted Cruz</td>\n",
       "      <td>Montana</td>\n",
       "      <td>Republican</td>\n",
       "      <td>14476</td>\n",
       "      <td>0.104029</td>\n",
       "      <td>30000</td>\n",
       "      <td>Montana</td>\n",
       "      <td>1023579</td>\n",
       "      <td>16.7</td>\n",
       "      <td>0.6</td>\n",
       "      <td>3.5</td>\n",
       "      <td>86.7</td>\n",
       "      <td>92.1</td>\n",
       "      <td>28.7</td>\n",
       "      <td>46230</td>\n",
       "      <td>15.2</td>\n",
       "      <td>6.8</td>\n",
       "      <td>145545.80</td>\n",
       "    </tr>\n",
       "    <tr>\n",
       "      <td>23</td>\n",
       "      <td>Ted Cruz</td>\n",
       "      <td>Nebraska</td>\n",
       "      <td>Republican</td>\n",
       "      <td>36418</td>\n",
       "      <td>0.202063</td>\n",
       "      <td>31000</td>\n",
       "      <td>Nebraska</td>\n",
       "      <td>1881503</td>\n",
       "      <td>14.4</td>\n",
       "      <td>4.9</td>\n",
       "      <td>10.2</td>\n",
       "      <td>80.5</td>\n",
       "      <td>90.5</td>\n",
       "      <td>28.5</td>\n",
       "      <td>51672</td>\n",
       "      <td>12.8</td>\n",
       "      <td>23.8</td>\n",
       "      <td>76824.17</td>\n",
       "    </tr>\n",
       "    <tr>\n",
       "      <td>24</td>\n",
       "      <td>Ted Cruz</td>\n",
       "      <td>Nevada</td>\n",
       "      <td>Republican</td>\n",
       "      <td>16079</td>\n",
       "      <td>0.214736</td>\n",
       "      <td>32000</td>\n",
       "      <td>Nevada</td>\n",
       "      <td>2839099</td>\n",
       "      <td>14.2</td>\n",
       "      <td>9.1</td>\n",
       "      <td>27.8</td>\n",
       "      <td>51.5</td>\n",
       "      <td>84.6</td>\n",
       "      <td>22.4</td>\n",
       "      <td>52800</td>\n",
       "      <td>15.0</td>\n",
       "      <td>24.6</td>\n",
       "      <td>109781.18</td>\n",
       "    </tr>\n",
       "    <tr>\n",
       "      <td>25</td>\n",
       "      <td>Ted Cruz</td>\n",
       "      <td>New Hampshire</td>\n",
       "      <td>Republican</td>\n",
       "      <td>33189</td>\n",
       "      <td>0.118902</td>\n",
       "      <td>33000</td>\n",
       "      <td>New Hampshire</td>\n",
       "      <td>1326813</td>\n",
       "      <td>15.9</td>\n",
       "      <td>1.5</td>\n",
       "      <td>3.3</td>\n",
       "      <td>91.3</td>\n",
       "      <td>91.8</td>\n",
       "      <td>33.7</td>\n",
       "      <td>64916</td>\n",
       "      <td>8.7</td>\n",
       "      <td>147.0</td>\n",
       "      <td>8952.65</td>\n",
       "    </tr>\n",
       "    <tr>\n",
       "      <td>26</td>\n",
       "      <td>Ted Cruz</td>\n",
       "      <td>New Jersey</td>\n",
       "      <td>Republican</td>\n",
       "      <td>27521</td>\n",
       "      <td>0.062023</td>\n",
       "      <td>34000</td>\n",
       "      <td>New Jersey</td>\n",
       "      <td>8938175</td>\n",
       "      <td>14.7</td>\n",
       "      <td>14.8</td>\n",
       "      <td>19.3</td>\n",
       "      <td>56.8</td>\n",
       "      <td>88.1</td>\n",
       "      <td>35.8</td>\n",
       "      <td>71629</td>\n",
       "      <td>10.4</td>\n",
       "      <td>1195.5</td>\n",
       "      <td>7354.22</td>\n",
       "    </tr>\n",
       "    <tr>\n",
       "      <td>27</td>\n",
       "      <td>Ted Cruz</td>\n",
       "      <td>New Mexico</td>\n",
       "      <td>Republican</td>\n",
       "      <td>13825</td>\n",
       "      <td>0.145182</td>\n",
       "      <td>35000</td>\n",
       "      <td>New Mexico</td>\n",
       "      <td>2085572</td>\n",
       "      <td>15.3</td>\n",
       "      <td>2.5</td>\n",
       "      <td>47.7</td>\n",
       "      <td>38.9</td>\n",
       "      <td>83.6</td>\n",
       "      <td>25.8</td>\n",
       "      <td>44927</td>\n",
       "      <td>20.4</td>\n",
       "      <td>17.0</td>\n",
       "      <td>121298.15</td>\n",
       "    </tr>\n",
       "    <tr>\n",
       "      <td>28</td>\n",
       "      <td>Ted Cruz</td>\n",
       "      <td>New York</td>\n",
       "      <td>Republican</td>\n",
       "      <td>126151</td>\n",
       "      <td>0.145170</td>\n",
       "      <td>36000</td>\n",
       "      <td>New York</td>\n",
       "      <td>19746227</td>\n",
       "      <td>14.7</td>\n",
       "      <td>17.6</td>\n",
       "      <td>18.6</td>\n",
       "      <td>56.5</td>\n",
       "      <td>85.2</td>\n",
       "      <td>33.2</td>\n",
       "      <td>58003</td>\n",
       "      <td>15.3</td>\n",
       "      <td>411.2</td>\n",
       "      <td>47126.40</td>\n",
       "    </tr>\n",
       "    <tr>\n",
       "      <td>29</td>\n",
       "      <td>Ted Cruz</td>\n",
       "      <td>North Carolina</td>\n",
       "      <td>Republican</td>\n",
       "      <td>418740</td>\n",
       "      <td>0.377567</td>\n",
       "      <td>37000</td>\n",
       "      <td>North Carolina</td>\n",
       "      <td>9943964</td>\n",
       "      <td>14.7</td>\n",
       "      <td>22.1</td>\n",
       "      <td>9.0</td>\n",
       "      <td>64.1</td>\n",
       "      <td>84.9</td>\n",
       "      <td>27.3</td>\n",
       "      <td>46334</td>\n",
       "      <td>17.5</td>\n",
       "      <td>196.1</td>\n",
       "      <td>48617.91</td>\n",
       "    </tr>\n",
       "    <tr>\n",
       "      <td>30</td>\n",
       "      <td>Ted Cruz</td>\n",
       "      <td>Ohio</td>\n",
       "      <td>Republican</td>\n",
       "      <td>267592</td>\n",
       "      <td>0.133041</td>\n",
       "      <td>39000</td>\n",
       "      <td>Ohio</td>\n",
       "      <td>11594163</td>\n",
       "      <td>15.5</td>\n",
       "      <td>12.6</td>\n",
       "      <td>3.5</td>\n",
       "      <td>80.1</td>\n",
       "      <td>88.5</td>\n",
       "      <td>25.2</td>\n",
       "      <td>48308</td>\n",
       "      <td>15.8</td>\n",
       "      <td>282.3</td>\n",
       "      <td>40860.69</td>\n",
       "    </tr>\n",
       "    <tr>\n",
       "      <td>31</td>\n",
       "      <td>Ted Cruz</td>\n",
       "      <td>Oklahoma</td>\n",
       "      <td>Republican</td>\n",
       "      <td>157941</td>\n",
       "      <td>0.348863</td>\n",
       "      <td>40000</td>\n",
       "      <td>Oklahoma</td>\n",
       "      <td>3878051</td>\n",
       "      <td>14.5</td>\n",
       "      <td>7.7</td>\n",
       "      <td>9.8</td>\n",
       "      <td>67.0</td>\n",
       "      <td>86.4</td>\n",
       "      <td>23.5</td>\n",
       "      <td>45339</td>\n",
       "      <td>16.9</td>\n",
       "      <td>54.7</td>\n",
       "      <td>68594.92</td>\n",
       "    </tr>\n",
       "    <tr>\n",
       "      <td>32</td>\n",
       "      <td>Ted Cruz</td>\n",
       "      <td>Oregon</td>\n",
       "      <td>Republican</td>\n",
       "      <td>61590</td>\n",
       "      <td>0.170378</td>\n",
       "      <td>41000</td>\n",
       "      <td>Oregon</td>\n",
       "      <td>3970239</td>\n",
       "      <td>16.0</td>\n",
       "      <td>2.0</td>\n",
       "      <td>12.5</td>\n",
       "      <td>77.0</td>\n",
       "      <td>89.4</td>\n",
       "      <td>29.7</td>\n",
       "      <td>50229</td>\n",
       "      <td>16.2</td>\n",
       "      <td>39.9</td>\n",
       "      <td>95988.01</td>\n",
       "    </tr>\n",
       "    <tr>\n",
       "      <td>33</td>\n",
       "      <td>Ted Cruz</td>\n",
       "      <td>Pennsylvania</td>\n",
       "      <td>Republican</td>\n",
       "      <td>340201</td>\n",
       "      <td>0.221241</td>\n",
       "      <td>42000</td>\n",
       "      <td>Pennsylvania</td>\n",
       "      <td>12787209</td>\n",
       "      <td>16.7</td>\n",
       "      <td>11.6</td>\n",
       "      <td>6.6</td>\n",
       "      <td>77.9</td>\n",
       "      <td>88.7</td>\n",
       "      <td>27.5</td>\n",
       "      <td>52548</td>\n",
       "      <td>13.3</td>\n",
       "      <td>283.9</td>\n",
       "      <td>44742.70</td>\n",
       "    </tr>\n",
       "    <tr>\n",
       "      <td>34</td>\n",
       "      <td>Ted Cruz</td>\n",
       "      <td>Rhode Island</td>\n",
       "      <td>Republican</td>\n",
       "      <td>6393</td>\n",
       "      <td>0.105878</td>\n",
       "      <td>44000</td>\n",
       "      <td>Rhode Island</td>\n",
       "      <td>1055173</td>\n",
       "      <td>15.7</td>\n",
       "      <td>7.7</td>\n",
       "      <td>14.0</td>\n",
       "      <td>74.5</td>\n",
       "      <td>85.2</td>\n",
       "      <td>31.3</td>\n",
       "      <td>56361</td>\n",
       "      <td>13.6</td>\n",
       "      <td>1018.1</td>\n",
       "      <td>1033.81</td>\n",
       "    </tr>\n",
       "    <tr>\n",
       "      <td>35</td>\n",
       "      <td>Ted Cruz</td>\n",
       "      <td>South Carolina</td>\n",
       "      <td>Republican</td>\n",
       "      <td>164790</td>\n",
       "      <td>0.223318</td>\n",
       "      <td>45000</td>\n",
       "      <td>South Carolina</td>\n",
       "      <td>4832482</td>\n",
       "      <td>15.8</td>\n",
       "      <td>27.8</td>\n",
       "      <td>5.4</td>\n",
       "      <td>63.9</td>\n",
       "      <td>84.5</td>\n",
       "      <td>25.1</td>\n",
       "      <td>44779</td>\n",
       "      <td>18.1</td>\n",
       "      <td>153.9</td>\n",
       "      <td>30060.70</td>\n",
       "    </tr>\n",
       "    <tr>\n",
       "      <td>36</td>\n",
       "      <td>Ted Cruz</td>\n",
       "      <td>South Dakota</td>\n",
       "      <td>Republican</td>\n",
       "      <td>11352</td>\n",
       "      <td>0.169744</td>\n",
       "      <td>46000</td>\n",
       "      <td>South Dakota</td>\n",
       "      <td>853175</td>\n",
       "      <td>15.3</td>\n",
       "      <td>1.9</td>\n",
       "      <td>3.6</td>\n",
       "      <td>83.0</td>\n",
       "      <td>90.4</td>\n",
       "      <td>26.2</td>\n",
       "      <td>49495</td>\n",
       "      <td>14.1</td>\n",
       "      <td>10.7</td>\n",
       "      <td>75811.00</td>\n",
       "    </tr>\n",
       "    <tr>\n",
       "      <td>37</td>\n",
       "      <td>Ted Cruz</td>\n",
       "      <td>Tennessee</td>\n",
       "      <td>Republican</td>\n",
       "      <td>211159</td>\n",
       "      <td>0.252904</td>\n",
       "      <td>47000</td>\n",
       "      <td>Tennessee</td>\n",
       "      <td>6549352</td>\n",
       "      <td>15.1</td>\n",
       "      <td>17.1</td>\n",
       "      <td>5.0</td>\n",
       "      <td>74.6</td>\n",
       "      <td>84.4</td>\n",
       "      <td>23.8</td>\n",
       "      <td>44298</td>\n",
       "      <td>17.6</td>\n",
       "      <td>153.9</td>\n",
       "      <td>41234.90</td>\n",
       "    </tr>\n",
       "    <tr>\n",
       "      <td>38</td>\n",
       "      <td>Ted Cruz</td>\n",
       "      <td>Texas</td>\n",
       "      <td>Republican</td>\n",
       "      <td>1239370</td>\n",
       "      <td>0.452780</td>\n",
       "      <td>48000</td>\n",
       "      <td>Texas</td>\n",
       "      <td>26956958</td>\n",
       "      <td>11.5</td>\n",
       "      <td>12.5</td>\n",
       "      <td>38.6</td>\n",
       "      <td>43.5</td>\n",
       "      <td>81.2</td>\n",
       "      <td>26.7</td>\n",
       "      <td>51900</td>\n",
       "      <td>17.6</td>\n",
       "      <td>96.3</td>\n",
       "      <td>261231.71</td>\n",
       "    </tr>\n",
       "    <tr>\n",
       "      <td>39</td>\n",
       "      <td>Ted Cruz</td>\n",
       "      <td>Utah</td>\n",
       "      <td>Republican</td>\n",
       "      <td>122567</td>\n",
       "      <td>0.691672</td>\n",
       "      <td>49000</td>\n",
       "      <td>Utah</td>\n",
       "      <td>2942902</td>\n",
       "      <td>10.0</td>\n",
       "      <td>1.3</td>\n",
       "      <td>13.5</td>\n",
       "      <td>79.3</td>\n",
       "      <td>90.9</td>\n",
       "      <td>30.3</td>\n",
       "      <td>58821</td>\n",
       "      <td>12.7</td>\n",
       "      <td>33.6</td>\n",
       "      <td>82169.62</td>\n",
       "    </tr>\n",
       "    <tr>\n",
       "      <td>40</td>\n",
       "      <td>Ted Cruz</td>\n",
       "      <td>Vermont</td>\n",
       "      <td>Republican</td>\n",
       "      <td>5929</td>\n",
       "      <td>0.100899</td>\n",
       "      <td>50000</td>\n",
       "      <td>Vermont</td>\n",
       "      <td>626562</td>\n",
       "      <td>16.9</td>\n",
       "      <td>1.2</td>\n",
       "      <td>1.8</td>\n",
       "      <td>93.5</td>\n",
       "      <td>91.4</td>\n",
       "      <td>34.8</td>\n",
       "      <td>54267</td>\n",
       "      <td>11.8</td>\n",
       "      <td>67.9</td>\n",
       "      <td>9216.66</td>\n",
       "    </tr>\n",
       "    <tr>\n",
       "      <td>41</td>\n",
       "      <td>Ted Cruz</td>\n",
       "      <td>Virginia</td>\n",
       "      <td>Republican</td>\n",
       "      <td>173193</td>\n",
       "      <td>0.171003</td>\n",
       "      <td>51000</td>\n",
       "      <td>Virginia</td>\n",
       "      <td>8326289</td>\n",
       "      <td>13.8</td>\n",
       "      <td>19.7</td>\n",
       "      <td>8.9</td>\n",
       "      <td>63.1</td>\n",
       "      <td>87.5</td>\n",
       "      <td>35.2</td>\n",
       "      <td>63907</td>\n",
       "      <td>11.3</td>\n",
       "      <td>202.6</td>\n",
       "      <td>39490.09</td>\n",
       "    </tr>\n",
       "    <tr>\n",
       "      <td>42</td>\n",
       "      <td>Ted Cruz</td>\n",
       "      <td>Washington</td>\n",
       "      <td>Republican</td>\n",
       "      <td>55719</td>\n",
       "      <td>0.109071</td>\n",
       "      <td>53000</td>\n",
       "      <td>Washington</td>\n",
       "      <td>7061530</td>\n",
       "      <td>14.1</td>\n",
       "      <td>4.1</td>\n",
       "      <td>12.2</td>\n",
       "      <td>70.4</td>\n",
       "      <td>90.0</td>\n",
       "      <td>31.9</td>\n",
       "      <td>59478</td>\n",
       "      <td>13.4</td>\n",
       "      <td>101.2</td>\n",
       "      <td>66455.52</td>\n",
       "    </tr>\n",
       "    <tr>\n",
       "      <td>43</td>\n",
       "      <td>Ted Cruz</td>\n",
       "      <td>West Virginia</td>\n",
       "      <td>Republican</td>\n",
       "      <td>18208</td>\n",
       "      <td>0.096780</td>\n",
       "      <td>54000</td>\n",
       "      <td>West Virginia</td>\n",
       "      <td>1850326</td>\n",
       "      <td>17.8</td>\n",
       "      <td>3.6</td>\n",
       "      <td>1.5</td>\n",
       "      <td>92.5</td>\n",
       "      <td>83.9</td>\n",
       "      <td>18.3</td>\n",
       "      <td>41043</td>\n",
       "      <td>17.9</td>\n",
       "      <td>77.1</td>\n",
       "      <td>24038.21</td>\n",
       "    </tr>\n",
       "    <tr>\n",
       "      <td>44</td>\n",
       "      <td>Ted Cruz</td>\n",
       "      <td>Wisconsin</td>\n",
       "      <td>Republican</td>\n",
       "      <td>531129</td>\n",
       "      <td>0.495133</td>\n",
       "      <td>55000</td>\n",
       "      <td>Wisconsin</td>\n",
       "      <td>5757564</td>\n",
       "      <td>15.2</td>\n",
       "      <td>6.6</td>\n",
       "      <td>6.5</td>\n",
       "      <td>82.2</td>\n",
       "      <td>90.4</td>\n",
       "      <td>26.8</td>\n",
       "      <td>52413</td>\n",
       "      <td>13.0</td>\n",
       "      <td>105.0</td>\n",
       "      <td>54157.80</td>\n",
       "    </tr>\n",
       "    <tr>\n",
       "      <td>45</td>\n",
       "      <td>Ted Cruz</td>\n",
       "      <td>Wyoming</td>\n",
       "      <td>Republican</td>\n",
       "      <td>644</td>\n",
       "      <td>0.713178</td>\n",
       "      <td>56000</td>\n",
       "      <td>Wyoming</td>\n",
       "      <td>584153</td>\n",
       "      <td>14.0</td>\n",
       "      <td>1.6</td>\n",
       "      <td>9.8</td>\n",
       "      <td>84.1</td>\n",
       "      <td>92.4</td>\n",
       "      <td>24.7</td>\n",
       "      <td>57406</td>\n",
       "      <td>11.5</td>\n",
       "      <td>5.8</td>\n",
       "      <td>97093.14</td>\n",
       "    </tr>\n",
       "  </tbody>\n",
       "</table>\n",
       "</div>"
      ],
      "text/plain": [
       "   candidate           state       party    votes  partyFrac   fips  \\\n",
       "0   Ted Cruz         Alabama  Republican   180608   0.215617   1000   \n",
       "1   Ted Cruz          Alaska  Republican     7973   0.363566   2000   \n",
       "2   Ted Cruz         Arizona  Republican   132147   0.303714   4000   \n",
       "3   Ted Cruz        Arkansas  Republican   123873   0.312398   5000   \n",
       "4   Ted Cruz      California  Republican   144125   0.096368   6000   \n",
       "5   Ted Cruz     Connecticut  Republican    24969   0.119574   9000   \n",
       "6   Ted Cruz        Delaware  Republican    11110   0.163847  10000   \n",
       "7   Ted Cruz         Florida  Republican   403640   0.177274  12000   \n",
       "8   Ted Cruz         Georgia  Republican   305109   0.239188  13000   \n",
       "9   Ted Cruz          Hawaii  Republican     4379   0.331040  15000   \n",
       "10  Ted Cruz           Idaho  Republican   100942   0.468878  16000   \n",
       "11  Ted Cruz        Illinois  Republican   430395   0.310821  17000   \n",
       "12  Ted Cruz         Indiana  Republican   406280   0.375958  18000   \n",
       "13  Ted Cruz            Iowa  Republican    51663   0.276681  19000   \n",
       "14  Ted Cruz          Kansas  Republican    35207   0.487274  20000   \n",
       "15  Ted Cruz        Kentucky  Republican    72503   0.321223  21000   \n",
       "16  Ted Cruz       Louisiana  Republican   113949   0.390335  22000   \n",
       "17  Ted Cruz        Maryland  Republican    82038   0.195912  24000   \n",
       "18  Ted Cruz   Massachusetts  Republican    60473   0.098383  25000   \n",
       "19  Ted Cruz        Michigan  Republican   330015   0.262105  26000   \n",
       "20  Ted Cruz     Mississippi  Republican   147065   0.371935  28000   \n",
       "21  Ted Cruz        Missouri  Republican   380367   0.417070  29000   \n",
       "22  Ted Cruz         Montana  Republican    14476   0.104029  30000   \n",
       "23  Ted Cruz        Nebraska  Republican    36418   0.202063  31000   \n",
       "24  Ted Cruz          Nevada  Republican    16079   0.214736  32000   \n",
       "25  Ted Cruz   New Hampshire  Republican    33189   0.118902  33000   \n",
       "26  Ted Cruz      New Jersey  Republican    27521   0.062023  34000   \n",
       "27  Ted Cruz      New Mexico  Republican    13825   0.145182  35000   \n",
       "28  Ted Cruz        New York  Republican   126151   0.145170  36000   \n",
       "29  Ted Cruz  North Carolina  Republican   418740   0.377567  37000   \n",
       "30  Ted Cruz            Ohio  Republican   267592   0.133041  39000   \n",
       "31  Ted Cruz        Oklahoma  Republican   157941   0.348863  40000   \n",
       "32  Ted Cruz          Oregon  Republican    61590   0.170378  41000   \n",
       "33  Ted Cruz    Pennsylvania  Republican   340201   0.221241  42000   \n",
       "34  Ted Cruz    Rhode Island  Republican     6393   0.105878  44000   \n",
       "35  Ted Cruz  South Carolina  Republican   164790   0.223318  45000   \n",
       "36  Ted Cruz    South Dakota  Republican    11352   0.169744  46000   \n",
       "37  Ted Cruz       Tennessee  Republican   211159   0.252904  47000   \n",
       "38  Ted Cruz           Texas  Republican  1239370   0.452780  48000   \n",
       "39  Ted Cruz            Utah  Republican   122567   0.691672  49000   \n",
       "40  Ted Cruz         Vermont  Republican     5929   0.100899  50000   \n",
       "41  Ted Cruz        Virginia  Republican   173193   0.171003  51000   \n",
       "42  Ted Cruz      Washington  Republican    55719   0.109071  53000   \n",
       "43  Ted Cruz   West Virginia  Republican    18208   0.096780  54000   \n",
       "44  Ted Cruz       Wisconsin  Republican   531129   0.495133  55000   \n",
       "45  Ted Cruz         Wyoming  Republican      644   0.713178  56000   \n",
       "\n",
       "         area_name  Population  Age > 65  Black  Latino  White  HighSchool  \\\n",
       "0          Alabama     4849377      15.3   26.7     4.1   66.2        83.1   \n",
       "1           Alaska      736732       9.4    3.9     6.8   61.9        91.6   \n",
       "2          Arizona     6731484      15.9    4.7    30.5   56.2        85.7   \n",
       "3         Arkansas     2966369      15.7   15.6     7.0   73.4        83.7   \n",
       "4       California    38802500      12.9    6.5    38.6   38.5        81.2   \n",
       "5      Connecticut     3596677      15.5   11.5    15.0   68.8        89.2   \n",
       "6         Delaware      935614      16.4   22.2     8.9   63.7        87.7   \n",
       "7          Florida    19893297      19.1   16.8    24.1   55.8        86.1   \n",
       "8          Georgia    10097343      12.4   31.5     9.3   54.3        84.7   \n",
       "9           Hawaii     1419561      16.1    2.5    10.1   23.0        90.4   \n",
       "10           Idaho     1634464      14.3    0.8    12.0   82.8        88.8   \n",
       "11        Illinois    12880580      13.9   14.7    16.7   62.3        87.3   \n",
       "12         Indiana     6596855      14.3    9.6     6.6   80.3        87.2   \n",
       "13            Iowa     3107126      15.8    3.4     5.6   87.1        91.0   \n",
       "14          Kansas     2904021      14.3    6.3    11.4   76.8        89.8   \n",
       "15        Kentucky     4413457      14.8    8.2     3.4   85.4        83.0   \n",
       "16       Louisiana     4649676      13.6   32.5     4.8   59.3        82.6   \n",
       "17        Maryland     5976407      13.8   30.3     9.3   52.6        88.7   \n",
       "18   Massachusetts     6745408      15.1    8.3    10.8   74.3        89.4   \n",
       "19        Michigan     9909877      15.4   14.2     4.8   75.8        88.9   \n",
       "20     Mississippi     2994079      14.3   37.5     3.0   57.3        81.5   \n",
       "21        Missouri     6063589      15.4   11.8     4.0   80.1        87.6   \n",
       "22         Montana     1023579      16.7    0.6     3.5   86.7        92.1   \n",
       "23        Nebraska     1881503      14.4    4.9    10.2   80.5        90.5   \n",
       "24          Nevada     2839099      14.2    9.1    27.8   51.5        84.6   \n",
       "25   New Hampshire     1326813      15.9    1.5     3.3   91.3        91.8   \n",
       "26      New Jersey     8938175      14.7   14.8    19.3   56.8        88.1   \n",
       "27      New Mexico     2085572      15.3    2.5    47.7   38.9        83.6   \n",
       "28        New York    19746227      14.7   17.6    18.6   56.5        85.2   \n",
       "29  North Carolina     9943964      14.7   22.1     9.0   64.1        84.9   \n",
       "30            Ohio    11594163      15.5   12.6     3.5   80.1        88.5   \n",
       "31        Oklahoma     3878051      14.5    7.7     9.8   67.0        86.4   \n",
       "32          Oregon     3970239      16.0    2.0    12.5   77.0        89.4   \n",
       "33    Pennsylvania    12787209      16.7   11.6     6.6   77.9        88.7   \n",
       "34    Rhode Island     1055173      15.7    7.7    14.0   74.5        85.2   \n",
       "35  South Carolina     4832482      15.8   27.8     5.4   63.9        84.5   \n",
       "36    South Dakota      853175      15.3    1.9     3.6   83.0        90.4   \n",
       "37       Tennessee     6549352      15.1   17.1     5.0   74.6        84.4   \n",
       "38           Texas    26956958      11.5   12.5    38.6   43.5        81.2   \n",
       "39            Utah     2942902      10.0    1.3    13.5   79.3        90.9   \n",
       "40         Vermont      626562      16.9    1.2     1.8   93.5        91.4   \n",
       "41        Virginia     8326289      13.8   19.7     8.9   63.1        87.5   \n",
       "42      Washington     7061530      14.1    4.1    12.2   70.4        90.0   \n",
       "43   West Virginia     1850326      17.8    3.6     1.5   92.5        83.9   \n",
       "44       Wisconsin     5757564      15.2    6.6     6.5   82.2        90.4   \n",
       "45         Wyoming      584153      14.0    1.6     9.8   84.1        92.4   \n",
       "\n",
       "    Bachelors  Median Household  < Poverty level  Population PSM  Luas Area  \n",
       "0        22.6             43253             18.6            94.4   50645.33  \n",
       "1        27.5             70760              9.9             1.2  570640.95  \n",
       "2        26.9             49774             17.9            56.3  113594.08  \n",
       "3        20.1             40768             19.2            56.0   52035.48  \n",
       "4        30.7             61094             15.9           239.1  155779.22  \n",
       "5        36.5             69461             10.2           738.1    4842.36  \n",
       "6        28.9             59878             11.7           460.8    1948.54  \n",
       "7        26.4             46956             16.3           350.6   53624.76  \n",
       "8        28.0             49179             18.2           168.4   57513.49  \n",
       "9        30.1             67402             11.2           211.8    6422.63  \n",
       "10       25.1             46767             15.5            19.0   82643.12  \n",
       "11       31.4             56797             14.1           231.1   55518.93  \n",
       "12       23.2             48248             15.4           181.0   35826.11  \n",
       "13       25.7             51843             12.4            54.5   55857.13  \n",
       "14       30.3             51332             13.7            34.9   81758.72  \n",
       "15       21.5             43036             18.8           109.9   39486.34  \n",
       "16       21.8             44874             19.1           104.9   43203.90  \n",
       "17       36.8             73538              9.8           594.8    9707.24  \n",
       "18       39.4             66866             11.4           839.4    7800.06  \n",
       "19       25.9             48411             16.8           174.8   56538.90  \n",
       "20       20.1             39031             22.7            63.2   46923.27  \n",
       "21       26.2             47380             15.5            87.1   68741.52  \n",
       "22       28.7             46230             15.2             6.8  145545.80  \n",
       "23       28.5             51672             12.8            23.8   76824.17  \n",
       "24       22.4             52800             15.0            24.6  109781.18  \n",
       "25       33.7             64916              8.7           147.0    8952.65  \n",
       "26       35.8             71629             10.4          1195.5    7354.22  \n",
       "27       25.8             44927             20.4            17.0  121298.15  \n",
       "28       33.2             58003             15.3           411.2   47126.40  \n",
       "29       27.3             46334             17.5           196.1   48617.91  \n",
       "30       25.2             48308             15.8           282.3   40860.69  \n",
       "31       23.5             45339             16.9            54.7   68594.92  \n",
       "32       29.7             50229             16.2            39.9   95988.01  \n",
       "33       27.5             52548             13.3           283.9   44742.70  \n",
       "34       31.3             56361             13.6          1018.1    1033.81  \n",
       "35       25.1             44779             18.1           153.9   30060.70  \n",
       "36       26.2             49495             14.1            10.7   75811.00  \n",
       "37       23.8             44298             17.6           153.9   41234.90  \n",
       "38       26.7             51900             17.6            96.3  261231.71  \n",
       "39       30.3             58821             12.7            33.6   82169.62  \n",
       "40       34.8             54267             11.8            67.9    9216.66  \n",
       "41       35.2             63907             11.3           202.6   39490.09  \n",
       "42       31.9             59478             13.4           101.2   66455.52  \n",
       "43       18.3             41043             17.9            77.1   24038.21  \n",
       "44       26.8             52413             13.0           105.0   54157.80  \n",
       "45       24.7             57406             11.5             5.8   97093.14  "
      ]
     },
     "execution_count": 76,
     "metadata": {},
     "output_type": "execute_result"
    }
   ],
   "source": [
    "TED"
   ]
  },
  {
   "cell_type": "code",
   "execution_count": 77,
   "metadata": {},
   "outputs": [],
   "source": [
    "# # results = results[(results.party == \"democrat\") & (allData.party == \"Republican\")]\n",
    "# results = results[results.state == \"Pennsylvania\" ]\n",
    "# # results = results[(results.candidate != 'No Preference') & (results.candidate != ' Uncommitted')]\n",
    "# results1 = results[results.candidate != \"Donald Trump\"] \n",
    "# # results['votes'].sum()\n",
    "# results"
   ]
  },
  {
   "cell_type": "code",
   "execution_count": 78,
   "metadata": {},
   "outputs": [],
   "source": [
    "# print(percent/total)"
   ]
  },
  {
   "cell_type": "code",
   "execution_count": 79,
   "metadata": {},
   "outputs": [
    {
     "name": "stdout",
     "output_type": "stream",
     "text": [
      "              Predicted  Real\n",
      "Pennsylvania   0.543311  0.58\n",
      "Connecticut    0.598819  0.59\n",
      "Maryland       0.550514  0.56\n",
      "Delaware       0.589928  0.62\n",
      "New York       0.600291  0.60\n"
     ]
    },
    {
     "data": {
      "image/png": "[encoded data removed]",
      "text/plain": [
       "<Figure size 1080x576 with 1 Axes>"
      ]
     },
     "metadata": {},
     "output_type": "display_data"
    }
   ],
   "source": [
    "e = {'Predicted' : pred,'Real' : real}\n",
    "final=pd.DataFrame(e)\n",
    "print(final)\n",
    "# print(\"Error=\",end='')\n",
    "# print(error3)\n",
    "# print(\"MaxError=\",end='')\n",
    "# print(error4)\n",
    "plt.style.use('ggplot')\n",
    "plt.figure(figsize=(15,8))\n",
    "plt.plot(pred,'g')  # Pred\n",
    "plt.plot(real,'r') # Real\n",
    "plt.show()"
   ]
  },
  {
   "cell_type": "code",
   "execution_count": 80,
   "metadata": {},
   "outputs": [
    {
     "name": "stdout",
     "output_type": "stream",
     "text": [
      "Future Pedictions - Donald Trump\n",
      "Maine = 52.0 %\n",
      "Washington = 64.0 %\n",
      "Texas = 37.0 %\n",
      "Colorado = 55.0 %\n",
      "Florida = 53.0 %\n",
      "Michigan = 39.0 %\n",
      "Missouri = 41.0 %\n",
      "Oregon = 60.0 %\n"
     ]
    }
   ],
   "source": [
    "print (\"Future Pedictions - Donald Trump\")\n",
    "\n",
    "#Select Future States \n",
    "#Change name of state for other states\n",
    "demographics11=demographics[(demographics.area_name=='Maine')]\n",
    "demographics12=demographics[(demographics.area_name=='Washington')]\n",
    "demographics13=demographics[(demographics.area_name=='Texas')]\n",
    "demographics14=demographics[(demographics.area_name=='Colorado')]\n",
    "demographics15=demographics[(demographics.area_name=='Florida')]\n",
    "demographics16=demographics[(demographics.area_name=='Michigan')]\n",
    "demographics17=demographics[(demographics.area_name=='Missouri')]\n",
    "demographics18=demographics[(demographics.area_name=='Oregon')]\n",
    "\n",
    "\n",
    "X_test1=demographics11[feature_cols]\n",
    "y_pred4=rf1.predict(X_test1)\n",
    "print (f'Maine = {(round((y_pred4[0])*100))} %')\n",
    "\n",
    "X_test1=demographics12[feature_cols]\n",
    "y_pred4=rf1.predict(X_test1)\n",
    "print (f'Washington = {(round((y_pred4[0])*100))} %')\n",
    "\n",
    "X_test1=demographics13[feature_cols]\n",
    "y_pred4=rf1.predict(X_test1)\n",
    "print (f'Texas = {(round((y_pred4[0])*100))} %')\n",
    "\n",
    "X_test1=demographics14[feature_cols]\n",
    "y_pred4=rf1.predict(X_test1)\n",
    "print (f'Colorado = {(round((y_pred4[0])*100))} %')\n",
    "\n",
    "X_test1=demographics15[feature_cols]\n",
    "y_pred4=rf1.predict(X_test1)\n",
    "print (f'Florida = {(round((y_pred4[0])*100))} %')\n",
    "\n",
    "X_test1=demographics16[feature_cols]\n",
    "y_pred4=rf1.predict(X_test1)\n",
    "print (f'Michigan = {(round((y_pred4[0])*100))} %')\n",
    "\n",
    "X_test1=demographics17[feature_cols]\n",
    "y_pred4=rf1.predict(X_test1)\n",
    "print (f'Missouri = {(round((y_pred4[0])*100))} %')\n",
    "\n",
    "X_test1=demographics18[feature_cols]\n",
    "y_pred4=rf1.predict(X_test1)\n",
    "# print(\"Oregon = \",end='')\n",
    "print (f'Oregon = {(round((y_pred4[0])*100))} %')\n",
    "\n"
   ]
  },
  {
   "cell_type": "code",
   "execution_count": null,
   "metadata": {},
   "outputs": [],
   "source": []
  },
  {
   "cell_type": "code",
   "execution_count": null,
   "metadata": {},
   "outputs": [],
   "source": []
  },
  {
   "cell_type": "code",
   "execution_count": null,
   "metadata": {},
   "outputs": [],
   "source": []
  }
 ],
 "metadata": {
  "kernelspec": {
   "display_name": "Python 3",
   "language": "python",
   "name": "python3"
  },
  "language_info": {
   "codemirror_mode": {
    "name": "ipython",
    "version": 3
   },
   "file_extension": ".py",
   "mimetype": "text/x-python",
   "name": "python",
   "nbconvert_exporter": "python",
   "pygments_lexer": "ipython3",
   "version": "3.7.4"
  }
 },
 "nbformat": 4,
 "nbformat_minor": 2
}
